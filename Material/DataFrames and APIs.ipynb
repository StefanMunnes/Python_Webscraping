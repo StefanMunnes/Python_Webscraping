{
 "cells": [
  {
   "cell_type": "markdown",
   "id": "80b2f999",
   "metadata": {},
   "source": [
    "# Obtaining structured web content and programmatic access\n",
    "\n",
    "In this notebook we will learn how to make use of readily structured data through dedicated application programming interfaces (APIs), how to authenticate and how to properly design requests (also called \"payload\") in order to retrieve large datasets.\n",
    "\n",
    "**Advantages** of APIs are that\n",
    "- access is legal and in most cases clearly and transparently regulated (e.g. 10,000 calls per day)\n",
    "- structuring through `requests` and `BeautifulSoup` not required\n",
    "- Python packages that simplify server-client interaction are available\n",
    "\n",
    "**Disadvantages** of APIs are that\n",
    "- we have to learn how APIs work and how we should interact with them (each API has some peculiarities and documentation is usually good, but sometimes not so...)\n",
    "- authentification may be required and access may not be free of charge \n",
    "\n",
    "We will\n",
    "- obtain data of a public statistical office such as the IMF or World Bank through the `pandas-datareader`\n",
    "- directly obtain a (ranking) table from a website such the [World Cube Association](https://www.worldcubeassociation.org/results/rankings/333/single)\n",
    "- learn how to use the Destatis/GENESIS Online service and API\n",
    "- learn how to use the Twitter API (in particular [Tweepy](https://www.tweepy.org/), a Python library for the Twitter API) and retrieve Tweets with GeoTags (i.e. coordinates) subject to specified geography and search terms\n",
    "- conduct some small analyses and visualise the results appropriately"
   ]
  },
  {
   "cell_type": "code",
   "execution_count": 1,
   "id": "b3887aa8",
   "metadata": {
    "collapsed": true
   },
   "outputs": [],
   "source": [
    "import pandas as pd"
   ]
  },
  {
   "cell_type": "code",
   "execution_count": 2,
   "id": "1ada2bc4",
   "metadata": {
    "collapsed": true
   },
   "outputs": [
    {
     "name": "stdout",
     "output_type": "stream",
     "text": [
      "Collecting pandas-datareader\n",
      "  Downloading pandas_datareader-0.9.0-py3-none-any.whl (107 kB)\n",
      "Requirement already satisfied: pandas>=0.23 in c:\\users\\munnes\\anaconda3\\envs\\python_webscraping\\lib\\site-packages (from pandas-datareader) (1.2.4)\n",
      "Requirement already satisfied: requests>=2.19.0 in c:\\users\\munnes\\anaconda3\\envs\\python_webscraping\\lib\\site-packages (from pandas-datareader) (2.25.1)\n",
      "Collecting lxml\n",
      "  Downloading lxml-4.6.3-cp39-cp39-win_amd64.whl (3.5 MB)\n",
      "Requirement already satisfied: pytz>=2017.3 in c:\\users\\munnes\\anaconda3\\envs\\python_webscraping\\lib\\site-packages (from pandas>=0.23->pandas-datareader) (2021.1)\n",
      "Requirement already satisfied: numpy>=1.16.5 in c:\\users\\munnes\\anaconda3\\envs\\python_webscraping\\lib\\site-packages (from pandas>=0.23->pandas-datareader) (1.20.2)\n",
      "Requirement already satisfied: python-dateutil>=2.7.3 in c:\\users\\munnes\\anaconda3\\envs\\python_webscraping\\lib\\site-packages (from pandas>=0.23->pandas-datareader) (2.8.1)\n",
      "Requirement already satisfied: six>=1.5 in c:\\users\\munnes\\anaconda3\\envs\\python_webscraping\\lib\\site-packages (from python-dateutil>=2.7.3->pandas>=0.23->pandas-datareader) (1.15.0)\n",
      "Requirement already satisfied: urllib3<1.27,>=1.21.1 in c:\\users\\munnes\\anaconda3\\envs\\python_webscraping\\lib\\site-packages (from requests>=2.19.0->pandas-datareader) (1.26.4)\n",
      "Requirement already satisfied: certifi>=2017.4.17 in c:\\users\\munnes\\anaconda3\\envs\\python_webscraping\\lib\\site-packages (from requests>=2.19.0->pandas-datareader) (2020.12.5)\n",
      "Requirement already satisfied: chardet<5,>=3.0.2 in c:\\users\\munnes\\anaconda3\\envs\\python_webscraping\\lib\\site-packages (from requests>=2.19.0->pandas-datareader) (4.0.0)\n",
      "Requirement already satisfied: idna<3,>=2.5 in c:\\users\\munnes\\anaconda3\\envs\\python_webscraping\\lib\\site-packages (from requests>=2.19.0->pandas-datareader) (2.10)\n",
      "Installing collected packages: lxml, pandas-datareader\n",
      "Successfully installed lxml-4.6.3 pandas-datareader-0.9.0\n"
     ]
    }
   ],
   "source": [
    "!pip install pandas-datareader --upgrade"
   ]
  },
  {
   "cell_type": "code",
   "execution_count": 4,
   "id": "168de0c2",
   "metadata": {
    "collapsed": true
   },
   "outputs": [
    {
     "data": {
      "text/html": [
       "<div>\n",
       "<style scoped>\n",
       "    .dataframe tbody tr th:only-of-type {\n",
       "        vertical-align: middle;\n",
       "    }\n",
       "\n",
       "    .dataframe tbody tr th {\n",
       "        vertical-align: top;\n",
       "    }\n",
       "\n",
       "    .dataframe thead th {\n",
       "        text-align: right;\n",
       "    }\n",
       "</style>\n",
       "<table border=\"1\" class=\"dataframe\">\n",
       "  <thead>\n",
       "    <tr style=\"text-align: right;\">\n",
       "      <th></th>\n",
       "      <th>id</th>\n",
       "      <th>name</th>\n",
       "      <th>unit</th>\n",
       "      <th>source</th>\n",
       "      <th>sourceNote</th>\n",
       "      <th>sourceOrganization</th>\n",
       "      <th>topics</th>\n",
       "    </tr>\n",
       "  </thead>\n",
       "  <tbody>\n",
       "    <tr>\n",
       "      <th>9027</th>\n",
       "      <td>NV.SRV.DISC.CD</td>\n",
       "      <td>Discrepancy in GDP, value added (current US$)</td>\n",
       "      <td></td>\n",
       "      <td>Africa Development Indicators</td>\n",
       "      <td>This is the discrepancy included in the value ...</td>\n",
       "      <td>b'World Bank national accounts data, and OECD ...</td>\n",
       "      <td></td>\n",
       "    </tr>\n",
       "    <tr>\n",
       "      <th>9155</th>\n",
       "      <td>NY.GDP.DISC.CD</td>\n",
       "      <td>Discrepancy in expenditure estimate of GDP (cu...</td>\n",
       "      <td></td>\n",
       "      <td>Africa Development Indicators</td>\n",
       "      <td>This is the discrepancy included in the ‘total...</td>\n",
       "      <td>b'World Bank national accounts data, and OECD ...</td>\n",
       "      <td></td>\n",
       "    </tr>\n",
       "    <tr>\n",
       "      <th>9166</th>\n",
       "      <td>NY.GDP.MKTP.CD</td>\n",
       "      <td>GDP (current US$)</td>\n",
       "      <td></td>\n",
       "      <td>World Development Indicators</td>\n",
       "      <td>GDP at purchaser's prices is the sum of gross ...</td>\n",
       "      <td>b'World Bank national accounts data, and OECD ...</td>\n",
       "      <td>Economy &amp; Growth</td>\n",
       "    </tr>\n",
       "    <tr>\n",
       "      <th>9185</th>\n",
       "      <td>NY.GDP.PCAP.CD</td>\n",
       "      <td>GDP per capita (current US$)</td>\n",
       "      <td></td>\n",
       "      <td>World Development Indicators</td>\n",
       "      <td>GDP per capita is gross domestic product divid...</td>\n",
       "      <td>b'World Bank national accounts data, and OECD ...</td>\n",
       "      <td>Economy &amp; Growth</td>\n",
       "    </tr>\n",
       "    <tr>\n",
       "      <th>9292</th>\n",
       "      <td>NYGDPMKTPSACD</td>\n",
       "      <td>GDP,current US$,millions,seas. adj.,</td>\n",
       "      <td></td>\n",
       "      <td>Global Economic Monitor</td>\n",
       "      <td></td>\n",
       "      <td>b''</td>\n",
       "      <td></td>\n",
       "    </tr>\n",
       "  </tbody>\n",
       "</table>\n",
       "</div>"
      ],
      "text/plain": [
       "                  id                                               name unit  \\\n",
       "9027  NV.SRV.DISC.CD      Discrepancy in GDP, value added (current US$)        \n",
       "9155  NY.GDP.DISC.CD  Discrepancy in expenditure estimate of GDP (cu...        \n",
       "9166  NY.GDP.MKTP.CD                                  GDP (current US$)        \n",
       "9185  NY.GDP.PCAP.CD                       GDP per capita (current US$)        \n",
       "9292   NYGDPMKTPSACD               GDP,current US$,millions,seas. adj.,        \n",
       "\n",
       "                             source  \\\n",
       "9027  Africa Development Indicators   \n",
       "9155  Africa Development Indicators   \n",
       "9166   World Development Indicators   \n",
       "9185   World Development Indicators   \n",
       "9292        Global Economic Monitor   \n",
       "\n",
       "                                             sourceNote  \\\n",
       "9027  This is the discrepancy included in the value ...   \n",
       "9155  This is the discrepancy included in the ‘total...   \n",
       "9166  GDP at purchaser's prices is the sum of gross ...   \n",
       "9185  GDP per capita is gross domestic product divid...   \n",
       "9292                                                      \n",
       "\n",
       "                                     sourceOrganization            topics  \n",
       "9027  b'World Bank national accounts data, and OECD ...                    \n",
       "9155  b'World Bank national accounts data, and OECD ...                    \n",
       "9166  b'World Bank national accounts data, and OECD ...  Economy & Growth  \n",
       "9185  b'World Bank national accounts data, and OECD ...  Economy & Growth  \n",
       "9292                                                b''                    "
      ]
     },
     "execution_count": 4,
     "metadata": {},
     "output_type": "execute_result"
    }
   ],
   "source": [
    "from pandas_datareader import wb # import world bank access\n",
    "search = wb.search('GDP.*current.*US')# search for keyword\n",
    "search"
   ]
  },
  {
   "cell_type": "code",
   "execution_count": 7,
   "id": "745cdbe5",
   "metadata": {
    "collapsed": true
   },
   "outputs": [
    {
     "name": "stdout",
     "output_type": "stream",
     "text": [
      "<class 'pandas.core.frame.DataFrame'>\n",
      "MultiIndex: 60 entries, ('Germany', '2019') to ('Italy', '2000')\n",
      "Data columns (total 1 columns):\n",
      " #   Column          Non-Null Count  Dtype  \n",
      "---  ------          --------------  -----  \n",
      " 0   NY.GDP.MKTP.CD  60 non-null     float64\n",
      "dtypes: float64(1)\n",
      "memory usage: 1.5+ KB\n"
     ]
    }
   ],
   "source": [
    "df = wb.download(indicator = 'NY.GDP.MKTP.CD', country = ['DE', 'FR', 'IT'], start = 2000, end = 2019)\n",
    "df.info()"
   ]
  },
  {
   "cell_type": "code",
   "execution_count": 8,
   "id": "c7cf9b99",
   "metadata": {},
   "outputs": [
    {
     "data": {
      "text/html": [
       "<div>\n",
       "<style scoped>\n",
       "    .dataframe tbody tr th:only-of-type {\n",
       "        vertical-align: middle;\n",
       "    }\n",
       "\n",
       "    .dataframe tbody tr th {\n",
       "        vertical-align: top;\n",
       "    }\n",
       "\n",
       "    .dataframe thead tr th {\n",
       "        text-align: left;\n",
       "    }\n",
       "\n",
       "    .dataframe thead tr:last-of-type th {\n",
       "        text-align: right;\n",
       "    }\n",
       "</style>\n",
       "<table border=\"1\" class=\"dataframe\">\n",
       "  <thead>\n",
       "    <tr>\n",
       "      <th></th>\n",
       "      <th colspan=\"8\" halign=\"left\">NY.GDP.MKTP.CD</th>\n",
       "    </tr>\n",
       "    <tr>\n",
       "      <th></th>\n",
       "      <th>count</th>\n",
       "      <th>mean</th>\n",
       "      <th>std</th>\n",
       "      <th>min</th>\n",
       "      <th>25%</th>\n",
       "      <th>50%</th>\n",
       "      <th>75%</th>\n",
       "      <th>max</th>\n",
       "    </tr>\n",
       "    <tr>\n",
       "      <th>country</th>\n",
       "      <th></th>\n",
       "      <th></th>\n",
       "      <th></th>\n",
       "      <th></th>\n",
       "      <th></th>\n",
       "      <th></th>\n",
       "      <th></th>\n",
       "      <th></th>\n",
       "    </tr>\n",
       "  </thead>\n",
       "  <tbody>\n",
       "    <tr>\n",
       "      <th>France</th>\n",
       "      <td>20.0</td>\n",
       "      <td>2.391444e+12</td>\n",
       "      <td>5.039285e+11</td>\n",
       "      <td>1.362249e+12</td>\n",
       "      <td>2.176030e+12</td>\n",
       "      <td>2.618880e+12</td>\n",
       "      <td>2.733605e+12</td>\n",
       "      <td>2.918383e+12</td>\n",
       "    </tr>\n",
       "    <tr>\n",
       "      <th>Germany</th>\n",
       "      <td>20.0</td>\n",
       "      <td>3.213212e+12</td>\n",
       "      <td>6.554315e+11</td>\n",
       "      <td>1.943145e+12</td>\n",
       "      <td>2.836649e+12</td>\n",
       "      <td>3.409510e+12</td>\n",
       "      <td>3.730707e+12</td>\n",
       "      <td>3.963768e+12</td>\n",
       "    </tr>\n",
       "    <tr>\n",
       "      <th>Italy</th>\n",
       "      <td>20.0</td>\n",
       "      <td>1.907346e+12</td>\n",
       "      <td>3.611625e+11</td>\n",
       "      <td>1.143830e+12</td>\n",
       "      <td>1.827731e+12</td>\n",
       "      <td>1.982686e+12</td>\n",
       "      <td>2.145770e+12</td>\n",
       "      <td>2.398857e+12</td>\n",
       "    </tr>\n",
       "  </tbody>\n",
       "</table>\n",
       "</div>"
      ],
      "text/plain": [
       "        NY.GDP.MKTP.CD                                            \\\n",
       "                 count          mean           std           min   \n",
       "country                                                            \n",
       "France            20.0  2.391444e+12  5.039285e+11  1.362249e+12   \n",
       "Germany           20.0  3.213212e+12  6.554315e+11  1.943145e+12   \n",
       "Italy             20.0  1.907346e+12  3.611625e+11  1.143830e+12   \n",
       "\n",
       "                                                                 \n",
       "                  25%           50%           75%           max  \n",
       "country                                                          \n",
       "France   2.176030e+12  2.618880e+12  2.733605e+12  2.918383e+12  \n",
       "Germany  2.836649e+12  3.409510e+12  3.730707e+12  3.963768e+12  \n",
       "Italy    1.827731e+12  1.982686e+12  2.145770e+12  2.398857e+12  "
      ]
     },
     "execution_count": 8,
     "metadata": {},
     "output_type": "execute_result"
    }
   ],
   "source": [
    "df.groupby('country').describe()"
   ]
  },
  {
   "cell_type": "code",
   "execution_count": 9,
   "id": "4c4e4736",
   "metadata": {
    "collapsed": true
   },
   "outputs": [],
   "source": [
    "df2 = df.reset_index()"
   ]
  },
  {
   "cell_type": "code",
   "execution_count": 10,
   "id": "384fc7f2",
   "metadata": {
    "collapsed": true
   },
   "outputs": [
    {
     "name": "stdout",
     "output_type": "stream",
     "text": [
      "<class 'pandas.core.frame.DataFrame'>\n",
      "RangeIndex: 60 entries, 0 to 59\n",
      "Data columns (total 3 columns):\n",
      " #   Column          Non-Null Count  Dtype  \n",
      "---  ------          --------------  -----  \n",
      " 0   country         60 non-null     object \n",
      " 1   year            60 non-null     object \n",
      " 2   NY.GDP.MKTP.CD  60 non-null     float64\n",
      "dtypes: float64(1), object(2)\n",
      "memory usage: 1.5+ KB\n"
     ]
    }
   ],
   "source": [
    "df2.info()"
   ]
  },
  {
   "cell_type": "code",
   "execution_count": 11,
   "id": "1ca64ddb",
   "metadata": {
    "collapsed": true
   },
   "outputs": [],
   "source": [
    "df2.columns = ['country', 'year', 'gdp'] # rename columns"
   ]
  },
  {
   "cell_type": "code",
   "execution_count": 12,
   "id": "1c215845",
   "metadata": {
    "collapsed": true
   },
   "outputs": [
    {
     "name": "stdout",
     "output_type": "stream",
     "text": [
      "<class 'pandas.core.frame.DataFrame'>\n",
      "RangeIndex: 60 entries, 0 to 59\n",
      "Data columns (total 3 columns):\n",
      " #   Column   Non-Null Count  Dtype  \n",
      "---  ------   --------------  -----  \n",
      " 0   country  60 non-null     object \n",
      " 1   year     60 non-null     int32  \n",
      " 2   gdp      60 non-null     float64\n",
      "dtypes: float64(1), int32(1), object(1)\n",
      "memory usage: 1.3+ KB\n"
     ]
    }
   ],
   "source": [
    "df2.year = df2.year.astype(int) # numeric annual indicator\n",
    "df2.info()"
   ]
  },
  {
   "cell_type": "code",
   "execution_count": 16,
   "id": "508004fb",
   "metadata": {
    "collapsed": true
   },
   "outputs": [],
   "source": [
    "import matplotlib.pyplot as plt\n",
    "import datetime"
   ]
  },
  {
   "cell_type": "code",
   "execution_count": 17,
   "id": "f8a18cf3",
   "metadata": {
    "collapsed": true
   },
   "outputs": [
    {
     "data": {
      "image/png": "[encoded data removed]",
      "text/plain": [
       "<Figure size 432x288 with 1 Axes>"
      ]
     },
     "metadata": {
      "needs_background": "light"
     },
     "output_type": "display_data"
    }
   ],
   "source": [
    "for country in df2['country'].unique():\n",
    "    plt.plot(df2[df2['country'] == country]['year'], df2[df2['country'] == country]['gdp'], label = country)\n",
    "    plt.xlabel('Year')\n",
    "    plt.ylabel('Nominal GDP (in US$)')\n",
    "    plt.title('This is a so-so graph...')"
   ]
  },
  {
   "cell_type": "code",
   "execution_count": 20,
   "id": "7d253cde",
   "metadata": {
    "collapsed": true
   },
   "outputs": [
    {
     "data": {
      "text/html": [
       "        <script type=\"text/javascript\">\n",
       "        window.PlotlyConfig = {MathJaxConfig: 'local'};\n",
       "        if (window.MathJax) {MathJax.Hub.Config({SVG: {font: \"STIX-Web\"}});}\n",
       "        if (typeof require !== 'undefined') {\n",
       "        require.undef(\"plotly\");\n",
       "        requirejs.config({\n",
       "            paths: {\n",
       "                'plotly': ['https://cdn.plot.ly/plotly-latest.min']\n",
       "            }\n",
       "        });\n",
       "        require(['plotly'], function(Plotly) {\n",
       "            window._Plotly = Plotly;\n",
       "        });\n",
       "        }\n",
       "        </script>\n",
       "        "
      ]
     },
     "metadata": {},
     "output_type": "display_data"
    }
   ],
   "source": [
    "import plotly.graph_objs as go\n",
    "import plotly.figure_factory as ff\n",
    "from plotly.offline import download_plotlyjs, init_notebook_mode, plot, iplot\n",
    "init_notebook_mode(connected=True)"
   ]
  },
  {
   "cell_type": "code",
   "execution_count": 21,
   "id": "3af5512f",
   "metadata": {
    "collapsed": true
   },
   "outputs": [
    {
     "data": {
      "application/vnd.plotly.v1+json": {
       "config": {
        "linkText": "Export to plot.ly",
        "plotlyServerURL": "https://plot.ly",
        "showLink": false
       },
       "data": [
        {
         "name": "Germany",
         "type": "scatter",
         "x": [
          2019,
          2018,
          2017,
          2016,
          2015,
          2014,
          2013,
          2012,
          2011,
          2010,
          2009,
          2008,
          2007,
          2006,
          2005,
          2004,
          2003,
          2002,
          2001,
          2000
         ],
         "y": [
          3861123558039.21,
          3963767526250.98,
          3682602479929.42,
          3467498002104.33,
          3356235704119.75,
          3883920155292.26,
          3732743446218.92,
          3527344944139.83,
          3744408602683.94,
          3396354075663.73,
          3397791053070.3,
          3730027830672.33,
          3421229126745.14,
          2992196713084.93,
          2845802760850.64,
          2809187981127.39,
          2496128668171.56,
          2068624129493.69,
          1944107382550.34,
          1943145384190.16
         ]
        },
        {
         "name": "France",
         "type": "scatter",
         "x": [
          2019,
          2018,
          2017,
          2016,
          2015,
          2014,
          2013,
          2012,
          2011,
          2010,
          2009,
          2008,
          2007,
          2006,
          2005,
          2004,
          2003,
          2002,
          2001,
          2000
         ],
         "y": [
          2715518274227.45,
          2787863958885.49,
          2595151045197.65,
          2471285607081.72,
          2438207896251.84,
          2852165760630.27,
          2811077725703.59,
          2683825225092.63,
          2861408170264.6,
          2642609548930.36,
          2690222283967.77,
          2918382891460.38,
          2657213249384.07,
          2318593651988.46,
          2196126103718.44,
          2115742488204.62,
          1840480812641.08,
          1494286655373.61,
          1376465324384.79,
          1362248940482.77
         ]
        },
        {
         "name": "Italy",
         "type": "scatter",
         "x": [
          2019,
          2018,
          2017,
          2016,
          2015,
          2014,
          2013,
          2012,
          2011,
          2010,
          2009,
          2008,
          2007,
          2006,
          2005,
          2004,
          2003,
          2002,
          2001,
          2000
         ],
         "y": [
          2003576145498.04,
          2091544955092.31,
          1961796197354.36,
          1875797463583.87,
          1835899237320.04,
          2159133919743.77,
          2141315327318.21,
          2087077032435.15,
          2291991045770.29,
          2134017843247.16,
          2191241872742.43,
          2398856598798.89,
          2210292636189.43,
          1947919708944.93,
          1857524312896.41,
          1803226967966.23,
          1574145823927.77,
          1270712309429.7,
          1167012796420.58,
          1143829832319.88
         ]
        }
       ],
       "layout": {
        "template": {
         "data": {
          "bar": [
           {
            "error_x": {
             "color": "#2a3f5f"
            },
            "error_y": {
             "color": "#2a3f5f"
            },
            "marker": {
             "line": {
              "color": "#E5ECF6",
              "width": 0.5
             }
            },
            "type": "bar"
           }
          ],
          "barpolar": [
           {
            "marker": {
             "line": {
              "color": "#E5ECF6",
              "width": 0.5
             }
            },
            "type": "barpolar"
           }
          ],
          "carpet": [
           {
            "aaxis": {
             "endlinecolor": "#2a3f5f",
             "gridcolor": "white",
             "linecolor": "white",
             "minorgridcolor": "white",
             "startlinecolor": "#2a3f5f"
            },
            "baxis": {
             "endlinecolor": "#2a3f5f",
             "gridcolor": "white",
             "linecolor": "white",
             "minorgridcolor": "white",
             "startlinecolor": "#2a3f5f"
            },
            "type": "carpet"
           }
          ],
          "choropleth": [
           {
            "colorbar": {
             "outlinewidth": 0,
             "ticks": ""
            },
            "type": "choropleth"
           }
          ],
          "contour": [
           {
            "colorbar": {
             "outlinewidth": 0,
             "ticks": ""
            },
            "colorscale": [
             [
              0,
              "#0d0887"
             ],
             [
              0.1111111111111111,
              "#46039f"
             ],
             [
              0.2222222222222222,
              "#7201a8"
             ],
             [
              0.3333333333333333,
              "#9c179e"
             ],
             [
              0.4444444444444444,
              "#bd3786"
             ],
             [
              0.5555555555555556,
              "#d8576b"
             ],
             [
              0.6666666666666666,
              "#ed7953"
             ],
             [
              0.7777777777777778,
              "#fb9f3a"
             ],
             [
              0.8888888888888888,
              "#fdca26"
             ],
             [
              1,
              "#f0f921"
             ]
            ],
            "type": "contour"
           }
          ],
          "contourcarpet": [
           {
            "colorbar": {
             "outlinewidth": 0,
             "ticks": ""
            },
            "type": "contourcarpet"
           }
          ],
          "heatmap": [
           {
            "colorbar": {
             "outlinewidth": 0,
             "ticks": ""
            },
            "colorscale": [
             [
              0,
              "#0d0887"
             ],
             [
              0.1111111111111111,
              "#46039f"
             ],
             [
              0.2222222222222222,
              "#7201a8"
             ],
             [
              0.3333333333333333,
              "#9c179e"
             ],
             [
              0.4444444444444444,
              "#bd3786"
             ],
             [
              0.5555555555555556,
              "#d8576b"
             ],
             [
              0.6666666666666666,
              "#ed7953"
             ],
             [
              0.7777777777777778,
              "#fb9f3a"
             ],
             [
              0.8888888888888888,
              "#fdca26"
             ],
             [
              1,
              "#f0f921"
             ]
            ],
            "type": "heatmap"
           }
          ],
          "heatmapgl": [
           {
            "colorbar": {
             "outlinewidth": 0,
             "ticks": ""
            },
            "colorscale": [
             [
              0,
              "#0d0887"
             ],
             [
              0.1111111111111111,
              "#46039f"
             ],
             [
              0.2222222222222222,
              "#7201a8"
             ],
             [
              0.3333333333333333,
              "#9c179e"
             ],
             [
              0.4444444444444444,
              "#bd3786"
             ],
             [
              0.5555555555555556,
              "#d8576b"
             ],
             [
              0.6666666666666666,
              "#ed7953"
             ],
             [
              0.7777777777777778,
              "#fb9f3a"
             ],
             [
              0.8888888888888888,
              "#fdca26"
             ],
             [
              1,
              "#f0f921"
             ]
            ],
            "type": "heatmapgl"
           }
          ],
          "histogram": [
           {
            "marker": {
             "colorbar": {
              "outlinewidth": 0,
              "ticks": ""
             }
            },
            "type": "histogram"
           }
          ],
          "histogram2d": [
           {
            "colorbar": {
             "outlinewidth": 0,
             "ticks": ""
            },
            "colorscale": [
             [
              0,
              "#0d0887"
             ],
             [
              0.1111111111111111,
              "#46039f"
             ],
             [
              0.2222222222222222,
              "#7201a8"
             ],
             [
              0.3333333333333333,
              "#9c179e"
             ],
             [
              0.4444444444444444,
              "#bd3786"
             ],
             [
              0.5555555555555556,
              "#d8576b"
             ],
             [
              0.6666666666666666,
              "#ed7953"
             ],
             [
              0.7777777777777778,
              "#fb9f3a"
             ],
             [
              0.8888888888888888,
              "#fdca26"
             ],
             [
              1,
              "#f0f921"
             ]
            ],
            "type": "histogram2d"
           }
          ],
          "histogram2dcontour": [
           {
            "colorbar": {
             "outlinewidth": 0,
             "ticks": ""
            },
            "colorscale": [
             [
              0,
              "#0d0887"
             ],
             [
              0.1111111111111111,
              "#46039f"
             ],
             [
              0.2222222222222222,
              "#7201a8"
             ],
             [
              0.3333333333333333,
              "#9c179e"
             ],
             [
              0.4444444444444444,
              "#bd3786"
             ],
             [
              0.5555555555555556,
              "#d8576b"
             ],
             [
              0.6666666666666666,
              "#ed7953"
             ],
             [
              0.7777777777777778,
              "#fb9f3a"
             ],
             [
              0.8888888888888888,
              "#fdca26"
             ],
             [
              1,
              "#f0f921"
             ]
            ],
            "type": "histogram2dcontour"
           }
          ],
          "mesh3d": [
           {
            "colorbar": {
             "outlinewidth": 0,
             "ticks": ""
            },
            "type": "mesh3d"
           }
          ],
          "parcoords": [
           {
            "line": {
             "colorbar": {
              "outlinewidth": 0,
              "ticks": ""
             }
            },
            "type": "parcoords"
           }
          ],
          "pie": [
           {
            "automargin": true,
            "type": "pie"
           }
          ],
          "scatter": [
           {
            "marker": {
             "colorbar": {
              "outlinewidth": 0,
              "ticks": ""
             }
            },
            "type": "scatter"
           }
          ],
          "scatter3d": [
           {
            "line": {
             "colorbar": {
              "outlinewidth": 0,
              "ticks": ""
             }
            },
            "marker": {
             "colorbar": {
              "outlinewidth": 0,
              "ticks": ""
             }
            },
            "type": "scatter3d"
           }
          ],
          "scattercarpet": [
           {
            "marker": {
             "colorbar": {
              "outlinewidth": 0,
              "ticks": ""
             }
            },
            "type": "scattercarpet"
           }
          ],
          "scattergeo": [
           {
            "marker": {
             "colorbar": {
              "outlinewidth": 0,
              "ticks": ""
             }
            },
            "type": "scattergeo"
           }
          ],
          "scattergl": [
           {
            "marker": {
             "colorbar": {
              "outlinewidth": 0,
              "ticks": ""
             }
            },
            "type": "scattergl"
           }
          ],
          "scattermapbox": [
           {
            "marker": {
             "colorbar": {
              "outlinewidth": 0,
              "ticks": ""
             }
            },
            "type": "scattermapbox"
           }
          ],
          "scatterpolar": [
           {
            "marker": {
             "colorbar": {
              "outlinewidth": 0,
              "ticks": ""
             }
            },
            "type": "scatterpolar"
           }
          ],
          "scatterpolargl": [
           {
            "marker": {
             "colorbar": {
              "outlinewidth": 0,
              "ticks": ""
             }
            },
            "type": "scatterpolargl"
           }
          ],
          "scatterternary": [
           {
            "marker": {
             "colorbar": {
              "outlinewidth": 0,
              "ticks": ""
             }
            },
            "type": "scatterternary"
           }
          ],
          "surface": [
           {
            "colorbar": {
             "outlinewidth": 0,
             "ticks": ""
            },
            "colorscale": [
             [
              0,
              "#0d0887"
             ],
             [
              0.1111111111111111,
              "#46039f"
             ],
             [
              0.2222222222222222,
              "#7201a8"
             ],
             [
              0.3333333333333333,
              "#9c179e"
             ],
             [
              0.4444444444444444,
              "#bd3786"
             ],
             [
              0.5555555555555556,
              "#d8576b"
             ],
             [
              0.6666666666666666,
              "#ed7953"
             ],
             [
              0.7777777777777778,
              "#fb9f3a"
             ],
             [
              0.8888888888888888,
              "#fdca26"
             ],
             [
              1,
              "#f0f921"
             ]
            ],
            "type": "surface"
           }
          ],
          "table": [
           {
            "cells": {
             "fill": {
              "color": "#EBF0F8"
             },
             "line": {
              "color": "white"
             }
            },
            "header": {
             "fill": {
              "color": "#C8D4E3"
             },
             "line": {
              "color": "white"
             }
            },
            "type": "table"
           }
          ]
         },
         "layout": {
          "annotationdefaults": {
           "arrowcolor": "#2a3f5f",
           "arrowhead": 0,
           "arrowwidth": 1
          },
          "autotypenumbers": "strict",
          "coloraxis": {
           "colorbar": {
            "outlinewidth": 0,
            "ticks": ""
           }
          },
          "colorscale": {
           "diverging": [
            [
             0,
             "#8e0152"
            ],
            [
             0.1,
             "#c51b7d"
            ],
            [
             0.2,
             "#de77ae"
            ],
            [
             0.3,
             "#f1b6da"
            ],
            [
             0.4,
             "#fde0ef"
            ],
            [
             0.5,
             "#f7f7f7"
            ],
            [
             0.6,
             "#e6f5d0"
            ],
            [
             0.7,
             "#b8e186"
            ],
            [
             0.8,
             "#7fbc41"
            ],
            [
             0.9,
             "#4d9221"
            ],
            [
             1,
             "#276419"
            ]
           ],
           "sequential": [
            [
             0,
             "#0d0887"
            ],
            [
             0.1111111111111111,
             "#46039f"
            ],
            [
             0.2222222222222222,
             "#7201a8"
            ],
            [
             0.3333333333333333,
             "#9c179e"
            ],
            [
             0.4444444444444444,
             "#bd3786"
            ],
            [
             0.5555555555555556,
             "#d8576b"
            ],
            [
             0.6666666666666666,
             "#ed7953"
            ],
            [
             0.7777777777777778,
             "#fb9f3a"
            ],
            [
             0.8888888888888888,
             "#fdca26"
            ],
            [
             1,
             "#f0f921"
            ]
           ],
           "sequentialminus": [
            [
             0,
             "#0d0887"
            ],
            [
             0.1111111111111111,
             "#46039f"
            ],
            [
             0.2222222222222222,
             "#7201a8"
            ],
            [
             0.3333333333333333,
             "#9c179e"
            ],
            [
             0.4444444444444444,
             "#bd3786"
            ],
            [
             0.5555555555555556,
             "#d8576b"
            ],
            [
             0.6666666666666666,
             "#ed7953"
            ],
            [
             0.7777777777777778,
             "#fb9f3a"
            ],
            [
             0.8888888888888888,
             "#fdca26"
            ],
            [
             1,
             "#f0f921"
            ]
           ]
          },
          "colorway": [
           "#636efa",
           "#EF553B",
           "#00cc96",
           "#ab63fa",
           "#FFA15A",
           "#19d3f3",
           "#FF6692",
           "#B6E880",
           "#FF97FF",
           "#FECB52"
          ],
          "font": {
           "color": "#2a3f5f"
          },
          "geo": {
           "bgcolor": "white",
           "lakecolor": "white",
           "landcolor": "#E5ECF6",
           "showlakes": true,
           "showland": true,
           "subunitcolor": "white"
          },
          "hoverlabel": {
           "align": "left"
          },
          "hovermode": "closest",
          "mapbox": {
           "style": "light"
          },
          "paper_bgcolor": "white",
          "plot_bgcolor": "#E5ECF6",
          "polar": {
           "angularaxis": {
            "gridcolor": "white",
            "linecolor": "white",
            "ticks": ""
           },
           "bgcolor": "#E5ECF6",
           "radialaxis": {
            "gridcolor": "white",
            "linecolor": "white",
            "ticks": ""
           }
          },
          "scene": {
           "xaxis": {
            "backgroundcolor": "#E5ECF6",
            "gridcolor": "white",
            "gridwidth": 2,
            "linecolor": "white",
            "showbackground": true,
            "ticks": "",
            "zerolinecolor": "white"
           },
           "yaxis": {
            "backgroundcolor": "#E5ECF6",
            "gridcolor": "white",
            "gridwidth": 2,
            "linecolor": "white",
            "showbackground": true,
            "ticks": "",
            "zerolinecolor": "white"
           },
           "zaxis": {
            "backgroundcolor": "#E5ECF6",
            "gridcolor": "white",
            "gridwidth": 2,
            "linecolor": "white",
            "showbackground": true,
            "ticks": "",
            "zerolinecolor": "white"
           }
          },
          "shapedefaults": {
           "line": {
            "color": "#2a3f5f"
           }
          },
          "ternary": {
           "aaxis": {
            "gridcolor": "white",
            "linecolor": "white",
            "ticks": ""
           },
           "baxis": {
            "gridcolor": "white",
            "linecolor": "white",
            "ticks": ""
           },
           "bgcolor": "#E5ECF6",
           "caxis": {
            "gridcolor": "white",
            "linecolor": "white",
            "ticks": ""
           }
          },
          "title": {
           "x": 0.05
          },
          "xaxis": {
           "automargin": true,
           "gridcolor": "white",
           "linecolor": "white",
           "ticks": "",
           "title": {
            "standoff": 15
           },
           "zerolinecolor": "white",
           "zerolinewidth": 2
          },
          "yaxis": {
           "automargin": true,
           "gridcolor": "white",
           "linecolor": "white",
           "ticks": "",
           "title": {
            "standoff": 15
           },
           "zerolinecolor": "white",
           "zerolinewidth": 2
          }
         }
        },
        "title": {
         "text": "This is a much cooler graph!"
        },
        "xaxis": {
         "rangeslider": {
          "visible": true
         },
         "title": {
          "text": "Year"
         }
        },
        "yaxis": {
         "title": {
          "text": "Nominal GDP (in US$)"
         }
        }
       }
      },
      "text/html": [
       "<div>                            <div id=\"7285b1f3-1957-4412-a96c-bba18b20d0d9\" class=\"plotly-graph-div\" style=\"height:525px; width:100%;\"></div>            <script type=\"text/javascript\">                require([\"plotly\"], function(Plotly) {                    window.PLOTLYENV=window.PLOTLYENV || {};                                    if (document.getElementById(\"7285b1f3-1957-4412-a96c-bba18b20d0d9\")) {                    Plotly.newPlot(                        \"7285b1f3-1957-4412-a96c-bba18b20d0d9\",                        [{\"name\": \"Germany\", \"type\": \"scatter\", \"x\": [2019, 2018, 2017, 2016, 2015, 2014, 2013, 2012, 2011, 2010, 2009, 2008, 2007, 2006, 2005, 2004, 2003, 2002, 2001, 2000], \"y\": [3861123558039.21, 3963767526250.98, 3682602479929.42, 3467498002104.33, 3356235704119.75, 3883920155292.26, 3732743446218.92, 3527344944139.83, 3744408602683.94, 3396354075663.73, 3397791053070.3, 3730027830672.33, 3421229126745.14, 2992196713084.93, 2845802760850.64, 2809187981127.39, 2496128668171.56, 2068624129493.69, 1944107382550.34, 1943145384190.16]}, {\"name\": \"France\", \"type\": \"scatter\", \"x\": [2019, 2018, 2017, 2016, 2015, 2014, 2013, 2012, 2011, 2010, 2009, 2008, 2007, 2006, 2005, 2004, 2003, 2002, 2001, 2000], \"y\": [2715518274227.45, 2787863958885.49, 2595151045197.65, 2471285607081.72, 2438207896251.84, 2852165760630.27, 2811077725703.59, 2683825225092.63, 2861408170264.6, 2642609548930.36, 2690222283967.77, 2918382891460.38, 2657213249384.07, 2318593651988.46, 2196126103718.44, 2115742488204.62, 1840480812641.08, 1494286655373.61, 1376465324384.79, 1362248940482.77]}, {\"name\": \"Italy\", \"type\": \"scatter\", \"x\": [2019, 2018, 2017, 2016, 2015, 2014, 2013, 2012, 2011, 2010, 2009, 2008, 2007, 2006, 2005, 2004, 2003, 2002, 2001, 2000], \"y\": [2003576145498.04, 2091544955092.31, 1961796197354.36, 1875797463583.87, 1835899237320.04, 2159133919743.77, 2141315327318.21, 2087077032435.15, 2291991045770.29, 2134017843247.16, 2191241872742.43, 2398856598798.89, 2210292636189.43, 1947919708944.93, 1857524312896.41, 1803226967966.23, 1574145823927.77, 1270712309429.7, 1167012796420.58, 1143829832319.88]}],                        {\"template\": {\"data\": {\"bar\": [{\"error_x\": {\"color\": \"#2a3f5f\"}, \"error_y\": {\"color\": \"#2a3f5f\"}, \"marker\": {\"line\": {\"color\": \"#E5ECF6\", \"width\": 0.5}}, \"type\": \"bar\"}], \"barpolar\": [{\"marker\": {\"line\": {\"color\": \"#E5ECF6\", \"width\": 0.5}}, \"type\": \"barpolar\"}], \"carpet\": [{\"aaxis\": {\"endlinecolor\": \"#2a3f5f\", \"gridcolor\": \"white\", \"linecolor\": \"white\", \"minorgridcolor\": \"white\", \"startlinecolor\": \"#2a3f5f\"}, \"baxis\": {\"endlinecolor\": \"#2a3f5f\", \"gridcolor\": \"white\", \"linecolor\": \"white\", \"minorgridcolor\": \"white\", \"startlinecolor\": \"#2a3f5f\"}, \"type\": \"carpet\"}], \"choropleth\": [{\"colorbar\": {\"outlinewidth\": 0, \"ticks\": \"\"}, \"type\": \"choropleth\"}], \"contour\": [{\"colorbar\": {\"outlinewidth\": 0, \"ticks\": \"\"}, \"colorscale\": [[0.0, \"#0d0887\"], [0.1111111111111111, \"#46039f\"], [0.2222222222222222, \"#7201a8\"], [0.3333333333333333, \"#9c179e\"], [0.4444444444444444, \"#bd3786\"], [0.5555555555555556, \"#d8576b\"], [0.6666666666666666, \"#ed7953\"], [0.7777777777777778, \"#fb9f3a\"], [0.8888888888888888, \"#fdca26\"], [1.0, \"#f0f921\"]], \"type\": \"contour\"}], \"contourcarpet\": [{\"colorbar\": {\"outlinewidth\": 0, \"ticks\": \"\"}, \"type\": \"contourcarpet\"}], \"heatmap\": [{\"colorbar\": {\"outlinewidth\": 0, \"ticks\": \"\"}, \"colorscale\": [[0.0, \"#0d0887\"], [0.1111111111111111, \"#46039f\"], [0.2222222222222222, \"#7201a8\"], [0.3333333333333333, \"#9c179e\"], [0.4444444444444444, \"#bd3786\"], [0.5555555555555556, \"#d8576b\"], [0.6666666666666666, \"#ed7953\"], [0.7777777777777778, \"#fb9f3a\"], [0.8888888888888888, \"#fdca26\"], [1.0, \"#f0f921\"]], \"type\": \"heatmap\"}], \"heatmapgl\": [{\"colorbar\": {\"outlinewidth\": 0, \"ticks\": \"\"}, \"colorscale\": [[0.0, \"#0d0887\"], [0.1111111111111111, \"#46039f\"], [0.2222222222222222, \"#7201a8\"], [0.3333333333333333, \"#9c179e\"], [0.4444444444444444, \"#bd3786\"], [0.5555555555555556, \"#d8576b\"], [0.6666666666666666, \"#ed7953\"], [0.7777777777777778, \"#fb9f3a\"], [0.8888888888888888, \"#fdca26\"], [1.0, \"#f0f921\"]], \"type\": \"heatmapgl\"}], \"histogram\": [{\"marker\": {\"colorbar\": {\"outlinewidth\": 0, \"ticks\": \"\"}}, \"type\": \"histogram\"}], \"histogram2d\": [{\"colorbar\": {\"outlinewidth\": 0, \"ticks\": \"\"}, \"colorscale\": [[0.0, \"#0d0887\"], [0.1111111111111111, \"#46039f\"], [0.2222222222222222, \"#7201a8\"], [0.3333333333333333, \"#9c179e\"], [0.4444444444444444, \"#bd3786\"], [0.5555555555555556, \"#d8576b\"], [0.6666666666666666, \"#ed7953\"], [0.7777777777777778, \"#fb9f3a\"], [0.8888888888888888, \"#fdca26\"], [1.0, \"#f0f921\"]], \"type\": \"histogram2d\"}], \"histogram2dcontour\": [{\"colorbar\": {\"outlinewidth\": 0, \"ticks\": \"\"}, \"colorscale\": [[0.0, \"#0d0887\"], [0.1111111111111111, \"#46039f\"], [0.2222222222222222, \"#7201a8\"], [0.3333333333333333, \"#9c179e\"], [0.4444444444444444, \"#bd3786\"], [0.5555555555555556, \"#d8576b\"], [0.6666666666666666, \"#ed7953\"], [0.7777777777777778, \"#fb9f3a\"], [0.8888888888888888, \"#fdca26\"], [1.0, \"#f0f921\"]], \"type\": \"histogram2dcontour\"}], \"mesh3d\": [{\"colorbar\": {\"outlinewidth\": 0, \"ticks\": \"\"}, \"type\": \"mesh3d\"}], \"parcoords\": [{\"line\": {\"colorbar\": {\"outlinewidth\": 0, \"ticks\": \"\"}}, \"type\": \"parcoords\"}], \"pie\": [{\"automargin\": true, \"type\": \"pie\"}], \"scatter\": [{\"marker\": {\"colorbar\": {\"outlinewidth\": 0, \"ticks\": \"\"}}, \"type\": \"scatter\"}], \"scatter3d\": [{\"line\": {\"colorbar\": {\"outlinewidth\": 0, \"ticks\": \"\"}}, \"marker\": {\"colorbar\": {\"outlinewidth\": 0, \"ticks\": \"\"}}, \"type\": \"scatter3d\"}], \"scattercarpet\": [{\"marker\": {\"colorbar\": {\"outlinewidth\": 0, \"ticks\": \"\"}}, \"type\": \"scattercarpet\"}], \"scattergeo\": [{\"marker\": {\"colorbar\": {\"outlinewidth\": 0, \"ticks\": \"\"}}, \"type\": \"scattergeo\"}], \"scattergl\": [{\"marker\": {\"colorbar\": {\"outlinewidth\": 0, \"ticks\": \"\"}}, \"type\": \"scattergl\"}], \"scattermapbox\": [{\"marker\": {\"colorbar\": {\"outlinewidth\": 0, \"ticks\": \"\"}}, \"type\": \"scattermapbox\"}], \"scatterpolar\": [{\"marker\": {\"colorbar\": {\"outlinewidth\": 0, \"ticks\": \"\"}}, \"type\": \"scatterpolar\"}], \"scatterpolargl\": [{\"marker\": {\"colorbar\": {\"outlinewidth\": 0, \"ticks\": \"\"}}, \"type\": \"scatterpolargl\"}], \"scatterternary\": [{\"marker\": {\"colorbar\": {\"outlinewidth\": 0, \"ticks\": \"\"}}, \"type\": \"scatterternary\"}], \"surface\": [{\"colorbar\": {\"outlinewidth\": 0, \"ticks\": \"\"}, \"colorscale\": [[0.0, \"#0d0887\"], [0.1111111111111111, \"#46039f\"], [0.2222222222222222, \"#7201a8\"], [0.3333333333333333, \"#9c179e\"], [0.4444444444444444, \"#bd3786\"], [0.5555555555555556, \"#d8576b\"], [0.6666666666666666, \"#ed7953\"], [0.7777777777777778, \"#fb9f3a\"], [0.8888888888888888, \"#fdca26\"], [1.0, \"#f0f921\"]], \"type\": \"surface\"}], \"table\": [{\"cells\": {\"fill\": {\"color\": \"#EBF0F8\"}, \"line\": {\"color\": \"white\"}}, \"header\": {\"fill\": {\"color\": \"#C8D4E3\"}, \"line\": {\"color\": \"white\"}}, \"type\": \"table\"}]}, \"layout\": {\"annotationdefaults\": {\"arrowcolor\": \"#2a3f5f\", \"arrowhead\": 0, \"arrowwidth\": 1}, \"autotypenumbers\": \"strict\", \"coloraxis\": {\"colorbar\": {\"outlinewidth\": 0, \"ticks\": \"\"}}, \"colorscale\": {\"diverging\": [[0, \"#8e0152\"], [0.1, \"#c51b7d\"], [0.2, \"#de77ae\"], [0.3, \"#f1b6da\"], [0.4, \"#fde0ef\"], [0.5, \"#f7f7f7\"], [0.6, \"#e6f5d0\"], [0.7, \"#b8e186\"], [0.8, \"#7fbc41\"], [0.9, \"#4d9221\"], [1, \"#276419\"]], \"sequential\": [[0.0, \"#0d0887\"], [0.1111111111111111, \"#46039f\"], [0.2222222222222222, \"#7201a8\"], [0.3333333333333333, \"#9c179e\"], [0.4444444444444444, \"#bd3786\"], [0.5555555555555556, \"#d8576b\"], [0.6666666666666666, \"#ed7953\"], [0.7777777777777778, \"#fb9f3a\"], [0.8888888888888888, \"#fdca26\"], [1.0, \"#f0f921\"]], \"sequentialminus\": [[0.0, \"#0d0887\"], [0.1111111111111111, \"#46039f\"], [0.2222222222222222, \"#7201a8\"], [0.3333333333333333, \"#9c179e\"], [0.4444444444444444, \"#bd3786\"], [0.5555555555555556, \"#d8576b\"], [0.6666666666666666, \"#ed7953\"], [0.7777777777777778, \"#fb9f3a\"], [0.8888888888888888, \"#fdca26\"], [1.0, \"#f0f921\"]]}, \"colorway\": [\"#636efa\", \"#EF553B\", \"#00cc96\", \"#ab63fa\", \"#FFA15A\", \"#19d3f3\", \"#FF6692\", \"#B6E880\", \"#FF97FF\", \"#FECB52\"], \"font\": {\"color\": \"#2a3f5f\"}, \"geo\": {\"bgcolor\": \"white\", \"lakecolor\": \"white\", \"landcolor\": \"#E5ECF6\", \"showlakes\": true, \"showland\": true, \"subunitcolor\": \"white\"}, \"hoverlabel\": {\"align\": \"left\"}, \"hovermode\": \"closest\", \"mapbox\": {\"style\": \"light\"}, \"paper_bgcolor\": \"white\", \"plot_bgcolor\": \"#E5ECF6\", \"polar\": {\"angularaxis\": {\"gridcolor\": \"white\", \"linecolor\": \"white\", \"ticks\": \"\"}, \"bgcolor\": \"#E5ECF6\", \"radialaxis\": {\"gridcolor\": \"white\", \"linecolor\": \"white\", \"ticks\": \"\"}}, \"scene\": {\"xaxis\": {\"backgroundcolor\": \"#E5ECF6\", \"gridcolor\": \"white\", \"gridwidth\": 2, \"linecolor\": \"white\", \"showbackground\": true, \"ticks\": \"\", \"zerolinecolor\": \"white\"}, \"yaxis\": {\"backgroundcolor\": \"#E5ECF6\", \"gridcolor\": \"white\", \"gridwidth\": 2, \"linecolor\": \"white\", \"showbackground\": true, \"ticks\": \"\", \"zerolinecolor\": \"white\"}, \"zaxis\": {\"backgroundcolor\": \"#E5ECF6\", \"gridcolor\": \"white\", \"gridwidth\": 2, \"linecolor\": \"white\", \"showbackground\": true, \"ticks\": \"\", \"zerolinecolor\": \"white\"}}, \"shapedefaults\": {\"line\": {\"color\": \"#2a3f5f\"}}, \"ternary\": {\"aaxis\": {\"gridcolor\": \"white\", \"linecolor\": \"white\", \"ticks\": \"\"}, \"baxis\": {\"gridcolor\": \"white\", \"linecolor\": \"white\", \"ticks\": \"\"}, \"bgcolor\": \"#E5ECF6\", \"caxis\": {\"gridcolor\": \"white\", \"linecolor\": \"white\", \"ticks\": \"\"}}, \"title\": {\"x\": 0.05}, \"xaxis\": {\"automargin\": true, \"gridcolor\": \"white\", \"linecolor\": \"white\", \"ticks\": \"\", \"title\": {\"standoff\": 15}, \"zerolinecolor\": \"white\", \"zerolinewidth\": 2}, \"yaxis\": {\"automargin\": true, \"gridcolor\": \"white\", \"linecolor\": \"white\", \"ticks\": \"\", \"title\": {\"standoff\": 15}, \"zerolinecolor\": \"white\", \"zerolinewidth\": 2}}}, \"title\": {\"text\": \"This is a much cooler graph!\"}, \"xaxis\": {\"rangeslider\": {\"visible\": true}, \"title\": {\"text\": \"Year\"}}, \"yaxis\": {\"title\": {\"text\": \"Nominal GDP (in US$)\"}}},                        {\"responsive\": true}                    ).then(function(){\n",
       "                            \n",
       "var gd = document.getElementById('7285b1f3-1957-4412-a96c-bba18b20d0d9');\n",
       "var x = new MutationObserver(function (mutations, observer) {{\n",
       "        var display = window.getComputedStyle(gd).display;\n",
       "        if (!display || display === 'none') {{\n",
       "            console.log([gd, 'removed!']);\n",
       "            Plotly.purge(gd);\n",
       "            observer.disconnect();\n",
       "        }}\n",
       "}});\n",
       "\n",
       "// Listen for the removal of the full notebook cells\n",
       "var notebookContainer = gd.closest('#notebook-container');\n",
       "if (notebookContainer) {{\n",
       "    x.observe(notebookContainer, {childList: true});\n",
       "}}\n",
       "\n",
       "// Listen for the clearing of the current output cell\n",
       "var outputEl = gd.closest('.output');\n",
       "if (outputEl) {{\n",
       "    x.observe(outputEl, {childList: true});\n",
       "}}\n",
       "\n",
       "                        })                };                });            </script>        </div>"
      ]
     },
     "metadata": {},
     "output_type": "display_data"
    }
   ],
   "source": [
    "traces = []\n",
    "for country in df2['country'].unique():\n",
    "    trace = go.Scatter(name = country, x = df2[df2['country'] == country]['year'],\n",
    "                      y = df2[df2['country'] == country]['gdp'])\n",
    "    traces.append(trace)\n",
    "fig = go.Figure(data = traces)\n",
    "fig.layout.update(title=go.layout.Title(\n",
    "    text = 'This is a much cooler graph!'\n",
    "))\n",
    "fig.layout.update(yaxis= go.layout.YAxis(title=go.layout.yaxis.Title(\n",
    "                        text='Nominal GDP (in US$)')));\n",
    "fig.layout.update(xaxis = go.layout.XAxis(title = go.layout.xaxis.Title(text = 'Year'), rangeslider = dict(visible = True)));\n",
    "iplot(fig, filename = 'Nominal_GDP')"
   ]
  },
  {
   "cell_type": "markdown",
   "id": "db659726",
   "metadata": {},
   "source": [
    "## Directly parsing `table` objects from HTML"
   ]
  },
  {
   "cell_type": "code",
   "execution_count": 22,
   "id": "23f036fd",
   "metadata": {
    "collapsed": true
   },
   "outputs": [
    {
     "name": "stdout",
     "output_type": "stream",
     "text": [
      "Variable             Type         Data/Info\n",
      "-------------------------------------------\n",
      "country              str          Italy\n",
      "datetime             module       <module 'datetime' from '<...>aping\\\\lib\\\\datetime.py'>\n",
      "df                   DataFrame                  NY.GDP.MKTP<...>     2000    1.143830e+12\n",
      "df2                  DataFrame        country  year        <...>Italy  2000  1.143830e+12\n",
      "download_plotlyjs    function     <function download_plotly<...>js at 0x000002AD993EB5E0>\n",
      "ff                   module       <module 'plotly.figure_fa<...>re_factory\\\\__init__.py'>\n",
      "fig                  Figure       Figure({\\n    'data': [{'<...>inal GDP (in US$)'}}}\\n})\n",
      "go                   module       <module 'plotly.graph_obj<...>graph_objs\\\\__init__.py'>\n",
      "init_notebook_mode   function     <function init_notebook_m<...>de at 0x000002AD993F7EE0>\n",
      "iplot                function     <function iplot at 0x000002AD993F7F70>\n",
      "pd                   module       <module 'pandas' from 'C:<...>es\\\\pandas\\\\__init__.py'>\n",
      "plot                 function     <function plot at 0x000002AD993FA040>\n",
      "plt                  module       <module 'matplotlib.pyplo<...>\\\\matplotlib\\\\pyplot.py'>\n",
      "search               DataFrame                      id     <...>  b''                    \n",
      "trace                Scatter      Scatter({\\n    'name': 'I<...>+12, 1.14382983e+12])\\n})\n",
      "traces               list         n=3\n",
      "wb                   module       <module 'pandas_datareade<...>andas_datareader\\\\wb.py'>\n"
     ]
    }
   ],
   "source": [
    "# Recall: %whos shows you the variables in name space\n",
    "%whos"
   ]
  },
  {
   "cell_type": "code",
   "execution_count": 27,
   "id": "cb241497",
   "metadata": {},
   "outputs": [
    {
     "data": {
      "text/html": [
       "<div>\n",
       "<style scoped>\n",
       "    .dataframe tbody tr th:only-of-type {\n",
       "        vertical-align: middle;\n",
       "    }\n",
       "\n",
       "    .dataframe tbody tr th {\n",
       "        vertical-align: top;\n",
       "    }\n",
       "\n",
       "    .dataframe thead th {\n",
       "        text-align: right;\n",
       "    }\n",
       "</style>\n",
       "<table border=\"1\" class=\"dataframe\">\n",
       "  <thead>\n",
       "    <tr style=\"text-align: right;\">\n",
       "      <th></th>\n",
       "      <th>#</th>\n",
       "      <th>Name</th>\n",
       "      <th>Result</th>\n",
       "      <th>Citizen of</th>\n",
       "      <th>Competition</th>\n",
       "      <th>Unnamed: 5</th>\n",
       "    </tr>\n",
       "  </thead>\n",
       "  <tbody>\n",
       "    <tr>\n",
       "      <th>0</th>\n",
       "      <td>1</td>\n",
       "      <td>Yusheng Du (杜宇生)</td>\n",
       "      <td>3.47</td>\n",
       "      <td>China</td>\n",
       "      <td>Wuhu Open 2018</td>\n",
       "      <td>NaN</td>\n",
       "    </tr>\n",
       "    <tr>\n",
       "      <th>1</th>\n",
       "      <td>2</td>\n",
       "      <td>Feliks Zemdegs</td>\n",
       "      <td>4.16</td>\n",
       "      <td>Australia</td>\n",
       "      <td>Auckland Summer Open 2020</td>\n",
       "      <td>NaN</td>\n",
       "    </tr>\n",
       "    <tr>\n",
       "      <th>2</th>\n",
       "      <td>3</td>\n",
       "      <td>Patrick Ponce</td>\n",
       "      <td>4.24</td>\n",
       "      <td>United States</td>\n",
       "      <td>Northeast Championship 2019</td>\n",
       "      <td>NaN</td>\n",
       "    </tr>\n",
       "    <tr>\n",
       "      <th>3</th>\n",
       "      <td>4</td>\n",
       "      <td>Nicolás Sánchez</td>\n",
       "      <td>4.38</td>\n",
       "      <td>United States</td>\n",
       "      <td>GA Cubers Feet Fest 2019</td>\n",
       "      <td>NaN</td>\n",
       "    </tr>\n",
       "    <tr>\n",
       "      <th>4</th>\n",
       "      <td>5</td>\n",
       "      <td>Max Park</td>\n",
       "      <td>4.40</td>\n",
       "      <td>United States</td>\n",
       "      <td>SacCubing V 2018</td>\n",
       "      <td>NaN</td>\n",
       "    </tr>\n",
       "    <tr>\n",
       "      <th>...</th>\n",
       "      <td>...</td>\n",
       "      <td>...</td>\n",
       "      <td>...</td>\n",
       "      <td>...</td>\n",
       "      <td>...</td>\n",
       "      <td>...</td>\n",
       "    </tr>\n",
       "    <tr>\n",
       "      <th>95</th>\n",
       "      <td>90</td>\n",
       "      <td>Jonathan Esparaz</td>\n",
       "      <td>5.52</td>\n",
       "      <td>Canada</td>\n",
       "      <td>Oakville Limited Fall 2017</td>\n",
       "      <td>NaN</td>\n",
       "    </tr>\n",
       "    <tr>\n",
       "      <th>96</th>\n",
       "      <td>90</td>\n",
       "      <td>Lianhao Zhu (褚连皓)</td>\n",
       "      <td>5.52</td>\n",
       "      <td>China</td>\n",
       "      <td>Shaoxing Morning 2021</td>\n",
       "      <td>NaN</td>\n",
       "    </tr>\n",
       "    <tr>\n",
       "      <th>97</th>\n",
       "      <td>98</td>\n",
       "      <td>Kim Roger Høyland Larsen</td>\n",
       "      <td>5.54</td>\n",
       "      <td>Norway</td>\n",
       "      <td>Voss Open 2019</td>\n",
       "      <td>NaN</td>\n",
       "    </tr>\n",
       "    <tr>\n",
       "      <th>98</th>\n",
       "      <td>99</td>\n",
       "      <td>Luke Tycksen</td>\n",
       "      <td>5.55</td>\n",
       "      <td>United States</td>\n",
       "      <td>Atomic Cubing Fall 2017</td>\n",
       "      <td>NaN</td>\n",
       "    </tr>\n",
       "    <tr>\n",
       "      <th>99</th>\n",
       "      <td>99</td>\n",
       "      <td>Richard Tola</td>\n",
       "      <td>5.55</td>\n",
       "      <td>Greece</td>\n",
       "      <td>London Open 2019</td>\n",
       "      <td>NaN</td>\n",
       "    </tr>\n",
       "  </tbody>\n",
       "</table>\n",
       "<p>100 rows × 6 columns</p>\n",
       "</div>"
      ],
      "text/plain": [
       "     #                      Name  Result     Citizen of  \\\n",
       "0    1          Yusheng Du (杜宇生)    3.47          China   \n",
       "1    2            Feliks Zemdegs    4.16      Australia   \n",
       "2    3             Patrick Ponce    4.24  United States   \n",
       "3    4           Nicolás Sánchez    4.38  United States   \n",
       "4    5                  Max Park    4.40  United States   \n",
       "..  ..                       ...     ...            ...   \n",
       "95  90          Jonathan Esparaz    5.52         Canada   \n",
       "96  90         Lianhao Zhu (褚连皓)    5.52          China   \n",
       "97  98  Kim Roger Høyland Larsen    5.54         Norway   \n",
       "98  99              Luke Tycksen    5.55  United States   \n",
       "99  99              Richard Tola    5.55         Greece   \n",
       "\n",
       "                    Competition  Unnamed: 5  \n",
       "0                Wuhu Open 2018         NaN  \n",
       "1     Auckland Summer Open 2020         NaN  \n",
       "2   Northeast Championship 2019         NaN  \n",
       "3      GA Cubers Feet Fest 2019         NaN  \n",
       "4              SacCubing V 2018         NaN  \n",
       "..                          ...         ...  \n",
       "95   Oakville Limited Fall 2017         NaN  \n",
       "96        Shaoxing Morning 2021         NaN  \n",
       "97               Voss Open 2019         NaN  \n",
       "98      Atomic Cubing Fall 2017         NaN  \n",
       "99             London Open 2019         NaN  \n",
       "\n",
       "[100 rows x 6 columns]"
      ]
     },
     "execution_count": 27,
     "metadata": {},
     "output_type": "execute_result"
    }
   ],
   "source": [
    "ranking = pd.read_html('https://www.worldcubeassociation.org/results/rankings/333/single', encoding = 'utf-8')\n",
    "ranking[0]"
   ]
  },
  {
   "cell_type": "markdown",
   "id": "4f36c7d8",
   "metadata": {},
   "source": [
    "Which nationality appears most frequently in the World Cube Association's ranking?"
   ]
  },
  {
   "cell_type": "code",
   "execution_count": 40,
   "id": "0ff69671",
   "metadata": {},
   "outputs": [
    {
     "data": {
      "text/html": [
       "<div>\n",
       "<style scoped>\n",
       "    .dataframe tbody tr th:only-of-type {\n",
       "        vertical-align: middle;\n",
       "    }\n",
       "\n",
       "    .dataframe tbody tr th {\n",
       "        vertical-align: top;\n",
       "    }\n",
       "\n",
       "    .dataframe thead tr th {\n",
       "        text-align: left;\n",
       "    }\n",
       "\n",
       "    .dataframe thead tr:last-of-type th {\n",
       "        text-align: right;\n",
       "    }\n",
       "</style>\n",
       "<table border=\"1\" class=\"dataframe\">\n",
       "  <thead>\n",
       "    <tr>\n",
       "      <th></th>\n",
       "      <th>#</th>\n",
       "      <th>Result</th>\n",
       "      <th>Unnamed: 5</th>\n",
       "    </tr>\n",
       "    <tr>\n",
       "      <th></th>\n",
       "      <th>mean</th>\n",
       "      <th>mean</th>\n",
       "      <th>mean</th>\n",
       "    </tr>\n",
       "    <tr>\n",
       "      <th>Citizen of</th>\n",
       "      <th></th>\n",
       "      <th></th>\n",
       "      <th></th>\n",
       "    </tr>\n",
       "  </thead>\n",
       "  <tbody>\n",
       "    <tr>\n",
       "      <th>Argentina</th>\n",
       "      <td>83.000000</td>\n",
       "      <td>5.500000</td>\n",
       "      <td>NaN</td>\n",
       "    </tr>\n",
       "    <tr>\n",
       "      <th>Australia</th>\n",
       "      <td>37.750000</td>\n",
       "      <td>4.895000</td>\n",
       "      <td>NaN</td>\n",
       "    </tr>\n",
       "    <tr>\n",
       "      <th>Canada</th>\n",
       "      <td>53.750000</td>\n",
       "      <td>5.172500</td>\n",
       "      <td>NaN</td>\n",
       "    </tr>\n",
       "    <tr>\n",
       "      <th>China</th>\n",
       "      <td>49.090909</td>\n",
       "      <td>5.010000</td>\n",
       "      <td>NaN</td>\n",
       "    </tr>\n",
       "    <tr>\n",
       "      <th>Czech Republic</th>\n",
       "      <td>34.000000</td>\n",
       "      <td>4.970000</td>\n",
       "      <td>NaN</td>\n",
       "    </tr>\n",
       "    <tr>\n",
       "      <th>Denmark</th>\n",
       "      <td>42.500000</td>\n",
       "      <td>5.045000</td>\n",
       "      <td>NaN</td>\n",
       "    </tr>\n",
       "    <tr>\n",
       "      <th>Finland</th>\n",
       "      <td>18.000000</td>\n",
       "      <td>4.800000</td>\n",
       "      <td>NaN</td>\n",
       "    </tr>\n",
       "    <tr>\n",
       "      <th>France</th>\n",
       "      <td>37.500000</td>\n",
       "      <td>4.940000</td>\n",
       "      <td>NaN</td>\n",
       "    </tr>\n",
       "    <tr>\n",
       "      <th>Germany</th>\n",
       "      <td>31.200000</td>\n",
       "      <td>4.940000</td>\n",
       "      <td>NaN</td>\n",
       "    </tr>\n",
       "    <tr>\n",
       "      <th>Greece</th>\n",
       "      <td>63.000000</td>\n",
       "      <td>5.220000</td>\n",
       "      <td>NaN</td>\n",
       "    </tr>\n",
       "    <tr>\n",
       "      <th>Hong Kong</th>\n",
       "      <td>90.000000</td>\n",
       "      <td>5.520000</td>\n",
       "      <td>NaN</td>\n",
       "    </tr>\n",
       "    <tr>\n",
       "      <th>India</th>\n",
       "      <td>29.000000</td>\n",
       "      <td>4.910000</td>\n",
       "      <td>NaN</td>\n",
       "    </tr>\n",
       "    <tr>\n",
       "      <th>Indonesia</th>\n",
       "      <td>80.000000</td>\n",
       "      <td>5.470000</td>\n",
       "      <td>NaN</td>\n",
       "    </tr>\n",
       "    <tr>\n",
       "      <th>Japan</th>\n",
       "      <td>18.000000</td>\n",
       "      <td>4.800000</td>\n",
       "      <td>NaN</td>\n",
       "    </tr>\n",
       "    <tr>\n",
       "      <th>Malaysia</th>\n",
       "      <td>41.000000</td>\n",
       "      <td>5.020000</td>\n",
       "      <td>NaN</td>\n",
       "    </tr>\n",
       "    <tr>\n",
       "      <th>Mongolia</th>\n",
       "      <td>22.000000</td>\n",
       "      <td>4.840000</td>\n",
       "      <td>NaN</td>\n",
       "    </tr>\n",
       "    <tr>\n",
       "      <th>Netherlands</th>\n",
       "      <td>13.000000</td>\n",
       "      <td>4.740000</td>\n",
       "      <td>NaN</td>\n",
       "    </tr>\n",
       "    <tr>\n",
       "      <th>Norway</th>\n",
       "      <td>98.000000</td>\n",
       "      <td>5.540000</td>\n",
       "      <td>NaN</td>\n",
       "    </tr>\n",
       "    <tr>\n",
       "      <th>Peru</th>\n",
       "      <td>90.000000</td>\n",
       "      <td>5.520000</td>\n",
       "      <td>NaN</td>\n",
       "    </tr>\n",
       "    <tr>\n",
       "      <th>Philippines</th>\n",
       "      <td>45.750000</td>\n",
       "      <td>5.077500</td>\n",
       "      <td>NaN</td>\n",
       "    </tr>\n",
       "    <tr>\n",
       "      <th>Poland</th>\n",
       "      <td>22.333333</td>\n",
       "      <td>4.740000</td>\n",
       "      <td>NaN</td>\n",
       "    </tr>\n",
       "    <tr>\n",
       "      <th>Republic of Korea</th>\n",
       "      <td>27.600000</td>\n",
       "      <td>4.878000</td>\n",
       "      <td>NaN</td>\n",
       "    </tr>\n",
       "    <tr>\n",
       "      <th>Russia</th>\n",
       "      <td>75.500000</td>\n",
       "      <td>5.405000</td>\n",
       "      <td>NaN</td>\n",
       "    </tr>\n",
       "    <tr>\n",
       "      <th>Singapore</th>\n",
       "      <td>83.000000</td>\n",
       "      <td>5.500000</td>\n",
       "      <td>NaN</td>\n",
       "    </tr>\n",
       "    <tr>\n",
       "      <th>Spain</th>\n",
       "      <td>72.666667</td>\n",
       "      <td>5.373333</td>\n",
       "      <td>NaN</td>\n",
       "    </tr>\n",
       "    <tr>\n",
       "      <th>Sweden</th>\n",
       "      <td>90.000000</td>\n",
       "      <td>5.520000</td>\n",
       "      <td>NaN</td>\n",
       "    </tr>\n",
       "    <tr>\n",
       "      <th>Taiwan</th>\n",
       "      <td>69.000000</td>\n",
       "      <td>5.345000</td>\n",
       "      <td>NaN</td>\n",
       "    </tr>\n",
       "    <tr>\n",
       "      <th>Thailand</th>\n",
       "      <td>85.500000</td>\n",
       "      <td>5.505000</td>\n",
       "      <td>NaN</td>\n",
       "    </tr>\n",
       "    <tr>\n",
       "      <th>Ukraine</th>\n",
       "      <td>66.000000</td>\n",
       "      <td>5.340000</td>\n",
       "      <td>NaN</td>\n",
       "    </tr>\n",
       "    <tr>\n",
       "      <th>United Kingdom</th>\n",
       "      <td>37.000000</td>\n",
       "      <td>5.000000</td>\n",
       "      <td>NaN</td>\n",
       "    </tr>\n",
       "    <tr>\n",
       "      <th>United States</th>\n",
       "      <td>51.354839</td>\n",
       "      <td>5.118065</td>\n",
       "      <td>NaN</td>\n",
       "    </tr>\n",
       "  </tbody>\n",
       "</table>\n",
       "</div>"
      ],
      "text/plain": [
       "                           #    Result Unnamed: 5\n",
       "                        mean      mean       mean\n",
       "Citizen of                                       \n",
       "Argentina          83.000000  5.500000        NaN\n",
       "Australia          37.750000  4.895000        NaN\n",
       "Canada             53.750000  5.172500        NaN\n",
       "China              49.090909  5.010000        NaN\n",
       "Czech Republic     34.000000  4.970000        NaN\n",
       "Denmark            42.500000  5.045000        NaN\n",
       "Finland            18.000000  4.800000        NaN\n",
       "France             37.500000  4.940000        NaN\n",
       "Germany            31.200000  4.940000        NaN\n",
       "Greece             63.000000  5.220000        NaN\n",
       "Hong Kong          90.000000  5.520000        NaN\n",
       "India              29.000000  4.910000        NaN\n",
       "Indonesia          80.000000  5.470000        NaN\n",
       "Japan              18.000000  4.800000        NaN\n",
       "Malaysia           41.000000  5.020000        NaN\n",
       "Mongolia           22.000000  4.840000        NaN\n",
       "Netherlands        13.000000  4.740000        NaN\n",
       "Norway             98.000000  5.540000        NaN\n",
       "Peru               90.000000  5.520000        NaN\n",
       "Philippines        45.750000  5.077500        NaN\n",
       "Poland             22.333333  4.740000        NaN\n",
       "Republic of Korea  27.600000  4.878000        NaN\n",
       "Russia             75.500000  5.405000        NaN\n",
       "Singapore          83.000000  5.500000        NaN\n",
       "Spain              72.666667  5.373333        NaN\n",
       "Sweden             90.000000  5.520000        NaN\n",
       "Taiwan             69.000000  5.345000        NaN\n",
       "Thailand           85.500000  5.505000        NaN\n",
       "Ukraine            66.000000  5.340000        NaN\n",
       "United Kingdom     37.000000  5.000000        NaN\n",
       "United States      51.354839  5.118065        NaN"
      ]
     },
     "execution_count": 40,
     "metadata": {},
     "output_type": "execute_result"
    }
   ],
   "source": [
    "ranking[0].groupby('Citizen of').agg(['mean'])"
   ]
  },
  {
   "cell_type": "code",
   "execution_count": 29,
   "id": "9251d4a8",
   "metadata": {},
   "outputs": [
    {
     "name": "stdout",
     "output_type": "stream",
     "text": [
      "<class 'pandas.core.frame.DataFrame'>\n",
      "RangeIndex: 100 entries, 0 to 99\n",
      "Data columns (total 6 columns):\n",
      " #   Column       Non-Null Count  Dtype  \n",
      "---  ------       --------------  -----  \n",
      " 0   #            100 non-null    int64  \n",
      " 1   Name         100 non-null    object \n",
      " 2   Result       100 non-null    float64\n",
      " 3   Citizen of   100 non-null    object \n",
      " 4   Competition  100 non-null    object \n",
      " 5   Unnamed: 5   0 non-null      float64\n",
      "dtypes: float64(2), int64(1), object(3)\n",
      "memory usage: 4.8+ KB\n"
     ]
    }
   ],
   "source": [
    "ranking[0].info()"
   ]
  },
  {
   "cell_type": "markdown",
   "id": "ef0feec9",
   "metadata": {},
   "source": [
    "Which nationality needed, on average, the **lowest** amount of time to solve a 3x3x3 cube? Sort the output in ascending order."
   ]
  },
  {
   "cell_type": "code",
   "execution_count": null,
   "id": "8ee8ebd6",
   "metadata": {
    "collapsed": true
   },
   "outputs": [],
   "source": []
  },
  {
   "cell_type": "markdown",
   "id": "89b05d4e",
   "metadata": {},
   "source": [
    "How many possible states/permutations, starting from the solved state, can a 3x3x3 Rubik's cube have? \n",
    "\n",
    "Hints:\n",
    "1. The centre squares are fixed (a plane rotation around these squares doesn't change the cube's state)\n",
    "2. There are eight corner pieces (with three colors on the side) and twelve edge pieces (with two colors on the side) which all revolve around the centre pieces\n",
    "3. There are six different colors\n",
    "4. We only look at \"legal\" states, i.e. those that can only be realised without assembling the cube (and therefore not violating Hint 1)"
   ]
  },
  {
   "cell_type": "code",
   "execution_count": null,
   "id": "6a151c50",
   "metadata": {
    "collapsed": true
   },
   "outputs": [],
   "source": []
  },
  {
   "cell_type": "markdown",
   "id": "fb5cb0c7",
   "metadata": {},
   "source": [
    "Which result entry in the World Ranking table is the most recent one? Which one is the oldest one? Be as precise as possible! (Hint: You may have to combine your knowledge from scraping HTML files.)"
   ]
  },
  {
   "cell_type": "code",
   "execution_count": null,
   "id": "88da521b",
   "metadata": {
    "collapsed": true
   },
   "outputs": [],
   "source": []
  },
  {
   "cell_type": "markdown",
   "id": "b1cc5c57",
   "metadata": {},
   "source": [
    "Compute the expected value of `Result` conditional on `Nationality = 'Germany'`. Are the German contestants statistically significantly faster/slower in solving the cube than other contestants, based on `Nationality`? Does statistical significance change if you use robust standard errors?"
   ]
  },
  {
   "cell_type": "code",
   "execution_count": 23,
   "id": "1c58a18f",
   "metadata": {},
   "outputs": [
    {
     "name": "stdout",
     "output_type": "stream",
     "text": [
      "Collecting statsmodels\n",
      "  Downloading statsmodels-0.12.2-cp39-none-win_amd64.whl (9.4 MB)\n",
      "Requirement already satisfied: pandas>=0.21 in c:\\users\\munnes\\anaconda3\\envs\\python_webscraping\\lib\\site-packages (from statsmodels) (1.2.4)\n",
      "Requirement already satisfied: numpy>=1.15 in c:\\users\\munnes\\anaconda3\\envs\\python_webscraping\\lib\\site-packages (from statsmodels) (1.20.2)\n",
      "Collecting scipy>=1.1\n",
      "  Downloading scipy-1.6.2-cp39-cp39-win_amd64.whl (32.7 MB)\n",
      "Collecting patsy>=0.5\n",
      "  Downloading patsy-0.5.1-py2.py3-none-any.whl (231 kB)\n",
      "Requirement already satisfied: pytz>=2017.3 in c:\\users\\munnes\\anaconda3\\envs\\python_webscraping\\lib\\site-packages (from pandas>=0.21->statsmodels) (2021.1)\n",
      "Requirement already satisfied: python-dateutil>=2.7.3 in c:\\users\\munnes\\anaconda3\\envs\\python_webscraping\\lib\\site-packages (from pandas>=0.21->statsmodels) (2.8.1)\n",
      "Requirement already satisfied: six in c:\\users\\munnes\\anaconda3\\envs\\python_webscraping\\lib\\site-packages (from patsy>=0.5->statsmodels) (1.15.0)\n",
      "Installing collected packages: scipy, patsy, statsmodels\n",
      "Successfully installed patsy-0.5.1 scipy-1.6.2 statsmodels-0.12.2\n"
     ]
    }
   ],
   "source": [
    "!pip install statsmodels"
   ]
  },
  {
   "cell_type": "code",
   "execution_count": null,
   "id": "877dc566",
   "metadata": {
    "collapsed": true
   },
   "outputs": [],
   "source": [
    "import statsmodels.api as sm"
   ]
  },
  {
   "cell_type": "code",
   "execution_count": null,
   "id": "bffd1086",
   "metadata": {
    "collapsed": true
   },
   "outputs": [],
   "source": []
  },
  {
   "cell_type": "code",
   "execution_count": null,
   "id": "41085005",
   "metadata": {
    "collapsed": true
   },
   "outputs": [],
   "source": []
  },
  {
   "cell_type": "code",
   "execution_count": null,
   "id": "8f1aee2c",
   "metadata": {
    "collapsed": true
   },
   "outputs": [],
   "source": []
  },
  {
   "cell_type": "code",
   "execution_count": null,
   "id": "00dabead",
   "metadata": {
    "collapsed": true
   },
   "outputs": [],
   "source": []
  },
  {
   "cell_type": "code",
   "execution_count": null,
   "id": "67dd336a",
   "metadata": {
    "collapsed": true
   },
   "outputs": [],
   "source": []
  },
  {
   "cell_type": "code",
   "execution_count": null,
   "id": "5475a272",
   "metadata": {
    "collapsed": true
   },
   "outputs": [],
   "source": []
  },
  {
   "cell_type": "markdown",
   "id": "00d97ad7",
   "metadata": {},
   "source": [
    "## Spatial libraries \n",
    "> (Note to myself: do GENESIS API first!)"
   ]
  },
  {
   "cell_type": "markdown",
   "id": "61b5f654",
   "metadata": {},
   "source": [
    "The installation procedure of spatial libraries for Python (on Windows) can be quite tedious but [this answer](https://stackoverflow.com/questions/51095970/install-python-geopandas-failed/51560940#51560940) on Stackoverflow (make sure to upvote ;)) and [this detailed instruction](https://geoffboeing.com/2014/09/using-geopandas-windows/) make it straight forward. You can also find the required wheels for Python 3.8 and 64-bit for offline `pip install` in this notebook's [repository](https://github.com/gerwolf/webscraping-workshop/tree/main/DataFrames%20and%20APIs). After this, you can simply `pip install geopandas`."
   ]
  },
  {
   "cell_type": "code",
   "execution_count": null,
   "id": "caea38be",
   "metadata": {
    "collapsed": true
   },
   "outputs": [],
   "source": [
    "import geopandas as gpd\n",
    "import matplotlib.pyplot as plt\n",
    "plt.rcParams[\"figure.figsize\"] = [16,9]"
   ]
  },
  {
   "cell_type": "code",
   "execution_count": null,
   "id": "f356557f",
   "metadata": {
    "collapsed": true
   },
   "outputs": [],
   "source": []
  },
  {
   "cell_type": "code",
   "execution_count": null,
   "id": "cf4a78ea",
   "metadata": {
    "collapsed": true
   },
   "outputs": [],
   "source": []
  },
  {
   "cell_type": "code",
   "execution_count": null,
   "id": "3b25bc07",
   "metadata": {
    "collapsed": true
   },
   "outputs": [],
   "source": []
  },
  {
   "cell_type": "code",
   "execution_count": null,
   "id": "3c258623",
   "metadata": {
    "collapsed": true
   },
   "outputs": [],
   "source": []
  },
  {
   "cell_type": "code",
   "execution_count": null,
   "id": "eaeb33b7",
   "metadata": {
    "collapsed": true
   },
   "outputs": [],
   "source": []
  },
  {
   "cell_type": "code",
   "execution_count": null,
   "id": "d5408903",
   "metadata": {
    "collapsed": true
   },
   "outputs": [],
   "source": []
  },
  {
   "cell_type": "code",
   "execution_count": null,
   "id": "7dd2707e",
   "metadata": {
    "collapsed": true
   },
   "outputs": [],
   "source": []
  },
  {
   "cell_type": "code",
   "execution_count": null,
   "id": "ee9ffc3f",
   "metadata": {
    "collapsed": true
   },
   "outputs": [],
   "source": []
  },
  {
   "cell_type": "code",
   "execution_count": null,
   "id": "45387e8e",
   "metadata": {
    "collapsed": true
   },
   "outputs": [],
   "source": []
  },
  {
   "cell_type": "markdown",
   "id": "838ac263",
   "metadata": {},
   "source": [
    "## Destatis/GENESIS Online\n",
    "The GENESIS API is the web interface service by the Federal Statistical Office of Germany and is a good place to start learning how to interact programmatically with a server."
   ]
  },
  {
   "cell_type": "markdown",
   "id": "1c20c927",
   "metadata": {},
   "source": [
    "There is a [comprehensive description/introduction](https://www-genesis.destatis.de/genesis/misc/GENESIS-Webservices_Einfuehrung.pdf) on the service, unfortunately in German only. To display the PDF inside Jupyter Notebook in Chrome you may have to enable the [PDF Viewer extension](https://chrome.google.com/webstore/detail/pdf-viewer/oemmndcbldboiebfnladdacbdfmadadm?utm_source=chrome-ntp-icon)."
   ]
  },
  {
   "cell_type": "code",
   "execution_count": 41,
   "id": "56a8769a",
   "metadata": {},
   "outputs": [
    {
     "data": {
      "text/html": [
       "\n",
       "        <iframe\n",
       "            width=\"980\"\n",
       "            height=\"800\"\n",
       "            src=\"https://www-genesis.destatis.de/genesis/misc/GENESIS-Webservices_Einfuehrung.pdf\"\n",
       "            frameborder=\"0\"\n",
       "            allowfullscreen\n",
       "        ></iframe>\n",
       "        "
      ],
      "text/plain": [
       "<IPython.lib.display.IFrame at 0x2ad9e7a6cd0>"
      ]
     },
     "execution_count": 41,
     "metadata": {},
     "output_type": "execute_result"
    }
   ],
   "source": [
    "from IPython.display import IFrame, display\n",
    "filepath = \"https://www-genesis.destatis.de/genesis/misc/GENESIS-Webservices_Einfuehrung.pdf\"\n",
    "IFrame(filepath, width=980, height=800)"
   ]
  },
  {
   "cell_type": "markdown",
   "id": "6667a14f",
   "metadata": {},
   "source": [
    "Read about the `whoami` method (in Section 2.2). Do you have to authenticate? What does it return? How would you send a `request`?"
   ]
  },
  {
   "cell_type": "code",
   "execution_count": 79,
   "id": "08cfbd00",
   "metadata": {},
   "outputs": [],
   "source": [
    "import login_genesis\n",
    "import requests"
   ]
  },
  {
   "cell_type": "code",
   "execution_count": 73,
   "id": "19689d2f",
   "metadata": {},
   "outputs": [
    {
     "data": {
      "text/plain": [
       "'!$%1%59m7d'"
      ]
     },
     "execution_count": 73,
     "metadata": {},
     "output_type": "execute_result"
    }
   ],
   "source": [
    "# login_genesis.pw1\n",
    "requests.get('https://www-genesis.destatis.de/genesisWS/rest/2020/helloworld/whoami').text"
   ]
  },
  {
   "cell_type": "markdown",
   "id": "e16db88e",
   "metadata": {},
   "source": [
    "Read about the `logincheck` method (in Section 2.2). Do you have to authenticate? What does it return? Construct a request object using string formatting, send a `request` (in English language) and print the request's status. What type is the response's `text` attribute?"
   ]
  },
  {
   "cell_type": "code",
   "execution_count": 82,
   "id": "e9d037ef",
   "metadata": {},
   "outputs": [
    {
     "data": {
      "text/plain": [
       "'{\"Status\":\"Sie wurden erfolgreich an- und abgemeldet!\",\"Username\":\"DER54T7Y4A\"}'"
      ]
     },
     "execution_count": 82,
     "metadata": {},
     "output_type": "execute_result"
    }
   ],
   "source": [
    "url = 'https://www-genesis.destatis.de/genesisWS/rest/2020/helloworld/logincheck?username={}&password={}&language=de'.format(login_genesis.pw1, login_genesis.pw2)\n",
    "requests.get(url).text"
   ]
  },
  {
   "cell_type": "code",
   "execution_count": null,
   "id": "6b129e96",
   "metadata": {},
   "outputs": [],
   "source": [
    "credentials = {\"username\": login_genesis.pw1,\n",
    "               \"password\": login_genesis.pw2}\n",
    "url1 = 'https://www-genesis.destatis.de/genesisWS/rest/2020/helloworld/logincheck?username={username}&password={password}&language=de'.format(**credentials)"
   ]
  },
  {
   "cell_type": "markdown",
   "id": "0e2eb210",
   "metadata": {},
   "source": [
    "Now that we have a working connection to the GENESIS Online API we want to directly obtain an economic indicator, the private sector's savings rate on a quarterly basis, for instance. This `data` is usually stored in a `table` somewhere in the depths of a data warehouse and it is (unfortunately) necessary to familiarise yourself, at least partially, with the internal server's structure.\n",
    "1. In the documentation file search for the `tablefile` method (under Section 2.5 Data). When should it be used? What does it return?\n",
    "2. Which method should you use if you want to directly obtain a `chart`?\n",
    "3. Which method should you use if you want to directly obtain a regional `map`? Which parameter controls the image's resolution?"
   ]
  },
  {
   "cell_type": "code",
   "execution_count": 84,
   "id": "e584e002",
   "metadata": {},
   "outputs": [],
   "source": [
    "field = '12411-0010'\n",
    "stand = '32.12.2019'\n",
    "language = 'en'\n",
    "url = 'https://www-genesis.destatis.de/genesisWS/rest/2020/data/map2table?username={}&password={}&name={}&area=all&mapType=0&classes=5&classification=0&zoom=3&staryear=&endyear=&timeslices=&regionalvariable&stand={}&language={}'.format(login_genesis.pw1, login_genesis.pw2, field, stand, language)"
   ]
  },
  {
   "cell_type": "code",
   "execution_count": 85,
   "id": "e07e934e",
   "metadata": {},
   "outputs": [
    {
     "data": {
      "text/plain": [
       "<Response [200]>"
      ]
     },
     "execution_count": 85,
     "metadata": {},
     "output_type": "execute_result"
    }
   ],
   "source": [
    "requests.get(url)"
   ]
  },
  {
   "cell_type": "code",
   "execution_count": null,
   "id": "84908c0a",
   "metadata": {},
   "outputs": [],
   "source": []
  },
  {
   "cell_type": "code",
   "execution_count": null,
   "id": "0f0b383d",
   "metadata": {
    "collapsed": true
   },
   "outputs": [],
   "source": [
    "Image(finame='map.png')"
   ]
  },
  {
   "cell_type": "markdown",
   "id": "57138740",
   "metadata": {},
   "source": [
    "4. Login to the [GENESIS Online user interface](https://www-genesis.destatis.de/genesis/online?Menu=Anmeldung#abreadcrumb). Familiarise yourself with the tables' structure and navigate to the National Accounts (at the central level) --> Private sector disposable income and savings at quarterly frequency. Which parameters in the request can you control?\n",
    "5. Which method would you choose if you want to directly obtain a `table` in some machine readable format, e.g. a `.csv` or `.xlsx` that you can read into `pandas`? Which output `formats` can you choose from? How do you include additional conditions matching particular values?\n",
    "6. Construct a `request` which contains the following specification:\n",
    "    - only seasonally and calendar-adjusted values (X13)\n",
    "    - all available years and quarters\n",
    "    - output format should be a `.xlsx` file\n",
    "7. Send the request, but directly through the `pandas.read_excel()` method."
   ]
  },
  {
   "cell_type": "code",
   "execution_count": null,
   "id": "dd5784a9",
   "metadata": {
    "collapsed": true
   },
   "outputs": [],
   "source": [
    "! pip install openpyxl"
   ]
  },
  {
   "cell_type": "code",
   "execution_count": null,
   "id": "46ce05ca",
   "metadata": {
    "collapsed": true
   },
   "outputs": [],
   "source": []
  },
  {
   "cell_type": "code",
   "execution_count": null,
   "id": "30118f53",
   "metadata": {
    "collapsed": true
   },
   "outputs": [],
   "source": []
  },
  {
   "cell_type": "code",
   "execution_count": null,
   "id": "1936e472",
   "metadata": {
    "collapsed": true
   },
   "outputs": [],
   "source": []
  },
  {
   "cell_type": "code",
   "execution_count": null,
   "id": "afa85fca",
   "metadata": {
    "collapsed": true
   },
   "outputs": [],
   "source": []
  },
  {
   "cell_type": "code",
   "execution_count": null,
   "id": "fcb8c538",
   "metadata": {
    "collapsed": true
   },
   "outputs": [],
   "source": []
  },
  {
   "cell_type": "code",
   "execution_count": null,
   "id": "8c3c1a15",
   "metadata": {
    "collapsed": true
   },
   "outputs": [],
   "source": []
  },
  {
   "cell_type": "markdown",
   "id": "977fa2f4",
   "metadata": {},
   "source": [
    "## Twitter API\n"
   ]
  },
  {
   "cell_type": "code",
   "execution_count": null,
   "id": "1e4823f2",
   "metadata": {
    "collapsed": true
   },
   "outputs": [],
   "source": [
    "!pip install python-twitter --upgrade"
   ]
  },
  {
   "cell_type": "markdown",
   "id": "25aba8d5",
   "metadata": {},
   "source": []
  },
  {
   "cell_type": "code",
   "execution_count": null,
   "id": "d1094988",
   "metadata": {
    "collapsed": true
   },
   "outputs": [],
   "source": [
    "import twitter\n",
    "import twitter_config\n",
    "\n",
    "api = twitter.Api(consumer_key = twitter_config.api_key ,\n",
    "                  consumer_secret = twitter_config.api_secret_key,\n",
    "                  access_token_key = twitter_config.access_token,\n",
    "                  access_token_secret = twitter_config.access_token_secret,\n",
    "                  tweet_mode = 'extended',\n",
    "                  sleep_on_rate_limit = True)"
   ]
  },
  {
   "cell_type": "markdown",
   "id": "801d7973",
   "metadata": {},
   "source": [
    "Let us query a free-text-search using the hashtag `#gameofthrones`. Which function would you use? Limit the maximum amount of response elements to 10."
   ]
  },
  {
   "cell_type": "code",
   "execution_count": null,
   "id": "e8ffcca7",
   "metadata": {
    "collapsed": true
   },
   "outputs": [],
   "source": []
  },
  {
   "cell_type": "markdown",
   "id": "80c8c77d",
   "metadata": {},
   "source": [
    "Which type is the output object? Which type have the output object's elements?"
   ]
  },
  {
   "cell_type": "code",
   "execution_count": null,
   "id": "d76594ca",
   "metadata": {
    "collapsed": true
   },
   "outputs": [],
   "source": []
  },
  {
   "cell_type": "code",
   "execution_count": null,
   "id": "e3072f01",
   "metadata": {
    "collapsed": true
   },
   "outputs": [],
   "source": []
  },
  {
   "cell_type": "code",
   "execution_count": null,
   "id": "d512ea17",
   "metadata": {
    "collapsed": true
   },
   "outputs": [],
   "source": [
    "!pip install tweepy --upgrade"
   ]
  },
  {
   "cell_type": "code",
   "execution_count": 3,
   "id": "8a001afc",
   "metadata": {
    "collapsed": true
   },
   "outputs": [],
   "source": [
    "import tweepy\n",
    "import json\n",
    "import twitter_config"
   ]
  },
  {
   "cell_type": "code",
   "execution_count": 13,
   "id": "c78ba852",
   "metadata": {
    "collapsed": true
   },
   "outputs": [],
   "source": [
    "auth = tweepy.OAuthHandler(twitter_config.api_key, twitter_config.api_secret_key)\n",
    "auth.set_access_token(twitter_config.access_token, twitter_config.access_token_secret)\n",
    "api = tweepy.API(auth, wait_on_rate_limit=True)"
   ]
  },
  {
   "cell_type": "markdown",
   "id": "6e4ce95c",
   "metadata": {},
   "source": [
    "`Tweepy` is great for retrieving additional info on Tweets such as GeoLocation (only for those where users have enabled the feature, or not consciously disabled it)\n",
    "- We will run a small analysis of the spatial distribution of recent Tweets in Germany\n",
    "- The common finding (also known in the academic and non-academic literature) is that the data quality decreases substantially once we condition those observations on specific keywords\n",
    "> Please note that Twitter’s search service and, by extension, the Search API is not meant to be an exhaustive source of Tweets. Not all Tweets will be indexed or made available via the search interface. (From the [official Twitter API documentation](https://developer.twitter.com/en/docs/twitter-api/v1/tweets/search/api-reference/get-search-tweets))\n",
    "\n",
    "Your task now: familiarise yourself with the [`Twitter ` API](https://developer.twitter.com/en/docs/twitter-api/v1) and [`Tweepy` Python](https://docs.tweepy.org/en/v3.10.0/index.html) implementation."
   ]
  },
  {
   "cell_type": "code",
   "execution_count": 12,
   "id": "919a54f0",
   "metadata": {
    "collapsed": true
   },
   "outputs": [
    {
     "data": {
      "text/html": [
       "\n",
       "        <iframe\n",
       "            width=\"980\"\n",
       "            height=\"400\"\n",
       "            src=\"https://docs.tweepy.org/en/v3.10.0/index.html\"\n",
       "            frameborder=\"0\"\n",
       "            allowfullscreen\n",
       "        ></iframe>\n",
       "        "
      ],
      "text/plain": [
       "<IPython.lib.display.IFrame at 0x254859ff430>"
      ]
     },
     "execution_count": 12,
     "metadata": {},
     "output_type": "execute_result"
    }
   ],
   "source": [
    "from IPython.display import IFrame\n",
    "\n",
    "url = 'https://docs.tweepy.org/en/v3.10.0/index.html'\n",
    "IFrame(url, width=980, height=400)"
   ]
  },
  {
   "cell_type": "markdown",
   "id": "67d0c8ae",
   "metadata": {},
   "source": [
    "1. Which `Tweepy` version have you installed?\n",
    "2. Which function would you use to send a search query?\n",
    "3. Which function in `Tweepy` facilitates pagination?\n",
    "4. Which fields contain [spatial](https://developer.twitter.com/en/docs/twitter-api/v1/data-dictionary/object-model/geo) information?\n",
    "5. Identify the internal country code of `Germany`, i.e. its `id`.\n",
    "6. How would you [construct a query](https://developer.twitter.com/en/docs/twitter-api/v1/tweets/search/api-reference/get-search-tweets) that specifies a search term, the language and the number of Tweets shown per page?\n",
    "\n",
    "Note there are [rate limits](https://developer.twitter.com/en/docs/twitter-api/rate-limits)! For example, include `time.sleep(15 * 60)` in case your rate limit was reached when running more comprehensive searches."
   ]
  },
  {
   "cell_type": "code",
   "execution_count": 39,
   "id": "05f6d4bf",
   "metadata": {
    "collapsed": true
   },
   "outputs": [],
   "source": [
    "# Example query\n",
    "\n",
    "header = {\"q\": \"place:fdcd221ac44fa326\", \"lang\": \"de\", \"tweet_mode\": \"extended\", \"count\": 100}\n",
    "\n",
    "# Note: \"count\":100 is the maximum of returned Tweets per request/item in the standard Twitter API\n",
    "# You can paginate either per item (i.e. individual request) or pages of results \n",
    "# https://docs.tweepy.org/en/latest/cursor_tutorial.html\n",
    "# The Cursor() function ignores the 'count' parameter in the query, the limit is defined in the items() function instead\n",
    "\n",
    "batch_tweets = tweepy.Cursor(api.search, **header)\n",
    "\n",
    "noOfSearch = 200\n",
    "\n",
    "batch_items = batch_tweets.items(noOfSearch)"
   ]
  },
  {
   "cell_type": "code",
   "execution_count": 40,
   "id": "433b2f4e",
   "metadata": {
    "collapsed": true
   },
   "outputs": [],
   "source": [
    "batch_list = [i._json for i in batch_items] # underscore means 'intended for internal use'"
   ]
  },
  {
   "cell_type": "markdown",
   "id": "98d0ce0d",
   "metadata": {},
   "source": [
    "Write a function which takes as input arguments a (not hardcoded) `place_id`, `language` and `tweet_mode` (which you set to \"extended\" by default such that you query the full, untruncated text content of the Tweets) and returns a **list of dictionaries**. The goal is to obtain a as-complete-as-possible collection of recent Tweets in Germany **without specifying a `key word`**. In order to maximize the number of Tweets you receive, stack the `.Cursor()` object inside of a for-loop. Save the resulting output to your local directory as a `.json` file."
   ]
  },
  {
   "cell_type": "code",
   "execution_count": null,
   "id": "c06116ac",
   "metadata": {
    "collapsed": true
   },
   "outputs": [],
   "source": [
    "# Your code\n",
    "\n",
    "\n",
    "\n",
    "\n",
    "\n",
    "\n",
    "\n",
    "\n",
    "\n",
    "\n",
    "\n",
    "\n",
    "\n"
   ]
  },
  {
   "cell_type": "markdown",
   "id": "ef014cf7",
   "metadata": {},
   "source": [
    "Once you have the raw output, determine the total number of unique Tweets, i.e. `ids`.\n",
    "You can use a dictionary comprehension (similar to list comprehensions) to achieve that since duplicate keys are not allowed in a dictionary."
   ]
  },
  {
   "cell_type": "code",
   "execution_count": null,
   "id": "ca6af832",
   "metadata": {
    "collapsed": true
   },
   "outputs": [],
   "source": [
    "unique = { tweet['id'] : tweet for tweet in bunches }\n",
    "len(unique)"
   ]
  },
  {
   "cell_type": "markdown",
   "id": "dd455f1e",
   "metadata": {},
   "source": [
    "Identify all Tweets (elements) which value associated with the key `coordinates` is different from `None`. Assign the result to an object `matches`. How does the content of this object compare to the \"unfiltered\" data container `unique`?"
   ]
  },
  {
   "cell_type": "code",
   "execution_count": null,
   "id": "caebe775",
   "metadata": {
    "collapsed": true
   },
   "outputs": [],
   "source": [
    "# Code for matching elements"
   ]
  },
  {
   "cell_type": "markdown",
   "id": "f9d85e52",
   "metadata": {},
   "source": [
    "You should get elements in this format:\n",
    "\n",
    "```\n",
    "{1382787792535703552: {'created_at': 'Thu Apr 15 20:07:55 +0000 2021',\n",
    "  'id': 1382787792535703552,\n",
    "  'id_str': '1382787792535703552',\n",
    "  'full_text': '@bennai_m @JoueursDZ @DZfoot Ya sehr gut geschossen Grosse Verantwortung',\n",
    "  'truncated': False,\n",
    "  'display_text_range': [29, 72],\n",
    "  'entities': {'hashtags': [],\n",
    "   'symbols': [],\n",
    "   'user_mentions': [{'screen_name': 'bennai_m',\n",
    "     'name': 'MBennai',\n",
    "     'id': 1157689821969756161,\n",
    "     'id_str': '1157689821969756161',\n",
    "     'indices': [0, 9]},\n",
    "    {'screen_name': 'JoueursDZ',\n",
    "     'name': 'JDZ Football',\n",
    "     'id': 1177267711157690371,\n",
    "     'id_str': '1177267711157690371',\n",
    "     'indices': [10, 20]},\n",
    "    {'screen_name': 'DZfoot',\n",
    "     'name': 'DZfoot',\n",
    "     'id': 296303972,\n",
    "     'id_str': '296303972',\n",
    "     'indices': [21, 28]}],\n",
    "   'urls': []},\n",
    "  'metadata': {'iso_language_code': 'de', 'result_type': 'recent'},\n",
    "  'source': '<a href=\"http://twitter.com/download/android\" rel=\"nofollow\">Twitter for Android</a>',\n",
    "  'in_reply_to_status_id': 1382781123978223624,\n",
    "  'in_reply_to_status_id_str': '1382781123978223624',\n",
    "  'in_reply_to_user_id': 1157689821969756161,\n",
    "  'in_reply_to_user_id_str': '1157689821969756161',\n",
    "  'in_reply_to_screen_name': 'bennai_m',\n",
    "  'user': {'id': 1370800515295100933,\n",
    "   'id_str': '1370800515295100933',\n",
    "   'name': 'Tassilli Hoggar',\n",
    "   'screen_name': 'TassilliHoggar',\n",
    "   'location': '',\n",
    "   'description': 'sports',\n",
    "   'url': None,\n",
    "   'entities': {'description': {'urls': []}},\n",
    "   'protected': False,\n",
    "   'followers_count': 17,\n",
    "   'friends_count': 113,\n",
    "   'listed_count': 0,\n",
    "   'created_at': 'Sat Mar 13 18:15:23 +0000 2021',\n",
    "   'favourites_count': 427,\n",
    "   'utc_offset': None,\n",
    "   'time_zone': None,\n",
    "   'geo_enabled': True,\n",
    "   'verified': False,\n",
    "   'statuses_count': 959,\n",
    "   'lang': None,\n",
    "   'contributors_enabled': False,\n",
    "   'is_translator': False,\n",
    "   'is_translation_enabled': False,\n",
    "   'profile_background_color': 'F5F8FA',\n",
    "   'profile_background_image_url': None,\n",
    "   'profile_background_image_url_https': None,\n",
    "   'profile_background_tile': False,\n",
    "   'profile_image_url': 'http://pbs.twimg.com/profile_images/1370801015902064643/BCSHPcOg_normal.jpg',\n",
    "   'profile_image_url_https': 'https://pbs.twimg.com/profile_images/1370801015902064643/BCSHPcOg_normal.jpg',\n",
    "   'profile_link_color': '1DA1F2',\n",
    "   'profile_sidebar_border_color': 'C0DEED',\n",
    "   'profile_sidebar_fill_color': 'DDEEF6',\n",
    "   'profile_text_color': '333333',\n",
    "   'profile_use_background_image': True,\n",
    "   'has_extended_profile': True,\n",
    "   'default_profile': True,\n",
    "   'default_profile_image': False,\n",
    "   'following': False,\n",
    "   'follow_request_sent': False,\n",
    "   'notifications': False,\n",
    "   'translator_type': 'none'},\n",
    "  'geo': None,\n",
    "  'coordinates': None,\n",
    "  'place': {'id': '5bcd72da50f0ee77',\n",
    "   'url': 'https://api.twitter.com/1.1/geo/id/5bcd72da50f0ee77.json',\n",
    "   'place_type': 'city',\n",
    "   'name': 'Hamburg',\n",
    "   'full_name': 'Hamburg, Germany',\n",
    "   'country_code': 'DE',\n",
    "   'country': 'Germany',\n",
    "   'contained_within': [],\n",
    "   'bounding_box': {'type': 'Polygon',\n",
    "    'coordinates': [[[8.4201604, 53.395118],\n",
    "      [10.325199, 53.395118],\n",
    "      [10.325199, 53.9646546],\n",
    "      [8.4201604, 53.9646546]]]},\n",
    "   'attributes': {}},\n",
    "  'contributors': None,\n",
    "  'is_quote_status': False,\n",
    "  'retweet_count': 0,\n",
    "  'favorite_count': 0,\n",
    "  'favorited': False,\n",
    "  'retweeted': False,\n",
    "  'lang': 'de'}}\n",
    "  ```"
   ]
  },
  {
   "cell_type": "code",
   "execution_count": null,
   "id": "63637025",
   "metadata": {
    "collapsed": true
   },
   "outputs": [],
   "source": [
    "from shapely.geometry import Point, Polygon"
   ]
  },
  {
   "cell_type": "markdown",
   "id": "3a21fa87",
   "metadata": {},
   "source": [
    "Now we're using a spatial library to process those appropriate data fields. The coordinates are in rectangular form and we would like to collapse them to a single point (e.g. to increase the accuracy). \n",
    "- First you need to convert the raw rectangular coordinates into a shape (use `Polygon()`), obtain the centroid from the resulting object and separate it into `longitude` and `latitude`. \n",
    "- Then combine the two coordinates to a `Point()` coordinates object.\n",
    "- Extract the following key-values from the `matches` data container:\n",
    "    - key\n",
    "    - timestamp of creation\n",
    "    - full Tweet text\n",
    "    - the user's registered name\n",
    "    - the user's nickname/alias as shown on Twitter\n",
    "    - the place's ID\n",
    "    - the place's name\n",
    "    - the place's country code\n",
    "    - the place's country name\n",
    "    - the place's bounding box' coordinates\n",
    "    - the place's centroid's coordinates (as Shapely object)\n",
    "    - the Tweet's number of Retweets\n",
    "    - the Tweet's number of likes/favorites\n",
    "    - the user's location (e.g. checked in @ Universität Potsdam)\n",
    "    - the number of user's followers\n",
    "    - the number of user's friends\n",
    "    - the registration date of the user's account\n",
    "    - a complete URL that leads to the original Tweet (Hint: it's a combination of two other fields from above, use string formatting)\n",
    "\n",
    "The output should have the following format:\n",
    "\n",
    "```\n",
    "{'Tweet ID': 1382787792535703552,\n",
    " 'Created at': Timestamp('2021-04-15 20:07:55+0000', tz='UTC'),\n",
    " 'Full Text': '@bennai_m @JoueursDZ @DZfoot Ya sehr gut geschossen Grosse Verantwortung',\n",
    " 'User Name': 'Tassilli Hoggar',\n",
    " 'User Alias': 'TassilliHoggar',\n",
    " 'Place ID': '5bcd72da50f0ee77',\n",
    " 'Place Name': 'Hamburg',\n",
    " 'Country Code': 'DE',\n",
    " 'Country Name': 'Germany',\n",
    " 'Bounding Box': [[8.4201604, 53.395118],\n",
    "  [10.325199, 53.395118],\n",
    "  [10.325199, 53.9646546],\n",
    "  [8.4201604, 53.9646546]],\n",
    " 'Tweet Coordinates': <shapely.geometry.point.Point at 0x292c8039f10>,\n",
    " 'Retweet Count': 0,\n",
    " 'Favorite Count': 0,\n",
    " 'User Location': '',\n",
    " 'User Followers': 17,\n",
    " 'User Friends': 113,\n",
    " 'Registration Date': 'Sat Mar 13 18:15:23 +0000 2021',\n",
    " 'Tweet URL': 'https://twitter.com/TassilliHoggar/status/1382787792535703552'}\n",
    "```"
   ]
  },
  {
   "cell_type": "code",
   "execution_count": null,
   "id": "ba881865",
   "metadata": {
    "collapsed": true
   },
   "outputs": [],
   "source": [
    "# Your code for parsing\n",
    "\n",
    "\n",
    "\n",
    "\n",
    "\n",
    "\n",
    "\n",
    "\n",
    "\n",
    "\n",
    "\n",
    "\n",
    "\n",
    "\n",
    "\n",
    "\n",
    "\n"
   ]
  },
  {
   "cell_type": "code",
   "execution_count": null,
   "id": "e5b8173e",
   "metadata": {
    "collapsed": true
   },
   "outputs": [],
   "source": [
    "results_df = pd.DataFrame(results_list)\n",
    "gdf = gpd.GeoDataFrame(results_df, geometry=results_df['Tweet Coordinates'])\n",
    "gdf.crs = \"epsg=4326\""
   ]
  },
  {
   "cell_type": "code",
   "execution_count": null,
   "id": "f841014f",
   "metadata": {
    "collapsed": true
   },
   "outputs": [],
   "source": [
    "mapbox_access_token = open(\"mapbox_token.txt\").read()"
   ]
  },
  {
   "cell_type": "code",
   "execution_count": null,
   "id": "e79a0c43",
   "metadata": {
    "collapsed": true
   },
   "outputs": [],
   "source": [
    "# Code for creating the Plotly graph"
   ]
  },
  {
   "cell_type": "code",
   "execution_count": null,
   "id": "a6d60e5d",
   "metadata": {
    "collapsed": true
   },
   "outputs": [],
   "source": []
  },
  {
   "cell_type": "code",
   "execution_count": null,
   "id": "c3a3a365",
   "metadata": {
    "collapsed": true
   },
   "outputs": [],
   "source": []
  },
  {
   "cell_type": "code",
   "execution_count": null,
   "id": "c62e3692",
   "metadata": {
    "collapsed": true
   },
   "outputs": [],
   "source": []
  },
  {
   "cell_type": "code",
   "execution_count": null,
   "id": "b3d68e77",
   "metadata": {
    "collapsed": true
   },
   "outputs": [],
   "source": []
  },
  {
   "cell_type": "code",
   "execution_count": null,
   "id": "b68c103c",
   "metadata": {
    "collapsed": true
   },
   "outputs": [],
   "source": []
  },
  {
   "cell_type": "code",
   "execution_count": null,
   "id": "3e69ff6c",
   "metadata": {
    "collapsed": true
   },
   "outputs": [],
   "source": []
  },
  {
   "cell_type": "code",
   "execution_count": null,
   "id": "4d2b7235",
   "metadata": {
    "collapsed": true
   },
   "outputs": [],
   "source": []
  },
  {
   "cell_type": "code",
   "execution_count": null,
   "id": "f7ea4fa8",
   "metadata": {
    "collapsed": true
   },
   "outputs": [],
   "source": [
    "! pip install scikit-learn"
   ]
  },
  {
   "cell_type": "code",
   "execution_count": null,
   "id": "dec451b3",
   "metadata": {
    "collapsed": true
   },
   "outputs": [],
   "source": [
    "from sklearn.cluster import KMeans, MiniBatchKMeans\n",
    "from sklearn.metrics import silhouette_samples, silhouette_score\n",
    "import matplotlib.cm as cm"
   ]
  },
  {
   "cell_type": "code",
   "execution_count": null,
   "id": "c45019d7",
   "metadata": {
    "collapsed": true
   },
   "outputs": [],
   "source": []
  },
  {
   "cell_type": "code",
   "execution_count": null,
   "id": "f549e7fc",
   "metadata": {
    "collapsed": true
   },
   "outputs": [],
   "source": []
  },
  {
   "cell_type": "code",
   "execution_count": null,
   "id": "b3eff48e",
   "metadata": {
    "collapsed": true
   },
   "outputs": [],
   "source": []
  },
  {
   "cell_type": "code",
   "execution_count": null,
   "id": "6a2f1c4d",
   "metadata": {
    "collapsed": true
   },
   "outputs": [],
   "source": []
  },
  {
   "cell_type": "code",
   "execution_count": null,
   "id": "6e8be2a2",
   "metadata": {
    "collapsed": true
   },
   "outputs": [],
   "source": []
  },
  {
   "cell_type": "code",
   "execution_count": null,
   "id": "f3ed6128",
   "metadata": {
    "collapsed": true
   },
   "outputs": [],
   "source": []
  },
  {
   "cell_type": "code",
   "execution_count": null,
   "id": "370a8766",
   "metadata": {
    "collapsed": true
   },
   "outputs": [],
   "source": []
  },
  {
   "cell_type": "code",
   "execution_count": null,
   "id": "03189e6b",
   "metadata": {
    "collapsed": true
   },
   "outputs": [],
   "source": []
  },
  {
   "cell_type": "code",
   "execution_count": null,
   "id": "39baf29b",
   "metadata": {
    "collapsed": true
   },
   "outputs": [],
   "source": [
    "!pip install seaborn"
   ]
  },
  {
   "cell_type": "code",
   "execution_count": null,
   "id": "41145dc2",
   "metadata": {
    "collapsed": true
   },
   "outputs": [],
   "source": [
    "import seaborn as sns\n",
    "palette = sns.color_palette(None, 11).as_hex()"
   ]
  },
  {
   "cell_type": "code",
   "execution_count": null,
   "id": "19b90edf",
   "metadata": {
    "collapsed": true
   },
   "outputs": [],
   "source": []
  },
  {
   "cell_type": "code",
   "execution_count": null,
   "id": "d189a8b1",
   "metadata": {
    "collapsed": true
   },
   "outputs": [],
   "source": [
    "# germany_borders = gpd.read_file(\"Bundeslaender_2016_ew.shp\")\n",
    "# You can find it here: https://opendata-esri-de.opendata.arcgis.com/datasets/b8d0cc7735774bed8e6df1c5410394a4_0?geometry=-31.360%2C46.270%2C52.268%2C55.886"
   ]
  },
  {
   "cell_type": "code",
   "execution_count": null,
   "id": "4e536a41",
   "metadata": {
    "collapsed": true
   },
   "outputs": [],
   "source": [
    "germany_borders = gpd.read_file(\"https://opendata.arcgis.com/datasets/b8d0cc7735774bed8e6df1c5410394a4_0.geojson\")"
   ]
  },
  {
   "cell_type": "code",
   "execution_count": null,
   "id": "8f5f28cf",
   "metadata": {
    "collapsed": true
   },
   "outputs": [],
   "source": [
    "\n"
   ]
  },
  {
   "cell_type": "code",
   "execution_count": null,
   "id": "3fb9725c",
   "metadata": {
    "collapsed": true
   },
   "outputs": [],
   "source": [
    "# https://stackoverflow.com/questions/64200595/geopandas-overlay-intersection-returns-zero-rows THANK YOU!\n",
    "\n",
    "# Multiple solutions: https://gis.stackexchange.com/questions/208546/check-if-a-point-falls-within-a-multipolygon-with-python\n",
    "\n"
   ]
  },
  {
   "cell_type": "code",
   "execution_count": null,
   "id": "bbc0d446",
   "metadata": {
    "collapsed": true
   },
   "outputs": [],
   "source": []
  },
  {
   "cell_type": "code",
   "execution_count": null,
   "id": "3f5099f7",
   "metadata": {
    "collapsed": true
   },
   "outputs": [],
   "source": []
  },
  {
   "cell_type": "code",
   "execution_count": null,
   "id": "6e4e73ab",
   "metadata": {
    "collapsed": true
   },
   "outputs": [],
   "source": []
  },
  {
   "cell_type": "code",
   "execution_count": null,
   "id": "dd908ddf",
   "metadata": {
    "collapsed": true
   },
   "outputs": [],
   "source": []
  },
  {
   "cell_type": "code",
   "execution_count": null,
   "id": "d5cb4164",
   "metadata": {
    "collapsed": true
   },
   "outputs": [],
   "source": []
  },
  {
   "cell_type": "code",
   "execution_count": null,
   "id": "e40244f0",
   "metadata": {
    "collapsed": true
   },
   "outputs": [],
   "source": []
  },
  {
   "cell_type": "code",
   "execution_count": null,
   "id": "ba43ef73",
   "metadata": {
    "collapsed": true
   },
   "outputs": [],
   "source": []
  },
  {
   "cell_type": "code",
   "execution_count": null,
   "id": "d62d2e64",
   "metadata": {
    "collapsed": true
   },
   "outputs": [],
   "source": []
  },
  {
   "cell_type": "markdown",
   "id": "23179500",
   "metadata": {},
   "source": [
    "How can the clusters and memberships you assigned before be meaningfully interpreted? How many Tweets (as percentage of all per state) were classified into the cluster with `cluster id = 8`? From which state does those cluster members most likely originate from? Confirm your assertion by looking at the map you created above."
   ]
  },
  {
   "cell_type": "code",
   "execution_count": null,
   "id": "743de593",
   "metadata": {
    "collapsed": true
   },
   "outputs": [],
   "source": []
  },
  {
   "cell_type": "code",
   "execution_count": null,
   "id": "ec7412fe",
   "metadata": {
    "collapsed": true
   },
   "outputs": [],
   "source": []
  },
  {
   "cell_type": "code",
   "execution_count": null,
   "id": "83ff2f52",
   "metadata": {
    "collapsed": true
   },
   "outputs": [],
   "source": []
  }
 ],
 "metadata": {
  "kernelspec": {
   "display_name": "Webscraping Workshop",
   "language": "python",
   "name": "webscraping-kernel"
  },
  "language_info": {
   "codemirror_mode": {
    "name": "ipython",
    "version": 3
   },
   "file_extension": ".py",
   "mimetype": "text/x-python",
   "name": "python",
   "nbconvert_exporter": "python",
   "pygments_lexer": "ipython3",
   "version": "3.9.2"
  }
 },
 "nbformat": 4,
 "nbformat_minor": 5
}
