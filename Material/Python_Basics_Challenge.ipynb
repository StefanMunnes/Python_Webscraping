{
 "cells": [
  {
   "cell_type": "markdown",
   "metadata": {
    "slideshow": {
     "slide_type": "slide"
    }
   },
   "source": [
    "## Python Basics - Challenge"
   ]
  },
  {
   "cell_type": "markdown",
   "metadata": {
    "slideshow": {
     "slide_type": "fragment"
    }
   },
   "source": [
    "\n",
    "\n",
    "- The file `guardian_articles_corona.json` contains utf-8 encoded articles for the search term *coronavirus* in the year 2020 from the [The Guardian API](http://open-platform.theguardian.com/)  (retrieved 13/05/2020)\n",
    "- The objective is to simplify the data structure such that analyses can be run afterwards\n",
    "- Make use of the exercises and notebooks we have discussed previously\n",
    "- The challenge is much more comprehensive than the other tasks. It's OK if the solution takes more time. You might also want to tackle the challenge in your groups."
   ]
  },
  {
   "cell_type": "markdown",
   "metadata": {
    "slideshow": {
     "slide_type": "skip"
    }
   },
   "source": [
    "### 1.\n",
    "\n",
    "Download the `JSON` file, read it into Python and familiarise yourself with the data structure. How many artciles does the file contain? \n",
    "\n",
    "### 2. \n",
    "\n",
    "Write a function to process the list with articles. Simplify the data structure according to the following Input / Output example:\n",
    "\n",
    "**Input:**\n",
    "\n",
    "```\n",
    "{\n",
    "    'id': 'world/2020/may/08/coronavirus-the-week-explained',\n",
    "    'type\": 'article',\n",
    "    'sectionId': \"world',\n",
    "    'sectionName': 'World news',\n",
    "    'webPublicationDate': '2020-05-08T10:54:45Z',\n",
    "    'webTitle': 'Coronavirus: the week explained',\n",
    "    'webUrl': 'https://www.theguardian.com/world/2020/may/08/coronavirus-the-week-explained',\n",
    "    'apiUrl': 'https://content.guardianapis.com/world/2020/may/08/coronavirus-the-week-explained',\n",
    "    'fields': {\n",
    "      'bodyText': 'Welcome to our weekly roundup of developments in the coronavirus pandemic, which continues ...',\n",
    "      'charCount': '6139'},     \n",
    "   'tags': \n",
    "   [{'id': 'world/coronavirus-outbreak',\n",
    "   'type': 'keyword',\n",
    "   'sectionId': 'world',\n",
    "   'sectionName': 'World news',\n",
    "   'webTitle': 'Coronavirus outbreak',\n",
    "   'webUrl': 'https://www.theguardian.com/world/coronavirus-outbreak',\n",
    "   'apiUrl': 'https://content.guardianapis.com/world/coronavirus-outbreak',\n",
    "   'references': []},\n",
    "  {'id': 'science/science',\n",
    "   'type': 'keyword',\n",
    "   'sectionId': 'science',\n",
    "   'sectionName': 'Science',\n",
    "   'webTitle': 'Science',\n",
    "   'webUrl': 'https://www.theguardian.com/science/science',\n",
    "   'apiUrl': 'https://content.guardianapis.com/science/science',\n",
    "   'references': []}]\n",
    "   ...\n",
    "\n",
    "```\n",
    "\n",
    "**Output:**\n",
    "\n",
    "```\n",
    "{'chars': 6139,\n",
    " 'id': 'world/2020/may/08/coronavirus-the-week-explained',\n",
    " 'section': 'World news',\n",
    " 'tags': 'world/coronavirus-outbreak, science/science',\n",
    " 'text': 'Welcome to our weekly roundup of developments in the coronavirus pandemic, which continues ...',\n",
    " 'title': 'Coronavirus: the week explained',\n",
    " 'url': 'https://www.theguardian.com/world/2020/may/08/coronavirus-the-week-explained',\n",
    " 'month': 5}\n",
    "```\n",
    "\n",
    "### 3.\n",
    "The variable `chars` in your processed articles contains the particular number of characters in the text. Check by a sample article whether this result is correct.\n",
    "      \n",
    "### 4.\n",
    "Find out in which month most articles were published.\n",
    "\n",
    "### 5.\n",
    "Find the three most frequently used tags from all articles.\n",
    "\n",
    "### 6.\n",
    "Return the titles of the five longest articles (= number of characters).\n",
    "\n",
    "### 7.\n",
    "Store the processed articles in a `JSON` file. Be careful to specify the text encoding as `utf-8`."
   ]
  },
  {
   "cell_type": "code",
   "execution_count": 1,
   "metadata": {
    "scrolled": false,
    "slideshow": {
     "slide_type": "subslide"
    }
   },
   "outputs": [
    {
     "name": "stdout",
     "output_type": "stream",
     "text": [
      "Anzahl an Artikeln: 10801\n",
      "{ 'apiUrl': 'https://content.guardianapis.com/world/2020/may/08/coronavirus-the-week-explained',\n",
      "  'fields': { 'bodyText': 'Welcome to our weekly roundup of developments in '\n",
      "                          'the coronavirus pandemic, which continues to pose '\n",
      "                          'new political, scientific and personal challenges '\n",
      "                          'around the world. As the UK is among several '\n",
      "                          'countries moving towards the lifting of some '\n",
      "                          'restrictions, it remains under pressure to deliver '\n",
      "                          'enough tests – and the role of scientific advisers '\n",
      "                          'has come under renewed scrutiny. Public trust in '\n",
      "                          'science grows during the pandemic, as top scientist '\n",
      "                          'quits Sage It’s been a rocky week for science '\n",
      "                          'advisers. The prominent disease modelling expert '\n",
      "                          'Prof Neil Ferguson stepped down from the UK '\n",
      "                          'government’s advisory committee, Sage, after '\n",
      "                          'admitting that he had breached lockdown '\n",
      "                          'restrictions, and former chief scientific adviser, '\n",
      "                          'David King, issued a warning that potential '\n",
      "                          'political interference and a lack of transparency '\n",
      "                          'around the advice being given on coronavirus could '\n",
      "                          'undermine trust in science. However, an opinion '\n",
      "                          'poll this week by the Open Knowledge Foundation, an '\n",
      "                          'open data campaign group, found 64% of voters were '\n",
      "                          'now more likely to listen to expert advice from '\n",
      "                          'scientists and researchers, with only 5% saying '\n",
      "                          'they were less likely to do so. The poll was '\n",
      "                          'prompted by concerns that misinformation, such as '\n",
      "                          'discredited claims linking coronavirus to 5G mobile '\n",
      "                          'phone masts, that had been widely viewed and '\n",
      "                          'circulated among the public could be undermining '\n",
      "                          'trust in science. Instead, the poll found the '\n",
      "                          'reverse – public confidence in science has '\n",
      "                          'increased and people say they are more likely to '\n",
      "                          'value the views of experts than previously. Science '\n",
      "                          'Weekly podcast As hay fever season approaches, '\n",
      "                          'Nicola Davis asks Prof Stephen Durham about the '\n",
      "                          'differences between the immune response to an '\n",
      "                          'allergen, such as pollen, and a pathogen, like '\n",
      "                          'Sars-CoV-2. Should those with allergies be '\n",
      "                          'concerned about Covid-19? Virus mutations help '\n",
      "                          'uncover how the pandemic unfolded A genetic study '\n",
      "                          'of samples from more than 7,500 infected people has '\n",
      "                          'identified hundreds of mutations to the Covid-19 '\n",
      "                          'causing virus, which scientists say show how it is '\n",
      "                          'adapting to its human hosts as it spreads. The work '\n",
      "                          'suggests that the virus spread rapidly after it '\n",
      "                          'emerged in China, sometime between October and '\n",
      "                          'December last year, and that it was being '\n",
      "                          'transmitted extensively around the world early on '\n",
      "                          'in the epidemic – possibly entering Europe weeks or '\n",
      "                          'even months before the first cases were detected. '\n",
      "                          'In many countries, including the UK, the variety of '\n",
      "                          'virus mutations sampled was almost as great as the '\n",
      "                          'variety seen across the whole world. This suggests '\n",
      "                          'the virus entered the UK lots of times '\n",
      "                          'independently, rather than via any one “patient '\n",
      "                          'zero” case that seeded the national epidemic. The '\n",
      "                          'fact the virus has mutated is not in itself '\n",
      "                          'sinister, according to Prof Francois Balloux, who '\n",
      "                          'co-led the work. “All viruses naturally mutate,” he '\n",
      "                          'said. “Mutations in themselves are not a bad thing '\n",
      "                          'and there is nothing to suggest Sars-CoV-2 is '\n",
      "                          'mutating faster or slower than expected. So far we '\n",
      "                          'cannot say whether [it] is becoming more or less '\n",
      "                          'lethal and contagious.” Identifying which sections '\n",
      "                          'of the virus genome are mutating most rapidly is '\n",
      "                          'important for vaccine development – if a vaccine '\n",
      "                          'candidate targets a region of the virus that later '\n",
      "                          'changes, it is less likely to be effective. Unequal '\n",
      "                          'risk of deaths for people from different ethnic '\n",
      "                          'backgrounds Data from the UK’s Office for National '\n",
      "                          'Statistics found that black people are more than '\n",
      "                          'four times more likely to die from Covid-19 than '\n",
      "                          'white people, in figures that starkly show the '\n",
      "                          'divergence in the impact of the coronavirus '\n",
      "                          'pandemic in England and Wales. Bangladeshi and '\n",
      "                          'Pakistani males were 1.8 times more likely to die '\n",
      "                          'from Covid-19 than white males, after other '\n",
      "                          'pre-existing factors had been accounted for, and '\n",
      "                          'females from those ethnic backgrounds were 1.6 '\n",
      "                          'times more likely to die from the virus than their '\n",
      "                          'white counterparts. Researchers and policy-makers '\n",
      "                          'are still trying to understand the drivers for '\n",
      "                          'these differences. However, one potential '\n",
      "                          'explanation appears to be have been excluded by a '\n",
      "                          'major study analysing the NHS health records from '\n",
      "                          '17.4 million UK adults, which showed that most of '\n",
      "                          'the difference could not be explained by '\n",
      "                          'differences in rates of underlying health '\n",
      "                          'conditions. “People have very reasonably speculated '\n",
      "                          'that the increased risk among BME people might be '\n",
      "                          'due to people having higher risk of cardiovascular '\n",
      "                          'disease or diabetes,” said Ben Goldacre, director '\n",
      "                          'of the DataLab in the Nuffield Department of '\n",
      "                          'Primary Care Health Sciences at the University of '\n",
      "                          'Oxford, and co-lead on the study. “Our analysis '\n",
      "                          'shows that is actually not the case. That is not '\n",
      "                          'the explanation. We’ve been able to exclude one of '\n",
      "                          'the current preferred explanations for why BME '\n",
      "                          'people face higher risk.” Habitat destruction '\n",
      "                          'linked to emergence of disease Scientists have '\n",
      "                          'called for a greater recognition that human '\n",
      "                          'activities, including deforestation, raise the risk '\n",
      "                          'of the emergence and spread of new zoonoses '\n",
      "                          '(diseases that make the jump from animals to '\n",
      "                          'humans). A number of reports have shown that '\n",
      "                          'animals are more susceptible to viruses and '\n",
      "                          'bacterial infections in regions where their habitat '\n",
      "                          'or the balance of local ecology is under threat. '\n",
      "                          'The focus of preventing the emergence of such '\n",
      "                          'diseases in future should be on human activities, '\n",
      "                          'according to one paper published in Frontiers in '\n",
      "                          'Medicine, because this element of risk can be '\n",
      "                          'organised and controlled. The study identifies bats '\n",
      "                          'in east Asia as a potential reservoir for further '\n",
      "                          'new coronavirus infections – scientists have '\n",
      "                          'detected about 3,200 different circulating strains '\n",
      "                          'in the bats. South America is also highlighted as a '\n",
      "                          'region of concern, due to the rapid deforestation '\n",
      "                          'of the Amazon, as well as Myanmar, where there has '\n",
      "                          'also been rapid forest clearance. “I’m hopeful that '\n",
      "                          'one of the most positive things to come out of '\n",
      "                          'horrible tragedy will be the realisation that there '\n",
      "                          'is a link between how we treat the forest and our '\n",
      "                          'wellbeing,” said Tierra Smiley Evans, an '\n",
      "                          'epidemiologist at the University of California who '\n",
      "                          'studies virus distributions in forest species in '\n",
      "                          'Myanmar. “It really impacts our health. It is not '\n",
      "                          'just a wildlife issue or an environmental issue.”',\n",
      "              'byline': 'Hannah Devlin, Science correspondent',\n",
      "              'bylineHtml': '<a href=\"profile/hannah-devlin\">Hannah '\n",
      "                            'Devlin</a>, Science correspondent',\n",
      "              'charCount': '6139',\n",
      "              'firstPublicationDate': '2020-05-08T10:54:45Z',\n",
      "              'headline': 'Coronavirus: the week explained',\n",
      "              'isInappropriateForSponsorship': 'false',\n",
      "              'isLive': 'true',\n",
      "              'isPremoderated': 'false',\n",
      "              'lang': 'en',\n",
      "              'lastModified': '2020-05-08T11:25:49Z',\n",
      "              'legallySensitive': 'false',\n",
      "              'main': '<figure class=\"element element-image\" '\n",
      "                      'data-media-id=\"7137d053487091f26bd3e102b412b95d9e533220\"> \\n'\n",
      "                      ' <img '\n",
      "                      'src=\"https://media.guim.co.uk/7137d053487091f26bd3e102b412b95d9e533220/130_454_5296_3178/1000.jpg\" '\n",
      "                      'alt=\"A better view: An opinion poll this week found 64% '\n",
      "                      'of voters were now more likely to listen to expert '\n",
      "                      'advice from scientists and researchers.\" width=\"1000\" '\n",
      "                      'height=\"600\" class=\"gu-image\"> \\n'\n",
      "                      ' <figcaption> \\n'\n",
      "                      '  <span class=\"element-image__caption\">A better view: '\n",
      "                      'An opinion poll this week found 64% of voters were now '\n",
      "                      'more likely to listen to expert advice from scientists '\n",
      "                      'and researchers.</span> \\n'\n",
      "                      '  <span class=\"element-image__credit\">Photograph: '\n",
      "                      'Julien de Rosa/EPA</span> \\n'\n",
      "                      ' </figcaption> \\n'\n",
      "                      '</figure>',\n",
      "              'productionOffice': 'UK',\n",
      "              'publication': 'theguardian.com',\n",
      "              'shortUrl': 'https://gu.com/p/dz6nz',\n",
      "              'shouldHideAdverts': 'false',\n",
      "              'shouldHideReaderRevenue': 'false',\n",
      "              'showAffiliateLinks': 'false',\n",
      "              'showInRelatedContent': 'true',\n",
      "              'standfirst': '<p>Trust in scientists rising ... virus mutation '\n",
      "                            'reveals more about how pandemic began ... '\n",
      "                            'wildlife habit destruction linked to infection '\n",
      "                            'risk</p>',\n",
      "              'thumbnail': 'https://media.guim.co.uk/7137d053487091f26bd3e102b412b95d9e533220/130_454_5296_3178/500.jpg',\n",
      "              'trailText': 'Trust in scientists rising ... virus mutation '\n",
      "                           'reveals more about how pandemic began ... wildlife '\n",
      "                           'habit destruction linked to infection risk',\n",
      "              'wordcount': '986'},\n",
      "  'id': 'world/2020/may/08/coronavirus-the-week-explained',\n",
      "  'isHosted': False,\n",
      "  'pillarId': 'pillar/news',\n",
      "  'pillarName': 'News',\n",
      "  'sectionId': 'world',\n",
      "  'sectionName': 'World news',\n",
      "  'tags': [ { 'apiUrl': 'https://content.guardianapis.com/world/coronavirus-outbreak',\n",
      "              'id': 'world/coronavirus-outbreak',\n",
      "              'references': [],\n",
      "              'sectionId': 'world',\n",
      "              'sectionName': 'World news',\n",
      "              'type': 'keyword',\n",
      "              'webTitle': 'Coronavirus outbreak',\n",
      "              'webUrl': 'https://www.theguardian.com/world/coronavirus-outbreak'},\n",
      "            { 'apiUrl': 'https://content.guardianapis.com/science/science',\n",
      "              'id': 'science/science',\n",
      "              'references': [],\n",
      "              'sectionId': 'science',\n",
      "              'sectionName': 'Science',\n",
      "              'type': 'keyword',\n",
      "              'webTitle': 'Science',\n",
      "              'webUrl': 'https://www.theguardian.com/science/science'},\n",
      "            { 'apiUrl': 'https://content.guardianapis.com/world/world',\n",
      "              'id': 'world/world',\n",
      "              'references': [],\n",
      "              'sectionId': 'world',\n",
      "              'sectionName': 'World news',\n",
      "              'type': 'keyword',\n",
      "              'webTitle': 'World news',\n",
      "              'webUrl': 'https://www.theguardian.com/world/world'}],\n",
      "  'type': 'article',\n",
      "  'webPublicationDate': '2020-05-08T10:54:45Z',\n",
      "  'webTitle': 'Coronavirus: the week explained',\n",
      "  'webUrl': 'https://www.theguardian.com/world/2020/may/08/coronavirus-the-week-explained'}\n"
     ]
    }
   ],
   "source": [
    "# Code for Python challenge\n",
    "\n",
    "### Aufgabe 1\n",
    "import json\n",
    "from pprint import pprint\n",
    "\n",
    "with open(\"guardian_articles_corona.json\", 'r', encoding = 'utf-8') as json_file:\n",
    "    articles = json.load(json_file)\n",
    "\n",
    "print(\"Anzahl an Artikeln: \" + str(len(articles)))\n",
    "\n",
    "pprint(articles[0], indent = 2)"
   ]
  },
  {
   "cell_type": "code",
   "execution_count": 2,
   "metadata": {},
   "outputs": [],
   "source": [
    "### Aufgabe 2\n",
    "def short_guardian(article):\n",
    "    D = {'chars': int(article['fields']['charCount']),\n",
    "         'id': article['id'],\n",
    "         'section':  article['sectionName'],\n",
    "         'tags': ', '.join(tag['id'] for tag in article['tags']),\n",
    "         'title': article['fields']['headline'],\n",
    "         'text': article['fields']['bodyText'],\n",
    "         'url': article['webUrl'],\n",
    "         'month': article['webPublicationDate'][5:7]}\n",
    "    return D\n",
    "\n",
    "articles_short = []\n",
    "\n",
    "for article in articles:\n",
    "    D = short_guardian(article)\n",
    "    articles_short.append(D)"
   ]
  },
  {
   "cell_type": "code",
   "execution_count": 3,
   "metadata": {},
   "outputs": [
    {
     "data": {
      "text/plain": [
       "True"
      ]
     },
     "execution_count": 3,
     "metadata": {},
     "output_type": "execute_result"
    }
   ],
   "source": [
    "### Aufgabe 3\n",
    "articles_short[10]['chars'] == len(articles_short[10]['text'])"
   ]
  },
  {
   "cell_type": "code",
   "execution_count": 4,
   "metadata": {},
   "outputs": [
    {
     "name": "stdout",
     "output_type": "stream",
     "text": [
      "Counter({'04': 4307, '03': 4076, '05': 1479, '02': 744, '01': 195})\n"
     ]
    }
   ],
   "source": [
    "### Aufgabe 4\n",
    "from collections import Counter\n",
    "\n",
    "months = []\n",
    "\n",
    "for article in articles_short:\n",
    "    months.append(article['month'])\n",
    "\n",
    "max_month = Counter(months)\n",
    "print(max_month)"
   ]
  },
  {
   "cell_type": "code",
   "execution_count": 5,
   "metadata": {},
   "outputs": [
    {
     "data": {
      "text/plain": [
       "[('world/coronavirus-outbreak', 8238), ('uk/uk', 3742), ('world/world', 3289)]"
      ]
     },
     "execution_count": 5,
     "metadata": {},
     "output_type": "execute_result"
    }
   ],
   "source": [
    "### Aufgabe 5\n",
    "from collections import Counter\n",
    "\n",
    "tags = []\n",
    "for article in articles_short:\n",
    "    tags.append(article['tags'])\n",
    "    \n",
    "tags_list = ', '.join(tags).split(', ')\n",
    "\n",
    "tags_c = Counter(tags_list)\n",
    "tags_c.most_common(3)\n"
   ]
  },
  {
   "cell_type": "code",
   "execution_count": 6,
   "metadata": {},
   "outputs": [
    {
     "name": "stdout",
     "output_type": "stream",
     "text": [
      "Canada closes borders to foreigners – as it happened\n",
      "Covid-19 outbreak like a nuclear explosion, says archbishop of Canterbury – as it happened\n",
      "Covid-19 outbreak like a nuclear explosion, says archbishop of Canterbury – as it happened\n"
     ]
    }
   ],
   "source": [
    "### Aufgabe 6\n",
    "articles_sorted = sorted(articles_short, key = lambda k: k['chars'], reverse = True)\n",
    "\n",
    "for article in articles_sorted[0:3]:\n",
    "    print(article['title'])"
   ]
  },
  {
   "cell_type": "code",
   "execution_count": 7,
   "metadata": {},
   "outputs": [],
   "source": [
    "### Aufgabe 7\n",
    "with open('guardian_articles_short.json', 'w', encoding = 'utf-8') as outfile:\n",
    "    json.dump(articles_short, outfile)"
   ]
  },
  {
   "cell_type": "markdown",
   "metadata": {},
   "source": [
    "<br>\n",
    "<br>\n",
    "\n",
    "\n",
    "___\n",
    "\n",
    "                \n",
    "**Contact: Gerome Wolf** (Email: wolfgerome@gmail.com)"
   ]
  }
 ],
 "metadata": {
  "kernelspec": {
   "display_name": "Python 3",
   "language": "python",
   "name": "python3"
  },
  "language_info": {
   "codemirror_mode": {
    "name": "ipython",
    "version": 3
   },
   "file_extension": ".py",
   "mimetype": "text/x-python",
   "name": "python",
   "nbconvert_exporter": "python",
   "pygments_lexer": "ipython3",
   "version": "3.9.2"
  }
 },
 "nbformat": 4,
 "nbformat_minor": 2
}
