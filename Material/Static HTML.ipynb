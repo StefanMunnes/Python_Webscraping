{
 "cells": [
  {
   "cell_type": "markdown",
   "id": "00505bd6",
   "metadata": {},
   "source": [
    "# Obtaining, parsing and structuring static HTML websites\n",
    "\n",
    "In this notebook we will learn how to scrape basic static, i.e. non-interactive HTML-based websites. We will\n",
    "- obtain the HTML raw content using the `requests` module\n",
    "- convert the raw HTML into a format that is easier to search, or parse, using the `BeautifulSoup` module\n",
    "- learn how to identify the elements of interest in the raw HTML using the browser's inspect functionality and the CSS SelectorGadget\n",
    "- construct a table, or dataframe, with the popular table calculation module `pandas` and store the output locally in a standard spreadsheet format"
   ]
  },
  {
   "cell_type": "markdown",
   "id": "0bb6a337",
   "metadata": {},
   "source": [
    "1. Open the Anaconda Prompt and install the module `requests`"
   ]
  },
  {
   "cell_type": "code",
   "execution_count": 2,
   "id": "6f0033dd",
   "metadata": {
    "collapsed": true
   },
   "outputs": [],
   "source": [
    "import requests"
   ]
  },
  {
   "cell_type": "code",
   "execution_count": 3,
   "id": "245f6de4",
   "metadata": {
    "collapsed": true
   },
   "outputs": [],
   "source": [
    "seed = 'https://www.uni-potsdam.de/de/'"
   ]
  },
  {
   "cell_type": "markdown",
   "id": "37c7ca65",
   "metadata": {},
   "source": [
    "2. What data type is the object `seed`? How can you check?"
   ]
  },
  {
   "cell_type": "code",
   "execution_count": 4,
   "id": "0d94dfd7",
   "metadata": {
    "collapsed": true
   },
   "outputs": [
    {
     "data": {
      "text/plain": [
       "str"
      ]
     },
     "execution_count": 4,
     "metadata": {},
     "output_type": "execute_result"
    }
   ],
   "source": [
    "type(seed)"
   ]
  },
  {
   "cell_type": "markdown",
   "id": "6577ae4e",
   "metadata": {},
   "source": [
    "3. Is this domain an admissible path? Hint: Check the `robots.txt`"
   ]
  },
  {
   "cell_type": "code",
   "execution_count": 5,
   "id": "39c15aad",
   "metadata": {
    "collapsed": true
   },
   "outputs": [
    {
     "ename": "TypeError",
     "evalue": "check_compatibility() missing 1 required positional argument: 'chardet_version'",
     "output_type": "error",
     "traceback": [
      "\u001b[1;31m---------------------------------------------------------------------------\u001b[0m",
      "\u001b[1;31mTypeError\u001b[0m                                 Traceback (most recent call last)",
      "\u001b[1;32m<ipython-input-5-d3a124216b60>\u001b[0m in \u001b[0;36m<module>\u001b[1;34m\u001b[0m\n\u001b[1;32m----> 1\u001b[1;33m \u001b[0mrequests\u001b[0m\u001b[1;33m.\u001b[0m\u001b[0mcheck_compatibility\u001b[0m\u001b[1;33m(\u001b[0m\u001b[0mseed\u001b[0m\u001b[1;33m)\u001b[0m\u001b[1;33m\u001b[0m\u001b[1;33m\u001b[0m\u001b[0m\n\u001b[0m",
      "\u001b[1;31mTypeError\u001b[0m: check_compatibility() missing 1 required positional argument: 'chardet_version'"
     ]
    }
   ],
   "source": []
  },
  {
   "cell_type": "markdown",
   "id": "87ba7a26",
   "metadata": {},
   "source": [
    "4. Was the request successful? How can you check the status? Hint: Check the available methods by using Jupyter's auto-complete functionality, i.e. type a dot at the end of the object you're investigating followed by <kbd>Tab</kbd>"
   ]
  },
  {
   "cell_type": "code",
   "execution_count": 5,
   "id": "5e29a831",
   "metadata": {
    "collapsed": true
   },
   "outputs": [],
   "source": [
    "html = requests.get(seed)"
   ]
  },
  {
   "cell_type": "markdown",
   "id": "1a2239b1",
   "metadata": {},
   "source": [
    "5. Which method could be most informative w.r.t. actual content? How many characters long is the raw HTML file?"
   ]
  },
  {
   "cell_type": "code",
   "execution_count": 6,
   "id": "ae92d257",
   "metadata": {
    "collapsed": true
   },
   "outputs": [
    {
     "data": {
      "text/plain": [
       "64905"
      ]
     },
     "execution_count": 6,
     "metadata": {},
     "output_type": "execute_result"
    }
   ],
   "source": [
    "len(html.text)"
   ]
  },
  {
   "cell_type": "markdown",
   "id": "d1bc53b3",
   "metadata": {},
   "source": [
    "6. Display the first 518 characters of the `html` object."
   ]
  },
  {
   "cell_type": "code",
   "execution_count": 7,
   "id": "6a05bce4",
   "metadata": {
    "collapsed": true
   },
   "outputs": [
    {
     "data": {
      "text/plain": [
       "'<!DOCTYPE html><html dir=\"ltr\" lang=\"de-DE\"><head><meta charset=\"utf-8\"><!-- benaja - web solutions (www.benaja-websolutions.com) Markus Meier, Roland Brandt und Tobias Gaertner GbR This website is powered by TYPO3 - inspiring people to share! TYPO3 is a free open source Content Management Framework initially created by Kasper Skaarhoj and licensed under GNU/GPL. TYPO3 is copyright 1998-2021 of Kasper Skaarhoj. Extensions are copyright of their respective owners. Information and contribution at https://typo3.org/'"
      ]
     },
     "execution_count": 7,
     "metadata": {},
     "output_type": "execute_result"
    }
   ],
   "source": [
    "html.text[:518]"
   ]
  },
  {
   "cell_type": "markdown",
   "id": "e32fe467",
   "metadata": {},
   "source": [
    "7. Display meta information on the origin of the HTTP request, e.g. date. Note that it is possible to specify the `user-agent` that the server receives and provides the response (website representation) such that it optimised, e.g. Desktop vs. mobile. If it's not specified, the request will be sent using default values (potentially) containing information about your operating system, screen resolution, keyboard language, IP address and many more."
   ]
  },
  {
   "cell_type": "code",
   "execution_count": 14,
   "id": "23744022",
   "metadata": {
    "collapsed": true
   },
   "outputs": [
    {
     "data": {
      "text/plain": [
       "{'Date': 'Thu, 15 Apr 2021 12:25:44 GMT', 'Server': 'Apache/2.4.29 (Ubuntu)', 'Vary': 'Accept-Encoding', 'Last-Modified': 'Thu, 15 Apr 2021 12:25:33 GMT', 'Accept-Ranges': 'bytes', 'Content-Length': '11841', 'Cache-Control': 'max-age=0', 'Expires': 'Thu, 15 Apr 2021 12:25:44 GMT', 'X-UA-Compatible': 'IE=edge', 'X-Content-Type-Options': 'nosniff', 'Content-Encoding': 'gzip', 'Keep-Alive': 'timeout=5, max=100', 'Connection': 'Keep-Alive', 'Content-Type': 'text/html; charset=utf-8'}"
      ]
     },
     "execution_count": 14,
     "metadata": {},
     "output_type": "execute_result"
    }
   ],
   "source": [
    "html.headers"
   ]
  },
  {
   "cell_type": "markdown",
   "id": "7b5ee423",
   "metadata": {},
   "source": [
    "The cell below saves the HTML object's text attribute in HTML format locally."
   ]
  },
  {
   "cell_type": "code",
   "execution_count": 15,
   "id": "ce1d0633",
   "metadata": {
    "collapsed": true
   },
   "outputs": [],
   "source": [
    "with open('Uni_Potsdam.html', 'w', encoding = 'utf-8') as f:\n",
    "    f.write(html.text)"
   ]
  },
  {
   "cell_type": "markdown",
   "id": "1da94971",
   "metadata": {},
   "source": [
    "8. Install the module `BeautifulSoup` via `pip install beautifulsoup4`"
   ]
  },
  {
   "cell_type": "code",
   "execution_count": 8,
   "id": "909ff5c1",
   "metadata": {
    "collapsed": true
   },
   "outputs": [],
   "source": [
    "from bs4 import BeautifulSoup"
   ]
  },
  {
   "cell_type": "code",
   "execution_count": 9,
   "id": "5c2f8164",
   "metadata": {
    "collapsed": true
   },
   "outputs": [],
   "source": [
    "soup = BeautifulSoup(html.text, \"html.parser\")"
   ]
  },
  {
   "cell_type": "markdown",
   "id": "c37c98e9",
   "metadata": {},
   "source": [
    "9. Parse the BeautifulSoup object `soup` for all Affiliate Links. Hint: In a HTML document all elements that lead to another domain are indicated by an `a` and follow the structure `<a href=\"...\", ... >text</a>`. Hint: Use `soup`'s method `find_all()` where the input argument is the elements' prefix. What object type is the output? Can you iterate over it? How many elements of an Affiliate Link type are contained in the HTML file?"
   ]
  },
  {
   "cell_type": "code",
   "execution_count": 10,
   "id": "2b517d39",
   "metadata": {
    "collapsed": true
   },
   "outputs": [
    {
     "data": {
      "text/plain": [
       "[<a href=\"https://www.uni-potsdam.de/de/up-entdecken/\" target=\"_top\">Übersicht</a>,\n",
       " <a href=\"https://www.uni-potsdam.de/de/up-entdecken/upaktuell/uebersicht\" target=\"_top\">Aktuelle Themen</a>,\n",
       " <a href=\"https://www.uni-potsdam.de/de/up-entdecken/upkompakt/uebersicht\" target=\"_top\">UP kompakt</a>,\n",
       " <a href=\"https://www.uni-potsdam.de/de/up-entdecken/up-vor-ort/uebersicht\" target=\"_top\">UP vor Ort</a>,\n",
       " <a href=\"https://www.uni-potsdam.de/de/up-entdecken/up-erleben/uebersicht\" target=\"_top\">UP erleben</a>,\n",
       " <a href=\"https://www.uni-potsdam.de/de/up-entdecken/up-im-portraet/uebersicht\" target=\"_top\">UP im Porträt</a>,\n",
       " <a href=\"/de/fakultaeten/uebersicht\">Übersicht</a>,\n",
       " <a href=\"https://www.uni-potsdam.de/de/jura/\" target=\"_top\">Juristische Fakultät</a>,\n",
       " <a href=\"https://www.uni-potsdam.de/de/philfak/\" target=\"_top\">Philosophische Fakultät</a>,\n",
       " <a href=\"https://www.uni-potsdam.de/de/humfak/\" target=\"_top\">Humanwissenschaftliche Fakultät</a>,\n",
       " <a href=\"https://www.uni-potsdam.de/de/wiso/\" target=\"_top\">Wirtschafts- und Sozialwissenschaftliche Fakultät</a>,\n",
       " <a href=\"https://www.uni-potsdam.de/de/mnfakul/\" target=\"_top\">Mathematisch-Naturwissenschaftliche Fakultät</a>,\n",
       " <a href=\"https://www.uni-potsdam.de/de/digital-engineering/\" target=\"_top\">Digital Engineering Fakultät</a>,\n",
       " <a href=\"/de/fakultaeten/fakultaet-fuer-gesundheitswissenschaften\">Fakultät für Gesundheitswissenschaften</a>,\n",
       " <a href=\"/de/organisation/uebersicht\">Übersicht</a>,\n",
       " <a href=\"/de/organisation/organe-gremien\">Organe und Gremien</a>,\n",
       " <a href=\"/de/organisation/universitaetsleitung-und-verwaltung\">Universitätsleitung und Verwaltung</a>,\n",
       " <a href=\"/de/organisation/zentrale-und-wissenschaftliche-einrichtungen\">Zentrale und wissenschaftliche Einrichtungen</a>,\n",
       " <a href=\"https://www.ub.uni-potsdam.de/ub.html\" target=\"_top\">Bibliothek</a>,\n",
       " <a href=\"/de/organisation/weitere-einrichtungen\">Weitere Einrichtungen</a>,\n",
       " <a href=\"https://www.uni-potsdam.de/de/international/\" target=\"_top\">Übersicht</a>,\n",
       " <a href=\"https://www.uni-potsdam.de/de/international/profil/uebersicht\" target=\"_top\">Profil International</a>,\n",
       " <a href=\"https://www.uni-potsdam.de/de/international/service/uebersicht\" target=\"_top\">Service an der UP</a>,\n",
       " <a href=\"https://www.uni-potsdam.de/de/international/outgoing/uebersicht\" target=\"_top\">Ins Ausland</a>,\n",
       " <a href=\"https://www.uni-potsdam.de/de/international/incoming/uebersicht\" target=\"_top\">Aus dem Ausland</a>,\n",
       " <a href=\"https://www.uni-potsdam.de/de/international/projekte/uebersicht\" target=\"_top\">Projekte International</a>,\n",
       " <a href=\"https://www.uni-potsdam.de/de/wirtschaft-transfer-gesellschaft/\" target=\"_top\">Übersicht</a>,\n",
       " <a href=\"https://www.uni-potsdam.de/de/wirtschaft-transfer-gesellschaft/piw/piw\" target=\"_top\">Partnerkreis Industrie und Wirtschaft</a>,\n",
       " <a href=\"https://www.uni-potsdam.de/de/wirtschaft-transfer-gesellschaft/services-fuer-unternehmen/uebersicht\" target=\"_top\">Services für Unternehmen</a>,\n",
       " <a href=\"https://www.uni-potsdam.de/de/wirtschaft-transfer-gesellschaft/gruendung-und-transfer/uebersicht\" target=\"_top\">Gründung und Transfer</a>,\n",
       " <a href=\"https://www.uni-potsdam.de/de/wirtschaft-transfer-gesellschaft/foerdern-und-stiften/uebersicht\" target=\"_top\">Fördern und Stiften</a>,\n",
       " <a href=\"https://www.uni-potsdam.de/de/wirtschaft-transfer-gesellschaft/weiterbildung/weiterbildungsangebote\" target=\"_top\">Weiterbildung</a>,\n",
       " <a href=\"/en/university-of-potsdam\">English</a>,\n",
       " <a href=\"https://www.uni-potsdam.de/de/studium/\" target=\"_top\">Studieren an der UP</a>,\n",
       " <a href=\"https://www.uni-potsdam.de/de/studium/studienangebot/uebersicht\" target=\"_top\">Studienangebot</a>,\n",
       " <a href=\"https://www.uni-potsdam.de/de/studium/zugang/uebersicht\" target=\"_top\">Bewerbung und Immatrikulation</a>,\n",
       " <a href=\"https://www.uni-potsdam.de/de/studium/konkret/uebersicht\" target=\"_top\">Studium konkret</a>,\n",
       " <a href=\"https://www.uni-potsdam.de/de/studium/beratung/uebersicht\" target=\"_top\">Beratungs- und Serviceeinrichtungen</a>,\n",
       " <a href=\"https://www.uni-potsdam.de/de/studium/termine/uebersicht\" target=\"_top\">Termine und Fristen</a>,\n",
       " <a href=\"https://www.uni-potsdam.de/de/forschung/\" target=\"_top\">Forschen an der UP</a>,\n",
       " <a href=\"https://www.uni-potsdam.de/de/forschung/profile-programme-projekte/uebersicht\" target=\"_top\">Profile, Programme und Projekte</a>,\n",
       " <a href=\"https://www.uni-potsdam.de/de/forschung/forschungsfoerderung/uebersicht\" target=\"_top\">Forschungsförderung</a>,\n",
       " <a href=\"https://www.uni-potsdam.de/de/forschungsdaten/\" target=\"_top\">Forschungsdaten</a>,\n",
       " <a href=\"https://www.uni-potsdam.de/de/forschung/kooperationen-partnerschaften/uebersicht\" target=\"_top\">Kooperationen und Partnerschaften</a>,\n",
       " <a href=\"https://www.uni-potsdam.de/de/forschung/wissenschaftlicher-nachwuchs/uebersicht\" target=\"_top\">Wissenschaftlicher Nachwuchs</a>,\n",
       " <a href=\"https://www.uni-potsdam.de/de/up-entdecken/\" target=\"_top\">UP entdecken</a>,\n",
       " <a href=\"/de/fakultaeten/uebersicht\">Fakultäten</a>,\n",
       " <a href=\"/de/organisation/uebersicht\">Organisation</a>,\n",
       " <a href=\"https://www.uni-potsdam.de/de/wirtschaft-transfer-gesellschaft/\" target=\"_top\">Wirtschaft, Transfer und Gesellschaft</a>,\n",
       " <a href=\"https://www.uni-potsdam.de/de/international/\" target=\"_top\">Campus International</a>,\n",
       " <a href=\"https://www.uni-potsdam.de/de/foerderung/index\" target=\"_top\">Förderinstrumente</a>,\n",
       " <a href=\"https://www.uni-potsdam.de/de/arbeiten-an-der-up/\" target=\"_top\">Arbeiten an der UP</a>,\n",
       " <a href=\"https://www.intern.uni-potsdam.de\" target=\"_top\">Intranet</a>,\n",
       " <a href=\"https://bi.uni-potsdam.de/jasperserver-pro/login.html\" target=\"_top\">BI.UP</a>,\n",
       " <a href=\"https://mailup.uni-potsdam.de\" target=\"_top\">Mail.UP (Webmailbox)</a>,\n",
       " <a href=\"https://puls.uni-potsdam.de/qisserver/rds?state=user&amp;type=0&amp;application=lsf\" target=\"_top\">PULS</a>,\n",
       " <a href=\"https://moodle2.uni-potsdam.de\" target=\"_top\">Moodle</a>,\n",
       " <a href=\"https://www.ub.uni-potsdam.de/de/\" target=\"_top\">Universitätsbibliothek</a>,\n",
       " <a href=\"https://pep.uni-potsdam.de\" target=\"_top\">Evaluationsportal (PEP)</a>,\n",
       " <a href=\"https://www.uni-potsdam.de/de/praxisportal/\" target=\"_top\">Praxisportal</a>,\n",
       " <a href=\"https://www.uni-potsdam.de/de/zim/\" target=\"_top\">ZIM</a>,\n",
       " <a href=\"/de/\">Uni-Startseite</a>,\n",
       " <a href=\"/de/notfall\">Notfall</a>,\n",
       " <a href=\"/de/index-a-z\">Uni A-Z</a>,\n",
       " <a href=\"/de/adressen\">Adressen</a>,\n",
       " <a href=\"/de/\" title=\"zur Uni-Startseite\"><img alt=\"Logo Universität Potsdam\" src=\"/typo3conf/ext/up_template/Resources/Public/Images/logos/up_logo_university_2.png\"/></a>,\n",
       " <a href=\"/de/\" title=\"zur Startseite des Bereichs Universität Potsdam\">Universität Potsdam</a>,\n",
       " <a href=\"/en/university-of-potsdam\">English</a>,\n",
       " <a href=\"/de/\">Uni-Startseite</a>,\n",
       " <a href=\"/de/notfall\">Notfall</a>,\n",
       " <a href=\"/de/index-a-z\">Uni A-Z</a>,\n",
       " <a href=\"/de/adressen\">Adressen</a>,\n",
       " <a href=\"https://www.uni-potsdam.de/de/studium/\" target=\"_top\">Studieren an der UP</a>,\n",
       " <a href=\"https://www.uni-potsdam.de/de/studium/studienangebot/uebersicht\" target=\"_top\">Studienangebot</a>,\n",
       " <a href=\"https://www.uni-potsdam.de/de/studium/zugang/uebersicht\" target=\"_top\">Bewerbung und Immatrikulation</a>,\n",
       " <a href=\"https://www.uni-potsdam.de/de/studium/konkret/uebersicht\" target=\"_top\">Studium konkret</a>,\n",
       " <a href=\"https://www.uni-potsdam.de/de/studium/beratung/uebersicht\" target=\"_top\">Beratungs- und Serviceeinrichtungen</a>,\n",
       " <a href=\"https://www.uni-potsdam.de/de/studium/termine/uebersicht\" target=\"_top\">Termine und Fristen</a>,\n",
       " <a href=\"https://www.uni-potsdam.de/de/forschung/\" target=\"_top\">Forschen an der UP</a>,\n",
       " <a href=\"https://www.uni-potsdam.de/de/forschung/profile-programme-projekte/uebersicht\" target=\"_top\">Profile, Programme und Projekte</a>,\n",
       " <a href=\"https://www.uni-potsdam.de/de/forschung/forschungsfoerderung/uebersicht\" target=\"_top\">Forschungsförderung</a>,\n",
       " <a href=\"https://www.uni-potsdam.de/de/forschungsdaten/\" target=\"_top\">Forschungsdaten</a>,\n",
       " <a href=\"https://www.uni-potsdam.de/de/forschung/kooperationen-partnerschaften/uebersicht\" target=\"_top\">Kooperationen und Partnerschaften</a>,\n",
       " <a href=\"https://www.uni-potsdam.de/de/forschung/wissenschaftlicher-nachwuchs/uebersicht\" target=\"_top\">Wissenschaftlicher Nachwuchs</a>,\n",
       " <a href=\"https://www.uni-potsdam.de/de/up-entdecken/\" target=\"_top\">UP entdecken</a>,\n",
       " <a href=\"/de/fakultaeten/uebersicht\">Fakultäten</a>,\n",
       " <a href=\"/de/organisation/uebersicht\">Organisation</a>,\n",
       " <a href=\"https://www.uni-potsdam.de/de/wirtschaft-transfer-gesellschaft/\" target=\"_top\">Wirtschaft, Transfer und Gesellschaft</a>,\n",
       " <a href=\"https://www.uni-potsdam.de/de/international/\" target=\"_top\">Campus International</a>,\n",
       " <a href=\"https://www.uni-potsdam.de/de/foerderung/index\" target=\"_top\">Förderinstrumente</a>,\n",
       " <a href=\"https://www.uni-potsdam.de/de/arbeiten-an-der-up/\" target=\"_top\">Arbeiten an der UP</a>,\n",
       " <a href=\"https://www.intern.uni-potsdam.de\" target=\"_top\">Intranet</a>,\n",
       " <a href=\"https://bi.uni-potsdam.de/jasperserver-pro/login.html\" target=\"_top\">BI.UP</a>,\n",
       " <a href=\"https://mailup.uni-potsdam.de\" target=\"_top\">Mail.UP (Webmailbox)</a>,\n",
       " <a href=\"https://puls.uni-potsdam.de/qisserver/rds?state=user&amp;type=0&amp;application=lsf\" target=\"_top\">PULS</a>,\n",
       " <a href=\"https://moodle2.uni-potsdam.de\" target=\"_top\">Moodle</a>,\n",
       " <a href=\"https://www.ub.uni-potsdam.de/de/\" target=\"_top\">Universitätsbibliothek</a>,\n",
       " <a href=\"https://pep.uni-potsdam.de\" target=\"_top\">Evaluationsportal (PEP)</a>,\n",
       " <a href=\"https://www.uni-potsdam.de/de/praxisportal/\" target=\"_top\">Praxisportal</a>,\n",
       " <a href=\"https://www.uni-potsdam.de/de/zim/\" target=\"_top\">ZIM</a>,\n",
       " <a href=\"/de/\" title=\"zur Uni-Startseite\"><img alt=\"Logo Universität Potsdam\" src=\"/typo3conf/ext/up_template/Resources/Public/Images/logos/up_logo_university_2.png\"/></a>,\n",
       " <a href=\"/de/\" title=\"zur Startseite des Bereichs Universität Potsdam\">Universität Potsdam</a>,\n",
       " <a href=\"https://www.uni-potsdam.de/de/up-entdecken/\" target=\"_top\">Übersicht</a>,\n",
       " <a href=\"https://www.uni-potsdam.de/de/up-entdecken/upaktuell/uebersicht\" target=\"_top\">Aktuelle Themen</a>,\n",
       " <a href=\"https://www.uni-potsdam.de/de/up-entdecken/upkompakt/uebersicht\" target=\"_top\">UP kompakt</a>,\n",
       " <a href=\"https://www.uni-potsdam.de/de/up-entdecken/up-vor-ort/uebersicht\" target=\"_top\">UP vor Ort</a>,\n",
       " <a href=\"https://www.uni-potsdam.de/de/up-entdecken/up-erleben/uebersicht\" target=\"_top\">UP erleben</a>,\n",
       " <a href=\"https://www.uni-potsdam.de/de/up-entdecken/up-im-portraet/uebersicht\" target=\"_top\">UP im Porträt</a>,\n",
       " <a href=\"/de/fakultaeten/uebersicht\">Übersicht</a>,\n",
       " <a href=\"https://www.uni-potsdam.de/de/jura/\" target=\"_top\">Juristische Fakultät</a>,\n",
       " <a href=\"https://www.uni-potsdam.de/de/philfak/\" target=\"_top\">Philosophische Fakultät</a>,\n",
       " <a href=\"https://www.uni-potsdam.de/de/humfak/\" target=\"_top\">Humanwissenschaftliche Fakultät</a>,\n",
       " <a href=\"https://www.uni-potsdam.de/de/wiso/\" target=\"_top\">Wirtschafts- und Sozialwissenschaftliche Fakultät</a>,\n",
       " <a href=\"https://www.uni-potsdam.de/de/mnfakul/\" target=\"_top\">Mathematisch-Naturwissenschaftliche Fakultät</a>,\n",
       " <a href=\"https://www.uni-potsdam.de/de/digital-engineering/\" target=\"_top\">Digital Engineering Fakultät</a>,\n",
       " <a href=\"/de/fakultaeten/fakultaet-fuer-gesundheitswissenschaften\">Fakultät für Gesundheitswissenschaften</a>,\n",
       " <a href=\"/de/organisation/uebersicht\">Übersicht</a>,\n",
       " <a href=\"/de/organisation/organe-gremien\">Organe und Gremien</a>,\n",
       " <a href=\"/de/organisation/universitaetsleitung-und-verwaltung\">Universitätsleitung und Verwaltung</a>,\n",
       " <a href=\"/de/organisation/zentrale-und-wissenschaftliche-einrichtungen\">Zentrale und wissenschaftliche Einrichtungen</a>,\n",
       " <a href=\"https://www.ub.uni-potsdam.de/ub.html\" target=\"_top\">Bibliothek</a>,\n",
       " <a href=\"/de/organisation/weitere-einrichtungen\">Weitere Einrichtungen</a>,\n",
       " <a href=\"https://www.uni-potsdam.de/de/international/\" target=\"_top\">Übersicht</a>,\n",
       " <a href=\"https://www.uni-potsdam.de/de/international/profil/uebersicht\" target=\"_top\">Profil International</a>,\n",
       " <a href=\"https://www.uni-potsdam.de/de/international/service/uebersicht\" target=\"_top\">Service an der UP</a>,\n",
       " <a href=\"https://www.uni-potsdam.de/de/international/outgoing/uebersicht\" target=\"_top\">Ins Ausland</a>,\n",
       " <a href=\"https://www.uni-potsdam.de/de/international/incoming/uebersicht\" target=\"_top\">Aus dem Ausland</a>,\n",
       " <a href=\"https://www.uni-potsdam.de/de/international/projekte/uebersicht\" target=\"_top\">Projekte International</a>,\n",
       " <a href=\"https://www.uni-potsdam.de/de/wirtschaft-transfer-gesellschaft/\" target=\"_top\">Übersicht</a>,\n",
       " <a href=\"https://www.uni-potsdam.de/de/wirtschaft-transfer-gesellschaft/piw/piw\" target=\"_top\">Partnerkreis Industrie und Wirtschaft</a>,\n",
       " <a href=\"https://www.uni-potsdam.de/de/wirtschaft-transfer-gesellschaft/services-fuer-unternehmen/uebersicht\" target=\"_top\">Services für Unternehmen</a>,\n",
       " <a href=\"https://www.uni-potsdam.de/de/wirtschaft-transfer-gesellschaft/gruendung-und-transfer/uebersicht\" target=\"_top\">Gründung und Transfer</a>,\n",
       " <a href=\"https://www.uni-potsdam.de/de/wirtschaft-transfer-gesellschaft/foerdern-und-stiften/uebersicht\" target=\"_top\">Fördern und Stiften</a>,\n",
       " <a href=\"https://www.uni-potsdam.de/de/wirtschaft-transfer-gesellschaft/weiterbildung/weiterbildungsangebote\" target=\"_top\">Weiterbildung</a>,\n",
       " <a href=\"https://www.uni-potsdam.de/de/potsdam-transfer/startup-service/workshops-events/start-up-story-night\" target=\"_top\"><img alt=\"Start-up Streaming Night #4 | Bild: Tilo Bergemann\" height=\"470\" src=\"/typo3temp/assets/_processed_/0/d/csm_SSN_20210422_Bu%CC%88hne-PO%CC%88_V04_94d3b57592.png\" title=\"Start-up Streaming Night #4 | Bild: Tilo Bergemann\" width=\"1170\"/></a>,\n",
       " <a href=\"https://www.uni-potsdam.de/de/up-entdecken/upaktuell/universitaetsmagazine\" target=\"_top\"><img alt=\"Titelbild der neuen Ausgabe „Portal Wissen“ Eins 2021 | Grafik: Andreas Töpfer\" height=\"470\" src=\"/typo3temp/assets/_processed_/8/2/csm_2021-01_Portal_1_2021_buehne_01_949dc86f7b.jpg\" title=\"Titelbild der neuen Ausgabe „Portal Wissen“ Eins 2021 | Grafik: Andreas Töpfer\" width=\"1170\"/></a>,\n",
       " <a href=\"https://www.uni-potsdam.de/de/nachrichten/detail/2021-04-15-hoppla-jetzt-kommt-koppla-die-revolution-fuers-handwerk\" target=\"_top\"><img alt=\"Lasse Steffen, Marco Trippler und Jerome Lange (v.l.n.r.) | Foto: Thomas Roese\" height=\"470\" src=\"/typo3temp/assets/_processed_/7/f/csm_2021-04_Koppla_DSC2021_Thomas_Roese_buehne_9585b836e4.jpg\" title=\"Lasse Steffen, Marco Trippler und Jerome Lange (v.l.n.r.) | Foto: Thomas Roese\" width=\"1170\"/></a>,\n",
       " <a href=\"https://www.uni-potsdam.de/de/potsdam-transfer/startup-service/workshops-events/start-up-story-night\" target=\"_top\"><div><div class=\"up-stage-caption-header\">Start-up Streaming Night #4</div><div class=\"up-stage-caption-content\"><p>Folge: Go Global! | Am 22. April 2021 um 18 Uhr | Bild: Tilo Bergemann</p></div></div></a>,\n",
       " <a href=\"https://www.uni-potsdam.de/de/up-entdecken/upaktuell/universitaetsmagazine\" target=\"_top\"><div><div class=\"up-stage-caption-header\">Portal Wissen Eins 2021 erschienen</div><div class=\"up-stage-caption-content\"><p>Im Fokus der Ausgabe: „Wandel“ | Grafik: Andreas Töpfer</p></div></div></a>,\n",
       " <a href=\"https://www.uni-potsdam.de/de/nachrichten/detail/2021-04-15-hoppla-jetzt-kommt-koppla-die-revolution-fuers-handwerk\" target=\"_top\"><div><div class=\"up-stage-caption-header\">Hoppla! Jetzt kommt Koppla!</div><div class=\"up-stage-caption-content\"><p>Die Revolution fürs Handwerk | Foto: Thomas Roese</p></div></div></a>,\n",
       " <a href=\"https://www.uni-potsdam.de/de/studium/\" target=\"_top\">Übersicht</a>,\n",
       " <a href=\"https://www.uni-potsdam.de/de/studium/studienangebot/uebersicht\" target=\"_top\">Studienangebot</a>,\n",
       " <a href=\"https://www.uni-potsdam.de/de/studium/zugang/uebersicht\" target=\"_top\">Bewerbung und Immatrikulation</a>,\n",
       " <a href=\"https://www.uni-potsdam.de/de/studium/konkret/anfaenger\" target=\"_top\">Infos zum Studienstart</a>,\n",
       " <a href=\"https://www.uni-potsdam.de/de/studium/konkret/uebersicht\" target=\"_top\">Studium konkret</a>,\n",
       " <a href=\"https://www.uni-potsdam.de/de/foerderung/4-studium\" target=\"_top\">Fördermöglichkeiten in Lehre und Studium</a>,\n",
       " <a href=\"https://www.uni-potsdam.de/de/studium/konkret/studienorganisation/puck\" target=\"_top\">PUCK - Potsdamer UniversitätsChipKarte</a>,\n",
       " <a href=\"/de/studieninteressierte-und-studierende/puls\">PULS</a>,\n",
       " <a href=\"https://www.uni-potsdam.de/de/studium/beratung/uebersicht\" target=\"_top\">Beratungs- und Serviceeinrichtungen</a>,\n",
       " <a href=\"https://www.uni-potsdam.de/de/studium/beratung/behinderung\" target=\"_top\">Studium mit Beeinträchtigung</a>,\n",
       " <a href=\"https://www.uni-potsdam.de/de/international/outgoing/uebersicht\" target=\"_top\">Studium und Praktikum im Ausland</a>,\n",
       " <a href=\"https://www.uni-potsdam.de/de/studium/konkret/abschluss\" target=\"_top\">Den Studienabschluss im Blick</a>,\n",
       " <a href=\"https://www.uni-potsdam.de/de/up-entdecken/up-vor-ort/uebersicht\" target=\"_top\">Studieren und Leben in Potsdam</a>,\n",
       " <a href=\"https://www.uni-potsdam.de/de/studium/konkret/wohnen-finanzen\" target=\"_top\">Finanzieren, Fördern &amp; Wohnen</a>,\n",
       " <a href=\"https://www.uni-potsdam.de/de/studium/konkret/wohnen-finanzen/stipendien\" target=\"_top\">Stipendienprogramme</a>,\n",
       " <a href=\"https://www.uni-potsdam.de/de/isc/kurse/summerschool\" target=\"_top\">International Summer Campus</a>,\n",
       " <a href=\"https://www.uni-potsdam.de/de/studium/termine/uebersicht\" target=\"_top\">Termine und Fristen</a>,\n",
       " <a href=\"/de/studieninteressierte-und-studierende/unishop-der-universitaet-potsdam\">UNIshop der Universität Potsdam</a>,\n",
       " <a href=\"https://www.uni-potsdam.de/de/arbeiten-an-der-up/\" target=\"_top\">Arbeiten an der UP</a>,\n",
       " <a href=\"https://www.uni-potsdam.de/de/foerderung/index\" target=\"_top\">Systematik der UP-Förderinstrumente</a>,\n",
       " <a href=\"https://www.uni-potsdam.de/de/forschung/forschungsfoerderung/uebersicht\" target=\"_top\">Forschungsförderung</a>,\n",
       " <a href=\"https://www.uni-potsdam.de/de/tenure-track/index\" target=\"_top\">Tenure-Track</a>,\n",
       " <a href=\"https://www.uni-potsdam.de/de/forschung/kooperationen-partnerschaften/uebersicht\" target=\"_top\">Kooperationen und Partnerschaften</a>,\n",
       " <a href=\"https://www.uni-potsdam.de/de/forschung/profile-programme-projekte/uebersicht\" target=\"_top\">Profile, Programme und Projekte</a>,\n",
       " <a href=\"https://www.uni-potsdam.de/de/presse/veranstaltungsmanagement/rahmenvereinbarung\" target=\"_top\">Tagungsservice</a>,\n",
       " <a href=\"https://www.uni-potsdam.de/de/raumvergabe/index\" target=\"_top\">Raumvergabe</a>,\n",
       " <a href=\"https://www.uni-potsdam.de/de/studium/termine/semestertermine\" target=\"_top\">Hochschultermine</a>,\n",
       " <a href=\"https://www.uni-potsdam.de/de/up-entdecken/up-im-portraet/uebersicht\" target=\"_top\">Universitätsporträt</a>,\n",
       " <a href=\"https://www.uni-potsdam.de/de/forschung/wissenschaftlicher-nachwuchs/uebersicht\" target=\"_top\">Wissenschaftlicher Nachwuchs</a>,\n",
       " <a href=\"https://www.uni-potsdam.de/de/wirtschaft-transfer-gesellschaft/gruendung-und-transfer/gruendungs-und-transferzentrum/gruendungsservice\" target=\"_top\">Gründungsservice</a>,\n",
       " <a href=\"https://www.uni-potsdam.de/de/isc/service/wissenschaftler\" target=\"_top\">International Summer Campus Office</a>,\n",
       " <a href=\"https://www.uni-potsdam.de/de/foerderung/5-transfer\" target=\"_top\">Förderinstrumente zur Stärkung der Zusammenarbeit in der Region</a>,\n",
       " <a href=\"https://www.uni-potsdam.de/de/wirtschaft-transfer-gesellschaft/piw/piw\" target=\"_top\">Partnerkreis Industrie und Wirtschaft</a>,\n",
       " <a href=\"https://www.uni-potsdam.de/de/wirtschaft-transfer-gesellschaft/services-fuer-unternehmen/tagungsorganisation\" target=\"_top\">Tagungsservice für Unternehmen</a>,\n",
       " <a href=\"https://www.uni-potsdam.de/de/wirtschaft-transfer-gesellschaft/services-fuer-unternehmen/auftragsforschung\" target=\"_top\">Auftragsforschung/Patentservice</a>,\n",
       " <a href=\"https://www.uni-potsdam.de/de/wirtschaft-transfer-gesellschaft/services-fuer-unternehmen/praktikanten-absolventenvermittlung\" target=\"_top\">Fachkräfte finden</a>,\n",
       " <a href=\"https://www.uni-potsdam.de/de/wirtschaft-transfer-gesellschaft/weiterbildung/weiterbildungsangebote\" target=\"_top\">Weiterbildungsangebote</a>,\n",
       " <a href=\"https://www.uni-potsdam.de/de/wirtschaft-transfer-gesellschaft/foerdern-und-stiften/uebersicht\" target=\"_top\">Fördern und Stiften</a>,\n",
       " <a href=\"https://www.uni-potsdam.de/de/potsdam-transfer/startup-service/gruendungsnetzwerk\" target=\"_top\">Junior- und Senior Experten</a>,\n",
       " <a href=\"https://www.uni-potsdam.de/de/wirtschaft-transfer-gesellschaft/gruendung-und-transfer/uebersicht\" target=\"_top\">Unternehmerische Universität</a>,\n",
       " <a href=\"https://www.uni-potsdam.de/de/wirtschaft-transfer-gesellschaft/foerdern-und-stiften/uebersicht\" target=\"_top\">Fördern und Stiften</a>,\n",
       " <a href=\"https://www.uni-potsdam.de/de/alumni/index\" target=\"_top\">Alumni Service</a>,\n",
       " <a href=\"https://www.uni-potsdam.de/de/uniges/\" target=\"_top\">Universitätsgesellschaft Potsdam e.V.</a>,\n",
       " <a href=\"https://www.uni-potsdam.de/de/foerderung/index\" target=\"_top\">Systematik der UP-Förderinstrumente</a>,\n",
       " <a href=\"https://www.uni-potsdam.de/de/wirtschaft-transfer-gesellschaft/piw/piw\" target=\"_top\">Partnerkreis Industrie und Wirtschaft</a>,\n",
       " <a href=\"/de/alumni-freunde-und-foerdernde/unishop-der-universitaet-potsdam\">UNIshop der Universität Potsdam</a>,\n",
       " <a href=\"https://www.uni-potsdam.de/de/presse/medienservice/ansprechpersonen\" target=\"_top\">Kontakt</a>,\n",
       " <a href=\"https://www.uni-potsdam.de/de/presse/medienservice/expertenservice\" target=\"_top\">Expertenservice</a>,\n",
       " <a href=\"https://www.uni-potsdam.de/de/presse/medienservice/die-up-in-bildern\" target=\"_top\">Pressebilder</a>,\n",
       " <a href=\"https://www.uni-potsdam.de/de/presse/medienservice/medienverteiler-und-feeds\" target=\"_top\">Medienverteiler und Feeds</a>,\n",
       " <a href=\"https://www.uni-potsdam.de/de/presse/aktuelles/coronavirus\" target=\"_top\"><img alt=\"Coronavirus | Foto: AdobeStock/Romolo Tavani\" height=\"223\" src=\"/typo3temp/assets/_processed_/4/2/csm_06032020_corona_info_artikelteaser_AdobeStock_319718852_Romolo_Tavani_01_a171ad4d1f.jpg\" title=\"Coronavirus | Foto: AdobeStock/Romolo Tavani\" width=\"430\"/></a>,\n",
       " <a href=\"https://www.uni-potsdam.de/de/presse/aktuelles/coronavirus\" target=\"_top\"><h2>Corona-Update</h2></a>,\n",
       " <a class=\"up-a-teaser-2-more\" href=\"https://www.uni-potsdam.de/de/presse/aktuelles/coronavirus\" target=\"_top\"> mehr... </a>,\n",
       " <a href=\"/de/nachrichten/detail/2021-03-30-engagiert-kuhlmann-stiftung-unterstuetzt-potsdamer-studierende-mit-100000-euro\"><img alt=\"Junge Studierende unterhalten sich | Foto: Unsplash / Brooke Cagle\" height=\"223\" src=\"/typo3temp/assets/_processed_/8/9/csm_2021-03_Universitaetsstipendium_USP_Foto_Brooke-Cagle_Unsplash_e758bd0083.jpg\" title=\"Kuhlmann-Stiftung unterstützt Potsdamer Studierende mit 100.000 Euro | Foto: Unsplash / Brooke Cagle\" width=\"430\"/></a>,\n",
       " <a href=\"/de/nachrichten/detail/2021-03-30-engagiert-kuhlmann-stiftung-unterstuetzt-potsdamer-studierende-mit-100000-euro\"><h2>Engagiert</h2></a>,\n",
       " <a class=\"up-a-teaser-2-more\" href=\"/de/nachrichten/detail/2021-03-30-engagiert-kuhlmann-stiftung-unterstuetzt-potsdamer-studierende-mit-100000-euro\"> mehr... </a>,\n",
       " <a href=\"/de/nachrichten/detail/2021-04-13-wir-waren-exotisch-der-linguist-gisbert-fanselow-und-der-psychologe-reinhold-klie\"><img alt=\"In gemeinsamer Forschung vertieft wie am ersten Tag – Linguist Gisbert Fanselow und Psychologie Reinhold Kliegl, 2014 | Foto: ZIM\" height=\"223\" src=\"/typo3temp/assets/_processed_/b/2/csm_2021-04_Fanselow_Kliegl_2014_Foto_ZIM_0d35d1245e.jpg\" title=\"In gemeinsamer Forschung vertieft wie am ersten Tag – Linguist Gisbert Fanselow und Psychologie Reinhold Kliegl, 2014 | Foto: ZIM\" width=\"430\"/></a>,\n",
       " <a href=\"/de/nachrichten/detail/2021-04-13-wir-waren-exotisch-der-linguist-gisbert-fanselow-und-der-psychologe-reinhold-klie\"><h2>„Wir waren exotisch!“</h2></a>,\n",
       " <a class=\"up-a-teaser-2-more\" href=\"/de/nachrichten/detail/2021-04-13-wir-waren-exotisch-der-linguist-gisbert-fanselow-und-der-psychologe-reinhold-klie\"> mehr... </a>,\n",
       " <a href=\"/de/nachrichten/detail/2021-03-29-covid-19-schnelltests-an-der-universitaet-potsdam-kooperation-mit-johannitern-und-apothe\"><img alt=\"Der Präsident der Universität Potsdam, Prof. Oliver Günther, Ph.D. bei der mobilen Teststation auf dem Campus Am Neuen Palais | Foto: Dr. Silke Engel\" height=\"223\" src=\"/typo3temp/assets/_processed_/a/8/csm_2021_021_Praesident_Guenther_Covid_Schnelltest_Foto_Silke_Engel_artikel_01_6da92dc4b8.jpg\" title=\"Der Präsident der Universität Potsdam, Prof. Oliver Günther, Ph.D. bei der mobilen Teststation auf dem Campus Am Neuen Palais | Foto: Dr. Silke Engel\" width=\"430\"/></a>,\n",
       " <a href=\"/de/nachrichten/detail/2021-03-29-covid-19-schnelltests-an-der-universitaet-potsdam-kooperation-mit-johannitern-und-apothe\"><h2>Covid-19-Schnelltests an der Universität Potsdam</h2></a>,\n",
       " <a class=\"up-a-teaser-2-more\" href=\"/de/nachrichten/detail/2021-03-29-covid-19-schnelltests-an-der-universitaet-potsdam-kooperation-mit-johannitern-und-apothe\"> mehr... </a>,\n",
       " <a href=\"https://www.uni-potsdam.de/de/studium/konkret/anfaenger\" target=\"_top\"><img alt=\"Das Audimax am Campus Neuen Palais | Foto: Matthias Friel\" height=\"223\" src=\"/typo3temp/assets/_processed_/b/8/csm_audimax_teaser_studienstart_sose_friel_55a3d89700.jpg\" title=\"Das Audimax am Campus Neuen Palais | Foto: Matthias Friel\" width=\"430\"/></a>,\n",
       " <a href=\"https://www.uni-potsdam.de/de/studium/konkret/anfaenger\" target=\"_top\"><h2>Noch Fragen zum Studium?</h2></a>,\n",
       " <a class=\"up-a-teaser-2-more\" href=\"https://www.uni-potsdam.de/de/studium/konkret/anfaenger\" target=\"_top\"> mehr... </a>,\n",
       " <a href=\"/de/nachrichten/detail/2021-04-12-eine-bruecke-in-den-arbeitsmarkt-warum-betriebswirtin-kristina-nistor-noch-einmal-zur-uni-g\"><img alt=\"Kristina Nistor absolvierte an der Uni eine Brückenmaßnahme für Hochschulabsolventen mit Migrationsgeschichte. | Foto: Nadja Bossmann\" height=\"223\" src=\"/typo3temp/assets/_processed_/6/8/csm_2021-03_Portraet_Kristina_Nistor_Bossmann_8723a28e90.jpg\" title=\"Kristina Nistor absolvierte an der Uni eine Brückenmaßnahme für Hochschulabsolventen mit Migrationsgeschichte. | Foto: Nadja Bossmann\" width=\"430\"/></a>,\n",
       " <a href=\"/de/nachrichten/detail/2021-04-12-eine-bruecke-in-den-arbeitsmarkt-warum-betriebswirtin-kristina-nistor-noch-einmal-zur-uni-g\"><h2>Eine Brücke in den Arbeitsmarkt</h2></a>,\n",
       " <a class=\"up-a-teaser-2-more\" href=\"/de/nachrichten/detail/2021-04-12-eine-bruecke-in-den-arbeitsmarkt-warum-betriebswirtin-kristina-nistor-noch-einmal-zur-uni-g\"> mehr... </a>,\n",
       " <a href=\"/de/nachrichten/detail/2021-04-15-studio-days-2021-digitale-studienorientierungswoche-der-staatlichen-brandenburgischen\"><img alt=\"Studi’O Days 2021 | Foto: Matthias Friel, Netzwerk Studienorientierung Brandenburg\" height=\"223\" src=\"/typo3temp/assets/_processed_/7/9/csm_2021-04_Cover_StudiODays_PM_9fbffeb47f.jpg\" title=\"Studi’O Days 2021 | Foto: Matthias Friel, Netzwerk Studienorientierung Brandenburg\" width=\"430\"/></a>,\n",
       " <a href=\"/de/nachrichten/detail/2021-04-15-studio-days-2021-digitale-studienorientierungswoche-der-staatlichen-brandenburgischen\"><h2>Studi’O Days 2021</h2></a>,\n",
       " <a class=\"up-a-teaser-2-more\" href=\"/de/nachrichten/detail/2021-04-15-studio-days-2021-digitale-studienorientierungswoche-der-staatlichen-brandenburgischen\"> mehr... </a>,\n",
       " <a href=\"/de/nachrichten/detail/2021-03-25-gemeinsam-besser-universitaet-potsdam-verabschiedet-inklusionskonzept\"><img alt=\"Inklusionskonzept | Foto: ZIM\" height=\"223\" src=\"/typo3temp/assets/_processed_/d/2/csm_2021-03_uni_fuer_alle_grafik_ZIM_artikel_2fbe29ef71.jpg\" title=\"Inklusionskonzept | Foto: ZIM\" width=\"430\"/></a>,\n",
       " <a href=\"/de/nachrichten/detail/2021-03-25-gemeinsam-besser-universitaet-potsdam-verabschiedet-inklusionskonzept\"><h2>Gemeinsam besser</h2></a>,\n",
       " <a class=\"up-a-teaser-2-more\" href=\"/de/nachrichten/detail/2021-03-25-gemeinsam-besser-universitaet-potsdam-verabschiedet-inklusionskonzept\"> mehr... </a>,\n",
       " <a href=\"/de/nachrichten/detail/2021-04-14-prof-dr-michael-lenhard-im-human-frontier-science-program-gefoerdert\"><img alt=\"Links- und rechtsgrifflige Blüten von Wachendorfia paniculata. Die blauen Pfeile zeigen die Griffel, die orangenen Pfeilköpfe die Staubbeutel. Zwei der drei Staubbeutel sind jeweils auf die andere Seite als der Griffel gebogen. | Bildrechte: Michael Lenhard\" height=\"223\" src=\"/typo3temp/assets/_processed_/a/e/csm_2021_024_Wachendorfia_Lenhardt_teaser_5e4a46b16d.jpg\" title=\"Links- und rechtsgrifflige Blüten von Wachendorfia paniculata. Die blauen Pfeile zeigen die Griffel, die orangenen Pfeilköpfe die Staubbeutel. Zwei der drei Staubbeutel sind jeweils auf die andere Seite als der Griffel gebogen. | Bildrechte: Michael Lenhard\" width=\"430\"/></a>,\n",
       " <a href=\"/de/nachrichten/detail/2021-04-14-prof-dr-michael-lenhard-im-human-frontier-science-program-gefoerdert\"><h2>Prof. Dr. Michael Lenhard im Human Frontier Science Program gefördert</h2></a>,\n",
       " <a class=\"up-a-teaser-2-more\" href=\"/de/nachrichten/detail/2021-04-14-prof-dr-michael-lenhard-im-human-frontier-science-program-gefoerdert\"> mehr... </a>,\n",
       " <a href=\"/de/nachrichten/detail/2021-04-13-science-fiction-experimentelle-kooperation-von-germanistik-und-food4future\"><img alt=\"Die Europäische Quelle (Salicornia europaea) IGZ Fitzner\" height=\"223\" src=\"/typo3temp/assets/_processed_/2/7/csm_2021-04_Der_Europ%C3%A4ische_Quelle__Salicornia_europaea__IGZ_Fitzner_5613fc33c2.jpg\" title=\"Die Europäische Quelle (Salicornia europaea) IGZ Fitzner\" width=\"430\"/></a>,\n",
       " <a href=\"/de/nachrichten/detail/2021-04-13-science-fiction-experimentelle-kooperation-von-germanistik-und-food4future\"><h2>Wie ernähren sich Menschen in Zukunftsromanen?</h2></a>,\n",
       " <a class=\"up-a-teaser-2-more\" href=\"/de/nachrichten/detail/2021-04-13-science-fiction-experimentelle-kooperation-von-germanistik-und-food4future\"> mehr... </a>,\n",
       " <a href=\"https://www.uni-potsdam.de/nachrichten.html\" target=\"_top\"> alle Artikel </a>,\n",
       " <a class=\"up-document-link\" href=\"/fileadmin/projects/presse/docs/Corona-Webseiten/Video-Botschaft-18_Guenther.pdf\" title=\"Transkript zum Video-Blog (Folge 18) von Uni-Präsident Prof. Oliver Günther\">Der Video-Blog (Folge 18) zum Nachlesen</a>,\n",
       " <a href=\"/de/veranstaltungen\"> Veranstaltungen der UP </a>,\n",
       " <a href=\"/de/veranstaltungen/detail/2021-04-16-online-workshop-strategien-wissenschaftlichen-schreibens\"> Online-Workshop: Strategien wissenschaftlichen Schreibens </a>,\n",
       " <a href=\"/de/veranstaltungen/detail/2021-04-16-startup-academy-x-wfbb-for-scientists-from-non-university-research-institutes-innovative-bu\"> Startup Academy x WFBB for scientists from non-university research institutes: Innovative Business Model Design </a>,\n",
       " <a href=\"/de/veranstaltungen/detail/2021-04-16-familiencaf-digital-einfuehrung-warum-ein-familiencaf-semesterplanung-mit-familie\"> Familiencafé digital: Einführung: Warum ein Familiencafé? Semesterplanung mit Familie </a>,\n",
       " <a href=\"/de/veranstaltungen/detail/2021-04-18-finale-der-regionalmeisterschaften-des-hochschuldebbatierens-in-potsdam\"> Finale der Regionalmeisterschaften des Hochschuldebattierens in Potsdam </a>,\n",
       " <a href=\"/de/veranstaltungen/detail/2021-04-19-online-workshop-gender-diversity-ansaetze-fuer-die-hochschullehre\"> Online-Workshop: Gender-Diversity-Ansätze für die Hochschullehre </a>,\n",
       " <a href=\"/de/veranstaltungen/detail/2021-04-19-30-min-online-crashkurs-fit-ins-referendariat\"> 30 Min. Online-Crashkurs „Fit ins Referendariat“ </a>,\n",
       " <a href=\"/de/veranstaltungen/detail/2021-04-20-future2go-career-opportunities-in-innovation-management\"> Future2Go - Career opportunities in Innovation Management </a>,\n",
       " <a href=\"/de/veranstaltungen\"> weitere Veranstaltungen </a>,\n",
       " <a href=\"/de/nachrichten\">Neues aus der UP</a>,\n",
       " <a href=\"/de/nachrichten/detail/2021-04-15-studio-days-2021-digitale-studienorientierungswoche-der-staatlichen-brandenburgischen\" title=\"Studi’O Days 2021 – digitale Studienorientierungswoche der staatlichen brandenburgischen Hochschulen\"> Studi’O Days 2021 – digitale Studienorientierungswoche der staatlichen brandenburgischen Hochschulen </a>,\n",
       " <a href=\"/de/nachrichten/detail/2021-04-15-hoppla-jetzt-kommt-koppla-die-revolution-fuers-handwerk\" title=\"Hoppla! Jetzt kommt Koppla! – Die Revolution fürs Handwerk\"> Hoppla! Jetzt kommt Koppla! – Die Revolution fürs Handwerk </a>,\n",
       " <a href=\"/de/nachrichten/detail/2021-04-13-science-fiction-experimentelle-kooperation-von-germanistik-und-food4future\" title=\"Science / Fiction – Experimentelle Kooperation von Germanistik und food4future\"> Science / Fiction – Experimentelle Kooperation von Germanistik und food4future </a>,\n",
       " <a href=\"/de/nachrichten\"> weitere Neuigkeiten </a>,\n",
       " <a href=\"/de/medieninformationen\">Medieninformationen der UP</a>,\n",
       " <a href=\"/de/medieninformationen/detail/2021-04-14-prof-dr-michael-lenhard-im-human-frontier-science-program-gefoerdert\" title=\"Prof. Dr. Michael Lenhard im Human Frontier Science Program gefördert\"> Prof. Dr. Michael Lenhard im Human Frontier Science Program gefördert </a>,\n",
       " <a href=\"/de/medieninformationen/detail/2021-04-01-alles-im-griff-neue-dfg-forschungsgruppe-untersucht-mechanismen-der-selbstregulation\" title=\"Alles im Griff? – Neue DFG-Forschungsgruppe untersucht Mechanismen der Selbstregulation\"> Alles im Griff? – Neue DFG-Forschungsgruppe untersucht Mechanismen der Selbstregulation </a>,\n",
       " <a href=\"/de/medieninformationen/detail/2021-03-30-engagiert-kuhlmann-stiftung-unterstuetzt-potsdamer-studierende-mit-100000-euro\" title=\"Engagiert – Kuhlmann-Stiftung unterstützt Potsdamer Studierende mit 100.000 Euro\"> Engagiert – Kuhlmann-Stiftung unterstützt Potsdamer Studierende mit 100.000 Euro </a>,\n",
       " <a href=\"/de/medieninformationen\"> weitere Medieninformationen </a>,\n",
       " <a href=\"javascript:linkTo_UnCryptMailto(%27nbjmup%2Btbcjof%5C%2FtdixbsaAvoj.qputebn%5C%2Fef%27);\">Sabine Schwarz<span class=\"up-update-footer-box-envelope up-icon\"></span></a>,\n",
       " <a class=\"up-sm-facebook\" href=\"https://www.facebook.com/unipotsdam\" target=\"_blank\" title=\"Folgen sie uns auf Facebook\">Facebook</a>,\n",
       " <a class=\"up-sm-instagram\" href=\"https://www.instagram.com/unipotsdam/\" target=\"_blank\" title=\"Entdecken Sie unsere Impressionen auf Instagram\">Instagram</a>,\n",
       " <a class=\"up-sm-linkedin\" href=\"https://www.linkedin.com/school/30760/\" target=\"_top\" title=\"Besuchen Sie unser LinkedIn-Profil\">LinkedIn</a>,\n",
       " <a class=\"up-sm-researchgate\" href=\"https://www.researchgate.net/institution/Universitaet_Potsdam\" target=\"_top\" title=\"Vernetzen Sie sich mit unseren Forschenden auf Research Gate\">Research Gate</a>,\n",
       " <a class=\"up-sm-twitter\" href=\"https://www.twitter.com/unipotsdam\" target=\"_blank\" title=\"Folgen Sie uns auf Twitter\">Twitter</a>,\n",
       " <a class=\"up-sm-xing\" href=\"https://www.xing.com/companies/universit%C3%84tpotsdam\" target=\"_blank\" title=\"Besuchen Sie unser XING-Profil\">XING</a>,\n",
       " <a class=\"up-sm-youtube\" href=\"https://www.youtube.com/user/PresseUniPotsdam\" target=\"_blank\" title=\"Abonnieren Sie unseren YouTube-Kanal\">YouTube</a>,\n",
       " <a href=\"/de/impressum\" title=\"Universität Potsdam - Impressum\">Impressum</a>,\n",
       " <a href=\"/de/datenschutzerklaerung\" title=\"Universität Potsdam - Datenschutzerklärung\">Datenschutzerklärung</a>,\n",
       " <a class=\"up-internal-link\" href=\"https://www.uni-potsdam.de/de/barrierefreiheit\" target=\"_top\" title=\"Universität Potsdam - Barrierefreiheit\">Barrierefreiheit</a>,\n",
       " <a href=\"https://www.uni-potsdam.de/de/presse/medienservice/ansprechpersonen.html\" target=\"_top\" title=\"Universität Potsdam - Ansprechpersonen\">Presse</a>,\n",
       " <a class=\"up-oe-footer-osm-link\" href=\"https://www.openstreetmap.org/?mlat=52.400589&amp;mlon=13.013138#map=17/52.400589/13.013138\" target=\"_blank\"> Größere Karte anzeigen </a>,\n",
       " <a href=\"https://www.klischee-frei.de/de/index.php\" target=\"_top\" title=\"Fachportal Klischeefreie Studien- und Berufswahl\">Bundesinitiative Klischeefrei</a>,\n",
       " <a href=\"https://www.hrk.de/positionen/beschluss/detail/nationaler-kodex-fuer-das-auslaenderstudium-an-deutschen-hochschulen/\" target=\"_top\" title=\"Nationaler Kodex für das Ausländerstudium an deutschen Hochschulen\">Code of Conduct</a>,\n",
       " <a href=\"https://www.stifterverband.org/charta-guter-lehre\" target=\"_top\" title=\"Wettbewerb „Exzellente Lehre”\">Exzellente Lehre</a>,\n",
       " <a href=\"https://www.hrk.de/audit/startseite/\" target=\"_top\" title=\"Audit „Internationalisierung der Hochschulen” (HRK)\">HRK-Audit</a>,\n",
       " <a href=\"https://www.hrk.de/audit/re-audit/\" target=\"_top\" title=\"Informationen zum Re-Audit auf den Webseiten der HRK\">HRK-Re-Audit</a>,\n",
       " <a class=\"up-internal-link\" href=\"https://www.uni-potsdam.de/de/zfq/hochschulstudien/systemakkreditierung\" target=\"_top\" title=\"Qualitätssiegel der Systemakkreditierung\">Systemakkreditierung</a>,\n",
       " <a href=\"https://www.total-e-quality.de/de/\" target=\"_top\" title=\"Prädikat „Total E-Quality”\">Total E-Quality</a>,\n",
       " <a class=\"up-internal-link\" href=\"https://netzwerk-studienorientierung.de/\" target=\"_top\" title=\"Netzwerk Studienorientierung Brandenburg\">Netzwerk Studienorientierung</a>,\n",
       " <a href=\"https://www.scholarsatrisk.org/\" target=\"_top\" title=\"Scholars at Risk Network\">Scholars at Risk</a>,\n",
       " <a class=\"up-internal-link\" href=\"https://eua.eu/\" target=\"_top\" title=\"European University Association\">EUA </a>,\n",
       " <a class=\"up-internal-link\" href=\"https://www.uni-potsdam.de/de/educ\" target=\"_top\" title=\"European Digital UniverCity\">EDUC</a>,\n",
       " <a class=\"up-internal-link\" href=\"https://conahec.org/\" target=\"_top\" title=\"Consortium for North American Higher Education Collaboration\">CONAHEC</a>,\n",
       " <a href=\"https://www.uni-potsdam.de/studium/termine/uebersicht.html\" target=\"_top\" title=\"Termine und Fristen rund um das Studium\">Termine &amp; Fristen </a>,\n",
       " <a href=\"https://www.uni-potsdam.de/presse/\" target=\"_top\" title=\"Referat für Presse- und Öffentlichkeitsarbeit\">Presse </a>,\n",
       " <a href=\"https://www.uni-potsdam.de/verwaltung/dezernat3/stellen/\" target=\"_top\" title=\"Übersicht der offenen Stellenanzeigen\">Stellenausschreibungen </a>,\n",
       " <a href=\"https://www.unishop-potsdam.de/\" target=\"_top\" title=\"UNIshop der Universität Potsdam\">UNIshop der Universität Potsdam</a>,\n",
       " <a href=\"https://www.uni-potsdam.de/studium/konkret/vorlesungsverzeichnisse.html\" target=\"_top\" title=\"Übersicht der Vorlesungsverzeichnisse der Uni Potsdam\">Vorlesungsverzeichnis </a>,\n",
       " <a href=\"https://www.uni-potsdam.de/de/adressen/\" target=\"_top\" title=\"Zentrale Adressen und Anschriften der Uni Potsdam\">Zentrale Adressen und Lagepläne</a>,\n",
       " <a href=\"javascript:window.print();\" target=\"_self\" title=\"Diese Seite drucken\"> Drucken</a>,\n",
       " <a class=\"hide-for-small\" href=\"#\" onclick=\"return add_favorite(this);\" target=\"_blank\" title=\"Diese Seite als Bookmark speichern\"> Als Bookmark speichern</a>,\n",
       " <a class=\"url\" href=\"https://www.uni-potsdam.de/de/\">https://www.uni-potsdam.de/de/</a>]"
      ]
     },
     "execution_count": 10,
     "metadata": {},
     "output_type": "execute_result"
    }
   ],
   "source": [
    "soup.find_all('a')"
   ]
  },
  {
   "cell_type": "markdown",
   "id": "bfc92243",
   "metadata": {},
   "source": [
    "10. Convert the BeautifulSoup object into a \"plain\" Python list object containing the elements' **text** attributes by iterating over it. Hint: Instantiate an empty `list` object, write a for-loop and `append` each element to the list object. You may also remove any unwanted whitespaces by using the `strip` function."
   ]
  },
  {
   "cell_type": "code",
   "execution_count": 30,
   "id": "ae5d900a",
   "metadata": {
    "collapsed": true
   },
   "outputs": [
    {
     "data": {
      "text/plain": [
       "'Übersicht'"
      ]
     },
     "execution_count": 30,
     "metadata": {},
     "output_type": "execute_result"
    }
   ],
   "source": [
    "soup.find_all('a')[0].text"
   ]
  },
  {
   "cell_type": "code",
   "execution_count": 29,
   "id": "7aae91c7",
   "metadata": {
    "collapsed": true
   },
   "outputs": [
    {
     "data": {
      "text/plain": [
       "['Übersicht',\n",
       " 'Aktuelle Themen',\n",
       " 'UP kompakt',\n",
       " 'UP vor Ort',\n",
       " 'UP erleben',\n",
       " 'UP im Porträt',\n",
       " 'Übersicht',\n",
       " 'Juristische Fakultät',\n",
       " 'Philosophische Fakultät',\n",
       " 'Humanwissenschaftliche Fakultät',\n",
       " 'Wirtschafts- und Sozialwissenschaftliche Fakultät',\n",
       " 'Mathematisch-Naturwissenschaftliche Fakultät',\n",
       " 'Digital Engineering Fakultät',\n",
       " 'Fakultät für Gesundheitswissenschaften',\n",
       " 'Übersicht',\n",
       " 'Organe und Gremien',\n",
       " 'Universitätsleitung und Verwaltung',\n",
       " 'Zentrale und wissenschaftliche Einrichtungen',\n",
       " 'Bibliothek',\n",
       " 'Weitere Einrichtungen',\n",
       " 'Übersicht',\n",
       " 'Profil International',\n",
       " 'Service an der UP',\n",
       " 'Ins Ausland',\n",
       " 'Aus dem Ausland',\n",
       " 'Projekte International',\n",
       " 'Übersicht',\n",
       " 'Partnerkreis Industrie und Wirtschaft',\n",
       " 'Services für Unternehmen',\n",
       " 'Gründung und Transfer',\n",
       " 'Fördern und Stiften',\n",
       " 'Weiterbildung',\n",
       " 'English',\n",
       " 'Studieren an der UP',\n",
       " 'Studienangebot',\n",
       " 'Bewerbung und Immatrikulation',\n",
       " 'Studium konkret',\n",
       " 'Beratungs- und Serviceeinrichtungen',\n",
       " 'Termine und Fristen',\n",
       " 'Forschen an der UP',\n",
       " 'Profile, Programme und Projekte',\n",
       " 'Forschungsförderung',\n",
       " 'Forschungsdaten',\n",
       " 'Kooperationen und Partnerschaften',\n",
       " 'Wissenschaftlicher Nachwuchs',\n",
       " 'UP entdecken',\n",
       " 'Fakultäten',\n",
       " 'Organisation',\n",
       " 'Wirtschaft, Transfer und Gesellschaft',\n",
       " 'Campus International',\n",
       " 'Förderinstrumente',\n",
       " 'Arbeiten an der UP',\n",
       " 'Intranet',\n",
       " 'BI.UP',\n",
       " 'Mail.UP (Webmailbox)',\n",
       " 'PULS',\n",
       " 'Moodle',\n",
       " 'Universitätsbibliothek',\n",
       " 'Evaluationsportal (PEP)',\n",
       " 'Praxisportal',\n",
       " 'ZIM',\n",
       " 'Uni-Startseite',\n",
       " 'Notfall',\n",
       " 'Uni A-Z',\n",
       " 'Adressen',\n",
       " '',\n",
       " 'Universität Potsdam',\n",
       " 'English',\n",
       " 'Uni-Startseite',\n",
       " 'Notfall',\n",
       " 'Uni A-Z',\n",
       " 'Adressen',\n",
       " 'Studieren an der UP',\n",
       " 'Studienangebot',\n",
       " 'Bewerbung und Immatrikulation',\n",
       " 'Studium konkret',\n",
       " 'Beratungs- und Serviceeinrichtungen',\n",
       " 'Termine und Fristen',\n",
       " 'Forschen an der UP',\n",
       " 'Profile, Programme und Projekte',\n",
       " 'Forschungsförderung',\n",
       " 'Forschungsdaten',\n",
       " 'Kooperationen und Partnerschaften',\n",
       " 'Wissenschaftlicher Nachwuchs',\n",
       " 'UP entdecken',\n",
       " 'Fakultäten',\n",
       " 'Organisation',\n",
       " 'Wirtschaft, Transfer und Gesellschaft',\n",
       " 'Campus International',\n",
       " 'Förderinstrumente',\n",
       " 'Arbeiten an der UP',\n",
       " 'Intranet',\n",
       " 'BI.UP',\n",
       " 'Mail.UP (Webmailbox)',\n",
       " 'PULS',\n",
       " 'Moodle',\n",
       " 'Universitätsbibliothek',\n",
       " 'Evaluationsportal (PEP)',\n",
       " 'Praxisportal',\n",
       " 'ZIM',\n",
       " '',\n",
       " 'Universität Potsdam',\n",
       " 'Übersicht',\n",
       " 'Aktuelle Themen',\n",
       " 'UP kompakt',\n",
       " 'UP vor Ort',\n",
       " 'UP erleben',\n",
       " 'UP im Porträt',\n",
       " 'Übersicht',\n",
       " 'Juristische Fakultät',\n",
       " 'Philosophische Fakultät',\n",
       " 'Humanwissenschaftliche Fakultät',\n",
       " 'Wirtschafts- und Sozialwissenschaftliche Fakultät',\n",
       " 'Mathematisch-Naturwissenschaftliche Fakultät',\n",
       " 'Digital Engineering Fakultät',\n",
       " 'Fakultät für Gesundheitswissenschaften',\n",
       " 'Übersicht',\n",
       " 'Organe und Gremien',\n",
       " 'Universitätsleitung und Verwaltung',\n",
       " 'Zentrale und wissenschaftliche Einrichtungen',\n",
       " 'Bibliothek',\n",
       " 'Weitere Einrichtungen',\n",
       " 'Übersicht',\n",
       " 'Profil International',\n",
       " 'Service an der UP',\n",
       " 'Ins Ausland',\n",
       " 'Aus dem Ausland',\n",
       " 'Projekte International',\n",
       " 'Übersicht',\n",
       " 'Partnerkreis Industrie und Wirtschaft',\n",
       " 'Services für Unternehmen',\n",
       " 'Gründung und Transfer',\n",
       " 'Fördern und Stiften',\n",
       " 'Weiterbildung',\n",
       " '',\n",
       " '',\n",
       " '',\n",
       " 'Start-up Streaming Night #4Folge: Go Global! | Am 22. April 2021 um 18 Uhr | Bild: Tilo Bergemann',\n",
       " 'Portal Wissen Eins 2021 erschienenIm Fokus der Ausgabe: „Wandel“ | Grafik: Andreas Töpfer',\n",
       " 'Hoppla! Jetzt kommt Koppla!Die Revolution fürs Handwerk | Foto: Thomas Roese',\n",
       " 'Übersicht',\n",
       " 'Studienangebot',\n",
       " 'Bewerbung und Immatrikulation',\n",
       " 'Infos zum Studienstart',\n",
       " 'Studium konkret',\n",
       " 'Fördermöglichkeiten in Lehre und Studium',\n",
       " 'PUCK - Potsdamer UniversitätsChipKarte',\n",
       " 'PULS',\n",
       " 'Beratungs- und Serviceeinrichtungen',\n",
       " 'Studium mit Beeinträchtigung',\n",
       " 'Studium und Praktikum im Ausland',\n",
       " 'Den Studienabschluss im Blick',\n",
       " 'Studieren und Leben in Potsdam',\n",
       " 'Finanzieren, Fördern & Wohnen',\n",
       " 'Stipendienprogramme',\n",
       " 'International Summer Campus',\n",
       " 'Termine und Fristen',\n",
       " 'UNIshop der Universität Potsdam',\n",
       " 'Arbeiten an der UP',\n",
       " 'Systematik der UP-Förderinstrumente',\n",
       " 'Forschungsförderung',\n",
       " 'Tenure-Track',\n",
       " 'Kooperationen und Partnerschaften',\n",
       " 'Profile, Programme und Projekte',\n",
       " 'Tagungsservice',\n",
       " 'Raumvergabe',\n",
       " 'Hochschultermine',\n",
       " 'Universitätsporträt',\n",
       " 'Wissenschaftlicher Nachwuchs',\n",
       " 'Gründungsservice',\n",
       " 'International Summer Campus Office',\n",
       " 'Förderinstrumente zur Stärkung der Zusammenarbeit in der Region',\n",
       " 'Partnerkreis Industrie und Wirtschaft',\n",
       " 'Tagungsservice für Unternehmen',\n",
       " 'Auftragsforschung/Patentservice',\n",
       " 'Fachkräfte finden',\n",
       " 'Weiterbildungsangebote',\n",
       " 'Fördern und Stiften',\n",
       " 'Junior- und Senior Experten',\n",
       " 'Unternehmerische Universität',\n",
       " 'Fördern und Stiften',\n",
       " 'Alumni Service',\n",
       " 'Universitätsgesellschaft Potsdam e.V.',\n",
       " 'Systematik der UP-Förderinstrumente',\n",
       " 'Partnerkreis Industrie und Wirtschaft',\n",
       " 'UNIshop der Universität Potsdam',\n",
       " 'Kontakt',\n",
       " 'Expertenservice',\n",
       " 'Pressebilder',\n",
       " 'Medienverteiler und Feeds',\n",
       " '',\n",
       " 'Corona-Update',\n",
       " 'mehr...',\n",
       " '',\n",
       " 'Engagiert',\n",
       " 'mehr...',\n",
       " '',\n",
       " '„Wir waren exotisch!“',\n",
       " 'mehr...',\n",
       " '',\n",
       " 'Covid-19-Schnelltests an der Universität Potsdam',\n",
       " 'mehr...',\n",
       " '',\n",
       " 'Noch Fragen zum Studium?',\n",
       " 'mehr...',\n",
       " '',\n",
       " 'Eine Brücke in den Arbeitsmarkt',\n",
       " 'mehr...',\n",
       " '',\n",
       " '„Ich würde meine Verteidigung auch lieber live durchführen“',\n",
       " 'mehr...',\n",
       " '',\n",
       " 'Gemeinsam besser',\n",
       " 'mehr...',\n",
       " '',\n",
       " 'Prof. Dr. Michael Lenhard im Human Frontier Science Program gefördert',\n",
       " 'mehr...',\n",
       " '',\n",
       " 'Wie ernähren sich Menschen in Zukunftsromanen?',\n",
       " 'mehr...',\n",
       " 'alle Artikel',\n",
       " 'Der Video-Blog (Folge 18) zum Nachlesen',\n",
       " 'Veranstaltungen der UP',\n",
       " 'Die eigene Lehre im Fokus (Online-Workshop)',\n",
       " 'Einführung in Zoom (für in der Lehre tätige Personen)',\n",
       " 'Health Workshops 2021: Die Kraft der Hormone – Stimmungen aktiv regulieren',\n",
       " 'Digitaler Themenabend „Clit Night“',\n",
       " 'The History of Humanitarianism - A new Field of Research?',\n",
       " 'Living Wild: Why Keeping Wild Places and Animals Healthy is Key to our Own Health',\n",
       " 'Online-Workshop: Strategien wissenschaftlichen Schreibens',\n",
       " 'weitere Veranstaltungen',\n",
       " 'Neues aus der UP',\n",
       " 'Studi’O Days 2021 – digitale Studienorientierungswoche der staatlichen brandenburgischen Hochschulen',\n",
       " 'Hoppla! Jetzt kommt Koppla! – Die Revolution fürs Handwerk',\n",
       " 'Science / Fiction – Experimentelle Kooperation von Germanistik und food4future',\n",
       " 'weitere Neuigkeiten',\n",
       " 'Medieninformationen der UP',\n",
       " 'Prof. Dr. Michael Lenhard im Human Frontier Science Program gefördert',\n",
       " 'Alles im Griff? – Neue DFG-Forschungsgruppe untersucht Mechanismen der Selbstregulation',\n",
       " 'Engagiert – Kuhlmann-Stiftung unterstützt Potsdamer Studierende mit 100.000 Euro',\n",
       " 'weitere Medieninformationen',\n",
       " 'Sabine Schwarz',\n",
       " 'Facebook',\n",
       " 'Instagram',\n",
       " 'LinkedIn',\n",
       " 'Research Gate',\n",
       " 'Twitter',\n",
       " 'XING',\n",
       " 'YouTube',\n",
       " 'Impressum',\n",
       " 'Datenschutzerklärung',\n",
       " 'Barrierefreiheit',\n",
       " 'Presse',\n",
       " 'Größere Karte anzeigen',\n",
       " 'Bundesinitiative Klischeefrei',\n",
       " 'Code of Conduct',\n",
       " 'Exzellente Lehre',\n",
       " 'HRK-Audit',\n",
       " 'HRK-Re-Audit',\n",
       " 'Systemakkreditierung',\n",
       " 'Total E-Quality',\n",
       " 'Netzwerk Studienorientierung',\n",
       " 'Scholars at Risk',\n",
       " 'EUA',\n",
       " 'EDUC',\n",
       " 'CONAHEC',\n",
       " 'Termine & Fristen',\n",
       " 'Presse',\n",
       " 'Stellenausschreibungen',\n",
       " 'UNIshop der Universität Potsdam',\n",
       " 'Vorlesungsverzeichnis',\n",
       " 'Zentrale Adressen und Lagepläne',\n",
       " 'Drucken',\n",
       " 'Als Bookmark speichern',\n",
       " 'https://www.uni-potsdam.de/de/']"
      ]
     },
     "execution_count": 29,
     "metadata": {},
     "output_type": "execute_result"
    }
   ],
   "source": [
    "link_list = []\n",
    "\n",
    "for link in soup.find_all('a'):\n",
    "    link_list.append(link.text.strip())\n",
    "\n",
    "link_list"
   ]
  },
  {
   "cell_type": "markdown",
   "id": "208a5535",
   "metadata": {},
   "source": [
    "#### Pro-Tipp\n",
    "Instead of explicitly writing a for-loop when disentangling specific objects from an aggregate object you can use Python's built-in `map` and `lambda` functions as a one-liner."
   ]
  },
  {
   "cell_type": "code",
   "execution_count": 11,
   "id": "28dcb515",
   "metadata": {
    "collapsed": true
   },
   "outputs": [
    {
     "data": {
      "text/plain": [
       "['Übersicht',\n",
       " 'Aktuelle Themen',\n",
       " 'UP kompakt',\n",
       " 'UP vor Ort',\n",
       " 'UP erleben',\n",
       " 'UP im Porträt',\n",
       " 'Übersicht',\n",
       " 'Juristische Fakultät',\n",
       " 'Philosophische Fakultät',\n",
       " 'Humanwissenschaftliche Fakultät',\n",
       " 'Wirtschafts- und Sozialwissenschaftliche Fakultät',\n",
       " 'Mathematisch-Naturwissenschaftliche Fakultät',\n",
       " 'Digital Engineering Fakultät',\n",
       " 'Fakultät für Gesundheitswissenschaften',\n",
       " 'Übersicht',\n",
       " 'Organe und Gremien',\n",
       " 'Universitätsleitung und Verwaltung',\n",
       " 'Zentrale und wissenschaftliche Einrichtungen',\n",
       " 'Bibliothek',\n",
       " 'Weitere Einrichtungen',\n",
       " 'Übersicht',\n",
       " 'Profil International',\n",
       " 'Service an der UP',\n",
       " 'Ins Ausland',\n",
       " 'Aus dem Ausland',\n",
       " 'Projekte International',\n",
       " 'Übersicht',\n",
       " 'Partnerkreis Industrie und Wirtschaft',\n",
       " 'Services für Unternehmen',\n",
       " 'Gründung und Transfer',\n",
       " 'Fördern und Stiften',\n",
       " 'Weiterbildung',\n",
       " 'English',\n",
       " 'Studieren an der UP',\n",
       " 'Studienangebot',\n",
       " 'Bewerbung und Immatrikulation',\n",
       " 'Studium konkret',\n",
       " 'Beratungs- und Serviceeinrichtungen',\n",
       " 'Termine und Fristen',\n",
       " 'Forschen an der UP',\n",
       " 'Profile, Programme und Projekte',\n",
       " 'Forschungsförderung',\n",
       " 'Forschungsdaten',\n",
       " 'Kooperationen und Partnerschaften',\n",
       " 'Wissenschaftlicher Nachwuchs',\n",
       " 'UP entdecken',\n",
       " 'Fakultäten',\n",
       " 'Organisation',\n",
       " 'Wirtschaft, Transfer und Gesellschaft',\n",
       " 'Campus International',\n",
       " 'Förderinstrumente',\n",
       " 'Arbeiten an der UP',\n",
       " 'Intranet',\n",
       " 'BI.UP',\n",
       " 'Mail.UP (Webmailbox)',\n",
       " 'PULS',\n",
       " 'Moodle',\n",
       " 'Universitätsbibliothek',\n",
       " 'Evaluationsportal (PEP)',\n",
       " 'Praxisportal',\n",
       " 'ZIM',\n",
       " 'Uni-Startseite',\n",
       " 'Notfall',\n",
       " 'Uni A-Z',\n",
       " 'Adressen',\n",
       " '',\n",
       " 'Universität Potsdam',\n",
       " 'English',\n",
       " 'Uni-Startseite',\n",
       " 'Notfall',\n",
       " 'Uni A-Z',\n",
       " 'Adressen',\n",
       " 'Studieren an der UP',\n",
       " 'Studienangebot',\n",
       " 'Bewerbung und Immatrikulation',\n",
       " 'Studium konkret',\n",
       " 'Beratungs- und Serviceeinrichtungen',\n",
       " 'Termine und Fristen',\n",
       " 'Forschen an der UP',\n",
       " 'Profile, Programme und Projekte',\n",
       " 'Forschungsförderung',\n",
       " 'Forschungsdaten',\n",
       " 'Kooperationen und Partnerschaften',\n",
       " 'Wissenschaftlicher Nachwuchs',\n",
       " 'UP entdecken',\n",
       " 'Fakultäten',\n",
       " 'Organisation',\n",
       " 'Wirtschaft, Transfer und Gesellschaft',\n",
       " 'Campus International',\n",
       " 'Förderinstrumente',\n",
       " 'Arbeiten an der UP',\n",
       " 'Intranet',\n",
       " 'BI.UP',\n",
       " 'Mail.UP (Webmailbox)',\n",
       " 'PULS',\n",
       " 'Moodle',\n",
       " 'Universitätsbibliothek',\n",
       " 'Evaluationsportal (PEP)',\n",
       " 'Praxisportal',\n",
       " 'ZIM',\n",
       " '',\n",
       " 'Universität Potsdam',\n",
       " 'Übersicht',\n",
       " 'Aktuelle Themen',\n",
       " 'UP kompakt',\n",
       " 'UP vor Ort',\n",
       " 'UP erleben',\n",
       " 'UP im Porträt',\n",
       " 'Übersicht',\n",
       " 'Juristische Fakultät',\n",
       " 'Philosophische Fakultät',\n",
       " 'Humanwissenschaftliche Fakultät',\n",
       " 'Wirtschafts- und Sozialwissenschaftliche Fakultät',\n",
       " 'Mathematisch-Naturwissenschaftliche Fakultät',\n",
       " 'Digital Engineering Fakultät',\n",
       " 'Fakultät für Gesundheitswissenschaften',\n",
       " 'Übersicht',\n",
       " 'Organe und Gremien',\n",
       " 'Universitätsleitung und Verwaltung',\n",
       " 'Zentrale und wissenschaftliche Einrichtungen',\n",
       " 'Bibliothek',\n",
       " 'Weitere Einrichtungen',\n",
       " 'Übersicht',\n",
       " 'Profil International',\n",
       " 'Service an der UP',\n",
       " 'Ins Ausland',\n",
       " 'Aus dem Ausland',\n",
       " 'Projekte International',\n",
       " 'Übersicht',\n",
       " 'Partnerkreis Industrie und Wirtschaft',\n",
       " 'Services für Unternehmen',\n",
       " 'Gründung und Transfer',\n",
       " 'Fördern und Stiften',\n",
       " 'Weiterbildung',\n",
       " '',\n",
       " '',\n",
       " '',\n",
       " 'Start-up Streaming Night #4Folge: Go Global! | Am 22. April 2021 um 18 Uhr | Bild: Tilo Bergemann',\n",
       " 'Portal Wissen Eins 2021 erschienenIm Fokus der Ausgabe: „Wandel“ | Grafik: Andreas Töpfer',\n",
       " 'Hoppla! Jetzt kommt Koppla!Die Revolution fürs Handwerk | Foto: Thomas Roese',\n",
       " 'Übersicht',\n",
       " 'Studienangebot',\n",
       " 'Bewerbung und Immatrikulation',\n",
       " 'Infos zum Studienstart',\n",
       " 'Studium konkret',\n",
       " 'Fördermöglichkeiten in Lehre und Studium',\n",
       " 'PUCK - Potsdamer UniversitätsChipKarte',\n",
       " 'PULS',\n",
       " 'Beratungs- und Serviceeinrichtungen',\n",
       " 'Studium mit Beeinträchtigung',\n",
       " 'Studium und Praktikum im Ausland',\n",
       " 'Den Studienabschluss im Blick',\n",
       " 'Studieren und Leben in Potsdam',\n",
       " 'Finanzieren, Fördern & Wohnen',\n",
       " 'Stipendienprogramme',\n",
       " 'International Summer Campus',\n",
       " 'Termine und Fristen',\n",
       " 'UNIshop der Universität Potsdam',\n",
       " 'Arbeiten an der UP',\n",
       " 'Systematik der UP-Förderinstrumente',\n",
       " 'Forschungsförderung',\n",
       " 'Tenure-Track',\n",
       " 'Kooperationen und Partnerschaften',\n",
       " 'Profile, Programme und Projekte',\n",
       " 'Tagungsservice',\n",
       " 'Raumvergabe',\n",
       " 'Hochschultermine',\n",
       " 'Universitätsporträt',\n",
       " 'Wissenschaftlicher Nachwuchs',\n",
       " 'Gründungsservice',\n",
       " 'International Summer Campus Office',\n",
       " 'Förderinstrumente zur Stärkung der Zusammenarbeit in der Region',\n",
       " 'Partnerkreis Industrie und Wirtschaft',\n",
       " 'Tagungsservice für Unternehmen',\n",
       " 'Auftragsforschung/Patentservice',\n",
       " 'Fachkräfte finden',\n",
       " 'Weiterbildungsangebote',\n",
       " 'Fördern und Stiften',\n",
       " 'Junior- und Senior Experten',\n",
       " 'Unternehmerische Universität',\n",
       " 'Fördern und Stiften',\n",
       " 'Alumni Service',\n",
       " 'Universitätsgesellschaft Potsdam e.V.',\n",
       " 'Systematik der UP-Förderinstrumente',\n",
       " 'Partnerkreis Industrie und Wirtschaft',\n",
       " 'UNIshop der Universität Potsdam',\n",
       " 'Kontakt',\n",
       " 'Expertenservice',\n",
       " 'Pressebilder',\n",
       " 'Medienverteiler und Feeds',\n",
       " '',\n",
       " 'Corona-Update',\n",
       " 'mehr...',\n",
       " '',\n",
       " 'Engagiert',\n",
       " 'mehr...',\n",
       " '',\n",
       " '„Wir waren exotisch!“',\n",
       " 'mehr...',\n",
       " '',\n",
       " 'Covid-19-Schnelltests an der Universität Potsdam',\n",
       " 'mehr...',\n",
       " '',\n",
       " 'Noch Fragen zum Studium?',\n",
       " 'mehr...',\n",
       " '',\n",
       " 'Eine Brücke in den Arbeitsmarkt',\n",
       " 'mehr...',\n",
       " '',\n",
       " 'Studi’O Days 2021',\n",
       " 'mehr...',\n",
       " '',\n",
       " 'Gemeinsam besser',\n",
       " 'mehr...',\n",
       " '',\n",
       " 'Prof. Dr. Michael Lenhard im Human Frontier Science Program gefördert',\n",
       " 'mehr...',\n",
       " '',\n",
       " 'Wie ernähren sich Menschen in Zukunftsromanen?',\n",
       " 'mehr...',\n",
       " 'alle Artikel',\n",
       " 'Der Video-Blog (Folge 18) zum Nachlesen',\n",
       " 'Veranstaltungen der UP',\n",
       " 'Online-Workshop: Strategien wissenschaftlichen Schreibens',\n",
       " 'Startup Academy x WFBB for scientists from non-university research institutes: Innovative Business Model Design',\n",
       " 'Familiencafé digital: Einführung: Warum ein Familiencafé? Semesterplanung mit Familie',\n",
       " 'Finale der Regionalmeisterschaften des Hochschuldebattierens in Potsdam',\n",
       " 'Online-Workshop: Gender-Diversity-Ansätze für die Hochschullehre',\n",
       " '30 Min. Online-Crashkurs „Fit ins Referendariat“',\n",
       " 'Future2Go - Career opportunities in Innovation Management',\n",
       " 'weitere Veranstaltungen',\n",
       " 'Neues aus der UP',\n",
       " 'Studi’O Days 2021 – digitale Studienorientierungswoche der staatlichen brandenburgischen Hochschulen',\n",
       " 'Hoppla! Jetzt kommt Koppla! – Die Revolution fürs Handwerk',\n",
       " 'Science / Fiction – Experimentelle Kooperation von Germanistik und food4future',\n",
       " 'weitere Neuigkeiten',\n",
       " 'Medieninformationen der UP',\n",
       " 'Prof. Dr. Michael Lenhard im Human Frontier Science Program gefördert',\n",
       " 'Alles im Griff? – Neue DFG-Forschungsgruppe untersucht Mechanismen der Selbstregulation',\n",
       " 'Engagiert – Kuhlmann-Stiftung unterstützt Potsdamer Studierende mit 100.000 Euro',\n",
       " 'weitere Medieninformationen',\n",
       " 'Sabine Schwarz',\n",
       " 'Facebook',\n",
       " 'Instagram',\n",
       " 'LinkedIn',\n",
       " 'Research Gate',\n",
       " 'Twitter',\n",
       " 'XING',\n",
       " 'YouTube',\n",
       " 'Impressum',\n",
       " 'Datenschutzerklärung',\n",
       " 'Barrierefreiheit',\n",
       " 'Presse',\n",
       " 'Größere Karte anzeigen',\n",
       " 'Bundesinitiative Klischeefrei',\n",
       " 'Code of Conduct',\n",
       " 'Exzellente Lehre',\n",
       " 'HRK-Audit',\n",
       " 'HRK-Re-Audit',\n",
       " 'Systemakkreditierung',\n",
       " 'Total E-Quality',\n",
       " 'Netzwerk Studienorientierung',\n",
       " 'Scholars at Risk',\n",
       " 'EUA',\n",
       " 'EDUC',\n",
       " 'CONAHEC',\n",
       " 'Termine & Fristen',\n",
       " 'Presse',\n",
       " 'Stellenausschreibungen',\n",
       " 'UNIshop der Universität Potsdam',\n",
       " 'Vorlesungsverzeichnis',\n",
       " 'Zentrale Adressen und Lagepläne',\n",
       " 'Drucken',\n",
       " 'Als Bookmark speichern',\n",
       " 'https://www.uni-potsdam.de/de/']"
      ]
     },
     "execution_count": 11,
     "metadata": {},
     "output_type": "execute_result"
    }
   ],
   "source": [
    "results_list = list(map(lambda x: x.text.strip(), soup.find_all('a')))\n",
    "results_list"
   ]
  },
  {
   "cell_type": "markdown",
   "id": "e6a6893c",
   "metadata": {},
   "source": [
    "11. Identify the element which text attribute's value is equal to \"alle Artikel\". Return the element's position (`index`) within the list."
   ]
  },
  {
   "cell_type": "code",
   "execution_count": 12,
   "id": "24f2330e",
   "metadata": {
    "collapsed": true
   },
   "outputs": [
    {
     "data": {
      "text/plain": [
       "220"
      ]
     },
     "execution_count": 12,
     "metadata": {},
     "output_type": "execute_result"
    }
   ],
   "source": [
    "index = results_list.index('alle Artikel')\n",
    "index"
   ]
  },
  {
   "cell_type": "markdown",
   "id": "cb6fd787",
   "metadata": {},
   "source": [
    "12. Obtain this element's value of the `href` attribute. It should be an URL pointing at the domain where the news at Universität Potsdam are collected."
   ]
  },
  {
   "cell_type": "code",
   "execution_count": 13,
   "id": "274d63bd",
   "metadata": {
    "collapsed": true
   },
   "outputs": [
    {
     "name": "stdout",
     "output_type": "stream",
     "text": [
      "https://www.uni-potsdam.de/nachrichten.html\n"
     ]
    }
   ],
   "source": [
    "new_seed = soup.find_all('a')[index].get('href')\n",
    "print(new_seed)"
   ]
  },
  {
   "cell_type": "markdown",
   "id": "7c0a9f9f",
   "metadata": {},
   "source": [
    "13. Write a function which takes a String-type object (e.g. an URL) as input and returns a readily parse-able `BeautifulSoup` object."
   ]
  },
  {
   "cell_type": "code",
   "execution_count": 14,
   "id": "c45fd447",
   "metadata": {
    "collapsed": true
   },
   "outputs": [],
   "source": [
    "def URL_to_BS(url):\n",
    "    html = requests.get(url)\n",
    "    soup = BeautifulSoup(html.text, 'html.parser')\n",
    "    return soup"
   ]
  },
  {
   "cell_type": "code",
   "execution_count": 15,
   "id": "76d13dd0",
   "metadata": {
    "collapsed": true
   },
   "outputs": [],
   "source": [
    "news_soup = URL_to_BS(new_seed)"
   ]
  },
  {
   "cell_type": "code",
   "execution_count": 16,
   "id": "63398cc2",
   "metadata": {
    "collapsed": true
   },
   "outputs": [
    {
     "data": {
      "text/plain": [
       "<!DOCTYPE html>\n",
       "<html dir=\"ltr\" lang=\"de-DE\"><head><meta charset=\"utf-8\"/><!-- benaja - web solutions (www.benaja-websolutions.com) Markus Meier, Roland Brandt und Tobias Gaertner GbR This website is powered by TYPO3 - inspiring people to share! TYPO3 is a free open source Content Management Framework initially created by Kasper Skaarhoj and licensed under GNU/GPL. TYPO3 is copyright 1998-2021 of Kasper Skaarhoj. Extensions are copyright of their respective owners. Information and contribution at https://typo3.org/ --><meta content=\"IE=edge\" http-equiv=\"x-ua-compatible\"><meta content=\"TYPO3 CMS\" name=\"generator\"/><meta content=\"width=device-width, initial-scale=1.0\" name=\"viewport\"/><meta content=\"Silvana Grabowski\" name=\"author\"/><meta content=\"Neues aus der UP\" property=\"og:title\"/><meta content=\"summary\" name=\"twitter:card\"/><link href=\"/typo3temp/assets/compressed/merged-fc201a8dd7df23f7869e0d7219366c48-min.css.gzip?1583314121\" media=\"print\" rel=\"stylesheet\" type=\"text/css\"/><link href=\"/typo3temp/assets/compressed/merged-ac5e367df0d2daf0f288930ccdf26749-min.css.gzip?1613975705\" media=\"screen\" rel=\"stylesheet\" type=\"text/css\"/><script src=\"/typo3temp/assets/compressed/jquery-2.2.4.min-min.js.gzip?1583314121\" type=\"text/javascript\"></script><script src=\"/typo3temp/assets/compressed/merged-8dc6a9a84127a40ca23fee40ecace56f-min.js.gzip?1583314133\" type=\"text/javascript\"></script><script type=\"text/javascript\">function returnAt() { document.write('&#64;'); }function returnDot() { document.write('.'); }</script><title> Neues aus der UP - Universität Potsdam</title><meta content=\"ZyJR9vqMZBQxke_IH0PfW8KV6TNywA481w6H1uQwYA4\" name=\"google-site-verification\"/><link href=\"https://www.uni-potsdam.de/de/nachrichten\" rel=\"canonical\"><link href=\"/de/nachrichten/page-2\" rel=\"next\"/></link></meta></head><body class=\"up-section-university\"><noscript><div id=\"up_nojs\"><div class=\"row\"><div class=\"twentyfour columns\"><p> JavaScript ist in ihrem Browser deaktiviert. <span class=\"up-nojs-hint\">Bitte aktivieren Sie JavaScript</span> um alle Funktionen der Website nutzen zu können! </p></div></div></div></noscript><div id=\"up_overlay_for_search\"></div><div id=\"up_overlay_for_navs\"></div><div class=\"show-for-small\" id=\"up_mobilenav_wrapper_small\"><div class=\"row collapse\"><div class=\"twentyfour columns\"><div id=\"up_mobilenav_small\"><ul class=\"up-mobilenav-level-1\"><li class=\"up-mobilenav-target-mainnav\" id=\"up_mobilenav_mainnav_item\"><span class=\"up-icon\"></span></li><li class=\"up-mobilenav-target-searchbox\" id=\"up_mobilenav_searchbox_item\"><span class=\"up-icon\"></span></li><li class=\"up-mobilenav-target-langnav\" id=\"up_mobilenav_langnav_item\"><span class=\"up-icon\"></span></li><li class=\"up-mobilenav-target-globalnav\" id=\"up_mobilenav_globalnav_item\"><span class=\"up-icon\"></span></li></ul></div></div></div></div><div class=\"show-for-small\" id=\"up_mobilesubnav_wrapper_small\"><div class=\"up-mobilenav-level-2\" id=\"up_mainnav_small\"><ul class=\"up-mobilesubnav-level-1\"><li><div><span class=\"up-mobilesubnav-level-1-title\">UP entdecken</span><span class=\"up-mobilesubnav-arrow up-icon\"></span></div><ul class=\"up-mobilesubnav-level-2\"><li><a href=\"https://www.uni-potsdam.de/de/up-entdecken/\" target=\"_top\">Übersicht</a></li><li><a href=\"https://www.uni-potsdam.de/de/up-entdecken/upaktuell/uebersicht\" target=\"_top\">Aktuelle Themen</a></li><li><a href=\"https://www.uni-potsdam.de/de/up-entdecken/upkompakt/uebersicht\" target=\"_top\">UP kompakt</a></li><li><a href=\"https://www.uni-potsdam.de/de/up-entdecken/up-vor-ort/uebersicht\" target=\"_top\">UP vor Ort</a></li><li><a href=\"https://www.uni-potsdam.de/de/up-entdecken/up-erleben/uebersicht\" target=\"_top\">UP erleben</a></li><li class=\"last\"><a href=\"https://www.uni-potsdam.de/de/up-entdecken/up-im-portraet/uebersicht\" target=\"_top\">UP im Porträt</a></li></ul></li><li><div><span class=\"up-mobilesubnav-level-1-title\">Fakultäten</span><span class=\"up-mobilesubnav-arrow up-icon\"></span></div><ul class=\"up-mobilesubnav-level-2\"><li><a href=\"/de/fakultaeten/uebersicht\">Übersicht</a></li><li><a href=\"https://www.uni-potsdam.de/de/jura/\" target=\"_top\">Juristische Fakultät</a></li><li><a href=\"https://www.uni-potsdam.de/de/philfak/\" target=\"_top\">Philosophische Fakultät</a></li><li><a href=\"https://www.uni-potsdam.de/de/humfak/\" target=\"_top\">Humanwissenschaftliche Fakultät</a></li><li><a href=\"https://www.uni-potsdam.de/de/wiso/\" target=\"_top\">Wirtschafts- und Sozialwissenschaftliche Fakultät</a></li><li><a href=\"https://www.uni-potsdam.de/de/mnfakul/\" target=\"_top\">Mathematisch-Naturwissenschaftliche Fakultät</a></li><li><a href=\"https://www.uni-potsdam.de/de/digital-engineering/\" target=\"_top\">Digital Engineering Fakultät</a></li><li class=\"last\"><a href=\"/de/fakultaeten/fakultaet-fuer-gesundheitswissenschaften\">Fakultät für Gesundheitswissenschaften</a></li></ul></li><li><div><span class=\"up-mobilesubnav-level-1-title\">Organisation</span><span class=\"up-mobilesubnav-arrow up-icon\"></span></div><ul class=\"up-mobilesubnav-level-2\"><li><a href=\"/de/organisation/uebersicht\">Übersicht</a></li><li><a href=\"/de/organisation/organe-gremien\">Organe und Gremien</a></li><li><a href=\"/de/organisation/universitaetsleitung-und-verwaltung\">Universitätsleitung und Verwaltung</a></li><li><a href=\"/de/organisation/zentrale-und-wissenschaftliche-einrichtungen\">Zentrale und wissenschaftliche Einrichtungen</a></li><li><a href=\"https://www.ub.uni-potsdam.de/ub.html\" target=\"_top\">Bibliothek</a></li><li class=\"last\"><a href=\"/de/organisation/weitere-einrichtungen\">Weitere Einrichtungen</a></li></ul></li><li><div><span class=\"up-mobilesubnav-level-1-title\">Campus International</span><span class=\"up-mobilesubnav-arrow up-icon\"></span></div><ul class=\"up-mobilesubnav-level-2\"><li><a href=\"https://www.uni-potsdam.de/de/international/\" target=\"_top\">Übersicht</a></li><li><a href=\"https://www.uni-potsdam.de/de/international/profil/uebersicht\" target=\"_top\">Profil International</a></li><li><a href=\"https://www.uni-potsdam.de/de/international/service/uebersicht\" target=\"_top\">Service an der UP</a></li><li><a href=\"https://www.uni-potsdam.de/de/international/outgoing/uebersicht\" target=\"_top\">Ins Ausland</a></li><li><a href=\"https://www.uni-potsdam.de/de/international/incoming/uebersicht\" target=\"_top\">Aus dem Ausland</a></li><li class=\"last\"><a href=\"https://www.uni-potsdam.de/de/international/projekte/uebersicht\" target=\"_top\">Projekte International</a></li></ul></li><li><div><span class=\"up-mobilesubnav-level-1-title\">Wirtschaft, Transfer und Gesellschaft</span><span class=\"up-mobilesubnav-arrow up-icon\"></span></div><ul class=\"up-mobilesubnav-level-2\"><li><a href=\"https://www.uni-potsdam.de/de/wirtschaft-transfer-gesellschaft/\" target=\"_top\">Übersicht</a></li><li><a href=\"https://www.uni-potsdam.de/de/wirtschaft-transfer-gesellschaft/piw/piw\" target=\"_top\">Partnerkreis Industrie und Wirtschaft</a></li><li><a href=\"https://www.uni-potsdam.de/de/wirtschaft-transfer-gesellschaft/services-fuer-unternehmen/uebersicht\" target=\"_top\">Services für Unternehmen</a></li><li><a href=\"https://www.uni-potsdam.de/de/wirtschaft-transfer-gesellschaft/gruendung-und-transfer/uebersicht\" target=\"_top\">Gründung und Transfer</a></li><li><a href=\"https://www.uni-potsdam.de/de/wirtschaft-transfer-gesellschaft/foerdern-und-stiften/uebersicht\" target=\"_top\">Fördern und Stiften</a></li><li class=\"last\"><a href=\"https://www.uni-potsdam.de/de/wirtschaft-transfer-gesellschaft/weiterbildung/weiterbildungsangebote\" target=\"_top\">Weiterbildung</a></li></ul></li><li class=\"close last\"><div class=\"up-nav-close\"><span class=\"up-nav-close-title up-nav-close-btn\">Schliessen</span></div></li></ul></div><div class=\"up-mobilenav-level-2\" id=\"up_searchboxnav_small\"><ul class=\"up-mobilesubnav-level-1\"><li><div><div class=\"up-mobilesubnav-level-1-title\"><form action=\"https://www.google.de/search\" target=\"_blank\"><input id=\"up_searchboxsmall_input\" name=\"q\" onblur=\"if(this.value=='') this.value='Suche';\" onfocus=\"if(this.value=='Suche') this.value='';\" type=\"text\" value=\"Suche\"/><input class=\"up-icon\" id=\"up_searchboxsmall_submit\" name=\"submit\" type=\"submit\" value=\"\"><input name=\"sitesearch\" type=\"hidden\" value=\"www.uni-potsdam.de\"/></input></form></div></div></li><li class=\"close last\"><div class=\"up-nav-close\"><span class=\"up-nav-close-title up-nav-close-btn\"> Schliessen </span></div></li></ul></div><div class=\"up-mobilenav-level-2\" id=\"up_langnav_small\"><ul class=\"up-mobilesubnav-level-1\"><li><div><span class=\"up-mobilesubnav-level-1-title\"><a href=\"/en/headlines-and-featured-stories\">English</a></span></div></li><li class=\"not-existing\"><div><span class=\"up-mobilesubnav-level-1-title\">Neues aus der UP</span></div></li><li class=\"not-existing\"><div><span class=\"up-mobilesubnav-level-1-title\">Neues aus der UP</span></div></li><li class=\"not-existing\"><div><span class=\"up-mobilesubnav-level-1-title\">Neues aus der UP</span></div></li><li class=\"close last\"><div class=\"up-nav-close\"><span class=\"up-nav-close-title up-nav-close-btn\"></span></div></li></ul></div><div class=\"up-mobilenav-level-2\" id=\"up_globalnav_small\"><ul class=\"up-mobilesubnav-level-1\"><li><div><span class=\"up-mobilesubnav-level-1-title\">Studium</span><span class=\"up-mobilesubnav-arrow up-icon\"></span></div><ul class=\"up-mobilesubnav-level-2\"><li><a href=\"https://www.uni-potsdam.de/de/studium/\" target=\"_top\">Studieren an der UP</a></li><li><a href=\"https://www.uni-potsdam.de/de/studium/studienangebot/uebersicht\" target=\"_top\">Studienangebot</a></li><li><a href=\"https://www.uni-potsdam.de/de/studium/zugang/uebersicht\" target=\"_top\">Bewerbung und Immatrikulation</a></li><li><a href=\"https://www.uni-potsdam.de/de/studium/konkret/uebersicht\" target=\"_top\">Studium konkret</a></li><li><a href=\"https://www.uni-potsdam.de/de/studium/beratung/uebersicht\" target=\"_top\">Beratungs- und Serviceeinrichtungen</a></li><li class=\"last\"><a href=\"https://www.uni-potsdam.de/de/studium/termine/uebersicht\" target=\"_top\">Termine und Fristen</a></li></ul></li><li><div><span class=\"up-mobilesubnav-level-1-title\">Forschung</span><span class=\"up-mobilesubnav-arrow up-icon\"></span></div><ul class=\"up-mobilesubnav-level-2\"><li><a href=\"https://www.uni-potsdam.de/de/forschung/\" target=\"_top\">Forschen an der UP</a></li><li><a href=\"https://www.uni-potsdam.de/de/forschung/profile-programme-projekte/uebersicht\" target=\"_top\">Profile, Programme und Projekte</a></li><li><a href=\"https://www.uni-potsdam.de/de/forschung/forschungsfoerderung/uebersicht\" target=\"_top\">Forschungsförderung</a></li><li><a href=\"https://www.uni-potsdam.de/de/forschungsdaten/\" target=\"_top\">Forschungsdaten</a></li><li><a href=\"https://www.uni-potsdam.de/de/forschung/kooperationen-partnerschaften/uebersicht\" target=\"_top\">Kooperationen und Partnerschaften</a></li><li class=\"last\"><a href=\"https://www.uni-potsdam.de/de/forschung/wissenschaftlicher-nachwuchs/uebersicht\" target=\"_top\">Wissenschaftlicher Nachwuchs</a></li></ul></li><li><div><span class=\"up-mobilesubnav-level-1-title\">Universität</span><span class=\"up-mobilesubnav-arrow up-icon\"></span></div><ul class=\"up-mobilesubnav-level-2\"><li><a href=\"https://www.uni-potsdam.de/de/up-entdecken/\" target=\"_top\">UP entdecken</a></li><li><a href=\"/de/fakultaeten/uebersicht\">Fakultäten</a></li><li><a href=\"/de/organisation/uebersicht\">Organisation</a></li><li><a href=\"https://www.uni-potsdam.de/de/wirtschaft-transfer-gesellschaft/\" target=\"_top\">Wirtschaft, Transfer und Gesellschaft</a></li><li><a href=\"https://www.uni-potsdam.de/de/international/\" target=\"_top\">Campus International</a></li><li><a href=\"https://www.uni-potsdam.de/de/foerderung/index\" target=\"_top\">Förderinstrumente</a></li><li class=\"last\"><a href=\"https://www.uni-potsdam.de/de/arbeiten-an-der-up/\" target=\"_top\">Arbeiten an der UP</a></li></ul></li><li><div><span class=\"up-mobilesubnav-level-1-title\">Online-Dienste</span><span class=\"up-mobilesubnav-arrow up-icon\"></span></div><ul class=\"up-mobilesubnav-level-2\"><li><a href=\"https://www.intern.uni-potsdam.de\" target=\"_top\">Intranet</a></li><li><a href=\"https://bi.uni-potsdam.de/jasperserver-pro/login.html\" target=\"_top\">BI.UP</a></li><li><a href=\"https://mailup.uni-potsdam.de\" target=\"_top\">Mail.UP (Webmailbox)</a></li><li><a href=\"https://puls.uni-potsdam.de/qisserver/rds?state=user&amp;type=0&amp;application=lsf\" target=\"_top\">PULS</a></li><li><a href=\"https://moodle2.uni-potsdam.de\" target=\"_top\">Moodle</a></li><li><a href=\"https://www.ub.uni-potsdam.de/de/\" target=\"_top\">Universitätsbibliothek</a></li><li><a href=\"https://pep.uni-potsdam.de\" target=\"_top\">Evaluationsportal (PEP)</a></li><li><a href=\"https://www.uni-potsdam.de/de/praxisportal/\" target=\"_top\">Praxisportal</a></li><li class=\"last\"><a href=\"https://www.uni-potsdam.de/de/zim/\" target=\"_top\">ZIM</a></li></ul></li><li class=\"up-metanav-item\"><a href=\"/de/\">Uni-Startseite</a></li><li class=\"up-metanav-item\"><a href=\"/de/notfall\">Notfall</a></li><li class=\"up-metanav-item\"><a href=\"/de/index-a-z\">Uni A-Z</a></li><li class=\"up-metanav-item\"><a href=\"/de/adressen\">Adressen</a></li><li class=\"close last\"><div class=\"up-nav-close\"><span class=\"up-nav-close-title up-nav-close-btn\"></span></div></li></ul></div></div><div id=\"up_header_wrapper\"><div class=\"eight columns hide-for-small\" id=\"up_section_indicator_left\"></div><div class=\"row hide-for-small\" id=\"up_header\"><div class=\"twentyfour columns\"><div class=\"row\"><div class=\"eight columns mobile-four\"><div id=\"up_section_indicator\"><div class=\"up-logo\" id=\"up_page_title\"><div id=\"up_logo_indicator_wrapper\"><div id=\"up_logo_indicator\"><span> </span></div><div id=\"up_logo_image\"><a href=\"/de/\" title=\"zur Uni-Startseite\"><img alt=\"Logo Universität Potsdam\" src=\"/typo3conf/ext/up_template/Resources/Public/Images/logos/up_logo_university_2.png\"/></a></div><div id=\"up_logo_title\"><a href=\"/de/\" title=\"zur Startseite des Bereichs Universität Potsdam\">Universität Potsdam</a></div><div id=\"up_logo_footer\"></div></div></div></div></div><div class=\"sixteen columns\"><div class=\"row\"><div class=\"twentyfour columns\"><div class=\"right\" id=\"up_searchbox\"><span class=\"up-searchbox-glass up-icon\"></span><div class=\"up-searchbox-field\"><form action=\"https://www.google.de/search\" target=\"_blank\"><input id=\"up_searchbox_input\" name=\"q\" onblur=\"if(this.value=='') this.value='Suche auf uni-potsdam.de';\" onfocus=\"if(this.value=='Suche auf uni-potsdam.de') this.value='';\" type=\"text\" value=\"Suche auf uni-potsdam.de\"/><input class=\"up-icon\" id=\"up_searchbox_submit\" name=\"submit\" type=\"submit\" value=\"\"><input name=\"sitesearch\" type=\"hidden\" value=\"www.uni-potsdam.de\"/></input></form></div></div><div class=\"right\" id=\"up_langnav\"><ul class=\"up-langnav-level-1\"><li><div><span class=\"up-langnav-level-1-title up-icon\">Deutsch</span><span class=\"up-langnav-arrow up-icon\"></span></div><ul class=\"up-langnav-level-2\"><li><a href=\"/en/headlines-and-featured-stories\">English</a></li><li class=\"not-existing\"> </li><li class=\"not-existing\"> </li><li class=\"not-existing\"> </li></ul></li></ul></div><div id=\"up_metanav\"><ul class=\"inline-list right\"><li><a href=\"/de/\">Uni-Startseite</a></li><li><a href=\"/de/notfall\">Notfall</a></li><li><a href=\"/de/index-a-z\">Uni A-Z</a></li><li><a href=\"/de/adressen\">Adressen</a></li></ul></div></div></div><div class=\"row\"><div class=\"twentyfour columns\"><div id=\"up_globalnav\"><ul class=\"up-globalnav-level-1\"><li><div><span class=\"up-globalnav-level-1-title\">Studium</span><span class=\"up-globalnav-arrow up-icon\"></span></div><ul class=\"up-globalnav-level-2\"><li><a href=\"https://www.uni-potsdam.de/de/studium/\" target=\"_top\">Studieren an der UP</a></li><li><a href=\"https://www.uni-potsdam.de/de/studium/studienangebot/uebersicht\" target=\"_top\">Studienangebot</a></li><li><a href=\"https://www.uni-potsdam.de/de/studium/zugang/uebersicht\" target=\"_top\">Bewerbung und Immatrikulation</a></li><li><a href=\"https://www.uni-potsdam.de/de/studium/konkret/uebersicht\" target=\"_top\">Studium konkret</a></li><li><a href=\"https://www.uni-potsdam.de/de/studium/beratung/uebersicht\" target=\"_top\">Beratungs- und Serviceeinrichtungen</a></li><li class=\"last\"><a href=\"https://www.uni-potsdam.de/de/studium/termine/uebersicht\" target=\"_top\">Termine und Fristen</a></li></ul></li><li><div><span class=\"up-globalnav-level-1-title\">Forschung</span><span class=\"up-globalnav-arrow up-icon\"></span></div><ul class=\"up-globalnav-level-2\"><li><a href=\"https://www.uni-potsdam.de/de/forschung/\" target=\"_top\">Forschen an der UP</a></li><li><a href=\"https://www.uni-potsdam.de/de/forschung/profile-programme-projekte/uebersicht\" target=\"_top\">Profile, Programme und Projekte</a></li><li><a href=\"https://www.uni-potsdam.de/de/forschung/forschungsfoerderung/uebersicht\" target=\"_top\">Forschungsförderung</a></li><li><a href=\"https://www.uni-potsdam.de/de/forschungsdaten/\" target=\"_top\">Forschungsdaten</a></li><li><a href=\"https://www.uni-potsdam.de/de/forschung/kooperationen-partnerschaften/uebersicht\" target=\"_top\">Kooperationen und Partnerschaften</a></li><li class=\"last\"><a href=\"https://www.uni-potsdam.de/de/forschung/wissenschaftlicher-nachwuchs/uebersicht\" target=\"_top\">Wissenschaftlicher Nachwuchs</a></li></ul></li><li><div><span class=\"up-globalnav-level-1-title\">Universität</span><span class=\"up-globalnav-arrow up-icon\"></span></div><ul class=\"up-globalnav-level-2\"><li><a href=\"https://www.uni-potsdam.de/de/up-entdecken/\" target=\"_top\">UP entdecken</a></li><li><a href=\"/de/fakultaeten/uebersicht\">Fakultäten</a></li><li><a href=\"/de/organisation/uebersicht\">Organisation</a></li><li><a href=\"https://www.uni-potsdam.de/de/wirtschaft-transfer-gesellschaft/\" target=\"_top\">Wirtschaft, Transfer und Gesellschaft</a></li><li><a href=\"https://www.uni-potsdam.de/de/international/\" target=\"_top\">Campus International</a></li><li><a href=\"https://www.uni-potsdam.de/de/foerderung/index\" target=\"_top\">Förderinstrumente</a></li><li class=\"last\"><a href=\"https://www.uni-potsdam.de/de/arbeiten-an-der-up/\" target=\"_top\">Arbeiten an der UP</a></li></ul></li><li class=\"last\"><div><span class=\"up-globalnav-level-1-title\">Online-Dienste</span><span class=\"up-globalnav-arrow up-icon\"></span></div><ul class=\"up-globalnav-level-2\"><li><a href=\"https://www.intern.uni-potsdam.de\" target=\"_top\">Intranet</a></li><li><a href=\"https://bi.uni-potsdam.de/jasperserver-pro/login.html\" target=\"_top\">BI.UP</a></li><li><a href=\"https://mailup.uni-potsdam.de\" target=\"_top\">Mail.UP (Webmailbox)</a></li><li><a href=\"https://puls.uni-potsdam.de/qisserver/rds?state=user&amp;type=0&amp;application=lsf\" target=\"_top\">PULS</a></li><li><a href=\"https://moodle2.uni-potsdam.de\" target=\"_top\">Moodle</a></li><li><a href=\"https://www.ub.uni-potsdam.de/de/\" target=\"_top\">Universitätsbibliothek</a></li><li><a href=\"https://pep.uni-potsdam.de\" target=\"_top\">Evaluationsportal (PEP)</a></li><li><a href=\"https://www.uni-potsdam.de/de/praxisportal/\" target=\"_top\">Praxisportal</a></li><li class=\"last\"><a href=\"https://www.uni-potsdam.de/de/zim/\" target=\"_top\">ZIM</a></li></ul></li></ul></div></div></div></div></div></div></div><div class=\"row show-for-small\" id=\"up_header_small\"><div class=\"columns mobile-four up-header-small-logo\"><div id=\"up_logo_indicator_wrapper_small\"><div id=\"up_logo_image_small\"><a href=\"/de/\" title=\"zur Uni-Startseite\"><img alt=\"Logo Universität Potsdam\" src=\"/typo3conf/ext/up_template/Resources/Public/Images/logos/up_logo_university_2.png\"/></a></div><div id=\"up_logo_title_small\"><a href=\"/de/\" title=\"zur Startseite des Bereichs Universität Potsdam\">Universität Potsdam</a></div><div id=\"up_logo_footer_small\"></div></div></div></div></div><div class=\"hide-for-small\" id=\"up_mainnav_wrapper\"><div class=\"row\"><div class=\"twentyfour columns\"><div id=\"up_mainnav\"><ul class=\"up-mainnav-level-1 up-smooth-box up-mainnav-width-5\"><li><div><span class=\"up-mainnav-level-1-title\">UP entdecken</span><span class=\"up-mainnav-arrow up-icon\"></span></div><ul class=\"up-mainnav-level-2\"><li><a href=\"https://www.uni-potsdam.de/de/up-entdecken/\" target=\"_top\">Übersicht</a></li><li><a href=\"https://www.uni-potsdam.de/de/up-entdecken/upaktuell/uebersicht\" target=\"_top\">Aktuelle Themen</a></li><li><a href=\"https://www.uni-potsdam.de/de/up-entdecken/upkompakt/uebersicht\" target=\"_top\">UP kompakt</a></li><li><a href=\"https://www.uni-potsdam.de/de/up-entdecken/up-vor-ort/uebersicht\" target=\"_top\">UP vor Ort</a></li><li><a href=\"https://www.uni-potsdam.de/de/up-entdecken/up-erleben/uebersicht\" target=\"_top\">UP erleben</a></li><li class=\"last\"><a href=\"https://www.uni-potsdam.de/de/up-entdecken/up-im-portraet/uebersicht\" target=\"_top\">UP im Porträt</a></li></ul></li><li><div><span class=\"up-mainnav-level-1-title\">Fakultäten</span><span class=\"up-mainnav-arrow up-icon\"></span></div><ul class=\"up-mainnav-level-2\"><li><a href=\"/de/fakultaeten/uebersicht\">Übersicht</a></li><li><a href=\"https://www.uni-potsdam.de/de/jura/\" target=\"_top\">Juristische Fakultät</a></li><li><a href=\"https://www.uni-potsdam.de/de/philfak/\" target=\"_top\">Philosophische Fakultät</a></li><li><a href=\"https://www.uni-potsdam.de/de/humfak/\" target=\"_top\">Humanwissenschaftliche Fakultät</a></li><li><a href=\"https://www.uni-potsdam.de/de/wiso/\" target=\"_top\">Wirtschafts- und Sozialwissenschaftliche Fakultät</a></li><li><a href=\"https://www.uni-potsdam.de/de/mnfakul/\" target=\"_top\">Mathematisch-Naturwissenschaftliche Fakultät</a></li><li><a href=\"https://www.uni-potsdam.de/de/digital-engineering/\" target=\"_top\">Digital Engineering Fakultät</a></li><li class=\"last\"><a href=\"/de/fakultaeten/fakultaet-fuer-gesundheitswissenschaften\">Fakultät für Gesundheitswissenschaften</a></li></ul></li><li><div><span class=\"up-mainnav-level-1-title\">Organisation</span><span class=\"up-mainnav-arrow up-icon\"></span></div><ul class=\"up-mainnav-level-2\"><li><a href=\"/de/organisation/uebersicht\">Übersicht</a></li><li><a href=\"/de/organisation/organe-gremien\">Organe und Gremien</a></li><li><a href=\"/de/organisation/universitaetsleitung-und-verwaltung\">Universitätsleitung und Verwaltung</a></li><li><a href=\"/de/organisation/zentrale-und-wissenschaftliche-einrichtungen\">Zentrale und wissenschaftliche Einrichtungen</a></li><li><a href=\"https://www.ub.uni-potsdam.de/ub.html\" target=\"_top\">Bibliothek</a></li><li class=\"last\"><a href=\"/de/organisation/weitere-einrichtungen\">Weitere Einrichtungen</a></li></ul></li><li><div><span class=\"up-mainnav-level-1-title\">Campus International</span><span class=\"up-mainnav-arrow up-icon\"></span></div><ul class=\"up-mainnav-level-2\"><li><a href=\"https://www.uni-potsdam.de/de/international/\" target=\"_top\">Übersicht</a></li><li><a href=\"https://www.uni-potsdam.de/de/international/profil/uebersicht\" target=\"_top\">Profil International</a></li><li><a href=\"https://www.uni-potsdam.de/de/international/service/uebersicht\" target=\"_top\">Service an der UP</a></li><li><a href=\"https://www.uni-potsdam.de/de/international/outgoing/uebersicht\" target=\"_top\">Ins Ausland</a></li><li><a href=\"https://www.uni-potsdam.de/de/international/incoming/uebersicht\" target=\"_top\">Aus dem Ausland</a></li><li class=\"last\"><a href=\"https://www.uni-potsdam.de/de/international/projekte/uebersicht\" target=\"_top\">Projekte International</a></li></ul></li><li class=\"last\"><div><span class=\"up-mainnav-level-1-title\">Wirtschaft, Transfer und Gesellschaft</span><span class=\"up-mainnav-arrow up-icon\"></span></div><ul class=\"up-mainnav-level-2\"><li><a href=\"https://www.uni-potsdam.de/de/wirtschaft-transfer-gesellschaft/\" target=\"_top\">Übersicht</a></li><li><a href=\"https://www.uni-potsdam.de/de/wirtschaft-transfer-gesellschaft/piw/piw\" target=\"_top\">Partnerkreis Industrie und Wirtschaft</a></li><li><a href=\"https://www.uni-potsdam.de/de/wirtschaft-transfer-gesellschaft/services-fuer-unternehmen/uebersicht\" target=\"_top\">Services für Unternehmen</a></li><li><a href=\"https://www.uni-potsdam.de/de/wirtschaft-transfer-gesellschaft/gruendung-und-transfer/uebersicht\" target=\"_top\">Gründung und Transfer</a></li><li><a href=\"https://www.uni-potsdam.de/de/wirtschaft-transfer-gesellschaft/foerdern-und-stiften/uebersicht\" target=\"_top\">Fördern und Stiften</a></li><li class=\"last\"><a href=\"https://www.uni-potsdam.de/de/wirtschaft-transfer-gesellschaft/weiterbildung/weiterbildungsangebote\" target=\"_top\">Weiterbildung</a></li></ul></li></ul><div class=\"up-nav-close\"><span class=\"up-nav-close-title up-nav-close-btn\">Schliessen</span></div></div></div></div></div><div class=\"hide-for-small\" id=\"up_breadcrumbs_wrapper\"><div class=\"row\"><div class=\"twentyfour columns\"><div id=\"up_breadcrumbs\"><ul class=\"up-breadcrumbs\"><li class=\"first\"><span><a href=\"/de/\"><span class=\"up-breadcrumb-home up-icon\"></span>Universität Potsdam</a></span></li><li class=\"cur\"><span>Neues aus der UP</span></li></ul></div></div></div></div><div class=\"up-content-subpage-2-template\" id=\"up_content_wrapper\"><div class=\"row show-for-small\"><div class=\"twentyfour columns\"><div class=\"dl-menuwrapper\" id=\"up_subpagenav_small\"><div class=\"up-subpagenav-top-parent dl-trigger\"><div class=\"up-subpagenav-indicator up-icon\"></div><a href=\"/de/nachrichten\">Universität Potsdam</a></div><ul class=\"up-subpagenav-list dl-menu\"><li class=\"has-sub\"><div><a href=\"/de/veranstaltungen\">Veranstaltungen der UP</a><span class=\"up-subpagenav-indicator up-icon\"></span></div><ul class=\"up-subpagenav-list dl-submenu\"><li><div><a href=\"/de/veranstaltungen/veranstaltung-eintragen\">Veranstaltung eintragen</a><span class=\"up-subpagenav-indicator up-icon\"></span></div></li></ul></li><li class=\"cur\"><div><a href=\"/de/nachrichten\">Neues aus der UP</a><span class=\"up-subpagenav-indicator up-icon\"></span></div></li><li><div><a href=\"/de/medieninformationen\">Medieninformationen der UP</a><span class=\"up-subpagenav-indicator up-icon\"></span></div></li><li class=\"close last dl-trigger\"><div class=\"up-nav-close\"><span class=\"up-nav-close-title up-nav-close-btn\"></span></div></li></ul></div></div></div><div class=\"row\"><div class=\"six columns hide-for-small\"><div id=\"up_subpagenav\"><ul class=\"up-subpagenav-level-1\"><li class=\"has-sub\"><div><a href=\"/de/veranstaltungen\">Veranstaltungen der UP</a><span class=\"up-subpagenav-indicator up-icon\"></span></div><ul class=\"up-subpagenav-level-2\"><li class=\"last\"><div><a href=\"/de/veranstaltungen/veranstaltung-eintragen\">Veranstaltung eintragen</a><span class=\"up-subpagenav-indicator up-icon\"></span></div></li></ul></li><li class=\"cur\"><div><a href=\"/de/nachrichten\">Neues aus der UP</a><span class=\"up-subpagenav-indicator up-icon\"></span></div></li><li class=\"last\"><div><a href=\"/de/medieninformationen\">Medieninformationen der UP</a><span class=\"up-subpagenav-indicator up-icon\"></span></div></li></ul></div></div><div class=\"eighteen columns\"><div id=\"up_content\"><div id=\"c1598\"><header><h1 class=\"\"> Neues aus der Universität Potsdam </h1></header></div><div id=\"c501164\"><div class=\"news\"><div class=\"up-news-list-catmenu\"><a href=\"/de/nachrichten\">Sachgebiete<span class=\"up-news-list-catmenu-indicator up-icon\"></span></a><ul class=\"up-news-list-catmenu-items\"><li><span class=\"\"><a href=\"/de/nachrichten/page?tx_news_pi1%5BoverwriteDemand%5D%5Bcategories%5D=1&amp;cHash=788e076cf73fb340bec157841c94444d\" title=\"Allgemein\"> Allgemein </a></span></li><li><span class=\"\"><a href=\"/de/nachrichten/page?tx_news_pi1%5BoverwriteDemand%5D%5Bcategories%5D=164&amp;cHash=0a9f6e8fc49542289016c0e9745acf8d\" title=\"Allgemeine Hochschultermine\"> Allgemeine Hochschultermine </a></span></li><li><span class=\"\"><a href=\"/de/nachrichten/page?tx_news_pi1%5BoverwriteDemand%5D%5Bcategories%5D=90&amp;cHash=fa9587c6a987d0432669bb4255678781\" title=\"Alumni\"> Alumni </a></span></li><li><span class=\"\"><a href=\"/de/nachrichten/page?tx_news_pi1%5BoverwriteDemand%5D%5Bcategories%5D=91&amp;cHash=e1457150de04d890c8f0ee97ecd8c207\" title=\"Anglistik und Amerikanistik\"> Anglistik und Amerikanistik </a></span></li><li><span class=\"\"><a href=\"/de/nachrichten/page?tx_news_pi1%5BoverwriteDemand%5D%5Bcategories%5D=92&amp;cHash=3da6effe7321243ba527d18ce78f3238\" title=\"Astronomie\"> Astronomie </a></span></li><li><span class=\"\"><a href=\"/de/nachrichten/page?tx_news_pi1%5BoverwriteDemand%5D%5Bcategories%5D=166&amp;cHash=20ae58330968dbeed0da86f50f693bb3\" title=\"Astrophysik\"> Astrophysik </a></span></li><li><span class=\"\"><a href=\"/de/nachrichten/page?tx_news_pi1%5BoverwriteDemand%5D%5Bcategories%5D=93&amp;cHash=ce77d244859d4b2f99371f17eccdfe06\" title=\"Betriebswirtschaftslehre\"> Betriebswirtschaftslehre </a></span></li><li><span class=\"\"><a href=\"/de/nachrichten/page?tx_news_pi1%5BoverwriteDemand%5D%5Bcategories%5D=127&amp;cHash=81158e74926e78a3092ff742a01d6d32\" title=\"Bildungswissenschaften\"> Bildungswissenschaften </a></span></li><li><span class=\"\"><a href=\"/de/nachrichten/page?tx_news_pi1%5BoverwriteDemand%5D%5Bcategories%5D=94&amp;cHash=b61b670efe3edb8d9fc6914bed4ab17f\" title=\"Biochemie\"> Biochemie </a></span></li><li><span class=\"\"><a href=\"/de/nachrichten/page?tx_news_pi1%5BoverwriteDemand%5D%5Bcategories%5D=95&amp;cHash=aaa515cb0a51b25c21b97025b2f5a6e0\" title=\"Biologie\"> Biologie </a></span></li><li><span class=\"\"><a href=\"/de/nachrichten/page?tx_news_pi1%5BoverwriteDemand%5D%5Bcategories%5D=96&amp;cHash=7bc9f9dab01644bfc1db031ca0f50205\" title=\"Botanischer Garten\"> Botanischer Garten </a></span></li><li><span class=\"\"><a href=\"/de/nachrichten/page?tx_news_pi1%5BoverwriteDemand%5D%5Bcategories%5D=97&amp;cHash=5a30cf4a042047c08d4d0c904c6a98eb\" title=\"Career Service\"> Career Service </a></span></li><li><span class=\"\"><a href=\"/de/nachrichten/page?tx_news_pi1%5BoverwriteDemand%5D%5Bcategories%5D=168&amp;cHash=509b826442476d666b98fef61ef32ff5\" title=\"Chancengleichheit\"> Chancengleichheit </a></span></li><li><span class=\"\"><a href=\"/de/nachrichten/page?tx_news_pi1%5BoverwriteDemand%5D%5Bcategories%5D=98&amp;cHash=dfbb895898f4defcc0b48a2464566763\" title=\"Chemie\"> Chemie </a></span></li><li><span class=\"\"><a href=\"/de/nachrichten/page?tx_news_pi1%5BoverwriteDemand%5D%5Bcategories%5D=202&amp;cHash=cbda297039c08f45bcc00c179c283ba0\" title=\"DFG-Research Training Group WIPCAD\"> DFG-Research Training Group WIPCAD </a></span></li><li><span class=\"\"><a href=\"/de/nachrichten/page?tx_news_pi1%5BoverwriteDemand%5D%5Bcategories%5D=230&amp;cHash=fcacf7dcf09bc6e5218194bed5d38a4c\" title=\"Digital Engineering Fakultät\"> Digital Engineering Fakultät </a></span></li><li><span class=\"\"><a href=\"/de/nachrichten/page?tx_news_pi1%5BoverwriteDemand%5D%5Bcategories%5D=248&amp;cHash=cd79b7dc431d3014c6eeed1f6c87b6fa\" title=\"Digitalisierung\"> Digitalisierung </a></span></li><li><span class=\"\"><a href=\"/de/nachrichten/page?tx_news_pi1%5BoverwriteDemand%5D%5Bcategories%5D=232&amp;cHash=f51977f6a68ebada8a25a8c58a5b53bf\" title=\"Earth Surface Dynamics\"> Earth Surface Dynamics </a></span></li><li><span class=\"\"><a href=\"/de/nachrichten/page?tx_news_pi1%5BoverwriteDemand%5D%5Bcategories%5D=99&amp;cHash=42c5a7b343a1fefad5e5cda118fc728e\" title=\"E-Learning\"> E-Learning </a></span></li><li><span class=\"\"><a href=\"/de/nachrichten/page?tx_news_pi1%5BoverwriteDemand%5D%5Bcategories%5D=100&amp;cHash=33ca3cb3e50899a80e83e3514b5c7148\" title=\"Erd- und Umweltwissenschaften\"> Erd- und Umweltwissenschaften </a></span></li><li><span class=\"\"><a href=\"/de/nachrichten/page?tx_news_pi1%5BoverwriteDemand%5D%5Bcategories%5D=101&amp;cHash=ba89fff3fc0e9d98767a19f554725bda\" title=\"Ernährungswissenschaft\"> Ernährungswissenschaft </a></span></li><li><span class=\"\"><a href=\"/de/nachrichten/page?tx_news_pi1%5BoverwriteDemand%5D%5Bcategories%5D=217&amp;cHash=aa720c4bb9ae5236f4a8abc46db9ed1b\" title=\"Erwachsenenbildung\"> Erwachsenenbildung </a></span></li><li><span class=\"\"><a href=\"/de/nachrichten/page?tx_news_pi1%5BoverwriteDemand%5D%5Bcategories%5D=102&amp;cHash=cebea5ffd2e1793718c3a34a43c1c671\" title=\"Erziehungswissenschaft\"> Erziehungswissenschaft </a></span></li><li><span class=\"\"><a href=\"/de/nachrichten/page?tx_news_pi1%5BoverwriteDemand%5D%5Bcategories%5D=103&amp;cHash=d0735b9936a7d2c1dc65aa391da93966\" title=\"Ethik\"> Ethik </a></span></li><li><span class=\"\"><a href=\"/de/nachrichten/page?tx_news_pi1%5BoverwriteDemand%5D%5Bcategories%5D=256&amp;cHash=cd2eaeb0eabe1939908d45997d2e5161\" title=\"Fakultät für Gesundheitswissenschaften\"> Fakultät für Gesundheitswissenschaften </a></span></li><li><span class=\"\"><a href=\"/de/nachrichten/page?tx_news_pi1%5BoverwriteDemand%5D%5Bcategories%5D=15&amp;cHash=055c95af291cb75485c743d32dba3335\" title=\"Forschung\"> Forschung </a></span></li><li><span class=\"\"><a href=\"/de/nachrichten/page?tx_news_pi1%5BoverwriteDemand%5D%5Bcategories%5D=131&amp;cHash=441a18c0cb04f7b0f5ebb562fd0d0556\" title=\"Forschungsbereich Komplexe Systeme\"> Forschungsbereich Komplexe Systeme </a></span></li><li><span class=\"\"><a href=\"/de/nachrichten/page?tx_news_pi1%5BoverwriteDemand%5D%5Bcategories%5D=129&amp;cHash=eaa8598c8ddf95902b8d81749df67ad0\" title=\"Forschungsbereich Funktionale Weiche Materie\"> Forschungsbereich Funktionale Weiche Materie </a></span></li><li><span class=\"\"><a href=\"/de/nachrichten/page?tx_news_pi1%5BoverwriteDemand%5D%5Bcategories%5D=134&amp;cHash=1855b2659aca77521fd37b4bb69a997b\" title=\"Forschungsbereich Politik, Verwaltung und Management\"> Forschungsbereich Politik, Verwaltung und Management </a></span></li><li><span class=\"\"><a href=\"/de/nachrichten/page?tx_news_pi1%5BoverwriteDemand%5D%5Bcategories%5D=254&amp;cHash=1f0510ee2d4551193e75a52ff8428e9c\" title=\"Forschungsinitiative Netzwerk Digitale Geisteswissenschaften\"> Forschungsinitiative Netzwerk Digitale Geisteswissenschaften </a></span></li><li><span class=\"\"><a href=\"/de/nachrichten/page?tx_news_pi1%5BoverwriteDemand%5D%5Bcategories%5D=255&amp;cHash=ccfc9c53ba935aa671d75f69b504f35b\" title=\"Forschungsschwerpunkt Data-Centric Sciences\"> Forschungsschwerpunkt Data-Centric Sciences </a></span></li><li><span class=\"\"><a href=\"/de/nachrichten/page?tx_news_pi1%5BoverwriteDemand%5D%5Bcategories%5D=128&amp;cHash=389a3c9911d7f698bc9777434403f60f\" title=\"Forschungsschwerpunkt Erdwissenschaften/Integrierte Erdsystemanalyse\"> Forschungsschwerpunkt Erdwissenschaften/Integrierte Erdsystemanalyse </a></span></li><li><span class=\"\"><a href=\"/de/nachrichten/page?tx_news_pi1%5BoverwriteDemand%5D%5Bcategories%5D=130&amp;cHash=b54132f7fe179c3486ae62bc59831c82\" title=\"Forschungsschwerpunkt Funktionelle Ökologie und Evolutionsforschung\"> Forschungsschwerpunkt Funktionelle Ökologie und Evolutionsforschung </a></span></li><li><span class=\"\"><a href=\"/de/nachrichten/page?tx_news_pi1%5BoverwriteDemand%5D%5Bcategories%5D=104&amp;cHash=1a282dbdada43cc99a08630a84aecfa3\" title=\"Forschungsschwerpunkt Kognitionswissenschaften\"> Forschungsschwerpunkt Kognitionswissenschaften </a></span></li><li><span class=\"\"><a href=\"/de/nachrichten/page?tx_news_pi1%5BoverwriteDemand%5D%5Bcategories%5D=133&amp;cHash=a1642a4c28ade363968274a2cec7aa00\" title=\"Forschungsschwerpunkt Pflanzengenomforschung und Systembiologie\"> Forschungsschwerpunkt Pflanzengenomforschung und Systembiologie </a></span></li><li><span class=\"\"><a href=\"/de/nachrichten/page?tx_news_pi1%5BoverwriteDemand%5D%5Bcategories%5D=105&amp;cHash=b12c3a8efd22d500e938cd9fd32bb278\" title=\"Fundraising\"> Fundraising </a></span></li><li><span class=\"\"><a href=\"/de/nachrichten/page?tx_news_pi1%5BoverwriteDemand%5D%5Bcategories%5D=106&amp;cHash=e726033d9abacafa51d90d29ec51c316\" title=\"Geographie\"> Geographie </a></span></li><li><span class=\"\"><a href=\"/de/nachrichten/page?tx_news_pi1%5BoverwriteDemand%5D%5Bcategories%5D=162&amp;cHash=3d5d54fdcae7c1c7455b0efae515a265\" title=\"Geologie\"> Geologie </a></span></li><li><span class=\"\"><a href=\"/de/nachrichten/page?tx_news_pi1%5BoverwriteDemand%5D%5Bcategories%5D=251&amp;cHash=100a1a6a663e43c551a824572152567a\" title=\"Geoökologie\"> Geoökologie </a></span></li><li><span class=\"\"><a href=\"/de/nachrichten/page?tx_news_pi1%5BoverwriteDemand%5D%5Bcategories%5D=240&amp;cHash=10a302c912360cdbaaa28e724be0ebff\" title=\"Geowissenschaften\"> Geowissenschaften </a></span></li><li><span class=\"\"><a href=\"/de/nachrichten/page?tx_news_pi1%5BoverwriteDemand%5D%5Bcategories%5D=107&amp;cHash=5b0778374b9c06b3b5f94c5d0786740c\" title=\"Germanistik\"> Germanistik </a></span></li><li><span class=\"\"><a href=\"/de/nachrichten/page?tx_news_pi1%5BoverwriteDemand%5D%5Bcategories%5D=108&amp;cHash=0b58c4616e89260295c06a575b7b9bfe\" title=\"Geschichte\"> Geschichte </a></span></li><li><span class=\"\"><a href=\"/de/nachrichten/page?tx_news_pi1%5BoverwriteDemand%5D%5Bcategories%5D=253&amp;cHash=c36c09b99a469967f7eca836b41318e4\" title=\"Gesundheitsmanagement\"> Gesundheitsmanagement </a></span></li><li><span class=\"\"><a href=\"/de/nachrichten/page?tx_news_pi1%5BoverwriteDemand%5D%5Bcategories%5D=250&amp;cHash=510cf3e458a324be6ad20c7665a24eec\" title=\"Gesundheitswissenschaften\"> Gesundheitswissenschaften </a></span></li><li><span class=\"\"><a href=\"/de/nachrichten/page?tx_news_pi1%5BoverwriteDemand%5D%5Bcategories%5D=213&amp;cHash=1d4801c90455bf23b74e5ba1a78b0ba3\" title='Graduiertenkolleg \"Minor Cosmopolitanisms\"'> Graduiertenkolleg \"Minor Cosmopolitanisms\" </a></span></li><li><span class=\"\"><a href=\"/de/nachrichten/page?tx_news_pi1%5BoverwriteDemand%5D%5Bcategories%5D=170&amp;cHash=f32248db050762141ff64864e334af23\" title=\"Gremientermine\"> Gremientermine </a></span></li><li><span class=\"\"><a href=\"/de/nachrichten/page?tx_news_pi1%5BoverwriteDemand%5D%5Bcategories%5D=247&amp;cHash=e5b99fcb3527435b707e4efa12fe3154\" title=\"Grundschulpädagogik\"> Grundschulpädagogik </a></span></li><li><span class=\"\"><a href=\"/de/nachrichten/page?tx_news_pi1%5BoverwriteDemand%5D%5Bcategories%5D=109&amp;cHash=8b0c124820b6330481458f2b2dfe355a\" title=\"Gründung und Innovation\"> Gründung und Innovation </a></span></li><li><span class=\"\"><a href=\"/de/nachrichten/page?tx_news_pi1%5BoverwriteDemand%5D%5Bcategories%5D=209&amp;cHash=42bae9d1fb10821b78607554436f430f\" title=\"Hochschuldidaktik\"> Hochschuldidaktik </a></span></li><li><span class=\"\"><a href=\"/de/nachrichten/page?tx_news_pi1%5BoverwriteDemand%5D%5Bcategories%5D=110&amp;cHash=78a30defeb0c283354ca8a8e366c58ca\" title=\"Hochschulleitung\"> Hochschulleitung </a></span></li><li><span class=\"\"><a href=\"/de/nachrichten/page?tx_news_pi1%5BoverwriteDemand%5D%5Bcategories%5D=182&amp;cHash=7f4b3506230e4e62ceeee9a56270d1db\" title=\"Hochschulpolitik\"> Hochschulpolitik </a></span></li><li><span class=\"\"><a href=\"/de/nachrichten/page?tx_news_pi1%5BoverwriteDemand%5D%5Bcategories%5D=111&amp;cHash=6ac522a6d5615413e02a3af7af26669b\" title=\"Hochschulsport\"> Hochschulsport </a></span></li><li><span class=\"\"><a href=\"/de/nachrichten/page?tx_news_pi1%5BoverwriteDemand%5D%5Bcategories%5D=112&amp;cHash=041bb97b372275396529f670be9d2705\" title=\"Hochschulverwaltung\"> Hochschulverwaltung </a></span></li><li><span class=\"\"><a href=\"/de/nachrichten/page?tx_news_pi1%5BoverwriteDemand%5D%5Bcategories%5D=194&amp;cHash=b7ff6cfb3655bd80413068e9dd9da14c\" title=\"Humanwissenschaftliche Fakultät\"> Humanwissenschaftliche Fakultät </a></span></li><li><span class=\"\"><a href=\"/de/nachrichten/page?tx_news_pi1%5BoverwriteDemand%5D%5Bcategories%5D=188&amp;cHash=42cc41c8c1f740940832a559cf0a5b51\" title=\"HumboldtArt\"> HumboldtArt </a></span></li><li><span class=\"\"><a href=\"/de/nachrichten/page?tx_news_pi1%5BoverwriteDemand%5D%5Bcategories%5D=6&amp;cHash=4f787c355bdebe014c92c147c7fdc775\" title=\"Informatik\"> Informatik </a></span></li><li><span class=\"\"><a href=\"/de/nachrichten/page?tx_news_pi1%5BoverwriteDemand%5D%5Bcategories%5D=156&amp;cHash=d0d1618043bec17e76905ff76694a5e9\" title=\"Informationsverarbeitung und Kommunikation\"> Informationsverarbeitung und Kommunikation </a></span></li><li><span class=\"\"><a href=\"/de/nachrichten/page?tx_news_pi1%5BoverwriteDemand%5D%5Bcategories%5D=4&amp;cHash=09c756c3f0b1c692806a8a84c0b2b2ef\" title=\"Internationales\"> Internationales </a></span></li><li><span class=\"\"><a href=\"/de/nachrichten/page?tx_news_pi1%5BoverwriteDemand%5D%5Bcategories%5D=7&amp;cHash=37251c39a9b609207c963407ccce2094\" title=\"Jüdische Studien\"> Jüdische Studien </a></span></li><li><span class=\"\"><a href=\"/de/nachrichten/page?tx_news_pi1%5BoverwriteDemand%5D%5Bcategories%5D=114&amp;cHash=645bb326b20d5986ee609cfb5cc5ca1f\" title=\"Jüdische Theologie\"> Jüdische Theologie </a></span></li><li><span class=\"\"><a href=\"/de/nachrichten/page?tx_news_pi1%5BoverwriteDemand%5D%5Bcategories%5D=190&amp;cHash=f53acdd3804626dfdb91a097066d5fd8\" title=\"Juristische Fakultät\"> Juristische Fakultät </a></span></li><li><span class=\"\"><a href=\"/de/nachrichten/page?tx_news_pi1%5BoverwriteDemand%5D%5Bcategories%5D=115&amp;cHash=7f38eff233da4f24467d32c365b025d4\" title=\"Klassische Philologie\"> Klassische Philologie </a></span></li><li><span class=\"\"><a href=\"/de/nachrichten/page?tx_news_pi1%5BoverwriteDemand%5D%5Bcategories%5D=249&amp;cHash=609805f4edf78cbb8cfdf88133116657\" title=\"Klima\"> Klima </a></span></li><li><span class=\"\"><a href=\"/de/nachrichten/page?tx_news_pi1%5BoverwriteDemand%5D%5Bcategories%5D=116&amp;cHash=a597a443827c635f4ae198dae112cf0c\" title=\"Kommunikationswissenschaften\"> Kommunikationswissenschaften </a></span></li><li><span class=\"\"><a href=\"/de/nachrichten/page?tx_news_pi1%5BoverwriteDemand%5D%5Bcategories%5D=132&amp;cHash=c45864d2a78dc104d547daf862e5df2b\" title=\"Kulturelle Begegnungsräume\"> Kulturelle Begegnungsräume </a></span></li><li><span class=\"\"><a href=\"/de/nachrichten/page?tx_news_pi1%5BoverwriteDemand%5D%5Bcategories%5D=219&amp;cHash=de59b0a5c7dcf763508a99ad8156b163\" title=\"Kulturwissenschaften\"> Kulturwissenschaften </a></span></li><li><span class=\"\"><a href=\"/de/nachrichten/page?tx_news_pi1%5BoverwriteDemand%5D%5Bcategories%5D=117&amp;cHash=afaf5d0680ae0e1f44ed73eb19fff4c9\" title=\"Künste und Medien\"> Künste und Medien </a></span></li><li><span class=\"\"><a href=\"/de/nachrichten/page?tx_news_pi1%5BoverwriteDemand%5D%5Bcategories%5D=252&amp;cHash=fc03d70ca7c4ba7b75cf7e85a3c43d1a\" title=\"Lebensgestaltung-Ethik-Religionskunde (LER)\"> Lebensgestaltung-Ethik-Religionskunde (LER) </a></span></li><li><span class=\"\"><a href=\"/de/nachrichten/page?tx_news_pi1%5BoverwriteDemand%5D%5Bcategories%5D=184&amp;cHash=c51326f44f53a5931a06cb776cc39dbb\" title=\"Lehre\"> Lehre </a></span></li><li><span class=\"\"><a href=\"/de/nachrichten/page?tx_news_pi1%5BoverwriteDemand%5D%5Bcategories%5D=118&amp;cHash=3c736a6767808b70d1112a395dcf779d\" title=\"Lehrerbildung\"> Lehrerbildung </a></span></li><li><span class=\"\"><a href=\"/de/nachrichten/page?tx_news_pi1%5BoverwriteDemand%5D%5Bcategories%5D=119&amp;cHash=32ca86595fc600a1a4349073304eb2e8\" title=\"Linguistik\"> Linguistik </a></span></li><li><span class=\"\"><a href=\"/de/nachrichten/page?tx_news_pi1%5BoverwriteDemand%5D%5Bcategories%5D=8&amp;cHash=6305ace6bb31494ec25b46f40b9588ea\" title=\"Mathematik\"> Mathematik </a></span></li><li><span class=\"\"><a href=\"/de/nachrichten/page?tx_news_pi1%5BoverwriteDemand%5D%5Bcategories%5D=198&amp;cHash=947e0ba1295f81abcbdeded935564018\" title=\"Mathematisch-Naturwissenschaftliche Fakultät\"> Mathematisch-Naturwissenschaftliche Fakultät </a></span></li><li><span class=\"\"><a href=\"/de/nachrichten/page?tx_news_pi1%5BoverwriteDemand%5D%5Bcategories%5D=172&amp;cHash=749449bf8827c7930a1cf514fc774e04\" title=\"Musikwissenschaften\"> Musikwissenschaften </a></span></li><li><span class=\"\"><a href=\"/de/nachrichten/page?tx_news_pi1%5BoverwriteDemand%5D%5Bcategories%5D=120&amp;cHash=f83fc6251f66f2c0c1c6d21e7296f94a\" title=\"Naturwissenschaften\"> Naturwissenschaften </a></span></li><li><span class=\"\"><a href=\"/de/nachrichten/page?tx_news_pi1%5BoverwriteDemand%5D%5Bcategories%5D=121&amp;cHash=5e349bb5d85f4faa0cde9bb98d69a6ac\" title=\"Öffentliches Recht\"> Öffentliches Recht </a></span></li><li><span class=\"\"><a href=\"/de/nachrichten/page?tx_news_pi1%5BoverwriteDemand%5D%5Bcategories%5D=204&amp;cHash=835cf94e4808eb29759401402930b052\" title=\"Open Science\"> Open Science </a></span></li><li><span class=\"\"><a href=\"/de/nachrichten/page?tx_news_pi1%5BoverwriteDemand%5D%5Bcategories%5D=174&amp;cHash=7e59af58502e49c59996c280bc717afb\" title=\"Personalia\"> Personalia </a></span></li><li><span class=\"\"><a href=\"/de/nachrichten/page?tx_news_pi1%5BoverwriteDemand%5D%5Bcategories%5D=5&amp;cHash=821dde8f06cd749045c488d57024ebff\" title=\"Philosophie\"> Philosophie </a></span></li><li><span class=\"\"><a href=\"/de/nachrichten/page?tx_news_pi1%5BoverwriteDemand%5D%5Bcategories%5D=192&amp;cHash=88df3588f1f7c7c1f550075b45298d03\" title=\"Philosophische Fakultät\"> Philosophische Fakultät </a></span></li><li><span class=\"\"><a href=\"/de/nachrichten/page?tx_news_pi1%5BoverwriteDemand%5D%5Bcategories%5D=122&amp;cHash=bd34539c12f630be3383c504fac45ef0\" title=\"Physik\"> Physik </a></span></li><li><span class=\"\"><a href=\"/de/nachrichten/page?tx_news_pi1%5BoverwriteDemand%5D%5Bcategories%5D=176&amp;cHash=e160de9572702be339a83a978cfa766b\" title=\"Politik\"> Politik </a></span></li><li><span class=\"\"><a href=\"/de/nachrichten/page?tx_news_pi1%5BoverwriteDemand%5D%5Bcategories%5D=123&amp;cHash=67e48af1975e78a74932f7c14689aad6\" title=\"Politik und Verwaltung\"> Politik und Verwaltung </a></span></li><li><span class=\"\"><a href=\"/de/nachrichten/page?tx_news_pi1%5BoverwriteDemand%5D%5Bcategories%5D=124&amp;cHash=bfdf1082937c786fa8ecd1fc04e5084c\" title=\"Politische Bildung\"> Politische Bildung </a></span></li><li><span class=\"\"><a href=\"/de/nachrichten/page?tx_news_pi1%5BoverwriteDemand%5D%5Bcategories%5D=125&amp;cHash=045c127499fd4093892d9608942594be\" title=\"Potsdam Graduate School\"> Potsdam Graduate School </a></span></li><li><span class=\"\"><a href=\"/de/nachrichten/page?tx_news_pi1%5BoverwriteDemand%5D%5Bcategories%5D=135&amp;cHash=9fbebf3e0b9d75e5e5922e04a652505e\" title=\"Psychologie\"> Psychologie </a></span></li><li><span class=\"\"><a href=\"/de/nachrichten/page?tx_news_pi1%5BoverwriteDemand%5D%5Bcategories%5D=136&amp;cHash=da53794e383ca2c0abf3a4820c91960d\" title=\"Qualitätsentwicklung in Lehre und Studium\"> Qualitätsentwicklung in Lehre und Studium </a></span></li><li><span class=\"\"><a href=\"/de/nachrichten/page?tx_news_pi1%5BoverwriteDemand%5D%5Bcategories%5D=113&amp;cHash=2ff9244bb9ff272bcaf66cb0b92a1566\" title=\"Rechtswissenschaften\"> Rechtswissenschaften </a></span></li><li><span class=\"\"><a href=\"/de/nachrichten/page?tx_news_pi1%5BoverwriteDemand%5D%5Bcategories%5D=137&amp;cHash=bb252ad9676f4a7ccfe2f96387296bf0\" title=\"Religionswissenschaft\"> Religionswissenschaft </a></span></li><li><span class=\"\"><a href=\"/de/nachrichten/page?tx_news_pi1%5BoverwriteDemand%5D%5Bcategories%5D=138&amp;cHash=960a7f5bff5e38a52870e9868d0291b5\" title=\"Romanistik\"> Romanistik </a></span></li><li><span class=\"\"><a href=\"/de/nachrichten/page?tx_news_pi1%5BoverwriteDemand%5D%5Bcategories%5D=245&amp;cHash=c4e2a372b18f68abff570c81800fce4e\" title=\"Sachunterricht\"> Sachunterricht </a></span></li><li><span class=\"\"><a href=\"/de/nachrichten/page?tx_news_pi1%5BoverwriteDemand%5D%5Bcategories%5D=139&amp;cHash=8e7830f423616e4a2c618ee5e50ed981\" title=\"Slavistik\"> Slavistik </a></span></li><li><span class=\"\"><a href=\"/de/nachrichten/page?tx_news_pi1%5BoverwriteDemand%5D%5Bcategories%5D=140&amp;cHash=336b0dd2d620be5cd39ae0a6fb5e86fd\" title=\"Sozialwissenschaften\"> Sozialwissenschaften </a></span></li><li><span class=\"\"><a href=\"/de/nachrichten/page?tx_news_pi1%5BoverwriteDemand%5D%5Bcategories%5D=141&amp;cHash=2765d078ad8e3d9258bd0b882097d1bc\" title=\"Soziologie\"> Soziologie </a></span></li><li><span class=\"\"><a href=\"/de/nachrichten/page?tx_news_pi1%5BoverwriteDemand%5D%5Bcategories%5D=142&amp;cHash=05e5721f80f7d2bc8d8c0b56e8fb058e\" title=\"Sport- und Gesundheitswissenschaften\"> Sport- und Gesundheitswissenschaften </a></span></li><li><span class=\"\"><a href=\"/de/nachrichten/page?tx_news_pi1%5BoverwriteDemand%5D%5Bcategories%5D=143&amp;cHash=df780f9a9726fce514d7b1b06d6da14d\" title=\"Sprachen und Schlüsselkompetenzen\"> Sprachen und Schlüsselkompetenzen </a></span></li><li><span class=\"\"><a href=\"/de/nachrichten/page?tx_news_pi1%5BoverwriteDemand%5D%5Bcategories%5D=144&amp;cHash=0ac876f3d992274d4e5f6cb02d4e6199\" title=\"Strafrecht\"> Strafrecht </a></span></li><li><span class=\"\"><a href=\"/de/nachrichten/page?tx_news_pi1%5BoverwriteDemand%5D%5Bcategories%5D=145&amp;cHash=f09486a660292040c7afce340965e73e\" title=\"Studienangelegenheiten / Studium\"> Studienangelegenheiten / Studium </a></span></li><li><span class=\"\"><a href=\"/de/nachrichten/page?tx_news_pi1%5BoverwriteDemand%5D%5Bcategories%5D=146&amp;cHash=17b1dab8b73781ee70fc28b6d0e94287\" title=\"Studierendenvertretungen\"> Studierendenvertretungen </a></span></li><li><span class=\"\"><a href=\"/de/nachrichten/page?tx_news_pi1%5BoverwriteDemand%5D%5Bcategories%5D=147&amp;cHash=23a975ea21b90d2d22869634c8904dcd\" title=\"Systemakkreditierung\"> Systemakkreditierung </a></span></li><li><span class=\"\"><a href=\"/de/nachrichten/page?tx_news_pi1%5BoverwriteDemand%5D%5Bcategories%5D=200&amp;cHash=18f1a72a485217fe7567e935ddd13fba\" title=\"Theodor-Fontane-Archiv\"> Theodor-Fontane-Archiv </a></span></li><li><span class=\"\"><a href=\"/de/nachrichten/page?tx_news_pi1%5BoverwriteDemand%5D%5Bcategories%5D=243&amp;cHash=8135801ef595014e0222d2d7af456395\" title=\"Umweltwissenschaften und Geographie\"> Umweltwissenschaften und Geographie </a></span></li><li><span class=\"\"><a href=\"/de/nachrichten/page?tx_news_pi1%5BoverwriteDemand%5D%5Bcategories%5D=257&amp;cHash=5926bda2fbcdc0e704234d1ab129d684\" title=\"Uni findet Stadt\"> Uni findet Stadt </a></span></li><li><span class=\"\"><a href=\"/de/nachrichten/page?tx_news_pi1%5BoverwriteDemand%5D%5Bcategories%5D=148&amp;cHash=b8ad8f59dd9d9fa11dcf1f84ac2116af\" title=\"Universitätsbibliothek / Universitätsarchiv\"> Universitätsbibliothek / Universitätsarchiv </a></span></li><li><span class=\"\"><a href=\"/de/nachrichten/page?tx_news_pi1%5BoverwriteDemand%5D%5Bcategories%5D=149&amp;cHash=2a3d033b511cb48e71b1e5a7a6e5b400\" title=\"Universitätsgesellschaft e.V.\"> Universitätsgesellschaft e.V. </a></span></li><li><span class=\"\"><a href=\"/de/nachrichten/page?tx_news_pi1%5BoverwriteDemand%5D%5Bcategories%5D=180&amp;cHash=7210e3669c7c37f1d3cafd01cff95370\" title=\"Veranstaltungen\"> Veranstaltungen </a></span></li><li><span class=\"\"><a href=\"/de/nachrichten/page?tx_news_pi1%5BoverwriteDemand%5D%5Bcategories%5D=178&amp;cHash=cb6b9aa3a3806d8def94c01e686a0ba7\" title=\"Verwaltungswissenschaften\"> Verwaltungswissenschaften </a></span></li><li><span class=\"\"><a href=\"/de/nachrichten/page?tx_news_pi1%5BoverwriteDemand%5D%5Bcategories%5D=150&amp;cHash=f0ba1552bc4af410e8bbe3a14a388f09\" title=\"Volkswirtschaftslehre\"> Volkswirtschaftslehre </a></span></li><li><span class=\"\"><a href=\"/de/nachrichten/page?tx_news_pi1%5BoverwriteDemand%5D%5Bcategories%5D=151&amp;cHash=b37e62d772241e4625bb2ca77f39c423\" title=\"Welcome Center Potsdam\"> Welcome Center Potsdam </a></span></li><li><span class=\"\"><a href=\"/de/nachrichten/page?tx_news_pi1%5BoverwriteDemand%5D%5Bcategories%5D=152&amp;cHash=b9c19a46fc160b0d87c382eab7623a95\" title=\"Wirtschaft-Arbeit-Technik\"> Wirtschaft-Arbeit-Technik </a></span></li><li><span class=\"\"><a href=\"/de/nachrichten/page?tx_news_pi1%5BoverwriteDemand%5D%5Bcategories%5D=153&amp;cHash=e6670f72823191024b8bbc191af91fd3\" title=\"Wirtschaftswissenschaften\"> Wirtschaftswissenschaften </a></span></li><li><span class=\"\"><a href=\"/de/nachrichten/page?tx_news_pi1%5BoverwriteDemand%5D%5Bcategories%5D=158&amp;cHash=c2015e7926ea41edc42cadac36fc32bd\" title=\"Weiterbildungen\"> Weiterbildungen </a></span></li><li><span class=\"\"><a href=\"/de/nachrichten/page?tx_news_pi1%5BoverwriteDemand%5D%5Bcategories%5D=211&amp;cHash=884d2401cf985d64ed4451256f6d68bb\" title=\"Wirtschaftsinformatik\"> Wirtschaftsinformatik </a></span></li><li><span class=\"\"><a href=\"/de/nachrichten/page?tx_news_pi1%5BoverwriteDemand%5D%5Bcategories%5D=196&amp;cHash=0f887eff0b88b74a69c7ffb9f0b57808\" title=\"Wirtschafts- und Sozialwissenschaftliche Fakultät\"> Wirtschafts- und Sozialwissenschaftliche Fakultät </a></span></li><li><span class=\"\"><a href=\"/de/nachrichten/page?tx_news_pi1%5BoverwriteDemand%5D%5Bcategories%5D=160&amp;cHash=435a7b97f1ae1347119c74bc11c162b1\" title=\"Wissenschaftlicher Nachwuchs / Nachwuchsförderung\"> Wissenschaftlicher Nachwuchs / Nachwuchsförderung </a></span></li><li><span class=\"\"><a href=\"/de/nachrichten/page?tx_news_pi1%5BoverwriteDemand%5D%5Bcategories%5D=9&amp;cHash=1f4bfc6ac6a1b11b3f500aaac6c9bc06\" title=\"Wissens- und Technologietransfer\"> Wissens- und Technologietransfer </a></span></li><li><span class=\"\"><a href=\"/de/nachrichten/page?tx_news_pi1%5BoverwriteDemand%5D%5Bcategories%5D=154&amp;cHash=aefd9c46806b0abcd375195fe25d5d6e\" title=\"Zivilrecht\"> Zivilrecht </a></span></li></ul></div></div></div><div id=\"c501159\"><div class=\"news\"><div class=\"news-search-form\"><form action=\"/de/nachrichten/page\" class=\"up-news-search-form-col\" method=\"get\" name=\"search\"><div></div><input class=\"form-control\" id=\"news-subject\" name=\"tx_news_pi1[search][subject]\" type=\"text\"><span class=\"news-search-form-submit\"><input class=\"btn btn-default\" type=\"submit\" value=\"Suche\"/></span><input id=\"keep_search\" name=\"tx_news_pi1[overwriteDemand][search]\" type=\"hidden\" value=\"\"/><script> $('#news-subject').change(function(){ $('#keep_search').val($(this).val()); }) </script></input></form></div><div class=\"up-news-list-cat-rootline-label\">Ausgewähltes Sachgebiet:</div><div class=\"up-news-list-showall\"><p class=\"bodytext\"><a href=\"/de/nachrichten\">alle anzeigen</a></p></div></div></div><div id=\"c501158\"><div class=\"news\"><div class=\"up-news-list-container\"><div class=\"up-news-list-item\" itemscope=\"itemscope\" itemtype=\"http://schema.org/Article\"><div class=\"up-news-list-item-image\"><a href=\"/de/nachrichten/detail/2021-04-15-studio-days-2021-digitale-studienorientierungswoche-der-staatlichen-brandenburgischen\" title=\"Studi’O Days 2021 – digitale Studienorientierungswoche der staatlichen brandenburgischen Hochschulen\"><div class=\"news-img-wrap\"><a href=\"/de/nachrichten/detail/2021-04-15-studio-days-2021-digitale-studienorientierungswoche-der-staatlichen-brandenburgischen\" title=\"Studi’O Days 2021 – digitale Studienorientierungswoche der staatlichen brandenburgischen Hochschulen\"><img alt=\"Matthias Friel, Netzwerk Studienorientierung Brandenburg\" height=\"140\" src=\"/fileadmin/_processed_/c/2/csm_2021-04_Cover_StudiODays_PM_ce48bf3905.jpg\" width=\"270\"/></a></div></a></div><div class=\"up-news-list-item-text\"><a href=\"/de/nachrichten/detail/2021-04-15-studio-days-2021-digitale-studienorientierungswoche-der-staatlichen-brandenburgischen\" title=\"Studi’O Days 2021 – digitale Studienorientierungswoche der staatlichen brandenburgischen Hochschulen\"><h2>Studi’O Days 2021 – digitale Studienorientierungswoche der staatlichen brandenburgischen Hochschulen</h2></a><div class=\"up-news-list-published\"><time datetime=\"2021-04-15\"> 15.04.2021 </time></div><span class=\"up-news-list-text\"> Das Netzwerk Studienorientierung Brandenburg lädt vom 26. bis 30. April 2021 zur digitalen Studienorientierungswoche ein. Unter dem Motto „Fünf Tage,... </span><span class=\"up-news-list-morelink\"><a class=\"more\" href=\"/de/nachrichten/detail/2021-04-15-studio-days-2021-digitale-studienorientierungswoche-der-staatlichen-brandenburgischen\" title=\"Studi’O Days 2021 – digitale Studienorientierungswoche der staatlichen brandenburgischen Hochschulen\"> mehr </a></span></div><div class=\"up-clear\"></div></div><div class=\"up-clear\"></div><div class=\"up-news-list-item\" itemscope=\"itemscope\" itemtype=\"http://schema.org/Article\"><div class=\"up-news-list-item-image\"><a href=\"/de/nachrichten/detail/2021-04-15-hoppla-jetzt-kommt-koppla-die-revolution-fuers-handwerk\" title=\"Hoppla! Jetzt kommt Koppla! – Die Revolution fürs Handwerk\"><div class=\"news-img-wrap\"><a href=\"/de/nachrichten/detail/2021-04-15-hoppla-jetzt-kommt-koppla-die-revolution-fuers-handwerk\" title=\"Hoppla! Jetzt kommt Koppla! – Die Revolution fürs Handwerk\"><img alt=\"Lasse Steffen, Marco Trippler und Jerome Lange (v.l.n.r.) | Foto: Thomas Roese\" height=\"140\" src=\"/fileadmin/_processed_/0/9/csm_2021-04_Koppla_DSC2021_Thomas_Roese_92315a26d2.jpg\" title=\"Lasse Steffen, Marco Trippler und Jerome Lange (v.l.n.r.) | Foto: Thomas Roese\" width=\"270\"/></a></div></a></div><div class=\"up-news-list-item-text\"><a href=\"/de/nachrichten/detail/2021-04-15-hoppla-jetzt-kommt-koppla-die-revolution-fuers-handwerk\" title=\"Hoppla! Jetzt kommt Koppla! – Die Revolution fürs Handwerk\"><h2>Hoppla! Jetzt kommt Koppla! – Die Revolution fürs Handwerk</h2></a><div class=\"up-news-list-published\"><time datetime=\"2021-04-15\"> 15.04.2021 </time></div><span class=\"up-news-list-text\"> „Wir wollen, dass jede Handwerkerin und jeder Handwerker mit unserer Software arbeitet – weil sie leicht zu bedienen ist und viele Prozesse... </span><span class=\"up-news-list-morelink\"><a class=\"more\" href=\"/de/nachrichten/detail/2021-04-15-hoppla-jetzt-kommt-koppla-die-revolution-fuers-handwerk\" title=\"Hoppla! Jetzt kommt Koppla! – Die Revolution fürs Handwerk\"> mehr </a></span></div><div class=\"up-clear\"></div></div><div class=\"up-clear\"></div><div class=\"up-news-list-item\" itemscope=\"itemscope\" itemtype=\"http://schema.org/Article\"><div class=\"up-news-list-item-image\"><a href=\"/de/nachrichten/detail/2021-04-13-science-fiction-experimentelle-kooperation-von-germanistik-und-food4future\" title=\"Science / Fiction – Experimentelle Kooperation von Germanistik und food4future\"><div class=\"news-img-wrap\"><a href=\"/de/nachrichten/detail/2021-04-13-science-fiction-experimentelle-kooperation-von-germanistik-und-food4future\" title=\"Science / Fiction – Experimentelle Kooperation von Germanistik und food4future\"><img alt=\"Buch: ArtsyBunnies via freepik.com / f4f-Vision: headland für food4future\" height=\"140\" src=\"/fileadmin/_processed_/c/c/csm_2021-04_UP_LitWiss_x_food4future_82f0052b19.jpg\" width=\"270\"/></a></div></a></div><div class=\"up-news-list-item-text\"><a href=\"/de/nachrichten/detail/2021-04-13-science-fiction-experimentelle-kooperation-von-germanistik-und-food4future\" title=\"Science / Fiction – Experimentelle Kooperation von Germanistik und food4future\"><h2>Science / Fiction – Experimentelle Kooperation von Germanistik und food4future</h2></a><div class=\"up-news-list-published\"><time datetime=\"2021-04-13\"> 13.04.2021 </time></div><span class=\"up-news-list-text\"> Kann Science Fiction-Literatur Inspirationen für innovative Ansätze in der Forschung zur Nahrungsmittel- und Agrarproduktion liefern? Denken wir in... </span><span class=\"up-news-list-morelink\"><a class=\"more\" href=\"/de/nachrichten/detail/2021-04-13-science-fiction-experimentelle-kooperation-von-germanistik-und-food4future\" title=\"Science / Fiction – Experimentelle Kooperation von Germanistik und food4future\"> mehr </a></span></div><div class=\"up-clear\"></div></div><div class=\"up-clear\"></div><div class=\"up-news-list-item\" itemscope=\"itemscope\" itemtype=\"http://schema.org/Article\"><div class=\"up-news-list-item-image\"><a href=\"/de/nachrichten/detail/2021-04-13-wir-waren-exotisch-der-linguist-gisbert-fanselow-und-der-psychologe-reinhold-klie\" title=\"„Wir waren exotisch!“ – Der Linguist Gisbert Fanselow und der Psychologe Reinhold Kliegl im Gespräch über löchrige Dächer, schwierige Anfänge und die richtigen Forschungsfragen\"><div class=\"news-img-wrap\"><a href=\"/de/nachrichten/detail/2021-04-13-wir-waren-exotisch-der-linguist-gisbert-fanselow-und-der-psychologe-reinhold-klie\" title=\"„Wir waren exotisch!“ – Der Linguist Gisbert Fanselow und der Psychologe Reinhold Kliegl im Gespräch über löchrige Dächer, schwierige Anfänge und die richtigen Forschungsfragen\"><img alt=\"In gemeinsamer Forschung vertieft wie am ersten Tag – Linguist Gisbert Fanselow und Psychologie Reinhold Kliegl, 2014 | Foto: ZIM\" height=\"140\" src=\"/fileadmin/_processed_/8/a/csm_2021-04_Fanselow_Kliegl_2014_Foto_ZIM_a1e3331679.jpg\" title=\"In gemeinsamer Forschung vertieft wie am ersten Tag – Linguist Gisbert Fanselow und Psychologie Reinhold Kliegl, 2014 | Foto: ZIM\" width=\"270\"/></a></div></a></div><div class=\"up-news-list-item-text\"><a href=\"/de/nachrichten/detail/2021-04-13-wir-waren-exotisch-der-linguist-gisbert-fanselow-und-der-psychologe-reinhold-klie\" title=\"„Wir waren exotisch!“ – Der Linguist Gisbert Fanselow und der Psychologe Reinhold Kliegl im Gespräch über löchrige Dächer, schwierige Anfänge und die richtigen Forschungsfragen\"><h2>„Wir waren exotisch!“ – Der Linguist Gisbert Fanselow und der Psychologe Reinhold Kliegl im Gespräch über löchrige Dächer, schwierige Anfänge und die richtigen Forschungsfragen</h2></a><div class=\"up-news-list-published\"><time datetime=\"2021-04-13\"> 13.04.2021 </time></div><span class=\"up-news-list-text\"> Die Kognitionswissenschaften gehören zu den Forschungsschwerpunkten der Universität Potsdam (UP) und haben sich national wie international einen Namen... </span><span class=\"up-news-list-morelink\"><a class=\"more\" href=\"/de/nachrichten/detail/2021-04-13-wir-waren-exotisch-der-linguist-gisbert-fanselow-und-der-psychologe-reinhold-klie\" title=\"„Wir waren exotisch!“ – Der Linguist Gisbert Fanselow und der Psychologe Reinhold Kliegl im Gespräch über löchrige Dächer, schwierige Anfänge und die richtigen Forschungsfragen\"> mehr </a></span></div><div class=\"up-clear\"></div></div><div class=\"up-clear\"></div><div class=\"up-news-list-item\" itemscope=\"itemscope\" itemtype=\"http://schema.org/Article\"><div class=\"up-news-list-item-image\"><a href=\"/de/nachrichten/detail/2021-04-12-eine-bruecke-in-den-arbeitsmarkt-warum-betriebswirtin-kristina-nistor-noch-einmal-zur-uni-g\" title=\"Eine Brücke in den Arbeitsmarkt: Warum Betriebswirtin Kristina Nistor noch einmal zur Uni ging\"><div class=\"news-img-wrap\"><a href=\"/de/nachrichten/detail/2021-04-12-eine-bruecke-in-den-arbeitsmarkt-warum-betriebswirtin-kristina-nistor-noch-einmal-zur-uni-g\" title=\"Eine Brücke in den Arbeitsmarkt: Warum Betriebswirtin Kristina Nistor noch einmal zur Uni ging\"><img alt=\"Kristina Nistor absolvierte an der Uni eine Brückenmaßnahme für Hochschulabsolventen mit Migrationsgeschichte | Foto: Nadja Bossmann\" height=\"140\" src=\"/fileadmin/_processed_/3/b/csm_2021-03_Portraet_Kristina_Nistor_Bossmann_99e28252e8.jpg\" title=\"Kristina Nistor absolvierte an der Uni eine Brückenmaßnahme für Hochschulabsolventen mit Migrationsgeschichte | Foto: Nadja Bossmann\" width=\"270\"/></a></div></a></div><div class=\"up-news-list-item-text\"><a href=\"/de/nachrichten/detail/2021-04-12-eine-bruecke-in-den-arbeitsmarkt-warum-betriebswirtin-kristina-nistor-noch-einmal-zur-uni-g\" title=\"Eine Brücke in den Arbeitsmarkt: Warum Betriebswirtin Kristina Nistor noch einmal zur Uni ging\"><h2>Eine Brücke in den Arbeitsmarkt: Warum Betriebswirtin Kristina Nistor noch einmal zur Uni ging</h2></a><div class=\"up-news-list-published\"><time datetime=\"2021-04-12\"> 12.04.2021 </time></div><span class=\"up-news-list-text\"> Vor zwei Jahren hat Kristina Nistor an der Universität Potsdam eine Brückenmaßnahme absolviert, die arbeitslosen Hochschulabsolventen mit... </span><span class=\"up-news-list-morelink\"><a class=\"more\" href=\"/de/nachrichten/detail/2021-04-12-eine-bruecke-in-den-arbeitsmarkt-warum-betriebswirtin-kristina-nistor-noch-einmal-zur-uni-g\" title=\"Eine Brücke in den Arbeitsmarkt: Warum Betriebswirtin Kristina Nistor noch einmal zur Uni ging\"> mehr </a></span></div><div class=\"up-clear\"></div></div><div class=\"up-clear\"></div><div class=\"up-news-list-item\" itemscope=\"itemscope\" itemtype=\"http://schema.org/Article\"><div class=\"up-news-list-item-image\"><a href=\"/de/nachrichten/detail/2021-04-08-die-klima-uhr-tickt-der-wirtschaftswissenschaftler-matthias-kalkuhl-erforscht-wie-die-k\" title=\"Die Klima-Uhr tickt – Der Wirtschaftswissenschaftler Matthias Kalkuhl erforscht, wie die Klimawende gelingen kann\"><div class=\"news-img-wrap\"><a href=\"/de/nachrichten/detail/2021-04-08-die-klima-uhr-tickt-der-wirtschaftswissenschaftler-matthias-kalkuhl-erforscht-wie-die-k\" title=\"Die Klima-Uhr tickt – Der Wirtschaftswissenschaftler Matthias Kalkuhl erforscht, wie die Klimawende gelingen kann\"><img alt=\"Prof. Matthias Kalkuhl | Foto: Tobias Hopfgarten\" height=\"140\" src=\"/fileadmin/_processed_/a/1/csm_2020-09_Kalkuhl_HeikeKampeInterview_TobiasHopfgarten_DSC6276_b6a03de871.jpg\" title=\"Prof. Matthias Kalkuhl | Foto: Tobias Hopfgarten\" width=\"270\"/></a></div></a></div><div class=\"up-news-list-item-text\"><a href=\"/de/nachrichten/detail/2021-04-08-die-klima-uhr-tickt-der-wirtschaftswissenschaftler-matthias-kalkuhl-erforscht-wie-die-k\" title=\"Die Klima-Uhr tickt – Der Wirtschaftswissenschaftler Matthias Kalkuhl erforscht, wie die Klimawende gelingen kann\"><h2>Die Klima-Uhr tickt – Der Wirtschaftswissenschaftler Matthias Kalkuhl erforscht, wie die Klimawende gelingen kann</h2></a><div class=\"up-news-list-published\"><time datetime=\"2021-04-08\"> 08.04.2021 </time></div><span class=\"up-news-list-text\"> Jeden Morgen, wenn Matthias Kalkuhl zu seinem Arbeitsplatz am Mercator Research Institute on Global Commons and Climate Change (MCC) in Berlin fährt,... </span><span class=\"up-news-list-morelink\"><a class=\"more\" href=\"/de/nachrichten/detail/2021-04-08-die-klima-uhr-tickt-der-wirtschaftswissenschaftler-matthias-kalkuhl-erforscht-wie-die-k\" title=\"Die Klima-Uhr tickt – Der Wirtschaftswissenschaftler Matthias Kalkuhl erforscht, wie die Klimawende gelingen kann\"> mehr </a></span></div><div class=\"up-clear\"></div></div><div class=\"up-clear\"></div><div class=\"up-news-list-item\" itemscope=\"itemscope\" itemtype=\"http://schema.org/Article\"><div class=\"up-news-list-item-image\"><a href=\"/de/nachrichten/detail/2021-04-06-viele-schluessel-zum-erfolg-wie-sich-das-zessko-vom-sprachen-zum-kompetenzzentrum-entwi\" title=\"Viele Schlüssel zum Erfolg – Wie sich das Zessko vom Sprachen- zum Kompetenzzentrum entwickelte\"><div class=\"news-img-wrap\"><a href=\"/de/nachrichten/detail/2021-04-06-viele-schluessel-zum-erfolg-wie-sich-das-zessko-vom-sprachen-zum-kompetenzzentrum-entwi\" title=\"Viele Schlüssel zum Erfolg – Wie sich das Zessko vom Sprachen- zum Kompetenzzentrum entwickelte\"><img alt=\"Wie sich das Zessko vom Sprachen- zum Kompetenzzentrum entwickelte | Foto: V. Kochan (Archiv)\" height=\"140\" src=\"/fileadmin/_processed_/7/7/csm_2021-03_Zessko_Foto_V-Kochan_cf829fb35d.jpg\" title=\"Wie sich das Zessko vom Sprachen- zum Kompetenzzentrum entwickelte | Foto: V. Kochan (Archiv)\" width=\"270\"/></a></div></a></div><div class=\"up-news-list-item-text\"><a href=\"/de/nachrichten/detail/2021-04-06-viele-schluessel-zum-erfolg-wie-sich-das-zessko-vom-sprachen-zum-kompetenzzentrum-entwi\" title=\"Viele Schlüssel zum Erfolg – Wie sich das Zessko vom Sprachen- zum Kompetenzzentrum entwickelte\"><h2>Viele Schlüssel zum Erfolg – Wie sich das Zessko vom Sprachen- zum Kompetenzzentrum entwickelte</h2></a><div class=\"up-news-list-published\"><time datetime=\"2021-04-06\"> 06.04.2021 </time></div><span class=\"up-news-list-text\"> Wer ihr Sekretariat am Campus Griebnitzsee betritt, darf gerne ein Lächeln aufsetzen, denn „das kostet nichts und dennoch ist es das schönste aller... </span><span class=\"up-news-list-morelink\"><a class=\"more\" href=\"/de/nachrichten/detail/2021-04-06-viele-schluessel-zum-erfolg-wie-sich-das-zessko-vom-sprachen-zum-kompetenzzentrum-entwi\" title=\"Viele Schlüssel zum Erfolg – Wie sich das Zessko vom Sprachen- zum Kompetenzzentrum entwickelte\"> mehr </a></span></div><div class=\"up-clear\"></div></div><div class=\"up-clear\"></div><div class=\"up-news-list-item\" itemscope=\"itemscope\" itemtype=\"http://schema.org/Article\"><div class=\"up-news-list-item-image\"><a href=\"/de/nachrichten/detail/2021-03-30-im-interview-sven-dinklage-im-einsatz-als-liaison-officer-fuer-die-up-in-brasilien\" title=\"Im Interview: Sven Dinklage – Im Einsatz als Liaison-Officer für die UP in Brasilien\"><div class=\"news-img-wrap\"><a href=\"/de/nachrichten/detail/2021-03-30-im-interview-sven-dinklage-im-einsatz-als-liaison-officer-fuer-die-up-in-brasilien\" title=\"Im Interview: Sven Dinklage – Im Einsatz als Liaison-Officer für die UP in Brasilien\"><img alt=\"Sven Dinklage | Foto: privat\" height=\"140\" src=\"/fileadmin/_processed_/1/7/csm_2021-02_Portrait_Sven_Dinklage_copyright_privat_ae5232301d.jpg\" title=\"Sven Dinklage | Foto: privat\" width=\"270\"/></a></div></a></div><div class=\"up-news-list-item-text\"><a href=\"/de/nachrichten/detail/2021-03-30-im-interview-sven-dinklage-im-einsatz-als-liaison-officer-fuer-die-up-in-brasilien\" title=\"Im Interview: Sven Dinklage – Im Einsatz als Liaison-Officer für die UP in Brasilien\"><h2>Im Interview: Sven Dinklage – Im Einsatz als Liaison-Officer für die UP in Brasilien</h2></a><div class=\"up-news-list-published\"><time datetime=\"2021-03-30\"> 30.03.2021 </time></div><span class=\"up-news-list-text\"> Seit 2012 baut die Universität Potsdam die wissenschaftlichen Beziehungen nach Brasilien, insbesondere zu den Universitäten des Bundesstaates São... </span><span class=\"up-news-list-morelink\"><a class=\"more\" href=\"/de/nachrichten/detail/2021-03-30-im-interview-sven-dinklage-im-einsatz-als-liaison-officer-fuer-die-up-in-brasilien\" title=\"Im Interview: Sven Dinklage – Im Einsatz als Liaison-Officer für die UP in Brasilien\"> mehr </a></span></div><div class=\"up-clear\"></div></div><div class=\"up-clear\"></div><div class=\"up-news-list-item\" itemscope=\"itemscope\" itemtype=\"http://schema.org/Article\"><div class=\"up-news-list-item-image\"><a href=\"/de/nachrichten/detail/2021-03-29-studier-was-vernuenftiges-scivisto-gruenderin-franziska-schwarz-ueber-einen\" title=\"„Studier was Vernünftiges!“ – „SciVisTo“-Gründerin Franziska Schwarz über einen ungewöhnlichen Weg in die Selbstständigkeit\"><div class=\"news-img-wrap\"><a href=\"/de/nachrichten/detail/2021-03-29-studier-was-vernuenftiges-scivisto-gruenderin-franziska-schwarz-ueber-einen\" title=\"„Studier was Vernünftiges!“ – „SciVisTo“-Gründerin Franziska Schwarz über einen ungewöhnlichen Weg in die Selbstständigkeit\"><img alt=\"Franziska Schwarz visualisiert Diskussionen und Prozesse | Zeichnung: Franziska Schwarz\" height=\"140\" src=\"/fileadmin/_processed_/e/3/csm_2021-03_Zeichnung_Franziska_Schwarz_e0a9a8fcfe.jpg\" title=\"Franziska Schwarz visualisiert Diskussionen und Prozesse | Zeichnung: Franziska Schwarz\" width=\"270\"/></a></div></a></div><div class=\"up-news-list-item-text\"><a href=\"/de/nachrichten/detail/2021-03-29-studier-was-vernuenftiges-scivisto-gruenderin-franziska-schwarz-ueber-einen\" title=\"„Studier was Vernünftiges!“ – „SciVisTo“-Gründerin Franziska Schwarz über einen ungewöhnlichen Weg in die Selbstständigkeit\"><h2>„Studier was Vernünftiges!“ – „SciVisTo“-Gründerin Franziska Schwarz über einen ungewöhnlichen Weg in die Selbstständigkeit</h2></a><div class=\"up-news-list-published\"><time datetime=\"2021-03-29\"> 29.03.2021 </time></div><span class=\"up-news-list-text\"> Hätte mir jemand zum Abitur gesagt, dass ich einmal als zeichnende Naturwissenschaftlerin mein Geld verdienen würde ... So ein Unsinn! </span><span class=\"up-news-list-morelink\"><a class=\"more\" href=\"/de/nachrichten/detail/2021-03-29-studier-was-vernuenftiges-scivisto-gruenderin-franziska-schwarz-ueber-einen\" title=\"„Studier was Vernünftiges!“ – „SciVisTo“-Gründerin Franziska Schwarz über einen ungewöhnlichen Weg in die Selbstständigkeit\"> mehr </a></span></div><div class=\"up-clear\"></div></div><div class=\"up-clear\"></div><div class=\"up-news-list-item\" itemscope=\"itemscope\" itemtype=\"http://schema.org/Article\"><div class=\"up-news-list-item-image\"><a href=\"/de/nachrichten/detail/2021-03-25-ich-wuerde-meine-verteidigung-auch-lieber-live-durchfuehren-luise-krompholz-macht\" title=\"„Ich würde meine Verteidigung auch lieber live durchführen“ – Luise Krompholz macht ihren Abschluss an der Uni fern der Uni\"><div class=\"news-img-wrap\"><a href=\"/de/nachrichten/detail/2021-03-25-ich-wuerde-meine-verteidigung-auch-lieber-live-durchfuehren-luise-krompholz-macht\" title=\"„Ich würde meine Verteidigung auch lieber live durchführen“ – Luise Krompholz macht ihren Abschluss an der Uni fern der Uni\"><img alt=\"Luise Theresa Krompholz | Foto: privat\" height=\"140\" src=\"/fileadmin/_processed_/3/2/csm_2021-03_Luise_Krompholz_privat_f836c4ca8c.jpg\" title=\"Luise Theresa Krompholz | Foto: privat\" width=\"270\"/></a></div></a></div><div class=\"up-news-list-item-text\"><a href=\"/de/nachrichten/detail/2021-03-25-ich-wuerde-meine-verteidigung-auch-lieber-live-durchfuehren-luise-krompholz-macht\" title=\"„Ich würde meine Verteidigung auch lieber live durchführen“ – Luise Krompholz macht ihren Abschluss an der Uni fern der Uni\"><h2>„Ich würde meine Verteidigung auch lieber live durchführen“ – Luise Krompholz macht ihren Abschluss an der Uni fern der Uni</h2></a><span class=\"up-news-list-subheader\"><span class=\"up-news-list-subheader-text\"> Krisenbewältigung und Innovation – Die digitale Universität in Zeiten der Pandemie </span></span><div class=\"up-news-list-published\"><time datetime=\"2021-03-25\"> 25.03.2021 </time></div><span class=\"up-news-list-text\"> Wenn das Studium dem Ende zugeht, saugen viele noch einmal alles auf, was die Uni zu bieten hat: Auslanderfahrung, intensive Diskussionen in... </span><span class=\"up-news-list-morelink\"><a class=\"more\" href=\"/de/nachrichten/detail/2021-03-25-ich-wuerde-meine-verteidigung-auch-lieber-live-durchfuehren-luise-krompholz-macht\" title=\"„Ich würde meine Verteidigung auch lieber live durchführen“ – Luise Krompholz macht ihren Abschluss an der Uni fern der Uni\"> mehr </a></span></div><div class=\"up-clear\"></div></div><div class=\"up-clear\"></div><div class=\"news-list-browse\"><div class=\"up-news-list-browse-next\"><a href=\"/de/nachrichten/page-2\"> ältere Artikel<span class=\"up-icon\"></span></a></div></div><div class=\"news-clear\"></div></div></div></div></div></div></div></div><div class=\"hide-for-small row\" id=\"up_content_footer_divider\"></div><div class=\"show-for-small row\" id=\"up_content_footer_divider_small\"></div><div id=\"up_oe_footer_wrapper\"><div class=\"row up-smooth-box\" id=\"up_oe_footer\"><div class=\"six columns up-oe-footer-box up-oe-footer-box-first\"><div class=\"up-oe-footer-box-header\"><h2>Soziale Medien </h2><div class=\"up-oe-footer-box-arrow up-icon\"></div></div><div class=\"up-oe-footer-box-content\"><p><a class=\"up-sm-facebook\" href=\"https://www.facebook.com/unipotsdam\" target=\"_blank\" title=\"Folgen sie uns auf Facebook\">Facebook</a><br/><a class=\"up-sm-instagram\" href=\"https://www.instagram.com/unipotsdam/\" target=\"_blank\" title=\"Entdecken Sie unsere Impressionen auf Instagram\">Instagram</a><br/><a class=\"up-sm-linkedin\" href=\"https://www.linkedin.com/school/30760/\" target=\"_top\" title=\"Besuchen Sie unser LinkedIn-Profil\">LinkedIn</a><br/><a class=\"up-sm-researchgate\" href=\"https://www.researchgate.net/institution/Universitaet_Potsdam\" target=\"_top\" title=\"Vernetzen Sie sich mit unseren Forschenden auf Research Gate\">Research Gate</a><br/><a class=\"up-sm-twitter\" href=\"https://www.twitter.com/unipotsdam\" target=\"_blank\" title=\"Folgen Sie uns auf Twitter\">Twitter</a><br/><a class=\"up-sm-xing\" href=\"https://www.xing.com/companies/universit%C3%84tpotsdam\" target=\"_blank\" title=\"Besuchen Sie unser XING-Profil\">XING</a><br/><a class=\"up-sm-youtube\" href=\"https://www.youtube.com/user/PresseUniPotsdam\" target=\"_blank\" title=\"Abonnieren Sie unseren YouTube-Kanal\">YouTube</a></p></div></div><div class=\"six columns up-oe-footer-box\"><div class=\"up-oe-footer-box-header\"><h2>Kontakt</h2><div class=\"up-oe-footer-box-arrow up-icon\"></div></div><div class=\"up-oe-footer-box-content\"><p>Universität Potsdam<br/> Am Neuen Palais 10<br/> 14469 Potsdam</p><p>Tel.: 0331 977-0<br/> Fax: 0331 97 21 63</p><p><a href=\"/de/impressum\" title=\"Universität Potsdam - Impressum\">Impressum</a><br/><a href=\"/de/datenschutzerklaerung\" title=\"Universität Potsdam - Datenschutzerklärung\">Datenschutzerklärung</a><br/><a class=\"up-internal-link\" href=\"https://www.uni-potsdam.de/de/barrierefreiheit\" target=\"_top\" title=\"Universität Potsdam - Barrierefreiheit\">Barrierefreiheit</a><br/><a href=\"https://www.uni-potsdam.de/de/presse/medienservice/ansprechpersonen.html\" target=\"_top\" title=\"Universität Potsdam - Ansprechpersonen\">Presse</a></p></div></div><div class=\"twelve columns up-oe-footer-box up-oe-footer-box-last\"><div class=\"up-oe-footer-box-header map\"><h2> Anfahrt </h2><div class=\"up-oe-footer-box-arrow up-icon\"></div></div><div class=\"up-oe-footer-box-content\"><div class=\"up-oe-footer-osm\"><div class=\"up-oe-footer-osm-iframe\"><div id=\"osm_location\"></div><a class=\"up-oe-footer-osm-link\" href=\"https://www.openstreetmap.org/?mlat=52.400589&amp;mlon=13.013138#map=17/52.400589/13.013138\" target=\"_blank\"> Größere Karte anzeigen </a></div></div></div></div></div><div class=\"row up-footer-closer\"></div></div><div id=\"up_global_footer_wrapper\"><div class=\"row up-smooth-box\" id=\"up_global_footer\"><div class=\"six columns up-global-footer-box up-global-footer-box-first\"><div class=\"up-global-footer-box-header\"><h2>Zertifikate</h2><div class=\"up-global-footer-box-arrow up-icon\"></div></div><div class=\"up-global-footer-box-content\"><p><a href=\"https://www.klischee-frei.de/de/index.php\" target=\"_top\" title=\"Fachportal Klischeefreie Studien- und Berufswahl\">Bundesinitiative Klischeefrei</a><br/><a href=\"https://www.hrk.de/positionen/beschluss/detail/nationaler-kodex-fuer-das-auslaenderstudium-an-deutschen-hochschulen/\" target=\"_top\" title=\"Nationaler Kodex für das Ausländerstudium an deutschen Hochschulen\">Code of Conduct</a><br/><a href=\"https://www.stifterverband.org/charta-guter-lehre\" target=\"_top\" title=\"Wettbewerb „Exzellente Lehre”\">Exzellente Lehre</a><br/><a href=\"https://www.hrk.de/audit/startseite/\" target=\"_top\" title=\"Audit „Internationalisierung der Hochschulen” (HRK)\">HRK-Audit</a> &amp; <a href=\"https://www.hrk.de/audit/re-audit/\" target=\"_top\" title=\"Informationen zum Re-Audit auf den Webseiten der HRK\">HRK-Re-Audit</a><br/><a class=\"up-internal-link\" href=\"https://www.uni-potsdam.de/de/zfq/hochschulstudien/systemakkreditierung\" target=\"_top\" title=\"Qualitätssiegel der Systemakkreditierung\">Systemakkreditierung</a><br/><a href=\"https://www.total-e-quality.de/de/\" target=\"_top\" title=\"Prädikat „Total E-Quality”\">Total E-Quality</a></p></div></div><div class=\"six columns up-global-footer-box\"><div class=\"up-global-footer-box-header\"><h2>Mitgliedschaften</h2><div class=\"up-global-footer-box-arrow up-icon\"></div></div><div class=\"up-global-footer-box-content\"><p><a class=\"up-internal-link\" href=\"https://netzwerk-studienorientierung.de/\" target=\"_top\" title=\"Netzwerk Studienorientierung Brandenburg\">Netzwerk Studienorientierung</a><br/><a href=\"https://www.scholarsatrisk.org/\" target=\"_top\" title=\"Scholars at Risk Network\">Scholars at Risk</a><br/><a class=\"up-internal-link\" href=\"https://eua.eu/\" target=\"_top\" title=\"European University Association\">EUA </a><br/><a class=\"up-internal-link\" href=\"https://www.uni-potsdam.de/de/educ\" target=\"_top\" title=\"European Digital UniverCity\">EDUC</a><br/><a class=\"up-internal-link\" href=\"https://conahec.org/\" target=\"_top\" title=\"Consortium for North American Higher Education Collaboration\">CONAHEC</a></p></div></div><div class=\"six columns up-global-footer-box\"><div class=\"up-global-footer-box-header\"><h2>Uni kompakt</h2><div class=\"up-global-footer-box-arrow up-icon\"></div></div><div class=\"up-global-footer-box-content\"><p><a href=\"https://www.uni-potsdam.de/studium/termine/uebersicht.html\" target=\"_top\" title=\"Termine und Fristen rund um das Studium\">Termine &amp; Fristen </a><br/><a href=\"https://www.uni-potsdam.de/presse/\" target=\"_top\" title=\"Referat für Presse- und Öffentlichkeitsarbeit\">Presse </a><br/><a href=\"https://www.uni-potsdam.de/verwaltung/dezernat3/stellen/\" target=\"_top\" title=\"Übersicht der offenen Stellenanzeigen\">Stellenausschreibungen </a><br/><a href=\"https://www.unishop-potsdam.de/\" target=\"_top\" title=\"UNIshop der Universität Potsdam\">UNIshop der Universität Potsdam</a><br/><a href=\"https://www.uni-potsdam.de/studium/konkret/vorlesungsverzeichnisse.html\" target=\"_top\" title=\"Übersicht der Vorlesungsverzeichnisse der Uni Potsdam\">Vorlesungsverzeichnis </a><br/><a href=\"https://www.uni-potsdam.de/de/adressen/\" target=\"_top\" title=\"Zentrale Adressen und Anschriften der Uni Potsdam\">Zentrale Adressen und Lagepläne</a></p></div></div><div class=\"six columns up-global-footer-box up-global-footer-box-last\"><div class=\"up-global-footer-box-header\"><h2>Diese Seite</h2><div class=\"up-global-footer-box-arrow up-icon\"></div></div><div class=\"up-global-footer-box-content\"><p><a href=\"javascript:window.print();\" target=\"_self\" title=\"Diese Seite drucken\"> Drucken</a><br/><a class=\"hide-for-small\" href=\"#\" onclick=\"return add_favorite(this);\" target=\"_blank\" title=\"Diese Seite als Bookmark speichern\"> Als Bookmark speichern</a><script> function add_favorite( a ) { title = document.title; url = document.location; try { /* Internet Explorer */ window.external.AddFavorite( url, title ); } catch (e) { try { /* Mozilla */ window.sidebar.addPanel( title, url, \"\" ); } catch (e) { /* Opera */ if( typeof( opera ) == \"object\" ) { a.rel = \"sidebar\"; a.title = title; a.url = url; return true; } else { /* Unknown */ alert('Press ' + (navigator.userAgent.toLowerCase().indexOf('mac') != - 1 ? 'Command/Cmd' : 'CTRL') + ' + D to bookmark this page.'); } } } return false; } </script></p></div></div></div><div class=\"row show-for-print\"><div class=\"twentyfour columns up-footer-url\"><span>URL:</span><a class=\"url\" href=\"https://www.uni-potsdam.de/de/nachrichten\">https://www.uni-potsdam.de/de/nachrichten</a></div></div><div class=\"row up-footer-closer\"></div></div><script src=\"/typo3temp/assets/compressed/merged-1c7889b001463c086356db319932399c-min.js.gzip?1618313600\"></script></body></html>"
      ]
     },
     "execution_count": 16,
     "metadata": {},
     "output_type": "execute_result"
    }
   ],
   "source": [
    "news_soup"
   ]
  },
  {
   "cell_type": "markdown",
   "id": "02264a81",
   "metadata": {},
   "source": [
    "14. Open the `new_seed` URL in your browser and enable the CSS SelectorGadget. Highlight the box containing the first article. The other, similar boxes should be highlighted as well. Copy the identified CSS selector and parse through the `news_soup` object but this time over elements corresponding to the CSS selector you found (use `.select()` instead of `find_all()`). Store the subset of elements in a list. You can achieve all of this in one line of code. How many items does this list contain?"
   ]
  },
  {
   "cell_type": "code",
   "execution_count": 17,
   "id": "8f3b3977",
   "metadata": {
    "collapsed": true
   },
   "outputs": [],
   "source": [
    "css_element = '.up-news-list-item'"
   ]
  },
  {
   "cell_type": "code",
   "execution_count": 18,
   "id": "32c8a0cc",
   "metadata": {
    "collapsed": true
   },
   "outputs": [
    {
     "data": {
      "text/plain": [
       "[<div class=\"up-news-list-item\" itemscope=\"itemscope\" itemtype=\"http://schema.org/Article\"><div class=\"up-news-list-item-image\"><a href=\"/de/nachrichten/detail/2021-04-15-studio-days-2021-digitale-studienorientierungswoche-der-staatlichen-brandenburgischen\" title=\"Studi’O Days 2021 – digitale Studienorientierungswoche der staatlichen brandenburgischen Hochschulen\"><div class=\"news-img-wrap\"><a href=\"/de/nachrichten/detail/2021-04-15-studio-days-2021-digitale-studienorientierungswoche-der-staatlichen-brandenburgischen\" title=\"Studi’O Days 2021 – digitale Studienorientierungswoche der staatlichen brandenburgischen Hochschulen\"><img alt=\"Matthias Friel, Netzwerk Studienorientierung Brandenburg\" height=\"140\" src=\"/fileadmin/_processed_/c/2/csm_2021-04_Cover_StudiODays_PM_ce48bf3905.jpg\" width=\"270\"/></a></div></a></div><div class=\"up-news-list-item-text\"><a href=\"/de/nachrichten/detail/2021-04-15-studio-days-2021-digitale-studienorientierungswoche-der-staatlichen-brandenburgischen\" title=\"Studi’O Days 2021 – digitale Studienorientierungswoche der staatlichen brandenburgischen Hochschulen\"><h2>Studi’O Days 2021 – digitale Studienorientierungswoche der staatlichen brandenburgischen Hochschulen</h2></a><div class=\"up-news-list-published\"><time datetime=\"2021-04-15\"> 15.04.2021 </time></div><span class=\"up-news-list-text\"> Das Netzwerk Studienorientierung Brandenburg lädt vom 26. bis 30. April 2021 zur digitalen Studienorientierungswoche ein. Unter dem Motto „Fünf Tage,... </span><span class=\"up-news-list-morelink\"><a class=\"more\" href=\"/de/nachrichten/detail/2021-04-15-studio-days-2021-digitale-studienorientierungswoche-der-staatlichen-brandenburgischen\" title=\"Studi’O Days 2021 – digitale Studienorientierungswoche der staatlichen brandenburgischen Hochschulen\"> mehr </a></span></div><div class=\"up-clear\"></div></div>,\n",
       " <div class=\"up-news-list-item\" itemscope=\"itemscope\" itemtype=\"http://schema.org/Article\"><div class=\"up-news-list-item-image\"><a href=\"/de/nachrichten/detail/2021-04-15-hoppla-jetzt-kommt-koppla-die-revolution-fuers-handwerk\" title=\"Hoppla! Jetzt kommt Koppla! – Die Revolution fürs Handwerk\"><div class=\"news-img-wrap\"><a href=\"/de/nachrichten/detail/2021-04-15-hoppla-jetzt-kommt-koppla-die-revolution-fuers-handwerk\" title=\"Hoppla! Jetzt kommt Koppla! – Die Revolution fürs Handwerk\"><img alt=\"Lasse Steffen, Marco Trippler und Jerome Lange (v.l.n.r.) | Foto: Thomas Roese\" height=\"140\" src=\"/fileadmin/_processed_/0/9/csm_2021-04_Koppla_DSC2021_Thomas_Roese_92315a26d2.jpg\" title=\"Lasse Steffen, Marco Trippler und Jerome Lange (v.l.n.r.) | Foto: Thomas Roese\" width=\"270\"/></a></div></a></div><div class=\"up-news-list-item-text\"><a href=\"/de/nachrichten/detail/2021-04-15-hoppla-jetzt-kommt-koppla-die-revolution-fuers-handwerk\" title=\"Hoppla! Jetzt kommt Koppla! – Die Revolution fürs Handwerk\"><h2>Hoppla! Jetzt kommt Koppla! – Die Revolution fürs Handwerk</h2></a><div class=\"up-news-list-published\"><time datetime=\"2021-04-15\"> 15.04.2021 </time></div><span class=\"up-news-list-text\"> „Wir wollen, dass jede Handwerkerin und jeder Handwerker mit unserer Software arbeitet – weil sie leicht zu bedienen ist und viele Prozesse... </span><span class=\"up-news-list-morelink\"><a class=\"more\" href=\"/de/nachrichten/detail/2021-04-15-hoppla-jetzt-kommt-koppla-die-revolution-fuers-handwerk\" title=\"Hoppla! Jetzt kommt Koppla! – Die Revolution fürs Handwerk\"> mehr </a></span></div><div class=\"up-clear\"></div></div>,\n",
       " <div class=\"up-news-list-item\" itemscope=\"itemscope\" itemtype=\"http://schema.org/Article\"><div class=\"up-news-list-item-image\"><a href=\"/de/nachrichten/detail/2021-04-13-science-fiction-experimentelle-kooperation-von-germanistik-und-food4future\" title=\"Science / Fiction – Experimentelle Kooperation von Germanistik und food4future\"><div class=\"news-img-wrap\"><a href=\"/de/nachrichten/detail/2021-04-13-science-fiction-experimentelle-kooperation-von-germanistik-und-food4future\" title=\"Science / Fiction – Experimentelle Kooperation von Germanistik und food4future\"><img alt=\"Buch: ArtsyBunnies via freepik.com / f4f-Vision: headland für food4future\" height=\"140\" src=\"/fileadmin/_processed_/c/c/csm_2021-04_UP_LitWiss_x_food4future_82f0052b19.jpg\" width=\"270\"/></a></div></a></div><div class=\"up-news-list-item-text\"><a href=\"/de/nachrichten/detail/2021-04-13-science-fiction-experimentelle-kooperation-von-germanistik-und-food4future\" title=\"Science / Fiction – Experimentelle Kooperation von Germanistik und food4future\"><h2>Science / Fiction – Experimentelle Kooperation von Germanistik und food4future</h2></a><div class=\"up-news-list-published\"><time datetime=\"2021-04-13\"> 13.04.2021 </time></div><span class=\"up-news-list-text\"> Kann Science Fiction-Literatur Inspirationen für innovative Ansätze in der Forschung zur Nahrungsmittel- und Agrarproduktion liefern? Denken wir in... </span><span class=\"up-news-list-morelink\"><a class=\"more\" href=\"/de/nachrichten/detail/2021-04-13-science-fiction-experimentelle-kooperation-von-germanistik-und-food4future\" title=\"Science / Fiction – Experimentelle Kooperation von Germanistik und food4future\"> mehr </a></span></div><div class=\"up-clear\"></div></div>,\n",
       " <div class=\"up-news-list-item\" itemscope=\"itemscope\" itemtype=\"http://schema.org/Article\"><div class=\"up-news-list-item-image\"><a href=\"/de/nachrichten/detail/2021-04-13-wir-waren-exotisch-der-linguist-gisbert-fanselow-und-der-psychologe-reinhold-klie\" title=\"„Wir waren exotisch!“ – Der Linguist Gisbert Fanselow und der Psychologe Reinhold Kliegl im Gespräch über löchrige Dächer, schwierige Anfänge und die richtigen Forschungsfragen\"><div class=\"news-img-wrap\"><a href=\"/de/nachrichten/detail/2021-04-13-wir-waren-exotisch-der-linguist-gisbert-fanselow-und-der-psychologe-reinhold-klie\" title=\"„Wir waren exotisch!“ – Der Linguist Gisbert Fanselow und der Psychologe Reinhold Kliegl im Gespräch über löchrige Dächer, schwierige Anfänge und die richtigen Forschungsfragen\"><img alt=\"In gemeinsamer Forschung vertieft wie am ersten Tag – Linguist Gisbert Fanselow und Psychologie Reinhold Kliegl, 2014 | Foto: ZIM\" height=\"140\" src=\"/fileadmin/_processed_/8/a/csm_2021-04_Fanselow_Kliegl_2014_Foto_ZIM_a1e3331679.jpg\" title=\"In gemeinsamer Forschung vertieft wie am ersten Tag – Linguist Gisbert Fanselow und Psychologie Reinhold Kliegl, 2014 | Foto: ZIM\" width=\"270\"/></a></div></a></div><div class=\"up-news-list-item-text\"><a href=\"/de/nachrichten/detail/2021-04-13-wir-waren-exotisch-der-linguist-gisbert-fanselow-und-der-psychologe-reinhold-klie\" title=\"„Wir waren exotisch!“ – Der Linguist Gisbert Fanselow und der Psychologe Reinhold Kliegl im Gespräch über löchrige Dächer, schwierige Anfänge und die richtigen Forschungsfragen\"><h2>„Wir waren exotisch!“ – Der Linguist Gisbert Fanselow und der Psychologe Reinhold Kliegl im Gespräch über löchrige Dächer, schwierige Anfänge und die richtigen Forschungsfragen</h2></a><div class=\"up-news-list-published\"><time datetime=\"2021-04-13\"> 13.04.2021 </time></div><span class=\"up-news-list-text\"> Die Kognitionswissenschaften gehören zu den Forschungsschwerpunkten der Universität Potsdam (UP) und haben sich national wie international einen Namen... </span><span class=\"up-news-list-morelink\"><a class=\"more\" href=\"/de/nachrichten/detail/2021-04-13-wir-waren-exotisch-der-linguist-gisbert-fanselow-und-der-psychologe-reinhold-klie\" title=\"„Wir waren exotisch!“ – Der Linguist Gisbert Fanselow und der Psychologe Reinhold Kliegl im Gespräch über löchrige Dächer, schwierige Anfänge und die richtigen Forschungsfragen\"> mehr </a></span></div><div class=\"up-clear\"></div></div>,\n",
       " <div class=\"up-news-list-item\" itemscope=\"itemscope\" itemtype=\"http://schema.org/Article\"><div class=\"up-news-list-item-image\"><a href=\"/de/nachrichten/detail/2021-04-12-eine-bruecke-in-den-arbeitsmarkt-warum-betriebswirtin-kristina-nistor-noch-einmal-zur-uni-g\" title=\"Eine Brücke in den Arbeitsmarkt: Warum Betriebswirtin Kristina Nistor noch einmal zur Uni ging\"><div class=\"news-img-wrap\"><a href=\"/de/nachrichten/detail/2021-04-12-eine-bruecke-in-den-arbeitsmarkt-warum-betriebswirtin-kristina-nistor-noch-einmal-zur-uni-g\" title=\"Eine Brücke in den Arbeitsmarkt: Warum Betriebswirtin Kristina Nistor noch einmal zur Uni ging\"><img alt=\"Kristina Nistor absolvierte an der Uni eine Brückenmaßnahme für Hochschulabsolventen mit Migrationsgeschichte | Foto: Nadja Bossmann\" height=\"140\" src=\"/fileadmin/_processed_/3/b/csm_2021-03_Portraet_Kristina_Nistor_Bossmann_99e28252e8.jpg\" title=\"Kristina Nistor absolvierte an der Uni eine Brückenmaßnahme für Hochschulabsolventen mit Migrationsgeschichte | Foto: Nadja Bossmann\" width=\"270\"/></a></div></a></div><div class=\"up-news-list-item-text\"><a href=\"/de/nachrichten/detail/2021-04-12-eine-bruecke-in-den-arbeitsmarkt-warum-betriebswirtin-kristina-nistor-noch-einmal-zur-uni-g\" title=\"Eine Brücke in den Arbeitsmarkt: Warum Betriebswirtin Kristina Nistor noch einmal zur Uni ging\"><h2>Eine Brücke in den Arbeitsmarkt: Warum Betriebswirtin Kristina Nistor noch einmal zur Uni ging</h2></a><div class=\"up-news-list-published\"><time datetime=\"2021-04-12\"> 12.04.2021 </time></div><span class=\"up-news-list-text\"> Vor zwei Jahren hat Kristina Nistor an der Universität Potsdam eine Brückenmaßnahme absolviert, die arbeitslosen Hochschulabsolventen mit... </span><span class=\"up-news-list-morelink\"><a class=\"more\" href=\"/de/nachrichten/detail/2021-04-12-eine-bruecke-in-den-arbeitsmarkt-warum-betriebswirtin-kristina-nistor-noch-einmal-zur-uni-g\" title=\"Eine Brücke in den Arbeitsmarkt: Warum Betriebswirtin Kristina Nistor noch einmal zur Uni ging\"> mehr </a></span></div><div class=\"up-clear\"></div></div>,\n",
       " <div class=\"up-news-list-item\" itemscope=\"itemscope\" itemtype=\"http://schema.org/Article\"><div class=\"up-news-list-item-image\"><a href=\"/de/nachrichten/detail/2021-04-08-die-klima-uhr-tickt-der-wirtschaftswissenschaftler-matthias-kalkuhl-erforscht-wie-die-k\" title=\"Die Klima-Uhr tickt – Der Wirtschaftswissenschaftler Matthias Kalkuhl erforscht, wie die Klimawende gelingen kann\"><div class=\"news-img-wrap\"><a href=\"/de/nachrichten/detail/2021-04-08-die-klima-uhr-tickt-der-wirtschaftswissenschaftler-matthias-kalkuhl-erforscht-wie-die-k\" title=\"Die Klima-Uhr tickt – Der Wirtschaftswissenschaftler Matthias Kalkuhl erforscht, wie die Klimawende gelingen kann\"><img alt=\"Prof. Matthias Kalkuhl | Foto: Tobias Hopfgarten\" height=\"140\" src=\"/fileadmin/_processed_/a/1/csm_2020-09_Kalkuhl_HeikeKampeInterview_TobiasHopfgarten_DSC6276_b6a03de871.jpg\" title=\"Prof. Matthias Kalkuhl | Foto: Tobias Hopfgarten\" width=\"270\"/></a></div></a></div><div class=\"up-news-list-item-text\"><a href=\"/de/nachrichten/detail/2021-04-08-die-klima-uhr-tickt-der-wirtschaftswissenschaftler-matthias-kalkuhl-erforscht-wie-die-k\" title=\"Die Klima-Uhr tickt – Der Wirtschaftswissenschaftler Matthias Kalkuhl erforscht, wie die Klimawende gelingen kann\"><h2>Die Klima-Uhr tickt – Der Wirtschaftswissenschaftler Matthias Kalkuhl erforscht, wie die Klimawende gelingen kann</h2></a><div class=\"up-news-list-published\"><time datetime=\"2021-04-08\"> 08.04.2021 </time></div><span class=\"up-news-list-text\"> Jeden Morgen, wenn Matthias Kalkuhl zu seinem Arbeitsplatz am Mercator Research Institute on Global Commons and Climate Change (MCC) in Berlin fährt,... </span><span class=\"up-news-list-morelink\"><a class=\"more\" href=\"/de/nachrichten/detail/2021-04-08-die-klima-uhr-tickt-der-wirtschaftswissenschaftler-matthias-kalkuhl-erforscht-wie-die-k\" title=\"Die Klima-Uhr tickt – Der Wirtschaftswissenschaftler Matthias Kalkuhl erforscht, wie die Klimawende gelingen kann\"> mehr </a></span></div><div class=\"up-clear\"></div></div>,\n",
       " <div class=\"up-news-list-item\" itemscope=\"itemscope\" itemtype=\"http://schema.org/Article\"><div class=\"up-news-list-item-image\"><a href=\"/de/nachrichten/detail/2021-04-06-viele-schluessel-zum-erfolg-wie-sich-das-zessko-vom-sprachen-zum-kompetenzzentrum-entwi\" title=\"Viele Schlüssel zum Erfolg – Wie sich das Zessko vom Sprachen- zum Kompetenzzentrum entwickelte\"><div class=\"news-img-wrap\"><a href=\"/de/nachrichten/detail/2021-04-06-viele-schluessel-zum-erfolg-wie-sich-das-zessko-vom-sprachen-zum-kompetenzzentrum-entwi\" title=\"Viele Schlüssel zum Erfolg – Wie sich das Zessko vom Sprachen- zum Kompetenzzentrum entwickelte\"><img alt=\"Wie sich das Zessko vom Sprachen- zum Kompetenzzentrum entwickelte | Foto: V. Kochan (Archiv)\" height=\"140\" src=\"/fileadmin/_processed_/7/7/csm_2021-03_Zessko_Foto_V-Kochan_cf829fb35d.jpg\" title=\"Wie sich das Zessko vom Sprachen- zum Kompetenzzentrum entwickelte | Foto: V. Kochan (Archiv)\" width=\"270\"/></a></div></a></div><div class=\"up-news-list-item-text\"><a href=\"/de/nachrichten/detail/2021-04-06-viele-schluessel-zum-erfolg-wie-sich-das-zessko-vom-sprachen-zum-kompetenzzentrum-entwi\" title=\"Viele Schlüssel zum Erfolg – Wie sich das Zessko vom Sprachen- zum Kompetenzzentrum entwickelte\"><h2>Viele Schlüssel zum Erfolg – Wie sich das Zessko vom Sprachen- zum Kompetenzzentrum entwickelte</h2></a><div class=\"up-news-list-published\"><time datetime=\"2021-04-06\"> 06.04.2021 </time></div><span class=\"up-news-list-text\"> Wer ihr Sekretariat am Campus Griebnitzsee betritt, darf gerne ein Lächeln aufsetzen, denn „das kostet nichts und dennoch ist es das schönste aller... </span><span class=\"up-news-list-morelink\"><a class=\"more\" href=\"/de/nachrichten/detail/2021-04-06-viele-schluessel-zum-erfolg-wie-sich-das-zessko-vom-sprachen-zum-kompetenzzentrum-entwi\" title=\"Viele Schlüssel zum Erfolg – Wie sich das Zessko vom Sprachen- zum Kompetenzzentrum entwickelte\"> mehr </a></span></div><div class=\"up-clear\"></div></div>,\n",
       " <div class=\"up-news-list-item\" itemscope=\"itemscope\" itemtype=\"http://schema.org/Article\"><div class=\"up-news-list-item-image\"><a href=\"/de/nachrichten/detail/2021-03-30-im-interview-sven-dinklage-im-einsatz-als-liaison-officer-fuer-die-up-in-brasilien\" title=\"Im Interview: Sven Dinklage – Im Einsatz als Liaison-Officer für die UP in Brasilien\"><div class=\"news-img-wrap\"><a href=\"/de/nachrichten/detail/2021-03-30-im-interview-sven-dinklage-im-einsatz-als-liaison-officer-fuer-die-up-in-brasilien\" title=\"Im Interview: Sven Dinklage – Im Einsatz als Liaison-Officer für die UP in Brasilien\"><img alt=\"Sven Dinklage | Foto: privat\" height=\"140\" src=\"/fileadmin/_processed_/1/7/csm_2021-02_Portrait_Sven_Dinklage_copyright_privat_ae5232301d.jpg\" title=\"Sven Dinklage | Foto: privat\" width=\"270\"/></a></div></a></div><div class=\"up-news-list-item-text\"><a href=\"/de/nachrichten/detail/2021-03-30-im-interview-sven-dinklage-im-einsatz-als-liaison-officer-fuer-die-up-in-brasilien\" title=\"Im Interview: Sven Dinklage – Im Einsatz als Liaison-Officer für die UP in Brasilien\"><h2>Im Interview: Sven Dinklage – Im Einsatz als Liaison-Officer für die UP in Brasilien</h2></a><div class=\"up-news-list-published\"><time datetime=\"2021-03-30\"> 30.03.2021 </time></div><span class=\"up-news-list-text\"> Seit 2012 baut die Universität Potsdam die wissenschaftlichen Beziehungen nach Brasilien, insbesondere zu den Universitäten des Bundesstaates São... </span><span class=\"up-news-list-morelink\"><a class=\"more\" href=\"/de/nachrichten/detail/2021-03-30-im-interview-sven-dinklage-im-einsatz-als-liaison-officer-fuer-die-up-in-brasilien\" title=\"Im Interview: Sven Dinklage – Im Einsatz als Liaison-Officer für die UP in Brasilien\"> mehr </a></span></div><div class=\"up-clear\"></div></div>,\n",
       " <div class=\"up-news-list-item\" itemscope=\"itemscope\" itemtype=\"http://schema.org/Article\"><div class=\"up-news-list-item-image\"><a href=\"/de/nachrichten/detail/2021-03-29-studier-was-vernuenftiges-scivisto-gruenderin-franziska-schwarz-ueber-einen\" title=\"„Studier was Vernünftiges!“ – „SciVisTo“-Gründerin Franziska Schwarz über einen ungewöhnlichen Weg in die Selbstständigkeit\"><div class=\"news-img-wrap\"><a href=\"/de/nachrichten/detail/2021-03-29-studier-was-vernuenftiges-scivisto-gruenderin-franziska-schwarz-ueber-einen\" title=\"„Studier was Vernünftiges!“ – „SciVisTo“-Gründerin Franziska Schwarz über einen ungewöhnlichen Weg in die Selbstständigkeit\"><img alt=\"Franziska Schwarz visualisiert Diskussionen und Prozesse | Zeichnung: Franziska Schwarz\" height=\"140\" src=\"/fileadmin/_processed_/e/3/csm_2021-03_Zeichnung_Franziska_Schwarz_e0a9a8fcfe.jpg\" title=\"Franziska Schwarz visualisiert Diskussionen und Prozesse | Zeichnung: Franziska Schwarz\" width=\"270\"/></a></div></a></div><div class=\"up-news-list-item-text\"><a href=\"/de/nachrichten/detail/2021-03-29-studier-was-vernuenftiges-scivisto-gruenderin-franziska-schwarz-ueber-einen\" title=\"„Studier was Vernünftiges!“ – „SciVisTo“-Gründerin Franziska Schwarz über einen ungewöhnlichen Weg in die Selbstständigkeit\"><h2>„Studier was Vernünftiges!“ – „SciVisTo“-Gründerin Franziska Schwarz über einen ungewöhnlichen Weg in die Selbstständigkeit</h2></a><div class=\"up-news-list-published\"><time datetime=\"2021-03-29\"> 29.03.2021 </time></div><span class=\"up-news-list-text\"> Hätte mir jemand zum Abitur gesagt, dass ich einmal als zeichnende Naturwissenschaftlerin mein Geld verdienen würde ... So ein Unsinn! </span><span class=\"up-news-list-morelink\"><a class=\"more\" href=\"/de/nachrichten/detail/2021-03-29-studier-was-vernuenftiges-scivisto-gruenderin-franziska-schwarz-ueber-einen\" title=\"„Studier was Vernünftiges!“ – „SciVisTo“-Gründerin Franziska Schwarz über einen ungewöhnlichen Weg in die Selbstständigkeit\"> mehr </a></span></div><div class=\"up-clear\"></div></div>,\n",
       " <div class=\"up-news-list-item\" itemscope=\"itemscope\" itemtype=\"http://schema.org/Article\"><div class=\"up-news-list-item-image\"><a href=\"/de/nachrichten/detail/2021-03-25-ich-wuerde-meine-verteidigung-auch-lieber-live-durchfuehren-luise-krompholz-macht\" title=\"„Ich würde meine Verteidigung auch lieber live durchführen“ – Luise Krompholz macht ihren Abschluss an der Uni fern der Uni\"><div class=\"news-img-wrap\"><a href=\"/de/nachrichten/detail/2021-03-25-ich-wuerde-meine-verteidigung-auch-lieber-live-durchfuehren-luise-krompholz-macht\" title=\"„Ich würde meine Verteidigung auch lieber live durchführen“ – Luise Krompholz macht ihren Abschluss an der Uni fern der Uni\"><img alt=\"Luise Theresa Krompholz | Foto: privat\" height=\"140\" src=\"/fileadmin/_processed_/3/2/csm_2021-03_Luise_Krompholz_privat_f836c4ca8c.jpg\" title=\"Luise Theresa Krompholz | Foto: privat\" width=\"270\"/></a></div></a></div><div class=\"up-news-list-item-text\"><a href=\"/de/nachrichten/detail/2021-03-25-ich-wuerde-meine-verteidigung-auch-lieber-live-durchfuehren-luise-krompholz-macht\" title=\"„Ich würde meine Verteidigung auch lieber live durchführen“ – Luise Krompholz macht ihren Abschluss an der Uni fern der Uni\"><h2>„Ich würde meine Verteidigung auch lieber live durchführen“ – Luise Krompholz macht ihren Abschluss an der Uni fern der Uni</h2></a><span class=\"up-news-list-subheader\"><span class=\"up-news-list-subheader-text\"> Krisenbewältigung und Innovation – Die digitale Universität in Zeiten der Pandemie </span></span><div class=\"up-news-list-published\"><time datetime=\"2021-03-25\"> 25.03.2021 </time></div><span class=\"up-news-list-text\"> Wenn das Studium dem Ende zugeht, saugen viele noch einmal alles auf, was die Uni zu bieten hat: Auslanderfahrung, intensive Diskussionen in... </span><span class=\"up-news-list-morelink\"><a class=\"more\" href=\"/de/nachrichten/detail/2021-03-25-ich-wuerde-meine-verteidigung-auch-lieber-live-durchfuehren-luise-krompholz-macht\" title=\"„Ich würde meine Verteidigung auch lieber live durchführen“ – Luise Krompholz macht ihren Abschluss an der Uni fern der Uni\"> mehr </a></span></div><div class=\"up-clear\"></div></div>]"
      ]
     },
     "execution_count": 18,
     "metadata": {},
     "output_type": "execute_result"
    }
   ],
   "source": [
    "news_soup.select(css_element)"
   ]
  },
  {
   "cell_type": "code",
   "execution_count": 19,
   "id": "63ed5980",
   "metadata": {
    "collapsed": true
   },
   "outputs": [
    {
     "data": {
      "text/plain": [
       "10"
      ]
     },
     "execution_count": 19,
     "metadata": {},
     "output_type": "execute_result"
    }
   ],
   "source": [
    "news_list = list(map(lambda x: x, news_soup.select(css_element)))\n",
    "len(news_list)"
   ]
  },
  {
   "cell_type": "markdown",
   "id": "22698b48",
   "metadata": {},
   "source": [
    "15. Split the list's elements into their hyperlinks (`href`) and text attributes' values."
   ]
  },
  {
   "cell_type": "code",
   "execution_count": 20,
   "id": "949ac1c9",
   "metadata": {
    "collapsed": true
   },
   "outputs": [
    {
     "data": {
      "text/plain": [
       "'/de/nachrichten/detail/2021-04-15-studio-days-2021-digitale-studienorientierungswoche-der-staatlichen-brandenburgischen'"
      ]
     },
     "execution_count": 20,
     "metadata": {},
     "output_type": "execute_result"
    }
   ],
   "source": [
    "news_list[0].findChild('a')['href']"
   ]
  },
  {
   "cell_type": "code",
   "execution_count": 21,
   "id": "3680ed91",
   "metadata": {
    "collapsed": true
   },
   "outputs": [
    {
     "data": {
      "text/plain": [
       "'Studi’O Days 2021 – digitale Studienorientierungswoche der staatlichen brandenburgischen Hochschulen'"
      ]
     },
     "execution_count": 21,
     "metadata": {},
     "output_type": "execute_result"
    }
   ],
   "source": [
    "news_list[0].findChild('a')['title']"
   ]
  },
  {
   "cell_type": "code",
   "execution_count": 22,
   "id": "54b54191",
   "metadata": {
    "collapsed": true
   },
   "outputs": [],
   "source": [
    "link_list = []\n",
    "title_list = []\n",
    "\n",
    "for link_num in range(len(news_list)):\n",
    "    sub_link  = news_list[link_num].findChild('a')['href']\n",
    "    sub_title = news_list[link_num].findChild('a')['title']\n",
    "    \n",
    "    if type(sub_link)is str and 'www' not in sub_link:\n",
    "        link_list.append('https://www.uni-potsdam.de' + sub_link)\n",
    "        title_list.append(sub_title)"
   ]
  },
  {
   "cell_type": "code",
   "execution_count": 23,
   "id": "3ec227d7",
   "metadata": {
    "collapsed": true
   },
   "outputs": [
    {
     "data": {
      "text/plain": [
       "['https://www.uni-potsdam.de/de/nachrichten/detail/2021-04-15-studio-days-2021-digitale-studienorientierungswoche-der-staatlichen-brandenburgischen',\n",
       " 'https://www.uni-potsdam.de/de/nachrichten/detail/2021-04-15-hoppla-jetzt-kommt-koppla-die-revolution-fuers-handwerk',\n",
       " 'https://www.uni-potsdam.de/de/nachrichten/detail/2021-04-13-science-fiction-experimentelle-kooperation-von-germanistik-und-food4future',\n",
       " 'https://www.uni-potsdam.de/de/nachrichten/detail/2021-04-13-wir-waren-exotisch-der-linguist-gisbert-fanselow-und-der-psychologe-reinhold-klie',\n",
       " 'https://www.uni-potsdam.de/de/nachrichten/detail/2021-04-12-eine-bruecke-in-den-arbeitsmarkt-warum-betriebswirtin-kristina-nistor-noch-einmal-zur-uni-g',\n",
       " 'https://www.uni-potsdam.de/de/nachrichten/detail/2021-04-08-die-klima-uhr-tickt-der-wirtschaftswissenschaftler-matthias-kalkuhl-erforscht-wie-die-k',\n",
       " 'https://www.uni-potsdam.de/de/nachrichten/detail/2021-04-06-viele-schluessel-zum-erfolg-wie-sich-das-zessko-vom-sprachen-zum-kompetenzzentrum-entwi',\n",
       " 'https://www.uni-potsdam.de/de/nachrichten/detail/2021-03-30-im-interview-sven-dinklage-im-einsatz-als-liaison-officer-fuer-die-up-in-brasilien',\n",
       " 'https://www.uni-potsdam.de/de/nachrichten/detail/2021-03-29-studier-was-vernuenftiges-scivisto-gruenderin-franziska-schwarz-ueber-einen',\n",
       " 'https://www.uni-potsdam.de/de/nachrichten/detail/2021-03-25-ich-wuerde-meine-verteidigung-auch-lieber-live-durchfuehren-luise-krompholz-macht']"
      ]
     },
     "execution_count": 23,
     "metadata": {},
     "output_type": "execute_result"
    }
   ],
   "source": [
    "link_list"
   ]
  },
  {
   "cell_type": "code",
   "execution_count": 24,
   "id": "9f9d0c03",
   "metadata": {
    "collapsed": true
   },
   "outputs": [
    {
     "data": {
      "text/plain": [
       "['Studi’O Days 2021 – digitale Studienorientierungswoche der staatlichen brandenburgischen Hochschulen',\n",
       " 'Hoppla! Jetzt kommt Koppla! – Die Revolution fürs Handwerk',\n",
       " 'Science / Fiction – Experimentelle Kooperation von Germanistik und food4future',\n",
       " '„Wir waren exotisch!“ – Der Linguist Gisbert Fanselow und der Psychologe Reinhold Kliegl im Gespräch über löchrige Dächer, schwierige Anfänge und die richtigen Forschungsfragen',\n",
       " 'Eine Brücke in den Arbeitsmarkt: Warum Betriebswirtin Kristina Nistor noch einmal zur Uni ging',\n",
       " 'Die Klima-Uhr tickt – Der Wirtschaftswissenschaftler Matthias Kalkuhl erforscht, wie die Klimawende gelingen kann',\n",
       " 'Viele Schlüssel zum Erfolg – Wie sich das Zessko vom Sprachen- zum Kompetenzzentrum entwickelte',\n",
       " 'Im Interview: Sven Dinklage – Im Einsatz als Liaison-Officer für die UP in Brasilien',\n",
       " '„Studier was Vernünftiges!“ – „SciVisTo“-Gründerin Franziska Schwarz über einen ungewöhnlichen Weg in die Selbstständigkeit',\n",
       " '„Ich würde meine Verteidigung auch lieber live durchführen“ – Luise Krompholz macht ihren Abschluss an der Uni fern der Uni']"
      ]
     },
     "execution_count": 24,
     "metadata": {},
     "output_type": "execute_result"
    }
   ],
   "source": [
    "title_list"
   ]
  },
  {
   "cell_type": "code",
   "execution_count": 25,
   "id": "cc854f3d",
   "metadata": {
    "collapsed": true
   },
   "outputs": [],
   "source": [
    "lot = list(zip(title_list, link_list))\n",
    "news_dict = dict(lot)"
   ]
  },
  {
   "cell_type": "code",
   "execution_count": 26,
   "id": "caa44ba2",
   "metadata": {
    "collapsed": true
   },
   "outputs": [
    {
     "data": {
      "text/plain": [
       "{'Studi’O Days 2021 – digitale Studienorientierungswoche der staatlichen brandenburgischen Hochschulen': 'https://www.uni-potsdam.de/de/nachrichten/detail/2021-04-15-studio-days-2021-digitale-studienorientierungswoche-der-staatlichen-brandenburgischen',\n",
       " 'Hoppla! Jetzt kommt Koppla! – Die Revolution fürs Handwerk': 'https://www.uni-potsdam.de/de/nachrichten/detail/2021-04-15-hoppla-jetzt-kommt-koppla-die-revolution-fuers-handwerk',\n",
       " 'Science / Fiction – Experimentelle Kooperation von Germanistik und food4future': 'https://www.uni-potsdam.de/de/nachrichten/detail/2021-04-13-science-fiction-experimentelle-kooperation-von-germanistik-und-food4future',\n",
       " '„Wir waren exotisch!“ – Der Linguist Gisbert Fanselow und der Psychologe Reinhold Kliegl im Gespräch über löchrige Dächer, schwierige Anfänge und die richtigen Forschungsfragen': 'https://www.uni-potsdam.de/de/nachrichten/detail/2021-04-13-wir-waren-exotisch-der-linguist-gisbert-fanselow-und-der-psychologe-reinhold-klie',\n",
       " 'Eine Brücke in den Arbeitsmarkt: Warum Betriebswirtin Kristina Nistor noch einmal zur Uni ging': 'https://www.uni-potsdam.de/de/nachrichten/detail/2021-04-12-eine-bruecke-in-den-arbeitsmarkt-warum-betriebswirtin-kristina-nistor-noch-einmal-zur-uni-g',\n",
       " 'Die Klima-Uhr tickt – Der Wirtschaftswissenschaftler Matthias Kalkuhl erforscht, wie die Klimawende gelingen kann': 'https://www.uni-potsdam.de/de/nachrichten/detail/2021-04-08-die-klima-uhr-tickt-der-wirtschaftswissenschaftler-matthias-kalkuhl-erforscht-wie-die-k',\n",
       " 'Viele Schlüssel zum Erfolg – Wie sich das Zessko vom Sprachen- zum Kompetenzzentrum entwickelte': 'https://www.uni-potsdam.de/de/nachrichten/detail/2021-04-06-viele-schluessel-zum-erfolg-wie-sich-das-zessko-vom-sprachen-zum-kompetenzzentrum-entwi',\n",
       " 'Im Interview: Sven Dinklage – Im Einsatz als Liaison-Officer für die UP in Brasilien': 'https://www.uni-potsdam.de/de/nachrichten/detail/2021-03-30-im-interview-sven-dinklage-im-einsatz-als-liaison-officer-fuer-die-up-in-brasilien',\n",
       " '„Studier was Vernünftiges!“ – „SciVisTo“-Gründerin Franziska Schwarz über einen ungewöhnlichen Weg in die Selbstständigkeit': 'https://www.uni-potsdam.de/de/nachrichten/detail/2021-03-29-studier-was-vernuenftiges-scivisto-gruenderin-franziska-schwarz-ueber-einen',\n",
       " '„Ich würde meine Verteidigung auch lieber live durchführen“ – Luise Krompholz macht ihren Abschluss an der Uni fern der Uni': 'https://www.uni-potsdam.de/de/nachrichten/detail/2021-03-25-ich-wuerde-meine-verteidigung-auch-lieber-live-durchfuehren-luise-krompholz-macht'}"
      ]
     },
     "execution_count": 26,
     "metadata": {},
     "output_type": "execute_result"
    }
   ],
   "source": [
    "news_dict"
   ]
  },
  {
   "cell_type": "code",
   "execution_count": null,
   "id": "f4eb2b22",
   "metadata": {
    "collapsed": true
   },
   "outputs": [],
   "source": []
  },
  {
   "cell_type": "markdown",
   "id": "2f7b1a92",
   "metadata": {},
   "source": [
    "## Pagination\n",
    "You have probably realised that the articles presented on the first news page are not the entire collection of the University of Potsdam. Your goal is to retrieve a complete collection of all articles that are available on the university's website and you can easily apply your new knowledge in a repetive manner."
   ]
  },
  {
   "cell_type": "markdown",
   "id": "241ac12e",
   "metadata": {},
   "source": [
    "16. Figure out how many pages containing articles content there are in total. You can do it manually by e.g. inspecting the URL when you proceed through the collection in your browser or by checking it programmatically by writing a `while` loop that continues until some condition, such as a status returned from your request, is violated. Make sure to include a short pause (1 second) in order not to overcharge the server that in some cases could lead to a temporary ban of your device."
   ]
  },
  {
   "cell_type": "code",
   "execution_count": 27,
   "id": "eab3777a",
   "metadata": {
    "collapsed": true
   },
   "outputs": [
    {
     "name": "stdout",
     "output_type": "stream",
     "text": [
      "Scraping page 0.\n",
      "Scraping page 1.\n",
      "Scraping page 2.\n",
      "Scraping page 3.\n",
      "Scraping page 4.\n",
      "Scraping page 5.\n",
      "Scraping page 6.\n",
      "Scraping page 7.\n",
      "Scraping page 8.\n",
      "Scraping page 9.\n",
      "Scraping page 10.\n",
      "Scraping page 11.\n",
      "Scraping page 12.\n",
      "Scraping page 13.\n",
      "Scraping page 14.\n",
      "Scraping page 15.\n",
      "Scraping page 16.\n",
      "Scraping page 17.\n",
      "Scraping page 18.\n",
      "Scraping page 19.\n",
      "Scraping page 20.\n",
      "Scraping page 21.\n",
      "Scraping page 22.\n",
      "Scraping page 23.\n",
      "Scraping page 24.\n",
      "Scraping page 25.\n",
      "Scraping page 26.\n",
      "Scraping page 27.\n",
      "Scraping page 28.\n",
      "Scraping page 29.\n",
      "Scraping page 30.\n",
      "Scraping page 31.\n",
      "Scraping page 32.\n",
      "Scraping page 33.\n",
      "Scraping page 34.\n",
      "Scraping page 35.\n",
      "Scraping page 36.\n",
      "Scraping page 37.\n",
      "Scraping page 38.\n",
      "Scraping page 39.\n",
      "Scraping page 40.\n",
      "Scraping page 41.\n",
      "Scraping page 42.\n",
      "Scraping page 43.\n",
      "Scraping page 44.\n",
      "Scraping page 45.\n",
      "Scraping page 46.\n",
      "Scraping page 47.\n",
      "Scraping page 48.\n",
      "Scraping page 49.\n",
      "Scraping page 50.\n",
      "Scraping page 51.\n",
      "Scraping page 52.\n",
      "Scraping page 53.\n",
      "Scraping page 54.\n",
      "Scraping page 55.\n",
      "Scraping page 56.\n",
      "Scraping page 57.\n",
      "Scraping page 58.\n",
      "Scraping page 59.\n",
      "Scraping page 60.\n",
      "Scraping page 61.\n",
      "Scraping page 62.\n",
      "Scraping page 63.\n",
      "Scraping page 64.\n",
      "Scraping page 65.\n",
      "Scraping page 66.\n",
      "Scraping page 67.\n",
      "Scraping page 68.\n",
      "Scraping page 69.\n",
      "Scraping page 70.\n",
      "Scraping page 71.\n",
      "Scraping page 72.\n",
      "Scraping page 73.\n",
      "Scraping page 74.\n",
      "Scraping page 75.\n",
      "Scraping page 76.\n",
      "Scraping page 77.\n",
      "Scraping page 78.\n",
      "Scraping page 79.\n",
      "Scraping page 80.\n",
      "Scraping page 81.\n",
      "Scraping page 82.\n",
      "Scraping page 83.\n",
      "Scraping page 84.\n",
      "Scraping page 85.\n",
      "Scraping page 86.\n",
      "Scraping page 87.\n",
      "Scraping page 88.\n",
      "Scraping page 89.\n",
      "Scraping page 90.\n",
      "Scraping page 91.\n",
      "Scraping page 92.\n",
      "Scraping page 93.\n",
      "Scraping page 94.\n",
      "Scraping page 95.\n",
      "Scraping page 96.\n",
      "Scraping page 97.\n",
      "Scraping page 98.\n",
      "Scraping page 99.\n",
      "Scraping page 100.\n"
     ]
    }
   ],
   "source": [
    "# Long code block\n",
    "import time\n",
    "\n",
    "articles_links = []\n",
    "\n",
    "counter = 0\n",
    "\n",
    "test_seed = 'https://www.uni-potsdam.de/de/nachrichten/'\n",
    "test_html = requests.get(seed)\n",
    "status = test_html.status_code\n",
    "\n",
    "while status == 200:\n",
    "    \n",
    "    print('Scraping page ' + str(counter) + '.')\n",
    "    \n",
    "    if counter < 1:\n",
    "        \n",
    "        seed = 'https://www.uni-potsdam.de/de/nachrichten/'\n",
    "        \n",
    "        html = requests.get(seed)\n",
    "        \n",
    "        status = html.status_code\n",
    "        \n",
    "        soup = BeautifulSoup(html.text, \"html.parser\")\n",
    "        \n",
    "        news_list = list(map(lambda x: x, soup.select('.up-news-list-item')))\n",
    "        \n",
    "        link_list = []\n",
    "        title_list = []\n",
    "        \n",
    "        for link_num in range(len(news_list)):\n",
    "    \n",
    "            sub_link = news_list[link_num].findChild(\"a\")['href']\n",
    "            sub_title = news_list[link_num].findChild(\"a\")['title']\n",
    "    \n",
    "            if type(sub_link) is str and 'www' not in sub_link:\n",
    "        \n",
    "                link_list.append('https://www.uni-potsdam.de' + sub_link)\n",
    "                title_list.append(sub_title)\n",
    "        \n",
    "        articles_links.extend(link_list)\n",
    "        \n",
    "    elif counter >= 1:\n",
    "        \n",
    "        seed = 'https://www.uni-potsdam.de/de/nachrichten/page-{}'.format(str(counter+1))\n",
    "        \n",
    "        html = requests.get(seed)\n",
    "        \n",
    "        status = html.status_code\n",
    "        \n",
    "        soup = BeautifulSoup(html.text, \"html.parser\")\n",
    "        \n",
    "        news_list = list(map(lambda x: x, soup.select('.up-news-list-item')))\n",
    "        \n",
    "        link_list = []\n",
    "        title_list = []\n",
    "\n",
    "        for link_num in range(len(news_list)):\n",
    "    \n",
    "            sub_link = news_list[link_num].findChild(\"a\")['href']\n",
    "            sub_title = news_list[link_num].findChild(\"a\")['title']\n",
    "    \n",
    "            if type(sub_link) is str and 'www' not in sub_link:\n",
    "        \n",
    "                link_list.append('https://www.uni-potsdam.de' + sub_link)\n",
    "                title_list.append(sub_title)\n",
    "        \n",
    "        articles_links.extend(link_list)\n",
    "        \n",
    "    counter += 1\n",
    "    \n",
    "    time.sleep(1)"
   ]
  },
  {
   "cell_type": "code",
   "execution_count": 34,
   "id": "933b987b",
   "metadata": {
    "collapsed": true
   },
   "outputs": [],
   "source": [
    "with open('articles_links.txt', 'w') as output:\n",
    "    \n",
    "    output.writelines(\"%s\\n\" % line for line in articles_links)"
   ]
  },
  {
   "cell_type": "markdown",
   "id": "3693f72e",
   "metadata": {},
   "source": [
    "17. Read in the JSON file you stored in step 17 and iterate over each hyperlink. Split the list into 4 evenly sized chunks and iterate over each chunk. In each iteration, obtain the HTML, parse it and identify the elements of the publication date, the contact, the contact's email address, the image's hyperlink/reference and the main text body's length. Note that some, or even all, of these elements may not be available. Define an appropriate data type for each field and append it **as a dictionary** in each iteration to a list."
   ]
  },
  {
   "cell_type": "code",
   "execution_count": 44,
   "id": "feb711d6",
   "metadata": {
    "collapsed": true
   },
   "outputs": [],
   "source": [
    "import json\n",
    "\n",
    "with open('articles_links.txt', 'r') as inputfile:\n",
    "    urls = inputfile.read()"
   ]
  },
  {
   "cell_type": "code",
   "execution_count": 46,
   "id": "62804eab",
   "metadata": {
    "collapsed": true
   },
   "outputs": [
    {
     "data": {
      "text/plain": [
       "'https://www.uni-potsdam.de/de/nachrichten/detail/2021-04-15-hoppla-jetzt-kommt-koppla-die-revolution-fuers-handwerk'"
      ]
     },
     "execution_count": 46,
     "metadata": {},
     "output_type": "execute_result"
    }
   ],
   "source": [
    "urls_list = urls.split('\\n')[:-1]\n",
    "urls_list[1]"
   ]
  },
  {
   "cell_type": "code",
   "execution_count": 47,
   "id": "3b21f511",
   "metadata": {
    "collapsed": true
   },
   "outputs": [
    {
     "data": {
      "text/plain": [
       "250.0"
      ]
     },
     "execution_count": 47,
     "metadata": {},
     "output_type": "execute_result"
    }
   ],
   "source": [
    "size = len(urls_list)/4\n",
    "size"
   ]
  },
  {
   "cell_type": "code",
   "execution_count": 52,
   "id": "20924d64",
   "metadata": {
    "collapsed": true
   },
   "outputs": [
    {
     "data": {
      "text/plain": [
       "'<!DOCTYPE html><html dir=\"ltr\" lang=\"de-DE\"><head><meta charset=\"utf-8\"><!-- benaja - web solutions (www.benaja-websolutions.com) Markus Meier, Roland Brandt und Tobias Gaertner GbR This website is powered by TYPO3 - inspiring people to share! TYPO3 is a free open source Content Management Framework initially created by Kasper Skaarhoj and licensed under GNU/GPL. TYPO3 is copyright 1998-2021 of Kasper Skaarhoj. Extensions are copyright of their respective owners. Information and contribution at https://typo3.org/ --><meta http-equiv=\"x-ua-compatible\" content=\"IE=edge\"/><meta name=\"generator\" content=\"TYPO3 CMS\"/><meta name=\"viewport\" content=\"width=device-width, initial-scale=1.0\"/><meta name=\"author\" content=\"Silvana Grabowski\"/><meta property=\"og:title\" content=\"Detail\"/><meta name=\"twitter:card\" content=\"summary\"/><link rel=\"stylesheet\" type=\"text/css\" href=\"/typo3temp/assets/compressed/merged-fc201a8dd7df23f7869e0d7219366c48-min.css.gzip?1583314121\" media=\"print\"><link rel=\"stylesheet\" type=\"text/css\" href=\"/typo3temp/assets/compressed/merged-ac5e367df0d2daf0f288930ccdf26749-min.css.gzip?1613975705\" media=\"screen\"><script src=\"/typo3temp/assets/compressed/jquery-2.2.4.min-min.js.gzip?1583314121\" type=\"text/javascript\"></script><script src=\"/typo3temp/assets/compressed/merged-8dc6a9a84127a40ca23fee40ecace56f-min.js.gzip?1583314133\" type=\"text/javascript\"></script><script type=\"text/javascript\">function returnAt() { document.write(\\'&#64;\\'); }function returnDot() { document.write(\\'.\\'); }</script><title> Neues aus der UP - Universität Potsdam</title><meta name=\"google-site-verification\" content=\"ZyJR9vqMZBQxke_IH0PfW8KV6TNywA481w6H1uQwYA4\"/><link rel=\"canonical\" href=\"https://www.uni-potsdam.de/de/nachrichten/detail/2021-04-15-studio-days-2021-digitale-studienorientierungswoche-der-staatlichen-brandenburgischen\"/></head><body class=\"up-section-university\"><noscript><div id=\"up_nojs\"><div class=\"row\"><div class=\"twentyfour columns\"><p> JavaScript ist in ihrem Browser deaktiviert. <span class=\"up-nojs-hint\">Bitte aktivieren Sie JavaScript</span> um alle Funktionen der Website nutzen zu können! </p></div></div></div></noscript><div id=\"up_overlay_for_search\"></div><div id=\"up_overlay_for_navs\"></div><div id=\"up_mobilenav_wrapper_small\" class=\"show-for-small\"><div class=\"row collapse\"><div class=\"twentyfour columns\"><div id=\"up_mobilenav_small\"><ul class=\"up-mobilenav-level-1\"><li id=\"up_mobilenav_mainnav_item\" class=\"up-mobilenav-target-mainnav\"><span class=\" up-icon\"></span></li><li id=\"up_mobilenav_searchbox_item\" class=\"up-mobilenav-target-searchbox\"><span class=\" up-icon\"></span></li><li id=\"up_mobilenav_langnav_item\" class=\"up-mobilenav-target-langnav\"><span class=\" up-icon\"></span></li><li id=\"up_mobilenav_globalnav_item\" class=\"up-mobilenav-target-globalnav\"><span class=\" up-icon\"></span></li></ul></div></div></div></div><div id=\"up_mobilesubnav_wrapper_small\" class=\"show-for-small\"><div id=\"up_mainnav_small\" class=\"up-mobilenav-level-2\"><ul class=\"up-mobilesubnav-level-1\"><li><div><span class=\"up-mobilesubnav-level-1-title\">UP entdecken</span><span class=\"up-mobilesubnav-arrow up-icon\"></span></div><ul class=\"up-mobilesubnav-level-2\"><li><a href=\"https://www.uni-potsdam.de/de/up-entdecken/\" target=\"_top\">Übersicht</a></li><li><a href=\"https://www.uni-potsdam.de/de/up-entdecken/upaktuell/uebersicht\" target=\"_top\">Aktuelle Themen</a></li><li><a href=\"https://www.uni-potsdam.de/de/up-entdecken/upkompakt/uebersicht\" target=\"_top\">UP kompakt</a></li><li><a href=\"https://www.uni-potsdam.de/de/up-entdecken/up-vor-ort/uebersicht\" target=\"_top\">UP vor Ort</a></li><li><a href=\"https://www.uni-potsdam.de/de/up-entdecken/up-erleben/uebersicht\" target=\"_top\">UP erleben</a></li><li class=\"last\"><a href=\"https://www.uni-potsdam.de/de/up-entdecken/up-im-portraet/uebersicht\" target=\"_top\">UP im Porträt</a></li></ul></li><li><div><span class=\"up-mobilesubnav-level-1-title\">Fakultäten</span><span class=\"up-mobilesubnav-arrow up-icon\"></span></div><ul class=\"up-mobilesubnav-level-2\"><li><a href=\"/de/fakultaeten/uebersicht\">Übersicht</a></li><li><a href=\"https://www.uni-potsdam.de/de/jura/\" target=\"_top\">Juristische Fakultät</a></li><li><a href=\"https://www.uni-potsdam.de/de/philfak/\" target=\"_top\">Philosophische Fakultät</a></li><li><a href=\"https://www.uni-potsdam.de/de/humfak/\" target=\"_top\">Humanwissenschaftliche Fakultät</a></li><li><a href=\"https://www.uni-potsdam.de/de/wiso/\" target=\"_top\">Wirtschafts- und Sozialwissenschaftliche Fakultät</a></li><li><a href=\"https://www.uni-potsdam.de/de/mnfakul/\" target=\"_top\">Mathematisch-Naturwissenschaftliche Fakultät</a></li><li><a href=\"https://www.uni-potsdam.de/de/digital-engineering/\" target=\"_top\">Digital Engineering Fakultät</a></li><li class=\"last\"><a href=\"/de/fakultaeten/fakultaet-fuer-gesundheitswissenschaften\">Fakultät für Gesundheitswissenschaften</a></li></ul></li><li><div><span class=\"up-mobilesubnav-level-1-title\">Organisation</span><span class=\"up-mobilesubnav-arrow up-icon\"></span></div><ul class=\"up-mobilesubnav-level-2\"><li><a href=\"/de/organisation/uebersicht\">Übersicht</a></li><li><a href=\"/de/organisation/organe-gremien\">Organe und Gremien</a></li><li><a href=\"/de/organisation/universitaetsleitung-und-verwaltung\">Universitätsleitung und Verwaltung</a></li><li><a href=\"/de/organisation/zentrale-und-wissenschaftliche-einrichtungen\">Zentrale und wissenschaftliche Einrichtungen</a></li><li><a href=\"https://www.ub.uni-potsdam.de/ub.html\" target=\"_top\">Bibliothek</a></li><li class=\"last\"><a href=\"/de/organisation/weitere-einrichtungen\">Weitere Einrichtungen</a></li></ul></li><li><div><span class=\"up-mobilesubnav-level-1-title\">Campus International</span><span class=\"up-mobilesubnav-arrow up-icon\"></span></div><ul class=\"up-mobilesubnav-level-2\"><li><a href=\"https://www.uni-potsdam.de/de/international/\" target=\"_top\">Übersicht</a></li><li><a href=\"https://www.uni-potsdam.de/de/international/profil/uebersicht\" target=\"_top\">Profil International</a></li><li><a href=\"https://www.uni-potsdam.de/de/international/service/uebersicht\" target=\"_top\">Service an der UP</a></li><li><a href=\"https://www.uni-potsdam.de/de/international/outgoing/uebersicht\" target=\"_top\">Ins Ausland</a></li><li><a href=\"https://www.uni-potsdam.de/de/international/incoming/uebersicht\" target=\"_top\">Aus dem Ausland</a></li><li class=\"last\"><a href=\"https://www.uni-potsdam.de/de/international/projekte/uebersicht\" target=\"_top\">Projekte International</a></li></ul></li><li><div><span class=\"up-mobilesubnav-level-1-title\">Wirtschaft, Transfer und Gesellschaft</span><span class=\"up-mobilesubnav-arrow up-icon\"></span></div><ul class=\"up-mobilesubnav-level-2\"><li><a href=\"https://www.uni-potsdam.de/de/wirtschaft-transfer-gesellschaft/\" target=\"_top\">Übersicht</a></li><li><a href=\"https://www.uni-potsdam.de/de/wirtschaft-transfer-gesellschaft/piw/piw\" target=\"_top\">Partnerkreis Industrie und Wirtschaft</a></li><li><a href=\"https://www.uni-potsdam.de/de/wirtschaft-transfer-gesellschaft/services-fuer-unternehmen/uebersicht\" target=\"_top\">Services für Unternehmen</a></li><li><a href=\"https://www.uni-potsdam.de/de/wirtschaft-transfer-gesellschaft/gruendung-und-transfer/uebersicht\" target=\"_top\">Gründung und Transfer</a></li><li><a href=\"https://www.uni-potsdam.de/de/wirtschaft-transfer-gesellschaft/foerdern-und-stiften/uebersicht\" target=\"_top\">Fördern und Stiften</a></li><li class=\"last\"><a href=\"https://www.uni-potsdam.de/de/wirtschaft-transfer-gesellschaft/weiterbildung/weiterbildungsangebote\" target=\"_top\">Weiterbildung</a></li></ul></li><li class=\"close last\"><div class=\"up-nav-close\"><span class=\"up-nav-close-title up-nav-close-btn\">Schliessen</span></div></li></ul></div><div id=\"up_searchboxnav_small\" class=\"up-mobilenav-level-2\"><ul class=\"up-mobilesubnav-level-1\"><li><div><div class=\"up-mobilesubnav-level-1-title\"><form action=\"https://www.google.de/search\" target=\"_blank\"><input id=\"up_searchboxsmall_input\" type=\"text\" name=\"q\" value=\"Suche\" onblur=\"if(this.value==\\'\\') this.value=\\'Suche\\';\" onfocus=\"if(this.value==\\'Suche\\') this.value=\\'\\';\"><input id=\"up_searchboxsmall_submit\" class=\"up-icon\" type=\"submit\" name=\"submit\" value=\"\"/><input type=\"hidden\" name=\"sitesearch\" value=\"www.uni-potsdam.de\"></form></div></div></li><li class=\"close last\"><div class=\"up-nav-close\"><span class=\"up-nav-close-title up-nav-close-btn\"> Schliessen </span></div></li></ul></div><div id=\"up_langnav_small\" class=\"up-mobilenav-level-2\"><ul class=\"up-mobilesubnav-level-1\"><li><div><span class=\"up-mobilesubnav-level-1-title\"><a href=\"/en/headlines-and-featured-stories/detail/2021-04-15-studio-days-2021-digitale-studienorientierungswoche-der-staatlichen-brandenburgischen\">English</a></span></div></li><li class=\"not-existing\" ><div><span class=\"up-mobilesubnav-level-1-title\">Detail</span></div></li><li class=\"not-existing\" ><div><span class=\"up-mobilesubnav-level-1-title\">Detail</span></div></li><li class=\"not-existing\" ><div><span class=\"up-mobilesubnav-level-1-title\">Detail</span></div></li><li class=\"close last\"><div class=\"up-nav-close\"><span class=\"up-nav-close-title up-nav-close-btn\"></span></div></li></ul></div><div id=\"up_globalnav_small\" class=\"up-mobilenav-level-2\"><ul class=\"up-mobilesubnav-level-1\"><li><div><span class=\"up-mobilesubnav-level-1-title\">Studium</span><span class=\"up-mobilesubnav-arrow up-icon\"></span></div><ul class=\"up-mobilesubnav-level-2\"><li><a href=\"https://www.uni-potsdam.de/de/studium/\" target=\"_top\">Studieren an der UP</a></li><li><a href=\"https://www.uni-potsdam.de/de/studium/studienangebot/uebersicht\" target=\"_top\">Studienangebot</a></li><li><a href=\"https://www.uni-potsdam.de/de/studium/zugang/uebersicht\" target=\"_top\">Bewerbung und Immatrikulation</a></li><li><a href=\"https://www.uni-potsdam.de/de/studium/konkret/uebersicht\" target=\"_top\">Studium konkret</a></li><li><a href=\"https://www.uni-potsdam.de/de/studium/beratung/uebersicht\" target=\"_top\">Beratungs- und Serviceeinrichtungen</a></li><li class=\"last\"><a href=\"https://www.uni-potsdam.de/de/studium/termine/uebersicht\" target=\"_top\">Termine und Fristen</a></li></ul></li><li><div><span class=\"up-mobilesubnav-level-1-title\">Forschung</span><span class=\"up-mobilesubnav-arrow up-icon\"></span></div><ul class=\"up-mobilesubnav-level-2\"><li><a href=\"https://www.uni-potsdam.de/de/forschung/\" target=\"_top\">Forschen an der UP</a></li><li><a href=\"https://www.uni-potsdam.de/de/forschung/profile-programme-projekte/uebersicht\" target=\"_top\">Profile, Programme und Projekte</a></li><li><a href=\"https://www.uni-potsdam.de/de/forschung/forschungsfoerderung/uebersicht\" target=\"_top\">Forschungsförderung</a></li><li><a href=\"https://www.uni-potsdam.de/de/forschungsdaten/\" target=\"_top\">Forschungsdaten</a></li><li><a href=\"https://www.uni-potsdam.de/de/forschung/kooperationen-partnerschaften/uebersicht\" target=\"_top\">Kooperationen und Partnerschaften</a></li><li class=\"last\"><a href=\"https://www.uni-potsdam.de/de/forschung/wissenschaftlicher-nachwuchs/uebersicht\" target=\"_top\">Wissenschaftlicher Nachwuchs</a></li></ul></li><li><div><span class=\"up-mobilesubnav-level-1-title\">Universität</span><span class=\"up-mobilesubnav-arrow up-icon\"></span></div><ul class=\"up-mobilesubnav-level-2\"><li><a href=\"https://www.uni-potsdam.de/de/up-entdecken/\" target=\"_top\">UP entdecken</a></li><li><a href=\"/de/fakultaeten/uebersicht\">Fakultäten</a></li><li><a href=\"/de/organisation/uebersicht\">Organisation</a></li><li><a href=\"https://www.uni-potsdam.de/de/wirtschaft-transfer-gesellschaft/\" target=\"_top\">Wirtschaft, Transfer und Gesellschaft</a></li><li><a href=\"https://www.uni-potsdam.de/de/international/\" target=\"_top\">Campus International</a></li><li><a href=\"https://www.uni-potsdam.de/de/foerderung/index\" target=\"_top\">Förderinstrumente</a></li><li class=\"last\"><a href=\"https://www.uni-potsdam.de/de/arbeiten-an-der-up/\" target=\"_top\">Arbeiten an der UP</a></li></ul></li><li><div><span class=\"up-mobilesubnav-level-1-title\">Online-Dienste</span><span class=\"up-mobilesubnav-arrow up-icon\"></span></div><ul class=\"up-mobilesubnav-level-2\"><li><a href=\"https://www.intern.uni-potsdam.de\" target=\"_top\">Intranet</a></li><li><a href=\"https://bi.uni-potsdam.de/jasperserver-pro/login.html\" target=\"_top\">BI.UP</a></li><li><a href=\"https://mailup.uni-potsdam.de\" target=\"_top\">Mail.UP (Webmailbox)</a></li><li><a href=\"https://puls.uni-potsdam.de/qisserver/rds?state=user&amp;type=0&amp;application=lsf\" target=\"_top\">PULS</a></li><li><a href=\"https://moodle2.uni-potsdam.de\" target=\"_top\">Moodle</a></li><li><a href=\"https://www.ub.uni-potsdam.de/de/\" target=\"_top\">Universitätsbibliothek</a></li><li><a href=\"https://pep.uni-potsdam.de\" target=\"_top\">Evaluationsportal (PEP)</a></li><li><a href=\"https://www.uni-potsdam.de/de/praxisportal/\" target=\"_top\">Praxisportal</a></li><li class=\"last\"><a href=\"https://www.uni-potsdam.de/de/zim/\" target=\"_top\">ZIM</a></li></ul></li><li class=\"up-metanav-item\"><a href=\"/de/\">Uni-Startseite</a></li><li class=\"up-metanav-item\"><a href=\"/de/notfall\">Notfall</a></li><li class=\"up-metanav-item\"><a href=\"/de/index-a-z\">Uni A-Z</a></li><li class=\"up-metanav-item\"><a href=\"/de/adressen\">Adressen</a></li><li class=\"close last\"><div class=\"up-nav-close\"><span class=\"up-nav-close-title up-nav-close-btn\"></span></div></li></ul></div></div><div id=\"up_header_wrapper\"><div id=\"up_section_indicator_left\" class=\"eight columns hide-for-small\"></div><div id=\"up_header\" class=\"row hide-for-small\"><div class=\"twentyfour columns\"><div class=\"row\"><div class=\"eight columns mobile-four\"><div id=\"up_section_indicator\"><div id=\"up_page_title\" class=\"up-logo\"><div id=\"up_logo_indicator_wrapper\"><div id=\"up_logo_indicator\"><span>&nbsp;</span></div><div id=\"up_logo_image\"><a href=\"/de/\" title=\"zur Uni-Startseite\"><img src=\"/typo3conf/ext/up_template/Resources/Public/Images/logos/up_logo_university_2.png\" alt=\"Logo Universität Potsdam\"/></a></div><div id=\"up_logo_title\"><a href=\"/de/\" title=\"zur Startseite des Bereichs Universität Potsdam\">Universität Potsdam</a></div><div id=\"up_logo_footer\"></div></div></div></div></div><div class=\"sixteen columns\"><div class=\"row\"><div class=\"twentyfour columns\"><div id=\"up_searchbox\" class=\"right\"><span class=\"up-searchbox-glass up-icon\"></span><div class=\"up-searchbox-field\"><form action=\"https://www.google.de/search\" target=\"_blank\"><input id=\"up_searchbox_input\" type=\"text\" name=\"q\" value=\"Suche auf uni-potsdam.de\" onblur=\"if(this.value==\\'\\') this.value=\\'Suche auf uni-potsdam.de\\';\" onfocus=\"if(this.value==\\'Suche auf uni-potsdam.de\\') this.value=\\'\\';\"><input id=\"up_searchbox_submit\" class=\"up-icon\" type=\"submit\" name=\"submit\" value=\"\"/><input type=\"hidden\" name=\"sitesearch\" value=\"www.uni-potsdam.de\"></form></div></div><div id=\"up_langnav\" class=\"right\"><ul class=\"up-langnav-level-1\"><li><div><span class=\"up-langnav-level-1-title up-icon\">Deutsch</span><span class=\"up-langnav-arrow up-icon\"></span></div><ul class=\"up-langnav-level-2\"><li><a href=\"/en/headlines-and-featured-stories/detail/2021-04-15-studio-days-2021-digitale-studienorientierungswoche-der-staatlichen-brandenburgischen\">English</a></li><li class=\"not-existing\">&nbsp;</li><li class=\"not-existing\">&nbsp;</li><li class=\"not-existing\">&nbsp;</li></ul></li></ul></div><div id=\"up_metanav\"><ul class=\"inline-list right\"><li><a href=\"/de/\">Uni-Startseite</a></li><li><a href=\"/de/notfall\">Notfall</a></li><li><a href=\"/de/index-a-z\">Uni A-Z</a></li><li><a href=\"/de/adressen\">Adressen</a></li></ul></div></div></div><div class=\"row\"><div class=\"twentyfour columns\"><div id=\"up_globalnav\"><ul class=\"up-globalnav-level-1\"><li><div><span class=\"up-globalnav-level-1-title\">Studium</span><span class=\"up-globalnav-arrow up-icon\"></span></div><ul class=\"up-globalnav-level-2\"><li><a href=\"https://www.uni-potsdam.de/de/studium/\" target=\"_top\">Studieren an der UP</a></li><li><a href=\"https://www.uni-potsdam.de/de/studium/studienangebot/uebersicht\" target=\"_top\">Studienangebot</a></li><li><a href=\"https://www.uni-potsdam.de/de/studium/zugang/uebersicht\" target=\"_top\">Bewerbung und Immatrikulation</a></li><li><a href=\"https://www.uni-potsdam.de/de/studium/konkret/uebersicht\" target=\"_top\">Studium konkret</a></li><li><a href=\"https://www.uni-potsdam.de/de/studium/beratung/uebersicht\" target=\"_top\">Beratungs- und Serviceeinrichtungen</a></li><li class=\"last\"><a href=\"https://www.uni-potsdam.de/de/studium/termine/uebersicht\" target=\"_top\">Termine und Fristen</a></li></ul></li><li><div><span class=\"up-globalnav-level-1-title\">Forschung</span><span class=\"up-globalnav-arrow up-icon\"></span></div><ul class=\"up-globalnav-level-2\"><li><a href=\"https://www.uni-potsdam.de/de/forschung/\" target=\"_top\">Forschen an der UP</a></li><li><a href=\"https://www.uni-potsdam.de/de/forschung/profile-programme-projekte/uebersicht\" target=\"_top\">Profile, Programme und Projekte</a></li><li><a href=\"https://www.uni-potsdam.de/de/forschung/forschungsfoerderung/uebersicht\" target=\"_top\">Forschungsförderung</a></li><li><a href=\"https://www.uni-potsdam.de/de/forschungsdaten/\" target=\"_top\">Forschungsdaten</a></li><li><a href=\"https://www.uni-potsdam.de/de/forschung/kooperationen-partnerschaften/uebersicht\" target=\"_top\">Kooperationen und Partnerschaften</a></li><li class=\"last\"><a href=\"https://www.uni-potsdam.de/de/forschung/wissenschaftlicher-nachwuchs/uebersicht\" target=\"_top\">Wissenschaftlicher Nachwuchs</a></li></ul></li><li><div><span class=\"up-globalnav-level-1-title\">Universität</span><span class=\"up-globalnav-arrow up-icon\"></span></div><ul class=\"up-globalnav-level-2\"><li><a href=\"https://www.uni-potsdam.de/de/up-entdecken/\" target=\"_top\">UP entdecken</a></li><li><a href=\"/de/fakultaeten/uebersicht\">Fakultäten</a></li><li><a href=\"/de/organisation/uebersicht\">Organisation</a></li><li><a href=\"https://www.uni-potsdam.de/de/wirtschaft-transfer-gesellschaft/\" target=\"_top\">Wirtschaft, Transfer und Gesellschaft</a></li><li><a href=\"https://www.uni-potsdam.de/de/international/\" target=\"_top\">Campus International</a></li><li><a href=\"https://www.uni-potsdam.de/de/foerderung/index\" target=\"_top\">Förderinstrumente</a></li><li class=\"last\"><a href=\"https://www.uni-potsdam.de/de/arbeiten-an-der-up/\" target=\"_top\">Arbeiten an der UP</a></li></ul></li><li class=\"last\"><div><span class=\"up-globalnav-level-1-title\">Online-Dienste</span><span class=\"up-globalnav-arrow up-icon\"></span></div><ul class=\"up-globalnav-level-2\"><li><a href=\"https://www.intern.uni-potsdam.de\" target=\"_top\">Intranet</a></li><li><a href=\"https://bi.uni-potsdam.de/jasperserver-pro/login.html\" target=\"_top\">BI.UP</a></li><li><a href=\"https://mailup.uni-potsdam.de\" target=\"_top\">Mail.UP (Webmailbox)</a></li><li><a href=\"https://puls.uni-potsdam.de/qisserver/rds?state=user&amp;type=0&amp;application=lsf\" target=\"_top\">PULS</a></li><li><a href=\"https://moodle2.uni-potsdam.de\" target=\"_top\">Moodle</a></li><li><a href=\"https://www.ub.uni-potsdam.de/de/\" target=\"_top\">Universitätsbibliothek</a></li><li><a href=\"https://pep.uni-potsdam.de\" target=\"_top\">Evaluationsportal (PEP)</a></li><li><a href=\"https://www.uni-potsdam.de/de/praxisportal/\" target=\"_top\">Praxisportal</a></li><li class=\"last\"><a href=\"https://www.uni-potsdam.de/de/zim/\" target=\"_top\">ZIM</a></li></ul></li></ul></div></div></div></div></div></div></div><div id=\"up_header_small\" class=\"row show-for-small\"><div class=\"columns mobile-four up-header-small-logo\"><div id=\"up_logo_indicator_wrapper_small\"><div id=\"up_logo_image_small\"><a href=\"/de/\" title=\"zur Uni-Startseite\"><img src=\"/typo3conf/ext/up_template/Resources/Public/Images/logos/up_logo_university_2.png\" alt=\"Logo Universität Potsdam\"/></a></div><div id=\"up_logo_title_small\"><a href=\"/de/\" title=\"zur Startseite des Bereichs Universität Potsdam\">Universität Potsdam</a></div><div id=\"up_logo_footer_small\"></div></div></div></div></div><div id=\"up_mainnav_wrapper\" class=\"hide-for-small\"><div class=\"row\"><div class=\"twentyfour columns\"><div id=\"up_mainnav\"><ul class=\"up-mainnav-level-1 up-smooth-box up-mainnav-width-5\"><li><div><span class=\"up-mainnav-level-1-title\">UP entdecken</span><span class=\"up-mainnav-arrow up-icon\"></span></div><ul class=\"up-mainnav-level-2\"><li><a href=\"https://www.uni-potsdam.de/de/up-entdecken/\" target=\"_top\">Übersicht</a></li><li><a href=\"https://www.uni-potsdam.de/de/up-entdecken/upaktuell/uebersicht\" target=\"_top\">Aktuelle Themen</a></li><li><a href=\"https://www.uni-potsdam.de/de/up-entdecken/upkompakt/uebersicht\" target=\"_top\">UP kompakt</a></li><li><a href=\"https://www.uni-potsdam.de/de/up-entdecken/up-vor-ort/uebersicht\" target=\"_top\">UP vor Ort</a></li><li><a href=\"https://www.uni-potsdam.de/de/up-entdecken/up-erleben/uebersicht\" target=\"_top\">UP erleben</a></li><li class=\"last\"><a href=\"https://www.uni-potsdam.de/de/up-entdecken/up-im-portraet/uebersicht\" target=\"_top\">UP im Porträt</a></li></ul></li><li><div><span class=\"up-mainnav-level-1-title\">Fakultäten</span><span class=\"up-mainnav-arrow up-icon\"></span></div><ul class=\"up-mainnav-level-2\"><li><a href=\"/de/fakultaeten/uebersicht\">Übersicht</a></li><li><a href=\"https://www.uni-potsdam.de/de/jura/\" target=\"_top\">Juristische Fakultät</a></li><li><a href=\"https://www.uni-potsdam.de/de/philfak/\" target=\"_top\">Philosophische Fakultät</a></li><li><a href=\"https://www.uni-potsdam.de/de/humfak/\" target=\"_top\">Humanwissenschaftliche Fakultät</a></li><li><a href=\"https://www.uni-potsdam.de/de/wiso/\" target=\"_top\">Wirtschafts- und Sozialwissenschaftliche Fakultät</a></li><li><a href=\"https://www.uni-potsdam.de/de/mnfakul/\" target=\"_top\">Mathematisch-Naturwissenschaftliche Fakultät</a></li><li><a href=\"https://www.uni-potsdam.de/de/digital-engineering/\" target=\"_top\">Digital Engineering Fakultät</a></li><li class=\"last\"><a href=\"/de/fakultaeten/fakultaet-fuer-gesundheitswissenschaften\">Fakultät für Gesundheitswissenschaften</a></li></ul></li><li><div><span class=\"up-mainnav-level-1-title\">Organisation</span><span class=\"up-mainnav-arrow up-icon\"></span></div><ul class=\"up-mainnav-level-2\"><li><a href=\"/de/organisation/uebersicht\">Übersicht</a></li><li><a href=\"/de/organisation/organe-gremien\">Organe und Gremien</a></li><li><a href=\"/de/organisation/universitaetsleitung-und-verwaltung\">Universitätsleitung und Verwaltung</a></li><li><a href=\"/de/organisation/zentrale-und-wissenschaftliche-einrichtungen\">Zentrale und wissenschaftliche Einrichtungen</a></li><li><a href=\"https://www.ub.uni-potsdam.de/ub.html\" target=\"_top\">Bibliothek</a></li><li class=\"last\"><a href=\"/de/organisation/weitere-einrichtungen\">Weitere Einrichtungen</a></li></ul></li><li><div><span class=\"up-mainnav-level-1-title\">Campus International</span><span class=\"up-mainnav-arrow up-icon\"></span></div><ul class=\"up-mainnav-level-2\"><li><a href=\"https://www.uni-potsdam.de/de/international/\" target=\"_top\">Übersicht</a></li><li><a href=\"https://www.uni-potsdam.de/de/international/profil/uebersicht\" target=\"_top\">Profil International</a></li><li><a href=\"https://www.uni-potsdam.de/de/international/service/uebersicht\" target=\"_top\">Service an der UP</a></li><li><a href=\"https://www.uni-potsdam.de/de/international/outgoing/uebersicht\" target=\"_top\">Ins Ausland</a></li><li><a href=\"https://www.uni-potsdam.de/de/international/incoming/uebersicht\" target=\"_top\">Aus dem Ausland</a></li><li class=\"last\"><a href=\"https://www.uni-potsdam.de/de/international/projekte/uebersicht\" target=\"_top\">Projekte International</a></li></ul></li><li class=\"last\"><div><span class=\"up-mainnav-level-1-title\">Wirtschaft, Transfer und Gesellschaft</span><span class=\"up-mainnav-arrow up-icon\"></span></div><ul class=\"up-mainnav-level-2\"><li><a href=\"https://www.uni-potsdam.de/de/wirtschaft-transfer-gesellschaft/\" target=\"_top\">Übersicht</a></li><li><a href=\"https://www.uni-potsdam.de/de/wirtschaft-transfer-gesellschaft/piw/piw\" target=\"_top\">Partnerkreis Industrie und Wirtschaft</a></li><li><a href=\"https://www.uni-potsdam.de/de/wirtschaft-transfer-gesellschaft/services-fuer-unternehmen/uebersicht\" target=\"_top\">Services für Unternehmen</a></li><li><a href=\"https://www.uni-potsdam.de/de/wirtschaft-transfer-gesellschaft/gruendung-und-transfer/uebersicht\" target=\"_top\">Gründung und Transfer</a></li><li><a href=\"https://www.uni-potsdam.de/de/wirtschaft-transfer-gesellschaft/foerdern-und-stiften/uebersicht\" target=\"_top\">Fördern und Stiften</a></li><li class=\"last\"><a href=\"https://www.uni-potsdam.de/de/wirtschaft-transfer-gesellschaft/weiterbildung/weiterbildungsangebote\" target=\"_top\">Weiterbildung</a></li></ul></li></ul><div class=\"up-nav-close\"><span class=\"up-nav-close-title up-nav-close-btn\">Schliessen</span></div></div></div></div></div><div id=\"up_breadcrumbs_wrapper\" class=\"hide-for-small\"><div class=\"row\"><div class=\"twentyfour columns\"><div id=\"up_breadcrumbs\"><ul class=\"up-breadcrumbs\"><li class=\"first\"><span><a href=\"/de/\"><span class=\"up-breadcrumb-home up-icon\"></span>Universität Potsdam</a></span></li><li><a href=\"/de/nachrichten\"><span class=\"up-breadcrumb-home up-icon\"></span>Neues aus der UP</a></li></ul></div></div></div></div><div id=\"up_content_wrapper\" class=\"up-content-subpage-2-template\"><div class=\"row show-for-small\"><div class=\"twentyfour columns\"><div id=\"up_subpagenav_small\" class=\"dl-menuwrapper\"><div class=\"up-subpagenav-top-parent dl-trigger\"><div class=\"up-subpagenav-indicator up-icon\"></div><a href=\"/de/nachrichten/detail\">Universität Potsdam</a></div><ul class=\"up-subpagenav-list dl-menu\"><li class=\"has-sub\"><div><a href=\"/de/veranstaltungen\">Veranstaltungen der UP</a><span class=\"up-subpagenav-indicator up-icon\"></span></div><ul class=\"up-subpagenav-list dl-submenu\"><li><div><a href=\"/de/veranstaltungen/veranstaltung-eintragen\">Veranstaltung eintragen</a><span class=\"up-subpagenav-indicator up-icon\"></span></div></li></ul></li><li><div><a href=\"/de/nachrichten\">Neues aus der UP</a><span class=\"up-subpagenav-indicator up-icon\"></span></div></li><li><div><a href=\"/de/medieninformationen\">Medieninformationen der UP</a><span class=\"up-subpagenav-indicator up-icon\"></span></div></li><li class=\"close last dl-trigger\"><div class=\"up-nav-close\"><span class=\"up-nav-close-title up-nav-close-btn\"></span></div></li></ul></div></div></div><div class=\"row\"><div class=\"six columns hide-for-small\"><div id=\"up_subpagenav\"><ul class=\"up-subpagenav-level-1\"><li class=\"has-sub\"><div><a href=\"/de/veranstaltungen\">Veranstaltungen der UP</a><span class=\"up-subpagenav-indicator up-icon\"></span></div><ul class=\"up-subpagenav-level-2\"><li class=\"last\"><div><a href=\"/de/veranstaltungen/veranstaltung-eintragen\">Veranstaltung eintragen</a><span class=\"up-subpagenav-indicator up-icon\"></span></div></li></ul></li><li class=\"act\"><div><a href=\"/de/nachrichten\">Neues aus der UP</a><span class=\"up-subpagenav-indicator up-icon\"></span></div></li><li class=\"last\"><div><a href=\"/de/medieninformationen\">Medieninformationen der UP</a><span class=\"up-subpagenav-indicator up-icon\"></span></div></li></ul></div></div><div class=\"eighteen columns\"><div id=\"up_content\"><div id=\"c501193\"><div class=\"news news-single\"><div class=\"article\" itemscope=\"itemscope\" itemtype=\"http://schema.org/Article\"><div class=\"up-news-single-item\"><div class=\"row\"><div class=\"sixteen columns up-news-single-leftbox\"><h1>Studi’O Days 2021 – digitale Studienorientierungswoche der staatlichen brandenburgischen Hochschulen</h1><div class=\"news-single-img\"><div id=\"up_news_single_media_slider_wrapper\"><div id=\"up_news_single_media_slider_wrapper_inner\"><div id=\"up_news_single_media_slider\"><div data-caption=\"#up_news_single_media_slider_caption_1\" ><a href=\"/fileadmin/projects/up/images/nachrichten/2021-04_Cover_StudiODays_PM.jpg\" title=\" | Quelle: Matthias Friel, Netzwerk Studienorientierung Brandenburg\" class=\"lightbox\" rel=\"lightbox[myImageSet]\"><img alt=\"Matthias Friel, Netzwerk Studienorientierung Brandenburg\" src=\"/fileadmin/_processed_/c/2/csm_2021-04_Cover_StudiODays_PM_3031cc67a0.jpg\" width=\"570\" height=\"296\"/></a></div></div><div class=\"orbit-caption\" id=\"up_news_single_media_slider_caption_1\"><div class=\"up-news-single-media-slider-caption\"><div class=\"up-news-single-media-slider-caption-source\">Quelle: Matthias Friel, Netzwerk Studienorientierung Brandenburg</div></div></div></div></div></div><p class=\"up-opener-text-with-border\"> Das Netzwerk Studienorientierung Brandenburg lädt vom 26. bis 30. April 2021 zur digitalen Studienorientierungswoche ein. Unter dem Motto „Fünf Tage, ein Ziel“ führen Studierende und Mitarbeiter der Studienberatungen der brandenburgischen Hochschulen Interessierte durch die Hochschullandschaft Brandenburgs. Beantwortet werden Fragen zu spezifischen Studiengängen, unter anderem aus den Rechts-, Sport,- Geistes-, Ingenieur-, Wirtschafts- und Naturwissenschaften, sowie allgemeine Fragestellungen rund ums Studium. Ziel ist die Unterstützung junger Studieninteressierter bei der Wahl ihres Wunschstudiengangs. </p><p>Zu den Highlights des kostenfreien Programms zählen der große Informationsabend aller Hochschulen in Brandenburg, Workshops aus der MINT-Reihe mit Einblicken in die Studiengänge der Mathematik, Informatik, Naturwissenschaft und Technik, außergewöhnliche Informationsangebote zur Hebammenwissenschaft sowie die Vorstellung dualer Studiengänge mit dem Schwerpunkt Gesundheit. Dazu gibt es einen bunten Mix aus Campusführungen und allgemeinen Informationen zu Themen wie Finanzierung, Wohnen, Studienalltag, die Wahl zwischen Universität und Fachhochschule und zum Numerus Clausus. Begleitet werden die Studi’O Days von einer täglichen Instagram-Challenge sowie Live-Beiträgen mit Insiderwissen von Studentinnen und Studenten auf dem Instagram-Kanal des Netzwerks Studienorientierung Brandenburg <a href=\"https://www.instagram.com/deine.stubb/\" title=\"Link zum Instagram Kanal von deine.stubb\" target=\"_top\" class=\"up-external-link\">@deine.stubb</a>.</p><p>Zu den beteiligten Hochschulen der Studi’O Days zählen die Brandenburgische Technische Universität Cottbus-Senftenberg, die Europa-Universität Viadrina Frankfurt (Oder), die Fachhochschule für Finanzen Königs-Wusterhausen, die Fachhochschule Potsdam, die Hochschule für nachhaltige Entwicklung Eberswalde, die Technische Hochschule Brandenburg, die Technische Hochschule Wildau sowie die Universität Potsdam. Weitere Informationen <a href=\"https://netzwerk-studienorientierung.de/?page_id=808\" title=\"Link zur Webseite vom Netzwerk Studienorientierung\" target=\"_top\" class=\"up-external-link\">hier</a>.</p><p><strong>Über das Netzwerk Studienorientierung Brandenburg</strong></p><p>Als unabhängiger Zusammenschluss der großen staatlichen brandenburgischen Hochschulen unterstützt das Netzwerk Studienorientierung Brandenburg Studieninteressierte bei der Suche nach ihren persönlichen Wegen ins Studium. Dabei stehen die Ratsuchenden im Mittelpunkt. Unter Bereitstellung nachhaltiger, hochschulübergreifender Informationen und persönlicher Beratungsangebote werden Jugendliche ermuntert die Vielfalt der gesamtdeutschen Hochschullandschaft zu ergründen. Basis ist ein seit vielen Jahren etabliertes, gemeinsames Konzept zur Studienorientierung sowie die überinstitutionelle Expertise eines erfahrenen Teams, welches in kooperativ gefärbten Veranstaltungen an Schulen und Hochschulen ein stets breites Spektrum an Studienmöglichkeiten vorstellt und so den vielfältigen Neigungen und Interessen von Jugendlichen besser gerecht wird. Ein verbindliches didaktisches Konzept sowie gemeinsame Informations- und Lehrmaterialien ermöglichen die flächendeckende Arbeit in der Hauptstadtregion, unabhängig vom Angebotsspektrum einzelner Hochschulen. Die zentrale Koordinationsstelle des Netzwerkes garantiert darüber hinaus den einfachen Zugang für Lehrer/innen und ermöglicht gemeinsame Aufritte aller beteiligten Hochschulen ohne koordinativen Aufwand seitens der Schulen. Das Netzwerk Studienorientierung Brandenburg arbeitet gemeinnützig, für Schulen stets kostenlos und wird regelmäßig hochschulübergreifend evaluiert.</p></div><div class=\"eight columns up-news-single-rightbox\"><div class=\"up-news-single-backlink\"><span onclick=\"javascript:history.back();\" class=\"up-icon\"></span><a href=\"javascript:history.back();\">zur Übersicht</a></div><div class=\"up-news-single-published\"><h2>Veröffentlicht</h2><div class=\"up-news-single-date\"><time datetime=\"2021-04-15\"> 15.04.2021 </time></div></div><div class=\"up-news-single-contact\"><h2> Kontakt </h2><div class=\"up-news-single-contact-item\"><a href=\"javascript:linkTo_UnCryptMailto(%27nbjmup%2Btvqqpsu.ofuaxfslAvoj.qputebn%5C%2Fef%27);\">Christian Mödebeck-Bagrowski</a></div></div><div class=\"up-news-single-author\"><h2>Autor</h2><a href=\"javascript:linkTo_UnCryptMailto(%27nbjmup%2B%27);\">Anita Sorgers, Netzwerk Studienorientierung Brandenburg</a></div><div class=\"up-news-single-editor\"><h2>Online-Redaktion</h2><a href=\"javascript:linkTo_UnCryptMailto(%27nbjmup%2BpomjofsfeblujpoAvoj.qputebn%5C%2Fef%27);\">Sabine Schwarz</a></div><div class=\"up-news-single-cat\"><h2>Sachgebiet</h2><div><a title=\"Studienangelegenheiten / Studium\">Studienangelegenheiten / Studium</a></div></div></div></div></div></div></div></div></div></div></div></div><div id=\"up_content_footer_divider\" class=\"hide-for-small row\"></div><div id=\"up_content_footer_divider_small\" class=\"show-for-small row\"></div><div id=\"up_oe_footer_wrapper\"><div id=\"up_oe_footer\" class=\"row up-smooth-box\"><div class=\"six columns up-oe-footer-box up-oe-footer-box-first\"><div class=\"up-oe-footer-box-header\"><h2>Soziale Medien </h2><div class=\"up-oe-footer-box-arrow up-icon\"></div></div><div class=\"up-oe-footer-box-content\"><p><a href=\"https://www.facebook.com/unipotsdam\" title=\"Folgen sie uns auf Facebook\" target=\"_blank\" class=\"up-sm-facebook\">Facebook</a><br /><a href=\"https://www.instagram.com/unipotsdam/\" title=\"Entdecken Sie unsere Impressionen auf Instagram\" target=\"_blank\" class=\"up-sm-instagram\">Instagram</a><br /><a href=\"https://www.linkedin.com/school/30760/\" title=\"Besuchen Sie unser LinkedIn-Profil\" target=\"_top\" class=\"up-sm-linkedin\">LinkedIn</a><br /><a href=\"https://www.researchgate.net/institution/Universitaet_Potsdam\" title=\"Vernetzen Sie sich mit unseren Forschenden auf Research Gate\" target=\"_top\" class=\"up-sm-researchgate\">Research Gate</a><br /><a href=\"https://www.twitter.com/unipotsdam\" title=\"Folgen Sie uns auf Twitter\" target=\"_blank\" class=\"up-sm-twitter\">Twitter</a><br /><a href=\"https://www.xing.com/companies/universit%C3%84tpotsdam\" title=\"Besuchen Sie unser XING-Profil\" target=\"_blank\" class=\"up-sm-xing\">XING</a><br /><a href=\"https://www.youtube.com/user/PresseUniPotsdam\" title=\"Abonnieren Sie unseren YouTube-Kanal\" target=\"_blank\" class=\"up-sm-youtube\">YouTube</a></p></div></div><div class=\"six columns up-oe-footer-box\"><div class=\"up-oe-footer-box-header\"><h2>Kontakt</h2><div class=\"up-oe-footer-box-arrow up-icon\"></div></div><div class=\"up-oe-footer-box-content\"><p>Universität Potsdam<br /> Am Neuen Palais 10<br /> 14469 Potsdam</p><p>Tel.: 0331 977-0<br /> Fax: 0331 97 21 63</p><p><a href=\"/de/impressum\" title=\"Universität Potsdam - Impressum\">Impressum</a><br /><a href=\"/de/datenschutzerklaerung\" title=\"Universität Potsdam - Datenschutzerklärung\">Datenschutzerklärung</a><br /><a href=\"https://www.uni-potsdam.de/de/barrierefreiheit\" title=\"Universität Potsdam - Barrierefreiheit\" target=\"_top\" class=\"up-internal-link\">Barrierefreiheit</a><br /><a href=\"https://www.uni-potsdam.de/de/presse/medienservice/ansprechpersonen.html\" title=\"Universität Potsdam - Ansprechpersonen\" target=\"_top\">Presse</a></p></div></div><div class=\"twelve columns up-oe-footer-box up-oe-footer-box-last\"><div class=\"up-oe-footer-box-header map\"><h2> Anfahrt </h2><div class=\"up-oe-footer-box-arrow up-icon\"></div></div><div class=\"up-oe-footer-box-content\"><div class=\"up-oe-footer-osm\"><div class=\"up-oe-footer-osm-iframe\"><div id=\"osm_location\"></div><a class=\"up-oe-footer-osm-link\" href=\"https://www.openstreetmap.org/?mlat=52.400589&amp;mlon=13.013138#map=17/52.400589/13.013138\" target=\"_blank\"> Größere Karte anzeigen </a></div></div></div></div></div><div class=\"row up-footer-closer\"></div></div><div id=\"up_global_footer_wrapper\"><div id=\"up_global_footer\" class=\"row up-smooth-box\"><div class=\"six columns up-global-footer-box up-global-footer-box-first\"><div class=\"up-global-footer-box-header\"><h2>Zertifikate</h2><div class=\"up-global-footer-box-arrow up-icon\"></div></div><div class=\"up-global-footer-box-content\"><p><a href=\"https://www.klischee-frei.de/de/index.php\" title=\"Fachportal Klischeefreie Studien- und Berufswahl\" target=\"_top\">Bundesinitiative Klischeefrei</a><br /><a href=\"https://www.hrk.de/positionen/beschluss/detail/nationaler-kodex-fuer-das-auslaenderstudium-an-deutschen-hochschulen/\" title=\"Nationaler Kodex für das Ausländerstudium an deutschen Hochschulen\" target=\"_top\">Code of Conduct</a><br /><a href=\"https://www.stifterverband.org/charta-guter-lehre\" title=\"Wettbewerb „Exzellente Lehre”\" target=\"_top\">Exzellente Lehre</a><br /><a href=\"https://www.hrk.de/audit/startseite/\" title=\"Audit „Internationalisierung der Hochschulen” (HRK)\" target=\"_top\">HRK-Audit</a>&nbsp;&amp;&nbsp;<a href=\"https://www.hrk.de/audit/re-audit/\" title=\"Informationen zum Re-Audit auf den Webseiten der HRK\" target=\"_top\">HRK-Re-Audit</a><br /><a href=\"https://www.uni-potsdam.de/de/zfq/hochschulstudien/systemakkreditierung\" title=\"Qualitätssiegel der Systemakkreditierung\" target=\"_top\" class=\"up-internal-link\">Systemakkreditierung</a><br /><a href=\"https://www.total-e-quality.de/de/\" title=\"Prädikat „Total E-Quality”\" target=\"_top\">Total E-Quality</a></p></div></div><div class=\"six columns up-global-footer-box\"><div class=\"up-global-footer-box-header\"><h2>Mitgliedschaften</h2><div class=\"up-global-footer-box-arrow up-icon\"></div></div><div class=\"up-global-footer-box-content\"><p><a href=\"https://netzwerk-studienorientierung.de/\" title=\"Netzwerk Studienorientierung Brandenburg\" target=\"_top\" class=\"up-internal-link\">Netzwerk Studienorientierung</a><br /><a href=\"https://www.scholarsatrisk.org/\" title=\"Scholars at Risk Network\" target=\"_top\">Scholars at Risk</a><br /><a href=\"https://eua.eu/\" title=\"European University Association\" target=\"_top\" class=\"up-internal-link\">EUA </a><br /><a href=\"https://www.uni-potsdam.de/de/educ\" title=\"European Digital UniverCity\" target=\"_top\" class=\"up-internal-link\">EDUC</a><br /><a href=\"https://conahec.org/\" title=\"Consortium for North American Higher Education Collaboration\" target=\"_top\" class=\"up-internal-link\">CONAHEC</a></p></div></div><div class=\"six columns up-global-footer-box\"><div class=\"up-global-footer-box-header\"><h2>Uni kompakt</h2><div class=\"up-global-footer-box-arrow up-icon\"></div></div><div class=\"up-global-footer-box-content\"><p><a href=\"https://www.uni-potsdam.de/studium/termine/uebersicht.html\" title=\"Termine und Fristen rund um das Studium\" target=\"_top\">Termine &amp; Fristen&nbsp;</a><br /><a href=\"https://www.uni-potsdam.de/presse/\" title=\"Referat für Presse- und Öffentlichkeitsarbeit\" target=\"_top\">Presse&nbsp;</a><br /><a href=\"https://www.uni-potsdam.de/verwaltung/dezernat3/stellen/\" title=\"Übersicht der offenen Stellenanzeigen\" target=\"_top\">Stellenausschreibungen&nbsp;</a><br /><a href=\"https://www.unishop-potsdam.de/\" title=\"UNIshop der Universität Potsdam\" target=\"_top\">UNIshop der Universität Potsdam</a><br /><a href=\"https://www.uni-potsdam.de/studium/konkret/vorlesungsverzeichnisse.html\" title=\"Übersicht der Vorlesungsverzeichnisse der Uni Potsdam\" target=\"_top\">Vorlesungsverzeichnis&nbsp;</a><br /><a href=\"https://www.uni-potsdam.de/de/adressen/\" title=\"Zentrale Adressen und Anschriften der Uni Potsdam\" target=\"_top\">Zentrale Adressen und Lagepläne</a></p></div></div><div class=\"six columns up-global-footer-box up-global-footer-box-last\"><div class=\"up-global-footer-box-header\"><h2>Diese Seite</h2><div class=\"up-global-footer-box-arrow up-icon\"></div></div><div class=\"up-global-footer-box-content\"><p><a href=\"javascript:window.print();\" target=\"_self\" title=\"Diese Seite drucken\"> Drucken</a><br /><a href=\"#\" class=\"hide-for-small\" onclick=\"return add_favorite(this);\" target=\"_blank\" title=\"Diese Seite als Bookmark speichern\"> Als Bookmark speichern</a><script> function add_favorite( a ) { title = document.title; url = document.location; try { /* Internet Explorer */ window.external.AddFavorite( url, title ); } catch (e) { try { /* Mozilla */ window.sidebar.addPanel( title, url, \"\" ); } catch (e) { /* Opera */ if( typeof( opera ) == \"object\" ) { a.rel = \"sidebar\"; a.title = title; a.url = url; return true; } else { /* Unknown */ alert(\\'Press \\' + (navigator.userAgent.toLowerCase().indexOf(\\'mac\\') != - 1 ? \\'Command/Cmd\\' : \\'CTRL\\') + \\' + D to bookmark this page.\\'); } } } return false; } </script></p></div></div></div><div class=\"row show-for-print\"><div class=\"twentyfour columns up-footer-url\"><span>URL:</span><a href=\"https://www.uni-potsdam.de/de/nachrichten/detail/2021-04-15-studio-days-2021-digitale-studienorientierungswoche-der-staatlichen-brandenburgischen\" class=\"url\">https://www.uni-potsdam.de/de/nachrichten/detail/2021-04-15-studio-days-2021-digitale-studienorientierungswoche-der-staatlichen-brandenburgischen</a></div></div><div class=\"row up-footer-closer\"></div></div><script src=\"/typo3temp/assets/compressed/merged-1c7889b001463c086356db319932399c-min.js.gzip?1618313600\"></script></body></html>'"
      ]
     },
     "execution_count": 52,
     "metadata": {},
     "output_type": "execute_result"
    }
   ],
   "source": [
    "html = requests.get(urls_list[0]).text\n",
    "html"
   ]
  },
  {
   "cell_type": "code",
   "execution_count": 82,
   "id": "4b662f62",
   "metadata": {},
   "outputs": [
    {
     "data": {
      "text/plain": [
       "[<div class=\"up-news-single-date\"><time datetime=\"2021-04-15\"> 15.04.2021 </time></div>]"
      ]
     },
     "execution_count": 82,
     "metadata": {},
     "output_type": "execute_result"
    }
   ],
   "source": [
    "date = BeautifulSoup(html, \"html.parser\").select(\".up-news-single-date\")\n",
    "date"
   ]
  },
  {
   "cell_type": "code",
   "execution_count": 90,
   "id": "a07ac69c",
   "metadata": {},
   "outputs": [
    {
     "data": {
      "text/plain": [
       "'15.04.2021'"
      ]
     },
     "execution_count": 90,
     "metadata": {},
     "output_type": "execute_result"
    }
   ],
   "source": [
    "date = date[0].text.strip()"
   ]
  },
  {
   "cell_type": "code",
   "execution_count": 113,
   "id": "1908c6f8",
   "metadata": {},
   "outputs": [
    {
     "data": {
      "text/plain": [
       "'Christian Mödebeck-Bagrowski'"
      ]
     },
     "execution_count": 113,
     "metadata": {},
     "output_type": "execute_result"
    }
   ],
   "source": [
    "contact = BeautifulSoup(html, \"html.parser\").select('.up-news-single-contact-item a')[0].text.strip()\n",
    "contact"
   ]
  },
  {
   "cell_type": "code",
   "execution_count": 122,
   "id": "652ee163",
   "metadata": {},
   "outputs": [
    {
     "data": {
      "text/plain": [
       "[<meta charset=\"utf-8\"/>,\n",
       " <meta content=\"IE=edge\" http-equiv=\"x-ua-compatible\"><meta content=\"TYPO3 CMS\" name=\"generator\"/><meta content=\"width=device-width, initial-scale=1.0\" name=\"viewport\"/><meta content=\"Silvana Grabowski\" name=\"author\"/><meta content=\"Detail\" property=\"og:title\"/><meta content=\"summary\" name=\"twitter:card\"/><link href=\"/typo3temp/assets/compressed/merged-fc201a8dd7df23f7869e0d7219366c48-min.css.gzip?1583314121\" media=\"print\" rel=\"stylesheet\" type=\"text/css\"/><link href=\"/typo3temp/assets/compressed/merged-ac5e367df0d2daf0f288930ccdf26749-min.css.gzip?1613975705\" media=\"screen\" rel=\"stylesheet\" type=\"text/css\"/><script src=\"/typo3temp/assets/compressed/jquery-2.2.4.min-min.js.gzip?1583314121\" type=\"text/javascript\"></script><script src=\"/typo3temp/assets/compressed/merged-8dc6a9a84127a40ca23fee40ecace56f-min.js.gzip?1583314133\" type=\"text/javascript\"></script><script type=\"text/javascript\">function returnAt() { document.write('&#64;'); }function returnDot() { document.write('.'); }</script><title> Neues aus der UP - Universität Potsdam</title><meta content=\"ZyJR9vqMZBQxke_IH0PfW8KV6TNywA481w6H1uQwYA4\" name=\"google-site-verification\"/><link href=\"https://www.uni-potsdam.de/de/nachrichten/detail/2021-04-15-studio-days-2021-digitale-studienorientierungswoche-der-staatlichen-brandenburgischen\" rel=\"canonical\"/></meta>,\n",
       " <meta content=\"TYPO3 CMS\" name=\"generator\"/>,\n",
       " <meta content=\"width=device-width, initial-scale=1.0\" name=\"viewport\"/>,\n",
       " <meta content=\"Silvana Grabowski\" name=\"author\"/>,\n",
       " <meta content=\"Detail\" property=\"og:title\"/>,\n",
       " <meta content=\"summary\" name=\"twitter:card\"/>,\n",
       " <meta content=\"ZyJR9vqMZBQxke_IH0PfW8KV6TNywA481w6H1uQwYA4\" name=\"google-site-verification\"/>]"
      ]
     },
     "execution_count": 122,
     "metadata": {},
     "output_type": "execute_result"
    }
   ],
   "source": [
    "mailc = BeautifulSoup(html, \"html.parser\").find_all('meta')\n",
    "mailc"
   ]
  },
  {
   "cell_type": "code",
   "execution_count": 114,
   "id": "230ce26a",
   "metadata": {},
   "outputs": [
    {
     "data": {
      "text/plain": [
       "'/fileadmin/_processed_/c/2/csm_2021-04_Cover_StudiODays_PM_3031cc67a0.jpg'"
      ]
     },
     "execution_count": 114,
     "metadata": {},
     "output_type": "execute_result"
    }
   ],
   "source": [
    "picture = BeautifulSoup(html, \"html.parser\").select('#up_news_single_media_slider img')[0]['src']\n",
    "picture"
   ]
  },
  {
   "cell_type": "code",
   "execution_count": 119,
   "id": "8283fc96",
   "metadata": {},
   "outputs": [
    {
     "data": {
      "text/plain": [
       "3497"
      ]
     },
     "execution_count": 119,
     "metadata": {},
     "output_type": "execute_result"
    }
   ],
   "source": [
    "textlen = BeautifulSoup(html, \"html.parser\").select('.up-news-single-leftbox')[0].text\n",
    "textlen = len(textlen)\n",
    "textlen"
   ]
  },
  {
   "cell_type": "code",
   "execution_count": null,
   "id": "e1fd2990",
   "metadata": {},
   "outputs": [],
   "source": []
  },
  {
   "cell_type": "markdown",
   "id": "7cb0a672",
   "metadata": {},
   "source": [
    "## Asynchronous HTTP requests"
   ]
  },
  {
   "cell_type": "markdown",
   "id": "8cd30c75",
   "metadata": {},
   "source": [
    "18. Install the libaries `asyncio`, `aiohttp` and `tqdm`."
   ]
  },
  {
   "cell_type": "code",
   "execution_count": null,
   "id": "09e85e6c",
   "metadata": {
    "collapsed": true
   },
   "outputs": [],
   "source": [
    "import asyncio\n",
    "import aiohttp\n",
    "import bs4\n",
    "import tqdm"
   ]
  },
  {
   "cell_type": "code",
   "execution_count": null,
   "id": "ae44f47b",
   "metadata": {
    "collapsed": true
   },
   "outputs": [],
   "source": []
  },
  {
   "cell_type": "code",
   "execution_count": null,
   "id": "8932442e",
   "metadata": {
    "collapsed": true
   },
   "outputs": [],
   "source": []
  },
  {
   "cell_type": "code",
   "execution_count": null,
   "id": "230eeb5f",
   "metadata": {
    "collapsed": true
   },
   "outputs": [],
   "source": []
  },
  {
   "cell_type": "code",
   "execution_count": null,
   "id": "900fe8f3",
   "metadata": {
    "collapsed": true
   },
   "outputs": [],
   "source": []
  },
  {
   "cell_type": "code",
   "execution_count": null,
   "id": "51495ee5",
   "metadata": {
    "collapsed": true
   },
   "outputs": [],
   "source": []
  },
  {
   "cell_type": "markdown",
   "id": "c3956a3f",
   "metadata": {},
   "source": [
    "19. Find the missing link that appears in `articles_links_r` but not in `results_list` using a list comprehension."
   ]
  },
  {
   "cell_type": "code",
   "execution_count": null,
   "id": "e8c884c1",
   "metadata": {
    "collapsed": true
   },
   "outputs": [],
   "source": []
  },
  {
   "cell_type": "code",
   "execution_count": null,
   "id": "747b1710",
   "metadata": {
    "collapsed": true
   },
   "outputs": [],
   "source": []
  },
  {
   "cell_type": "markdown",
   "id": "604a6350",
   "metadata": {},
   "source": [
    "20. Install the `pandas` library."
   ]
  },
  {
   "cell_type": "code",
   "execution_count": null,
   "id": "0fdca886",
   "metadata": {
    "collapsed": true
   },
   "outputs": [],
   "source": [
    "import pandas as pd"
   ]
  },
  {
   "cell_type": "code",
   "execution_count": null,
   "id": "793b6c2d",
   "metadata": {
    "collapsed": true
   },
   "outputs": [],
   "source": []
  },
  {
   "cell_type": "code",
   "execution_count": null,
   "id": "ec9e2e44",
   "metadata": {
    "collapsed": true
   },
   "outputs": [],
   "source": []
  },
  {
   "cell_type": "markdown",
   "id": "f6c06fb8",
   "metadata": {},
   "source": [
    "21. Convert the `publication_date` into a `pandas` `datetime` object and plot a time series of published articles on a daily basis. Bonus: Aggregate the time series into monthly frequency. In which month-year were most articles published?"
   ]
  },
  {
   "cell_type": "code",
   "execution_count": null,
   "id": "6ccbc26c",
   "metadata": {
    "collapsed": true
   },
   "outputs": [],
   "source": []
  },
  {
   "cell_type": "code",
   "execution_count": null,
   "id": "23eacd95",
   "metadata": {
    "collapsed": true
   },
   "outputs": [],
   "source": []
  },
  {
   "cell_type": "code",
   "execution_count": null,
   "id": "e01467d0",
   "metadata": {
    "collapsed": true
   },
   "outputs": [],
   "source": []
  },
  {
   "cell_type": "code",
   "execution_count": null,
   "id": "cc5742df",
   "metadata": {
    "collapsed": true
   },
   "outputs": [],
   "source": []
  },
  {
   "cell_type": "code",
   "execution_count": null,
   "id": "1f028e83",
   "metadata": {
    "collapsed": true
   },
   "outputs": [],
   "source": []
  },
  {
   "cell_type": "code",
   "execution_count": null,
   "id": "5e531b3f",
   "metadata": {
    "collapsed": true
   },
   "outputs": [],
   "source": []
  },
  {
   "cell_type": "code",
   "execution_count": null,
   "id": "21851108",
   "metadata": {
    "collapsed": true
   },
   "outputs": [],
   "source": []
  },
  {
   "cell_type": "code",
   "execution_count": null,
   "id": "bf8f20f5",
   "metadata": {
    "collapsed": true
   },
   "outputs": [],
   "source": []
  },
  {
   "cell_type": "markdown",
   "id": "72fe5dc6",
   "metadata": {},
   "source": [
    "22. Install the library `matplotlib`."
   ]
  },
  {
   "cell_type": "code",
   "execution_count": null,
   "id": "a1d188ac",
   "metadata": {
    "collapsed": true
   },
   "outputs": [],
   "source": [
    "import matplotlib\n",
    "import matplotlib.pyplot as plt"
   ]
  },
  {
   "cell_type": "code",
   "execution_count": null,
   "id": "34f93e12",
   "metadata": {
    "collapsed": true
   },
   "outputs": [],
   "source": []
  },
  {
   "cell_type": "code",
   "execution_count": null,
   "id": "1d38e1c1",
   "metadata": {
    "collapsed": true
   },
   "outputs": [],
   "source": []
  },
  {
   "cell_type": "code",
   "execution_count": null,
   "id": "e54488b3",
   "metadata": {
    "collapsed": true
   },
   "outputs": [],
   "source": []
  },
  {
   "cell_type": "markdown",
   "id": "26aff088",
   "metadata": {},
   "source": [
    "23. Install the libraries `cufflinks` and `plotly`."
   ]
  },
  {
   "cell_type": "code",
   "execution_count": null,
   "id": "b5628f07",
   "metadata": {
    "collapsed": true
   },
   "outputs": [],
   "source": [
    "import plotly.graph_objs as go\n",
    "import plotly.figure_factory as ff\n",
    "from plotly.offline import download_plotlyjs, init_notebook_mode, plot, iplot\n",
    "init_notebook_mode(connected=True)"
   ]
  },
  {
   "cell_type": "code",
   "execution_count": null,
   "id": "481ef8d4",
   "metadata": {
    "collapsed": true
   },
   "outputs": [],
   "source": []
  },
  {
   "cell_type": "markdown",
   "id": "4eeebf88",
   "metadata": {},
   "source": [
    "24. Install the `chart-studio` library."
   ]
  },
  {
   "cell_type": "code",
   "execution_count": null,
   "id": "3fa5e42e",
   "metadata": {
    "collapsed": true
   },
   "outputs": [],
   "source": [
    "import chart_studio\n",
    "import chart_studio.plotly as py\n",
    "import plotly.graph_objs as go"
   ]
  },
  {
   "cell_type": "markdown",
   "id": "b42151f1",
   "metadata": {},
   "source": [
    "25. Log in to [Plotly Chart Studio](https://chart-studio.plotly.com/Auth/login/#/) and obtain your `Username` and `API key`. Store them both line-by-line in a .py file, e.g. name it \"plotly_config.py\"."
   ]
  },
  {
   "cell_type": "code",
   "execution_count": null,
   "id": "1ef9d86f",
   "metadata": {
    "collapsed": true
   },
   "outputs": [],
   "source": [
    "import plotly_config\n",
    "\n",
    "chart_studio.tools.set_credentials_file(username=plotly_config.Username, api_key=plotly_config.api_key)"
   ]
  },
  {
   "cell_type": "code",
   "execution_count": null,
   "id": "597807c7",
   "metadata": {
    "collapsed": true
   },
   "outputs": [],
   "source": []
  }
 ],
 "metadata": {
  "kernelspec": {
   "display_name": "Webscraping Workshop",
   "language": "python",
   "name": "webscraping-kernel"
  },
  "language_info": {
   "codemirror_mode": {
    "name": "ipython",
    "version": 3
   },
   "file_extension": ".py",
   "mimetype": "text/x-python",
   "name": "python",
   "nbconvert_exporter": "python",
   "pygments_lexer": "ipython3",
   "version": "3.9.2"
  }
 },
 "nbformat": 4,
 "nbformat_minor": 5
}
